{
  "nbformat": 4,
  "nbformat_minor": 0,
  "metadata": {
    "kernelspec": {
      "display_name": "Python 3",
      "language": "python",
      "name": "python3"
    },
    "language_info": {
      "codemirror_mode": {
        "name": "ipython",
        "version": 3
      },
      "file_extension": ".py",
      "mimetype": "text/x-python",
      "name": "python",
      "nbconvert_exporter": "python",
      "pygments_lexer": "ipython3",
      "version": "3.6.7"
    },
    "colab": {
      "name": "Copia de 6_Modelo_autorregresivo_AR_Precios.ipynb",
      "provenance": [],
      "include_colab_link": true
    }
  },
  "cells": [
    {
      "cell_type": "markdown",
      "metadata": {
        "id": "view-in-github",
        "colab_type": "text"
      },
      "source": [
        "<a href=\"https://colab.research.google.com/github/virf96/Proyectos/blob/master/Consideraciones_y_Modelo_autorregresivo_AR_Precios.ipynb\" target=\"_parent\"><img src=\"https://colab.research.google.com/assets/colab-badge.svg\" alt=\"Open In Colab\"/></a>"
      ]
    },
    {
      "cell_type": "markdown",
      "metadata": {
        "id": "NAQIooJIhSxM",
        "colab_type": "text"
      },
      "source": [
        "**Consideraciones para el ajuste de modelos predictivos con métodos autorregresivos para Series de Tiempo**\n",
        "\n",
        "$\\bullet$ Se debe ajustar bien a los datos (cuidar que no sobre ajuste)\n",
        "\n",
        "$\\bullet$ Debe tener buena capacidad para predecir datos futuros (Validar con alguna métrica o función de pérdida)\n",
        "\n",
        "$\\bullet$ Debe ser lo más simple posible\n",
        "\n",
        "**Pasos a seguir para el ajuste**\n",
        "\n",
        "$1.-$ Analizar la serie temporal y verificar que modelo se puede ajustar mejor.\n",
        "\n",
        "$2.-$ Dividir datos en set de entrenamiento y prueba\n",
        "\n",
        "$3.-$ Ajustar el modelo a los datos de entrenamiento\n",
        "\n",
        "$4.-$ Evaluar el modelo en los datos de prueba\n",
        "\n",
        "$5.-$ Re-ajustar el modelo con todos los datos\n",
        "\n",
        "$6.-$ Predecir los datos futuros\n",
        "\n",
        "**¿Cómo seleccionar el mejor modelo?**\n",
        "\n",
        "Usualmente comenzamos con un modelos simple.\n",
        "\n",
        "Ejemplo: $x_{t}=c+\\phi_{1}x_{t-1}+\\epsilon_{t}$ en este caso el periodo actual ($t_{1}$) no debería relacionarse con un periodo anterior ($t-1$).\n",
        "\n",
        "Se puede llegara complejizar el modelo hasta el punto en el que tengamos $x_{t}=c+\\phi_{1}x_{t-1}+...+\\phi_{n}x_{t-n}+\\epsilon_{t}$ en el que ya hemos introducido muchos retrasos.\n",
        "\n",
        "**Nota:** Siempre debemos verificar que $\\phi \\neq 0$ es decir que los coeficientes $\\phi$ estimados sean significativamente diferentes de cero, de lo contrario no aportarían nada.\n",
        "\n",
        "Si el modelo se ajusta bien, se debe cumplir $\\epsilon_{t}\\sim WN(\\mu,\\sigma^{2})$, es decir que los residuos del modelo debe parecerse al ruido blanco.\n",
        "\n",
        "**Criterios de selección de modelos**\n",
        "\n",
        "**AIC:** Criterio de información akaike\n",
        "\n",
        "(Evalua la colección de modelos realizados y estima la calidad de cada modelo en relación con los demás. \n",
        "**Penaliza a los modelos en base a su complejidad**, es decir al número de parámetros que tenga, va a preferir un modelo más simple que funciona a bien a otro que funciona solo un poco mejor y con más parámetros. )\n",
        "\n",
        "**BIC:** Criterio de información bayesiana\n",
        "\n",
        "(Este criterio es similar al AIC con la diferencia de que esta basado en métodos Bayesianos)\n",
        "\n",
        "**Nota:** Se debe escoger el modelo que tenga criterios de información más bajos.\n",
        "\n",
        "**Funciones de pérdida utilizadas**\n",
        "\n",
        "MAD = $\\frac{1}{T}\\sum_{t=1}^{T} |\\epsilon_{t}|$ \n",
        "\n",
        "(Mide la desviación absoluta de $\\epsilon$, es decir de los errores del prónostico y los datos reales sobre periodos $T$ )\n",
        "\n",
        "MSE = $\\frac{1}{T}\\sum_{t=1}^{T} \\epsilon^{2}_{t}$ \n",
        "\n",
        "(Mide la desviación cuadrática de $\\epsilon$, es decir de los errores del prónostico y los datos reales sobre periodos $T$ )\n",
        "\n",
        "MAPE = $\\frac{1}{T}\\sum_{t=1}^{T} |\\frac{\\epsilon_{t}}{y_{t}}|$ \n",
        "\n",
        "(Mide la desviación porcentual de $\\epsilon$, es decir de los errores del prónostico y los datos reales sobre periodos $T$ )\n",
        "\n",
        "\n",
        "\n",
        "\n",
        "\n",
        "\n"
      ]
    },
    {
      "cell_type": "markdown",
      "metadata": {
        "id": "SUajVTnUIEzW",
        "colab_type": "text"
      },
      "source": [
        "## **Modelo Autorregresivo AR**\n",
        "\n",
        "A menudo encontramos similitudes entre valores pasados y valores presentes, esto se debe a que encontramos correlación entre dichos datos. La autocorrelación describe la relación de la variables consigo misma, esto nos va a permitir definir **un modelo AR que se basa solamente en valores de periodos pasados para predecir valores de periodos actuales**\n",
        "\n",
        "Es un modelo lineal de la forma $x_{t}=c+\\phi_{1} x_{t-1}+\\epsilon_{t}$ es la suma de periodos pasados multiplicados por un coeficiente.\n",
        "\n",
        "donde:\n",
        "\n",
        "$c:$ es una constante.\n",
        "\n",
        "$x_{t}:$ es el periodo actual.\n",
        "\n",
        "$x_{t-1}:$ es un periodo anterior.\n",
        "\n",
        "$\\phi:$ es un coeficiente a estimar, donde $-1<\\phi\\leq 1$. \n",
        "\n",
        "$\\epsilon_{t}:$ son los residuos, no es más que la diferencia entre la predicción para el periodo $t$ y el valor correcto . \n",
        "\n",
        "En el caso en el que nuestro problema sea descrito por un modelo **AR** de la forma $x_{t}=c+\\phi_{1} x_{t-1}+\\epsilon_{t}$ este es un modelo **AR(1)** en donde el orden del modelo indica el número de retrasos considerados para el modelo y es la forma más simple para este caso.\n",
        "\n",
        "**¿Como determinamos cuantos retrasos?**\n",
        "\n",
        "Para esto debemos de utilizar la función de auto correlación parcial, esta función nos va a permitir identificar las auto correlaciones entre diferentes periodos retrasados con respecto al presente.\n",
        "\n",
        "\n"
      ]
    },
    {
      "cell_type": "markdown",
      "metadata": {
        "id": "IWj6lyVJIAlb",
        "colab_type": "text"
      },
      "source": [
        "## **Importing the relevant packages**"
      ]
    },
    {
      "cell_type": "code",
      "metadata": {
        "id": "rhqZ-xV7hSxN",
        "colab_type": "code",
        "colab": {
          "base_uri": "https://localhost:8080/",
          "height": 71
        },
        "outputId": "85724c1f-e7b6-4713-e463-b176dd3baacb"
      },
      "source": [
        "import pandas as pd\n",
        "import numpy as np\n",
        "import matplotlib.pyplot as plt\n",
        "import statsmodels.graphics.tsaplots as sgt\n",
        "from statsmodels.tsa.arima_model import ARMA\n",
        "from scipy.stats.distributions import chi2\n",
        "import statsmodels.tsa.stattools as sts \n",
        "import seaborn as sns\n",
        "sns.set()"
      ],
      "execution_count": 2,
      "outputs": [
        {
          "output_type": "stream",
          "text": [
            "/usr/local/lib/python3.6/dist-packages/statsmodels/tools/_testing.py:19: FutureWarning: pandas.util.testing is deprecated. Use the functions in the public API at pandas.testing instead.\n",
            "  import pandas.util.testing as tm\n"
          ],
          "name": "stderr"
        }
      ]
    },
    {
      "cell_type": "markdown",
      "metadata": {
        "id": "5V81ZHwZhSxR",
        "colab_type": "text"
      },
      "source": [
        "## Importing the Data and Pre-processing "
      ]
    },
    {
      "cell_type": "code",
      "metadata": {
        "id": "pHmb3M4nhSxS",
        "colab_type": "code",
        "colab": {}
      },
      "source": [
        "#Cargamos el df\n",
        "raw_csv_data = pd.read_csv(\"https://raw.githubusercontent.com/virf96/curso-series-temporales/master/2.%20Serie%20temporal%20en%20R%20y%20Python/Python/Index2018.csv\") \n",
        "#Copiamos el df en una nueva variable\n",
        "df_comp=raw_csv_data.copy()\n",
        "#Convertimos la variable \"date\" a formato fecha indicando que el formato de la variable empieza con el día\n",
        "df_comp.date = pd.to_datetime(df_comp.date, dayfirst = True)\n",
        "#Indexamos la variable \"date\" para una mejor visualización\n",
        "df_comp.set_index(\"date\", inplace=True)\n",
        "#Indicamos la frecuencia de nuestros datos \"business days\"\n",
        "df_comp=df_comp.asfreq('b')"
      ],
      "execution_count": 3,
      "outputs": []
    },
    {
      "cell_type": "code",
      "metadata": {
        "id": "4vKF5_r0VbqA",
        "colab_type": "code",
        "colab": {
          "base_uri": "https://localhost:8080/",
          "height": 235
        },
        "outputId": "71d50fb7-9086-4d33-97c0-380d4e1a023f"
      },
      "source": [
        "df_comp.head()"
      ],
      "execution_count": 4,
      "outputs": [
        {
          "output_type": "execute_result",
          "data": {
            "text/html": [
              "<div>\n",
              "<style scoped>\n",
              "    .dataframe tbody tr th:only-of-type {\n",
              "        vertical-align: middle;\n",
              "    }\n",
              "\n",
              "    .dataframe tbody tr th {\n",
              "        vertical-align: top;\n",
              "    }\n",
              "\n",
              "    .dataframe thead th {\n",
              "        text-align: right;\n",
              "    }\n",
              "</style>\n",
              "<table border=\"1\" class=\"dataframe\">\n",
              "  <thead>\n",
              "    <tr style=\"text-align: right;\">\n",
              "      <th></th>\n",
              "      <th>spx</th>\n",
              "      <th>dax</th>\n",
              "      <th>ftse</th>\n",
              "      <th>nikkei</th>\n",
              "    </tr>\n",
              "    <tr>\n",
              "      <th>date</th>\n",
              "      <th></th>\n",
              "      <th></th>\n",
              "      <th></th>\n",
              "      <th></th>\n",
              "    </tr>\n",
              "  </thead>\n",
              "  <tbody>\n",
              "    <tr>\n",
              "      <th>1994-01-07</th>\n",
              "      <td>469.90</td>\n",
              "      <td>2224.95</td>\n",
              "      <td>3445.98</td>\n",
              "      <td>18124.01</td>\n",
              "    </tr>\n",
              "    <tr>\n",
              "      <th>1994-01-10</th>\n",
              "      <td>475.27</td>\n",
              "      <td>2225.00</td>\n",
              "      <td>3440.58</td>\n",
              "      <td>18443.44</td>\n",
              "    </tr>\n",
              "    <tr>\n",
              "      <th>1994-01-11</th>\n",
              "      <td>474.13</td>\n",
              "      <td>2228.10</td>\n",
              "      <td>3413.77</td>\n",
              "      <td>18485.25</td>\n",
              "    </tr>\n",
              "    <tr>\n",
              "      <th>1994-01-12</th>\n",
              "      <td>474.17</td>\n",
              "      <td>2182.06</td>\n",
              "      <td>3372.02</td>\n",
              "      <td>18793.88</td>\n",
              "    </tr>\n",
              "    <tr>\n",
              "      <th>1994-01-13</th>\n",
              "      <td>472.47</td>\n",
              "      <td>2142.37</td>\n",
              "      <td>3360.01</td>\n",
              "      <td>18577.26</td>\n",
              "    </tr>\n",
              "  </tbody>\n",
              "</table>\n",
              "</div>"
            ],
            "text/plain": [
              "               spx      dax     ftse    nikkei\n",
              "date                                          \n",
              "1994-01-07  469.90  2224.95  3445.98  18124.01\n",
              "1994-01-10  475.27  2225.00  3440.58  18443.44\n",
              "1994-01-11  474.13  2228.10  3413.77  18485.25\n",
              "1994-01-12  474.17  2182.06  3372.02  18793.88\n",
              "1994-01-13  472.47  2142.37  3360.01  18577.26"
            ]
          },
          "metadata": {
            "tags": []
          },
          "execution_count": 4
        }
      ]
    },
    {
      "cell_type": "code",
      "metadata": {
        "id": "4mYbzuaPVpBe",
        "colab_type": "code",
        "colab": {
          "base_uri": "https://localhost:8080/",
          "height": 102
        },
        "outputId": "982210d0-e2d3-426a-fed8-0fd112ad2a8f"
      },
      "source": [
        "#Verificamos que no haya na´s\n",
        "df_comp.isna().sum()"
      ],
      "execution_count": 5,
      "outputs": [
        {
          "output_type": "execute_result",
          "data": {
            "text/plain": [
              "spx       8\n",
              "dax       8\n",
              "ftse      8\n",
              "nikkei    8\n",
              "dtype: int64"
            ]
          },
          "metadata": {
            "tags": []
          },
          "execution_count": 5
        }
      ]
    },
    {
      "cell_type": "code",
      "metadata": {
        "id": "2dLVMISjVb2w",
        "colab_type": "code",
        "colab": {}
      },
      "source": [
        "#Rellenamos los na con el método front fill\n",
        "df_comp=df_comp.fillna(method='ffill')"
      ],
      "execution_count": 6,
      "outputs": []
    },
    {
      "cell_type": "code",
      "metadata": {
        "id": "uYVeq2mLhSxU",
        "colab_type": "code",
        "colab": {}
      },
      "source": [
        "#Renombramos la variable \"ftse\" como \"market value\"\n",
        "df_comp['market_value']=df_comp.ftse #ftse"
      ],
      "execution_count": 7,
      "outputs": []
    },
    {
      "cell_type": "code",
      "metadata": {
        "id": "-ndvl4BphSxX",
        "colab_type": "code",
        "colab": {}
      },
      "source": [
        "#Borramos las variables que no utilizaremos\n",
        "del df_comp['spx']\n",
        "del df_comp['dax']\n",
        "del df_comp['ftse']\n",
        "del df_comp['nikkei']\n",
        "#Indicamos el corte para guardar el set de entrenamiento y prueba\n",
        "size = int(len(df_comp)*0.8)\n",
        "#Guardamos el set de entrenamiento y validación con sus respectivos cortes\n",
        "df, df_test = df_comp.iloc[:size], df_comp.iloc[size:]"
      ],
      "execution_count": 8,
      "outputs": []
    },
    {
      "cell_type": "markdown",
      "metadata": {
        "id": "0vJUIgGyhSxZ",
        "colab_type": "text"
      },
      "source": [
        "## The ACF"
      ]
    },
    {
      "cell_type": "code",
      "metadata": {
        "scrolled": true,
        "id": "TUsHOynXhSxa",
        "colab_type": "code",
        "colab": {
          "base_uri": "https://localhost:8080/",
          "height": 289
        },
        "outputId": "404ffd4b-af29-4059-911f-25003ffdcb3b"
      },
      "source": [
        "#Gráficamos la autocorrelación de market value sin tomar en cuenta el primer valor dado que no tendría sentido y con 40 retrasos\n",
        "#Capturamos los efectos directos e indirectos del valor anterior sobre el valor presente \n",
        "#Podemos ver que los 40 retrasos son significativos al estar por encima del sombreado azul y además son positivos, esto podría indicar podriamos considerar los\n",
        "#40 retrasos, esto haría un modelo bastante complejo por lo que antes se recomienda observar el gráfico de autocorrelación parcial \n",
        "sgt.plot_acf(df.market_value, zero = False, lags = 40)\n",
        "plt.title(\"ACF for Prices\", size = 20)\n",
        "plt.show()"
      ],
      "execution_count": 9,
      "outputs": [
        {
          "output_type": "display_data",
          "data": {
            "image/png": "[encoded data removed]",
            "text/plain": [
              "<Figure size 432x288 with 1 Axes>"
            ]
          },
          "metadata": {
            "tags": []
          }
        }
      ]
    },
    {
      "cell_type": "markdown",
      "metadata": {
        "id": "RsumO95shSxg",
        "colab_type": "text"
      },
      "source": [
        "## The PACF"
      ]
    },
    {
      "cell_type": "code",
      "metadata": {
        "scrolled": true,
        "id": "eYP2L3HyhSxh",
        "colab_type": "code",
        "colab": {
          "base_uri": "https://localhost:8080/",
          "height": 289
        },
        "outputId": "eac2e2bc-ba80-44bb-a5fe-b6e858c766c9"
      },
      "source": [
        "#Gráficamos la auto correlación parcial\n",
        "#Observamos los efectos directos de los valores anteriores sobre el presente\n",
        "#Los coeficientes son de diferentes tamaños, hay coeficientes significativos y no significativos\n",
        "#A partir del retraso 25 los valores son muy cercanos a cero por lo que no los tomaremos en cuenta, su impacto sería minimo\n",
        "#Observamos que el primer retraso es bastante significativo en comparación con los demás, así que empezaremos por ahí\n",
        "sgt.plot_pacf(df.market_value, lags = 40, alpha = 0.05, zero = False, method = ('ols'))\n",
        "plt.title(\"PACF for Prices\", size = 20)\n",
        "plt.show()"
      ],
      "execution_count": 10,
      "outputs": [
        {
          "output_type": "display_data",
          "data": {
            "image/png": "[encoded data removed]",
            "text/plain": [
              "<Figure size 432x288 with 1 Axes>"
            ]
          },
          "metadata": {
            "tags": []
          }
        }
      ]
    },
    {
      "cell_type": "markdown",
      "metadata": {
        "id": "nknRusTShSxj",
        "colab_type": "text"
      },
      "source": [
        "## The AR(1) Model"
      ]
    },
    {
      "cell_type": "code",
      "metadata": {
        "id": "W3ELyGtthSxk",
        "colab_type": "code",
        "colab": {}
      },
      "source": [
        "#Utilizamos la función ARMA en donde le pasamos la variable a ajustar y el orden del modelo\n",
        "#El parametro order=(1,0) representa que solo incorporaremos 1 retraso en el modelo y cero representa que no consideramos ningún valor residual\n",
        "model_ar = ARMA(df.market_value, order=(1,0))"
      ],
      "execution_count": 11,
      "outputs": []
    },
    {
      "cell_type": "code",
      "metadata": {
        "id": "jZzDum-phSxm",
        "colab_type": "code",
        "colab": {}
      },
      "source": [
        "#Ajustamos el modelo con .fit()\n",
        "results_ar = model_ar.fit()"
      ],
      "execution_count": 12,
      "outputs": []
    },
    {
      "cell_type": "code",
      "metadata": {
        "id": "TqmgtB6VhSxo",
        "colab_type": "code",
        "colab": {
          "base_uri": "https://localhost:8080/",
          "height": 309
        },
        "outputId": "1f0e4a6f-ec89-4ae1-bb97-19e2eab40744"
      },
      "source": [
        "#Veamos las filas de la constante y el retraso seleccionado\n",
        "#Observamos el coeficiente calculado\n",
        "#El std.err que son los errores estandar, es decir que tan lejos en promedio esta nuestra estimación de los valores verdaderos\n",
        "#z, es el valor del estadistico de prueba asociado para determinar la significación de cada una de las estimaciones\n",
        "#La siguiente columna es el p-valor con lo cuál vemos que son muy significativos\n",
        "#Y tenemos por último un intervalo de confianza, si el intervalo no contiene al cero decimos que es significativo, ejemplo entre .997 y 1 no esta el cero por lo cuál es significativo\n",
        "results_ar.summary()"
      ],
      "execution_count": 13,
      "outputs": [
        {
          "output_type": "execute_result",
          "data": {
            "text/html": [
              "<table class=\"simpletable\">\n",
              "<caption>ARMA Model Results</caption>\n",
              "<tr>\n",
              "  <th>Dep. Variable:</th>   <td>market_value</td>   <th>  No. Observations:  </th>    <td>5021</td>   \n",
              "</tr>\n",
              "<tr>\n",
              "  <th>Model:</th>            <td>ARMA(1, 0)</td>    <th>  Log Likelihood     </th> <td>-27622.599</td>\n",
              "</tr>\n",
              "<tr>\n",
              "  <th>Method:</th>             <td>css-mle</td>     <th>  S.D. of innovations</th>   <td>59.258</td>  \n",
              "</tr>\n",
              "<tr>\n",
              "  <th>Date:</th>          <td>Thu, 16 Jul 2020</td> <th>  AIC                </th>  <td>55251.198</td>\n",
              "</tr>\n",
              "<tr>\n",
              "  <th>Time:</th>              <td>04:26:09</td>     <th>  BIC                </th>  <td>55270.762</td>\n",
              "</tr>\n",
              "<tr>\n",
              "  <th>Sample:</th>           <td>01-07-1994</td>    <th>  HQIC               </th>  <td>55258.054</td>\n",
              "</tr>\n",
              "<tr>\n",
              "  <th></th>                 <td>- 04-05-2013</td>   <th>                     </th>      <td> </td>    \n",
              "</tr>\n",
              "</table>\n",
              "<table class=\"simpletable\">\n",
              "<tr>\n",
              "           <td></td>             <th>coef</th>     <th>std err</th>      <th>z</th>      <th>P>|z|</th>  <th>[0.025</th>    <th>0.975]</th>  \n",
              "</tr>\n",
              "<tr>\n",
              "  <th>const</th>              <td> 5067.4707</td> <td>  486.503</td> <td>   10.416</td> <td> 0.000</td> <td> 4113.942</td> <td> 6021.000</td>\n",
              "</tr>\n",
              "<tr>\n",
              "  <th>ar.L1.market_value</th> <td>    0.9985</td> <td>    0.001</td> <td> 1298.545</td> <td> 0.000</td> <td>    0.997</td> <td>    1.000</td>\n",
              "</tr>\n",
              "</table>\n",
              "<table class=\"simpletable\">\n",
              "<caption>Roots</caption>\n",
              "<tr>\n",
              "    <td></td>   <th>            Real</th>  <th>         Imaginary</th> <th>         Modulus</th>  <th>        Frequency</th>\n",
              "</tr>\n",
              "<tr>\n",
              "  <th>AR.1</th> <td>           1.0015</td> <td>          +0.0000j</td> <td>           1.0015</td> <td>           0.0000</td>\n",
              "</tr>\n",
              "</table>"
            ],
            "text/plain": [
              "<class 'statsmodels.iolib.summary.Summary'>\n",
              "\"\"\"\n",
              "                              ARMA Model Results                              \n",
              "==============================================================================\n",
              "Dep. Variable:           market_value   No. Observations:                 5021\n",
              "Model:                     ARMA(1, 0)   Log Likelihood              -27622.599\n",
              "Method:                       css-mle   S.D. of innovations             59.258\n",
              "Date:                Thu, 16 Jul 2020   AIC                          55251.198\n",
              "Time:                        04:26:09   BIC                          55270.762\n",
              "Sample:                    01-07-1994   HQIC                         55258.054\n",
              "                         - 04-05-2013                                         \n",
              "======================================================================================\n",
              "                         coef    std err          z      P>|z|      [0.025      0.975]\n",
              "--------------------------------------------------------------------------------------\n",
              "const               5067.4707    486.503     10.416      0.000    4113.942    6021.000\n",
              "ar.L1.market_value     0.9985      0.001   1298.545      0.000       0.997       1.000\n",
              "                                    Roots                                    \n",
              "=============================================================================\n",
              "                  Real          Imaginary           Modulus         Frequency\n",
              "-----------------------------------------------------------------------------\n",
              "AR.1            1.0015           +0.0000j            1.0015            0.0000\n",
              "-----------------------------------------------------------------------------\n",
              "\"\"\""
            ]
          },
          "metadata": {
            "tags": []
          },
          "execution_count": 13
        }
      ]
    },
    {
      "cell_type": "markdown",
      "metadata": {
        "id": "XLOxu2KvhSxr",
        "colab_type": "text"
      },
      "source": [
        "## Higher-Lag AR Models"
      ]
    },
    {
      "cell_type": "code",
      "metadata": {
        "id": "k_h7n2pNhSxs",
        "colab_type": "code",
        "colab": {
          "base_uri": "https://localhost:8080/",
          "height": 351
        },
        "outputId": "70ebb522-e4d9-4abd-df6c-e9e3cf63d8a6"
      },
      "source": [
        "#Veamos como funciona el modelo al añadirle un retraso, es decir AR(2)\n",
        "model_ar_2 = ARMA(df.market_value, order=(2,0))\n",
        "#Como al final vamos a comparar el modelo, guardamos el modeloen otra variable\n",
        "results_ar_2 = model_ar_2.fit()\n",
        "#Podemos observar que para un modelo AR(2), el segundo retraso ya nos es significativo\n",
        "#Para el segundo retraso observamos que el intervalo de confianza entre .011 y .045 si contiene al cero\n",
        "results_ar_2.summary()"
      ],
      "execution_count": 14,
      "outputs": [
        {
          "output_type": "execute_result",
          "data": {
            "text/html": [
              "<table class=\"simpletable\">\n",
              "<caption>ARMA Model Results</caption>\n",
              "<tr>\n",
              "  <th>Dep. Variable:</th>   <td>market_value</td>   <th>  No. Observations:  </th>    <td>5021</td>   \n",
              "</tr>\n",
              "<tr>\n",
              "  <th>Model:</th>            <td>ARMA(2, 0)</td>    <th>  Log Likelihood     </th> <td>-27621.871</td>\n",
              "</tr>\n",
              "<tr>\n",
              "  <th>Method:</th>             <td>css-mle</td>     <th>  S.D. of innovations</th>   <td>59.249</td>  \n",
              "</tr>\n",
              "<tr>\n",
              "  <th>Date:</th>          <td>Thu, 16 Jul 2020</td> <th>  AIC                </th>  <td>55251.742</td>\n",
              "</tr>\n",
              "<tr>\n",
              "  <th>Time:</th>              <td>04:26:11</td>     <th>  BIC                </th>  <td>55277.827</td>\n",
              "</tr>\n",
              "<tr>\n",
              "  <th>Sample:</th>           <td>01-07-1994</td>    <th>  HQIC               </th>  <td>55260.883</td>\n",
              "</tr>\n",
              "<tr>\n",
              "  <th></th>                 <td>- 04-05-2013</td>   <th>                     </th>      <td> </td>    \n",
              "</tr>\n",
              "</table>\n",
              "<table class=\"simpletable\">\n",
              "<tr>\n",
              "           <td></td>             <th>coef</th>     <th>std err</th>      <th>z</th>      <th>P>|z|</th>  <th>[0.025</th>    <th>0.975]</th>  \n",
              "</tr>\n",
              "<tr>\n",
              "  <th>const</th>              <td> 5089.6411</td> <td>  495.670</td> <td>   10.268</td> <td> 0.000</td> <td> 4118.145</td> <td> 6061.137</td>\n",
              "</tr>\n",
              "<tr>\n",
              "  <th>ar.L1.market_value</th> <td>    0.9814</td> <td>    0.014</td> <td>   69.595</td> <td> 0.000</td> <td>    0.954</td> <td>    1.009</td>\n",
              "</tr>\n",
              "<tr>\n",
              "  <th>ar.L2.market_value</th> <td>    0.0171</td> <td>    0.014</td> <td>    1.211</td> <td> 0.226</td> <td>   -0.011</td> <td>    0.045</td>\n",
              "</tr>\n",
              "</table>\n",
              "<table class=\"simpletable\">\n",
              "<caption>Roots</caption>\n",
              "<tr>\n",
              "    <td></td>   <th>            Real</th>  <th>         Imaginary</th> <th>         Modulus</th>  <th>        Frequency</th>\n",
              "</tr>\n",
              "<tr>\n",
              "  <th>AR.1</th> <td>           1.0015</td> <td>          +0.0000j</td> <td>           1.0015</td> <td>           0.0000</td>\n",
              "</tr>\n",
              "<tr>\n",
              "  <th>AR.2</th> <td>         -58.4629</td> <td>          +0.0000j</td> <td>          58.4629</td> <td>           0.5000</td>\n",
              "</tr>\n",
              "</table>"
            ],
            "text/plain": [
              "<class 'statsmodels.iolib.summary.Summary'>\n",
              "\"\"\"\n",
              "                              ARMA Model Results                              \n",
              "==============================================================================\n",
              "Dep. Variable:           market_value   No. Observations:                 5021\n",
              "Model:                     ARMA(2, 0)   Log Likelihood              -27621.871\n",
              "Method:                       css-mle   S.D. of innovations             59.249\n",
              "Date:                Thu, 16 Jul 2020   AIC                          55251.742\n",
              "Time:                        04:26:11   BIC                          55277.827\n",
              "Sample:                    01-07-1994   HQIC                         55260.883\n",
              "                         - 04-05-2013                                         \n",
              "======================================================================================\n",
              "                         coef    std err          z      P>|z|      [0.025      0.975]\n",
              "--------------------------------------------------------------------------------------\n",
              "const               5089.6411    495.670     10.268      0.000    4118.145    6061.137\n",
              "ar.L1.market_value     0.9814      0.014     69.595      0.000       0.954       1.009\n",
              "ar.L2.market_value     0.0171      0.014      1.211      0.226      -0.011       0.045\n",
              "                                    Roots                                    \n",
              "=============================================================================\n",
              "                  Real          Imaginary           Modulus         Frequency\n",
              "-----------------------------------------------------------------------------\n",
              "AR.1            1.0015           +0.0000j            1.0015            0.0000\n",
              "AR.2          -58.4629           +0.0000j           58.4629            0.5000\n",
              "-----------------------------------------------------------------------------\n",
              "\"\"\""
            ]
          },
          "metadata": {
            "tags": []
          },
          "execution_count": 14
        }
      ]
    },
    {
      "cell_type": "code",
      "metadata": {
        "id": "M5QbdWvMhSxw",
        "colab_type": "code",
        "colab": {
          "base_uri": "https://localhost:8080/",
          "height": 393
        },
        "outputId": "96b5835a-02a4-45c3-d9f4-bf1cd910ab14"
      },
      "source": [
        "#Veamos ahora para un modelo AR(3)\n",
        "model_ar_3 = ARMA(df.market_value, order=(3,0))\n",
        "results_ar_3 = model_ar_3.fit()\n",
        "#El segundo retraso no es significativo\n",
        "results_ar_3.summary()"
      ],
      "execution_count": null,
      "outputs": [
        {
          "output_type": "execute_result",
          "data": {
            "text/html": [
              "<table class=\"simpletable\">\n",
              "<caption>ARMA Model Results</caption>\n",
              "<tr>\n",
              "  <th>Dep. Variable:</th>   <td>market_value</td>   <th>  No. Observations:  </th>    <td>5021</td>   \n",
              "</tr>\n",
              "<tr>\n",
              "  <th>Model:</th>            <td>ARMA(3, 0)</td>    <th>  Log Likelihood     </th> <td>-27615.871</td>\n",
              "</tr>\n",
              "<tr>\n",
              "  <th>Method:</th>             <td>css-mle</td>     <th>  S.D. of innovations</th>   <td>59.178</td>  \n",
              "</tr>\n",
              "<tr>\n",
              "  <th>Date:</th>          <td>Wed, 15 Jul 2020</td> <th>  AIC                </th>  <td>55241.742</td>\n",
              "</tr>\n",
              "<tr>\n",
              "  <th>Time:</th>              <td>21:56:24</td>     <th>  BIC                </th>  <td>55274.349</td>\n",
              "</tr>\n",
              "<tr>\n",
              "  <th>Sample:</th>           <td>01-07-1994</td>    <th>  HQIC               </th>  <td>55253.168</td>\n",
              "</tr>\n",
              "<tr>\n",
              "  <th></th>                 <td>- 04-05-2013</td>   <th>                     </th>      <td> </td>    \n",
              "</tr>\n",
              "</table>\n",
              "<table class=\"simpletable\">\n",
              "<tr>\n",
              "           <td></td>             <th>coef</th>     <th>std err</th>      <th>z</th>      <th>P>|z|</th>  <th>[0.025</th>    <th>0.975]</th>  \n",
              "</tr>\n",
              "<tr>\n",
              "  <th>const</th>              <td> 5089.6411</td> <td>  520.356</td> <td>    9.781</td> <td> 0.000</td> <td> 4069.761</td> <td> 6109.521</td>\n",
              "</tr>\n",
              "<tr>\n",
              "  <th>ar.L1.market_value</th> <td>    0.9806</td> <td>    0.014</td> <td>   69.619</td> <td> 0.000</td> <td>    0.953</td> <td>    1.008</td>\n",
              "</tr>\n",
              "<tr>\n",
              "  <th>ar.L2.market_value</th> <td>   -0.0309</td> <td>    0.020</td> <td>   -1.563</td> <td> 0.118</td> <td>   -0.070</td> <td>    0.008</td>\n",
              "</tr>\n",
              "<tr>\n",
              "  <th>ar.L3.market_value</th> <td>    0.0489</td> <td>    0.014</td> <td>    3.466</td> <td> 0.001</td> <td>    0.021</td> <td>    0.077</td>\n",
              "</tr>\n",
              "</table>\n",
              "<table class=\"simpletable\">\n",
              "<caption>Roots</caption>\n",
              "<tr>\n",
              "    <td></td>   <th>            Real</th>  <th>         Imaginary</th> <th>         Modulus</th>  <th>        Frequency</th>\n",
              "</tr>\n",
              "<tr>\n",
              "  <th>AR.1</th> <td>           1.0013</td> <td>          -0.0000j</td> <td>           1.0013</td> <td>          -0.0000</td>\n",
              "</tr>\n",
              "<tr>\n",
              "  <th>AR.2</th> <td>          -0.1850</td> <td>          -4.5161j</td> <td>           4.5199</td> <td>          -0.2565</td>\n",
              "</tr>\n",
              "<tr>\n",
              "  <th>AR.3</th> <td>          -0.1850</td> <td>          +4.5161j</td> <td>           4.5199</td> <td>           0.2565</td>\n",
              "</tr>\n",
              "</table>"
            ],
            "text/plain": [
              "<class 'statsmodels.iolib.summary.Summary'>\n",
              "\"\"\"\n",
              "                              ARMA Model Results                              \n",
              "==============================================================================\n",
              "Dep. Variable:           market_value   No. Observations:                 5021\n",
              "Model:                     ARMA(3, 0)   Log Likelihood              -27615.871\n",
              "Method:                       css-mle   S.D. of innovations             59.178\n",
              "Date:                Wed, 15 Jul 2020   AIC                          55241.742\n",
              "Time:                        21:56:24   BIC                          55274.349\n",
              "Sample:                    01-07-1994   HQIC                         55253.168\n",
              "                         - 04-05-2013                                         \n",
              "======================================================================================\n",
              "                         coef    std err          z      P>|z|      [0.025      0.975]\n",
              "--------------------------------------------------------------------------------------\n",
              "const               5089.6411    520.356      9.781      0.000    4069.761    6109.521\n",
              "ar.L1.market_value     0.9806      0.014     69.619      0.000       0.953       1.008\n",
              "ar.L2.market_value    -0.0309      0.020     -1.563      0.118      -0.070       0.008\n",
              "ar.L3.market_value     0.0489      0.014      3.466      0.001       0.021       0.077\n",
              "                                    Roots                                    \n",
              "=============================================================================\n",
              "                  Real          Imaginary           Modulus         Frequency\n",
              "-----------------------------------------------------------------------------\n",
              "AR.1            1.0013           -0.0000j            1.0013           -0.0000\n",
              "AR.2           -0.1850           -4.5161j            4.5199           -0.2565\n",
              "AR.3           -0.1850           +4.5161j            4.5199            0.2565\n",
              "-----------------------------------------------------------------------------\n",
              "\"\"\""
            ]
          },
          "metadata": {
            "tags": []
          },
          "execution_count": 22
        }
      ]
    },
    {
      "cell_type": "code",
      "metadata": {
        "id": "pR8lOUMPhSxy",
        "colab_type": "code",
        "colab": {
          "base_uri": "https://localhost:8080/",
          "height": 435
        },
        "outputId": "8c5bad08-fd41-46e6-ca5c-cbd9c1548ba3"
      },
      "source": [
        "#Veamos para un AR(4)\n",
        "model_ar_4 = ARMA(df.market_value, order=[4,0])\n",
        "results_ar_4 = model_ar_4.fit()\n",
        "#El 2ndo y 3er retraso no son significativos\n",
        "results_ar_4.summary()"
      ],
      "execution_count": null,
      "outputs": [
        {
          "output_type": "execute_result",
          "data": {
            "text/html": [
              "<table class=\"simpletable\">\n",
              "<caption>ARMA Model Results</caption>\n",
              "<tr>\n",
              "  <th>Dep. Variable:</th>   <td>market_value</td>   <th>  No. Observations:  </th>    <td>5021</td>   \n",
              "</tr>\n",
              "<tr>\n",
              "  <th>Model:</th>            <td>ARMA(4, 0)</td>    <th>  Log Likelihood     </th> <td>-27602.565</td>\n",
              "</tr>\n",
              "<tr>\n",
              "  <th>Method:</th>             <td>css-mle</td>     <th>  S.D. of innovations</th>   <td>59.022</td>  \n",
              "</tr>\n",
              "<tr>\n",
              "  <th>Date:</th>          <td>Wed, 15 Jul 2020</td> <th>  AIC                </th>  <td>55217.130</td>\n",
              "</tr>\n",
              "<tr>\n",
              "  <th>Time:</th>              <td>21:56:35</td>     <th>  BIC                </th>  <td>55256.258</td>\n",
              "</tr>\n",
              "<tr>\n",
              "  <th>Sample:</th>           <td>01-07-1994</td>    <th>  HQIC               </th>  <td>55230.841</td>\n",
              "</tr>\n",
              "<tr>\n",
              "  <th></th>                 <td>- 04-05-2013</td>   <th>                     </th>      <td> </td>    \n",
              "</tr>\n",
              "</table>\n",
              "<table class=\"simpletable\">\n",
              "<tr>\n",
              "           <td></td>             <th>coef</th>     <th>std err</th>      <th>z</th>      <th>P>|z|</th>  <th>[0.025</th>    <th>0.975]</th>  \n",
              "</tr>\n",
              "<tr>\n",
              "  <th>const</th>              <td> 5089.6413</td> <td>  560.009</td> <td>    9.088</td> <td> 0.000</td> <td> 3992.043</td> <td> 6187.239</td>\n",
              "</tr>\n",
              "<tr>\n",
              "  <th>ar.L1.market_value</th> <td>    0.9770</td> <td>    0.014</td> <td>   69.492</td> <td> 0.000</td> <td>    0.949</td> <td>    1.005</td>\n",
              "</tr>\n",
              "<tr>\n",
              "  <th>ar.L2.market_value</th> <td>   -0.0286</td> <td>    0.020</td> <td>   -1.455</td> <td> 0.146</td> <td>   -0.067</td> <td>    0.010</td>\n",
              "</tr>\n",
              "<tr>\n",
              "  <th>ar.L3.market_value</th> <td>   -0.0224</td> <td>    0.020</td> <td>   -1.135</td> <td> 0.256</td> <td>   -0.061</td> <td>    0.016</td>\n",
              "</tr>\n",
              "<tr>\n",
              "  <th>ar.L4.market_value</th> <td>    0.0728</td> <td>    0.014</td> <td>    5.166</td> <td> 0.000</td> <td>    0.045</td> <td>    0.100</td>\n",
              "</tr>\n",
              "</table>\n",
              "<table class=\"simpletable\">\n",
              "<caption>Roots</caption>\n",
              "<tr>\n",
              "    <td></td>   <th>            Real</th>  <th>         Imaginary</th> <th>         Modulus</th>  <th>        Frequency</th>\n",
              "</tr>\n",
              "<tr>\n",
              "  <th>AR.1</th> <td>           1.0011</td> <td>          -0.0000j</td> <td>           1.0011</td> <td>          -0.0000</td>\n",
              "</tr>\n",
              "<tr>\n",
              "  <th>AR.2</th> <td>           0.9550</td> <td>          -2.0884j</td> <td>           2.2964</td> <td>          -0.1817</td>\n",
              "</tr>\n",
              "<tr>\n",
              "  <th>AR.3</th> <td>           0.9550</td> <td>          +2.0884j</td> <td>           2.2964</td> <td>           0.1817</td>\n",
              "</tr>\n",
              "<tr>\n",
              "  <th>AR.4</th> <td>          -2.6036</td> <td>          -0.0000j</td> <td>           2.6036</td> <td>          -0.5000</td>\n",
              "</tr>\n",
              "</table>"
            ],
            "text/plain": [
              "<class 'statsmodels.iolib.summary.Summary'>\n",
              "\"\"\"\n",
              "                              ARMA Model Results                              \n",
              "==============================================================================\n",
              "Dep. Variable:           market_value   No. Observations:                 5021\n",
              "Model:                     ARMA(4, 0)   Log Likelihood              -27602.565\n",
              "Method:                       css-mle   S.D. of innovations             59.022\n",
              "Date:                Wed, 15 Jul 2020   AIC                          55217.130\n",
              "Time:                        21:56:35   BIC                          55256.258\n",
              "Sample:                    01-07-1994   HQIC                         55230.841\n",
              "                         - 04-05-2013                                         \n",
              "======================================================================================\n",
              "                         coef    std err          z      P>|z|      [0.025      0.975]\n",
              "--------------------------------------------------------------------------------------\n",
              "const               5089.6413    560.009      9.088      0.000    3992.043    6187.239\n",
              "ar.L1.market_value     0.9770      0.014     69.492      0.000       0.949       1.005\n",
              "ar.L2.market_value    -0.0286      0.020     -1.455      0.146      -0.067       0.010\n",
              "ar.L3.market_value    -0.0224      0.020     -1.135      0.256      -0.061       0.016\n",
              "ar.L4.market_value     0.0728      0.014      5.166      0.000       0.045       0.100\n",
              "                                    Roots                                    \n",
              "=============================================================================\n",
              "                  Real          Imaginary           Modulus         Frequency\n",
              "-----------------------------------------------------------------------------\n",
              "AR.1            1.0011           -0.0000j            1.0011           -0.0000\n",
              "AR.2            0.9550           -2.0884j            2.2964           -0.1817\n",
              "AR.3            0.9550           +2.0884j            2.2964            0.1817\n",
              "AR.4           -2.6036           -0.0000j            2.6036           -0.5000\n",
              "-----------------------------------------------------------------------------\n",
              "\"\"\""
            ]
          },
          "metadata": {
            "tags": []
          },
          "execution_count": 23
        }
      ]
    },
    {
      "cell_type": "markdown",
      "metadata": {
        "id": "85amxcCdfJYg",
        "colab_type": "text"
      },
      "source": [
        "$\\bullet$Otro dato importante en el resumen es **la probabilidad del logaritmo de la verosimilitud (Log Likelihood)** como regla general vamos a preferir el modelo que contenga un coeficiente más alto de Log likelihood.\n",
        "\n",
        "$\\bullet$Por otra parte hay que comparar los críterios de información **AIC** Y **BIC** recordando que nos va a interesar el modelo con menores coeficientes para estos criterios."
      ]
    },
    {
      "cell_type": "markdown",
      "metadata": {
        "id": "4xfdGPlZhSx1",
        "colab_type": "text"
      },
      "source": [
        "## Test de Contraste de logaritmo de verosimilitudes\n",
        "\n",
        "Si $\\alpha<.05$ ent, rechazamos $H_{0}$\n",
        "\n",
        "$H_{0}:$ Los 2 modelos son significativamente similares\n",
        "\n",
        "$H_{1}:$ Los 2 modelos son significativamente diferentes"
      ]
    },
    {
      "cell_type": "code",
      "metadata": {
        "id": "O0jzuSiShSx2",
        "colab_type": "code",
        "colab": {}
      },
      "source": [
        "\n",
        "#Le pasamos los 2 modelos y la diferencia entre la cantidad de parametros entre cada uno, por eso DF=1\n",
        "#Con el método .llf hayamos las log verosimilitudes de ambos métodos\n",
        "#El estadístico que hay que comporbar será 2 veces la diferencia entre la log verosimilitud del segundo modelo y el primero\n",
        "#Después esto se compara con su distribución, la cuál es una chi2, le pasamos el valor del estadistivo y los grados de libertad o diferencia de parametros entre los modelos\n",
        "def LLR_test(mod_1, mod_2, DF=1):\n",
        "    L1 = mod_1.llf\n",
        "    L2 = mod_2.llf\n",
        "    LR = (2*(L2-L1))\n",
        "    p = chi2.sf(LR, DF).round(3)\n",
        "    return p"
      ],
      "execution_count": 29,
      "outputs": []
    },
    {
      "cell_type": "markdown",
      "metadata": {
        "id": "yfZQQJbzhSx4",
        "colab_type": "text"
      },
      "source": [
        "## Comparing Higher-Lag AR Models"
      ]
    },
    {
      "cell_type": "code",
      "metadata": {
        "id": "x8C0qnB9hSx4",
        "colab_type": "code",
        "colab": {
          "base_uri": "https://localhost:8080/",
          "height": 35
        },
        "outputId": "2d470b7f-cbfc-4ee8-fde7-ff2baa3a488f"
      },
      "source": [
        "#La aplicamos al modelo 2 y 3\n",
        "#Aquí aceptamos que los 2 modelos son significativamente similares, en este caso lo recomendable es quedarnos con el modelo más simple\n",
        "LLR_test(results_ar_2, results_ar_3)"
      ],
      "execution_count": null,
      "outputs": [
        {
          "output_type": "execute_result",
          "data": {
            "text/plain": [
              "0.001"
            ]
          },
          "metadata": {
            "tags": []
          },
          "execution_count": 47
        }
      ]
    },
    {
      "cell_type": "code",
      "metadata": {
        "id": "t0kmKnxbhSx6",
        "colab_type": "code",
        "colab": {
          "base_uri": "https://localhost:8080/",
          "height": 34
        },
        "outputId": "3286d322-94b1-4e74-efbc-b85bbcc89b98"
      },
      "source": [
        "#La aplicamos al modelo 3 y 4\n",
        "#Aquí aceptamos que los 2 modelos son significativamente similares, en este caso lo recomendable es quedarnos con el modelo más simple\n",
        "LLR_test(results_ar_3, results_ar_4)"
      ],
      "execution_count": null,
      "outputs": [
        {
          "output_type": "execute_result",
          "data": {
            "text/plain": [
              "0.0"
            ]
          },
          "metadata": {
            "tags": []
          },
          "execution_count": 25
        }
      ]
    },
    {
      "cell_type": "markdown",
      "metadata": {
        "id": "BwkdJy01jbkv",
        "colab_type": "text"
      },
      "source": [
        "**Nota:** En el caso en el que se acepte que los modelos contrastados son diferentes, necesariamente el último retraso del modelo debe ser significativo para poderlo escoger sobre algún otro, si no es significativo tendríamos que descartar ese retraso y estaríamos en un modelo anterior."
      ]
    },
    {
      "cell_type": "code",
      "metadata": {
        "id": "0qabkmwHhSx9",
        "colab_type": "code",
        "colab": {
          "base_uri": "https://localhost:8080/",
          "height": 476
        },
        "outputId": "3f803149-5230-4dd4-c527-b7934993ec4a"
      },
      "source": [
        "model_ar_4 = ARMA(df.market_value, order=[4,0])\n",
        "results_ar_4 = model_ar_4.fit()\n",
        "print(results_ar_4.summary()) \n",
        "print (\"LLR test: \" + str(LLR_test(results_ar_3, results_ar_4)))"
      ],
      "execution_count": null,
      "outputs": [
        {
          "output_type": "stream",
          "text": [
            "                              ARMA Model Results                              \n",
            "==============================================================================\n",
            "Dep. Variable:           market_value   No. Observations:                 5021\n",
            "Model:                     ARMA(4, 0)   Log Likelihood              -27602.565\n",
            "Method:                       css-mle   S.D. of innovations             59.022\n",
            "Date:                Wed, 15 Jul 2020   AIC                          55217.130\n",
            "Time:                        22:29:40   BIC                          55256.258\n",
            "Sample:                    01-07-1994   HQIC                         55230.841\n",
            "                         - 04-05-2013                                         \n",
            "======================================================================================\n",
            "                         coef    std err          z      P>|z|      [0.025      0.975]\n",
            "--------------------------------------------------------------------------------------\n",
            "const               5089.6413    560.009      9.088      0.000    3992.043    6187.239\n",
            "ar.L1.market_value     0.9770      0.014     69.492      0.000       0.949       1.005\n",
            "ar.L2.market_value    -0.0286      0.020     -1.455      0.146      -0.067       0.010\n",
            "ar.L3.market_value    -0.0224      0.020     -1.135      0.256      -0.061       0.016\n",
            "ar.L4.market_value     0.0728      0.014      5.166      0.000       0.045       0.100\n",
            "                                    Roots                                    \n",
            "=============================================================================\n",
            "                  Real          Imaginary           Modulus         Frequency\n",
            "-----------------------------------------------------------------------------\n",
            "AR.1            1.0011           -0.0000j            1.0011           -0.0000\n",
            "AR.2            0.9550           -2.0884j            2.2964           -0.1817\n",
            "AR.3            0.9550           +2.0884j            2.2964            0.1817\n",
            "AR.4           -2.6036           -0.0000j            2.6036           -0.5000\n",
            "-----------------------------------------------------------------------------\n",
            "LLR test: 0.0\n"
          ],
          "name": "stdout"
        }
      ]
    },
    {
      "cell_type": "code",
      "metadata": {
        "id": "YKKNFjRchSx_",
        "colab_type": "code",
        "colab": {
          "base_uri": "https://localhost:8080/",
          "height": 527
        },
        "outputId": "8f273377-640d-468a-e8e9-94d93ae01002"
      },
      "source": [
        "#Modelo AR(5)\n",
        "model_ar_5 = ARMA(df.market_value, order=(5,0))\n",
        "#Ajustamos los valores\n",
        "results_ar_5 = model_ar_5.fit()\n",
        "#Resumen \n",
        "print(results_ar_5.summary())\n",
        "#La prueba es significativa dado que 0.04<.05 y además el retraso 5 también es significativo, de momento nos quedamos con este modelo\n",
        "print(\"\\nLLR test p-value = \" + str(LLR_test(results_ar_4, results_ar_5)))"
      ],
      "execution_count": null,
      "outputs": [
        {
          "output_type": "stream",
          "text": [
            "                              ARMA Model Results                              \n",
            "==============================================================================\n",
            "Dep. Variable:           market_value   No. Observations:                 5021\n",
            "Model:                     ARMA(5, 0)   Log Likelihood              -27600.524\n",
            "Method:                       css-mle   S.D. of innovations             58.997\n",
            "Date:                Wed, 15 Jul 2020   AIC                          55215.049\n",
            "Time:                        22:29:42   BIC                          55260.698\n",
            "Sample:                    01-07-1994   HQIC                         55231.045\n",
            "                         - 04-05-2013                                         \n",
            "======================================================================================\n",
            "                         coef    std err          z      P>|z|      [0.025      0.975]\n",
            "--------------------------------------------------------------------------------------\n",
            "const               5369.4922    703.058      7.637      0.000    3991.525    6747.460\n",
            "ar.L1.market_value     0.9792      0.014     69.511      0.000       0.952       1.007\n",
            "ar.L2.market_value    -0.0293      0.020     -1.488      0.137      -0.068       0.009\n",
            "ar.L3.market_value    -0.0232      0.020     -1.178      0.239      -0.062       0.015\n",
            "ar.L4.market_value     0.1018      0.020      5.167      0.000       0.063       0.140\n",
            "ar.L5.market_value    -0.0297      0.014     -2.102      0.036      -0.057      -0.002\n",
            "                                    Roots                                    \n",
            "=============================================================================\n",
            "                  Real          Imaginary           Modulus         Frequency\n",
            "-----------------------------------------------------------------------------\n",
            "AR.1            1.0011           -0.0000j            1.0011           -0.0000\n",
            "AR.2           -2.0609           -0.0000j            2.0609           -0.5000\n",
            "AR.3            0.4277           -2.0764j            2.1200           -0.2177\n",
            "AR.4            0.4277           +2.0764j            2.1200            0.2177\n",
            "AR.5            3.6339           -0.0000j            3.6339           -0.0000\n",
            "-----------------------------------------------------------------------------\n",
            "\n",
            "LLR test p-value = 0.043\n"
          ],
          "name": "stdout"
        }
      ]
    },
    {
      "cell_type": "code",
      "metadata": {
        "id": "H0bp0wV-hSyB",
        "colab_type": "code",
        "colab": {
          "base_uri": "https://localhost:8080/",
          "height": 561
        },
        "outputId": "4a9259dd-5146-44b2-959a-bf6178efd4fd"
      },
      "source": [
        "#Modelo AR(6)\n",
        "model_ar_6 = ARMA(df.market_value, order=(6,0))\n",
        "#Ajuste de los valores\n",
        "results_ar_6 = model_ar_6.fit()\n",
        "#Resumen\n",
        "print(results_ar_6.summary())\n",
        "#La prueba es significativa dado que 0.004<.04 y además el retraso 6 es significativo, nos quedamos ahora con el 6\n",
        "print(\"\\nLLR test p-value = \" + str(LLR_test(results_ar_5, results_ar_6)))"
      ],
      "execution_count": null,
      "outputs": [
        {
          "output_type": "stream",
          "text": [
            "                              ARMA Model Results                              \n",
            "==============================================================================\n",
            "Dep. Variable:           market_value   No. Observations:                 5021\n",
            "Model:                     ARMA(6, 0)   Log Likelihood              -27596.474\n",
            "Method:                       css-mle   S.D. of innovations             58.950\n",
            "Date:                Wed, 15 Jul 2020   AIC                          55208.947\n",
            "Time:                        22:32:39   BIC                          55261.118\n",
            "Sample:                    01-07-1994   HQIC                         55227.229\n",
            "                         - 04-05-2013                                         \n",
            "======================================================================================\n",
            "                         coef    std err          z      P>|z|      [0.025      0.975]\n",
            "--------------------------------------------------------------------------------------\n",
            "const               5089.6411    565.235      9.004      0.000    3981.802    6197.480\n",
            "ar.L1.market_value     0.9803      0.014     69.604      0.000       0.953       1.008\n",
            "ar.L2.market_value    -0.0333      0.020     -1.687      0.092      -0.072       0.005\n",
            "ar.L3.market_value    -0.0223      0.020     -1.133      0.257      -0.061       0.016\n",
            "ar.L4.market_value     0.1029      0.020      5.227      0.000       0.064       0.141\n",
            "ar.L5.market_value    -0.0682      0.020     -3.454      0.001      -0.107      -0.029\n",
            "ar.L6.market_value     0.0393      0.014      2.785      0.005       0.012       0.067\n",
            "                                    Roots                                    \n",
            "=============================================================================\n",
            "                  Real          Imaginary           Modulus         Frequency\n",
            "-----------------------------------------------------------------------------\n",
            "AR.1            1.0011           -0.0000j            1.0011           -0.0000\n",
            "AR.2           -1.6828           -0.0000j            1.6828           -0.5000\n",
            "AR.3           -0.3031           -1.8985j            1.9226           -0.2752\n",
            "AR.4           -0.3031           +1.8985j            1.9226            0.2752\n",
            "AR.5            1.5114           -1.3426j            2.0216           -0.1156\n",
            "AR.6            1.5114           +1.3426j            2.0216            0.1156\n",
            "-----------------------------------------------------------------------------\n",
            "\n",
            "LLR test p-value = 0.004\n"
          ],
          "name": "stdout"
        }
      ]
    },
    {
      "cell_type": "code",
      "metadata": {
        "id": "Wxio25zOhSyE",
        "colab_type": "code",
        "colab": {
          "base_uri": "https://localhost:8080/",
          "height": 595
        },
        "outputId": "d3c5983e-4c1f-4c6f-ff6d-27b3015c4b14"
      },
      "source": [
        "#Modelo AR(7)\n",
        "model_ar_7 = ARMA(df.market_value, order=(7,0))\n",
        "#Ajustamos el modelo\n",
        "results_ar_7 = model_ar_7.fit()\n",
        "#Resumen del modelo\n",
        "print(results_ar_7.summary())\n",
        "#La prueba es significativa dado que 0.002<.004 y además el retraso 7 es significativo por lo que nos quedamos con el 7\n",
        "print(\"\\nLLR test p-value = \" + str(LLR_test(results_ar_6, results_ar_7)))"
      ],
      "execution_count": null,
      "outputs": [
        {
          "output_type": "stream",
          "text": [
            "                              ARMA Model Results                              \n",
            "==============================================================================\n",
            "Dep. Variable:           market_value   No. Observations:                 5021\n",
            "Model:                     ARMA(7, 0)   Log Likelihood              -27591.900\n",
            "Method:                       css-mle   S.D. of innovations             58.896\n",
            "Date:                Wed, 15 Jul 2020   AIC                          55201.799\n",
            "Time:                        22:32:43   BIC                          55260.492\n",
            "Sample:                    01-07-1994   HQIC                         55222.366\n",
            "                         - 04-05-2013                                         \n",
            "======================================================================================\n",
            "                         coef    std err          z      P>|z|      [0.025      0.975]\n",
            "--------------------------------------------------------------------------------------\n",
            "const               5089.6414    589.596      8.632      0.000    3934.054    6245.229\n",
            "ar.L1.market_value     0.9786      0.014     69.518      0.000       0.951       1.006\n",
            "ar.L2.market_value    -0.0304      0.020     -1.540      0.124      -0.069       0.008\n",
            "ar.L3.market_value    -0.0267      0.020     -1.353      0.176      -0.065       0.012\n",
            "ar.L4.market_value     0.1038      0.020      5.279      0.000       0.065       0.142\n",
            "ar.L5.market_value    -0.0668      0.020     -3.385      0.001      -0.105      -0.028\n",
            "ar.L6.market_value    -0.0025      0.020     -0.127      0.899      -0.041       0.036\n",
            "ar.L7.market_value     0.0427      0.014      3.026      0.002       0.015       0.070\n",
            "                                    Roots                                    \n",
            "=============================================================================\n",
            "                  Real          Imaginary           Modulus         Frequency\n",
            "-----------------------------------------------------------------------------\n",
            "AR.1            1.0010           -0.0000j            1.0010           -0.0000\n",
            "AR.2            1.3301           -0.9296j            1.6228           -0.0971\n",
            "AR.3            1.3301           +0.9296j            1.6228            0.0971\n",
            "AR.4           -0.0400           -1.5870j            1.5875           -0.2540\n",
            "AR.5           -0.0400           +1.5870j            1.5875            0.2540\n",
            "AR.6           -1.7612           -0.6517j            1.8779           -0.4436\n",
            "AR.7           -1.7612           +0.6517j            1.8779            0.4436\n",
            "-----------------------------------------------------------------------------\n",
            "\n",
            "LLR test p-value = 0.002\n"
          ],
          "name": "stdout"
        }
      ]
    },
    {
      "cell_type": "code",
      "metadata": {
        "id": "KMoODivghSyG",
        "colab_type": "code",
        "colab": {
          "base_uri": "https://localhost:8080/",
          "height": 629
        },
        "outputId": "fb71ca4a-32f8-4bdc-dc64-f081c84f9046"
      },
      "source": [
        "#Modelo AR(8)\n",
        "model_ar_8 = ARMA(df.market_value, order=(8,0))\n",
        "#Ajustamos valores\n",
        "results_ar_8 = model_ar_8.fit()\n",
        "#Resumen del modelo\n",
        "print(results_ar_8.summary())\n",
        "#El coeficiente del retraso 8 no es significativo y además la prueba tampoco es significativa es decir .002<.5 por lo cuál nos quedamos con el 7\n",
        "print(\"\\nLLR test p-value = \" + str(LLR_test(results_ar_7, results_ar_8)))"
      ],
      "execution_count": null,
      "outputs": [
        {
          "output_type": "stream",
          "text": [
            "                              ARMA Model Results                              \n",
            "==============================================================================\n",
            "Dep. Variable:           market_value   No. Observations:                 5021\n",
            "Model:                     ARMA(8, 0)   Log Likelihood              -27591.739\n",
            "Method:                       css-mle   S.D. of innovations             58.894\n",
            "Date:                Wed, 15 Jul 2020   AIC                          55203.478\n",
            "Time:                        22:39:57   BIC                          55268.692\n",
            "Sample:                    01-07-1994   HQIC                         55226.329\n",
            "                         - 04-05-2013                                         \n",
            "======================================================================================\n",
            "                         coef    std err          z      P>|z|      [0.025      0.975]\n",
            "--------------------------------------------------------------------------------------\n",
            "const               5089.6413    585.021      8.700      0.000    3943.022    6236.260\n",
            "ar.L1.market_value     0.9790      0.014     69.476      0.000       0.951       1.007\n",
            "ar.L2.market_value    -0.0304      0.020     -1.541      0.123      -0.069       0.008\n",
            "ar.L3.market_value    -0.0272      0.020     -1.379      0.168      -0.066       0.011\n",
            "ar.L4.market_value     0.1047      0.020      5.306      0.000       0.066       0.143\n",
            "ar.L5.market_value    -0.0670      0.020     -3.396      0.001      -0.106      -0.028\n",
            "ar.L6.market_value    -0.0028      0.020     -0.139      0.889      -0.041       0.036\n",
            "ar.L7.market_value     0.0505      0.020      2.559      0.011       0.012       0.089\n",
            "ar.L8.market_value    -0.0080      0.014     -0.567      0.571      -0.036       0.020\n",
            "                                    Roots                                    \n",
            "=============================================================================\n",
            "                  Real          Imaginary           Modulus         Frequency\n",
            "-----------------------------------------------------------------------------\n",
            "AR.1            1.0010           -0.0000j            1.0010           -0.0000\n",
            "AR.2           -1.6223           -0.6323j            1.7412           -0.4409\n",
            "AR.3           -1.6223           +0.6323j            1.7412            0.4409\n",
            "AR.4           -0.0911           -1.5626j            1.5653           -0.2593\n",
            "AR.5           -0.0911           +1.5626j            1.5653            0.2593\n",
            "AR.6            1.3256           -1.0019j            1.6616           -0.1030\n",
            "AR.7            1.3256           +1.0019j            1.6616            0.1030\n",
            "AR.8            6.0864           -0.0000j            6.0864           -0.0000\n",
            "-----------------------------------------------------------------------------\n",
            "\n",
            "LLR test p-value = 0.571\n"
          ],
          "name": "stdout"
        }
      ]
    },
    {
      "cell_type": "code",
      "metadata": {
        "id": "XXItbTorhSyI",
        "colab_type": "code",
        "colab": {
          "base_uri": "https://localhost:8080/",
          "height": 34
        },
        "outputId": "fb05a549-f79a-4468-affb-bbab4e8429d8"
      },
      "source": [
        "#Ahor vamos a comparar los 2 modelos ganadores que es el modelo con 1 retraso y con 7 retrasos\n",
        "#La prueba es significativa por lo que rechazamos la hipotesis nula y nos quedamos con el modelo AR(7) dado que son significativamente diferentes\n",
        "print(\"LLR test: \" + str(LLR_test(results_ar, results_ar_7, DF = 6)))"
      ],
      "execution_count": null,
      "outputs": [
        {
          "output_type": "stream",
          "text": [
            "LLR test: 0.0\n"
          ],
          "name": "stdout"
        }
      ]
    },
    {
      "cell_type": "markdown",
      "metadata": {
        "id": "ncvIwCzssLdI",
        "colab_type": "text"
      },
      "source": [
        "Realizaremos un prueba de Dicky Fuller para comprobar que proviene de un proceso estacionario.\n",
        "\n",
        "Recordemos que si $\\lambda_{0}<\\lambda_{crit} \\Rightarrow$ Rechazamos que la serie sea estacionaria "
      ]
    },
    {
      "cell_type": "code",
      "metadata": {
        "id": "7coR_aCHrcPg",
        "colab_type": "code",
        "colab": {
          "base_uri": "https://localhost:8080/",
          "height": 153
        },
        "outputId": "440dee45-d084-407d-b107-56176dcc2c1f"
      },
      "source": [
        "#Ahora verifiquemos que la serie provenga de un proceso estacionario, dado que los modelos autorregresivos no funcionan bien con procesos no estacionarios.\n",
        "\n",
        "#Utilizamos el método \"adfuller\"\n",
        "#El primer valor es el valor del estadístico\n",
        "#El valor crítico será arrojado para el 99%,90% y 95%\n",
        "#El p-value es el segundo valor arrojado\n",
        "#El 3er valor es el número de retrasos\n",
        "\n",
        "#Observamos que el estadistico siempre es mayor que los lambda criticos independentemente de que intervalo de confianza tomemos por lo cuál la serie no es estacionaria\n",
        "sts.adfuller(df.market_value)"
      ],
      "execution_count": null,
      "outputs": [
        {
          "output_type": "execute_result",
          "data": {
            "text/plain": [
              "(-1.9041551418836864,\n",
              " 0.33010893277028336,\n",
              " 6,\n",
              " 5014,\n",
              " {'1%': -3.4316548765428174,\n",
              "  '10%': -2.5670769326348926,\n",
              "  '5%': -2.8621166146845334},\n",
              " 54854.15304507557)"
            ]
          },
          "metadata": {
            "tags": []
          },
          "execution_count": 36
        }
      ]
    },
    {
      "cell_type": "markdown",
      "metadata": {
        "id": "jFA63clRqQAt",
        "colab_type": "text"
      },
      "source": [
        "**Observación**\n",
        "Podemos observar que a pesar que la prueba de log verosimilitudes nos hizo incinarnos por el modelo **AR(7)**, este modelo aún tiene retrasos que no son significativos y eso es un problema. Esto se debe a que los modelos autorregresivos no funcionan bien con series no estacionarias, este es un principal supuesto de los modelos autorresgresivos.\n",
        "\n",
        "Una solución sería transformar los datos para que cumplan esta propiedad."
      ]
    },
    {
      "cell_type": "markdown",
      "metadata": {
        "id": "h-hIBV_zhSyK",
        "colab_type": "text"
      },
      "source": [
        "## Analysing the Residuals"
      ]
    },
    {
      "cell_type": "code",
      "metadata": {
        "id": "86SgBdeghSyK",
        "colab_type": "code",
        "colab": {
          "base_uri": "https://localhost:8080/",
          "height": 119
        },
        "outputId": "11fe03ad-38a6-466c-d170-fad71ae0b132"
      },
      "source": [
        "#Extraemos los residuos del modelo con el método .resid\n",
        "df['res_price'] = results_ar_7.resid"
      ],
      "execution_count": null,
      "outputs": [
        {
          "output_type": "stream",
          "text": [
            "/usr/local/lib/python3.6/dist-packages/ipykernel_launcher.py:2: SettingWithCopyWarning: \n",
            "A value is trying to be set on a copy of a slice from a DataFrame.\n",
            "Try using .loc[row_indexer,col_indexer] = value instead\n",
            "\n",
            "See the caveats in the documentation: https://pandas.pydata.org/pandas-docs/stable/user_guide/indexing.html#returning-a-view-versus-a-copy\n",
            "  \n"
          ],
          "name": "stderr"
        }
      ]
    },
    {
      "cell_type": "code",
      "metadata": {
        "id": "OjEHClWJhSyR",
        "colab_type": "code",
        "colab": {
          "base_uri": "https://localhost:8080/",
          "height": 153
        },
        "outputId": "c73b0eec-8d7f-4c1c-9e15-82f5c3c2d811"
      },
      "source": [
        "#Si el modelo AR(7) es el mejor predictor, entonces los residuos deben distribuirse como ruido blanco es decir media y varianza constantes\n",
        "#La prueba de Dicky Fuller nos ayudara a verificar que los residuos sean estacionarios\n",
        "#Aceptamos que son estacionarios\n",
        "sts.adfuller(df.res_price)"
      ],
      "execution_count": null,
      "outputs": [
        {
          "output_type": "execute_result",
          "data": {
            "text/plain": [
              "(-76.07470446119133,\n",
              " 0.0,\n",
              " 0,\n",
              " 5020,\n",
              " {'1%': -3.431653316130827,\n",
              "  '10%': -2.5670765656497516,\n",
              "  '5%': -2.8621159253018247},\n",
              " 54842.4151490114)"
            ]
          },
          "metadata": {
            "tags": []
          },
          "execution_count": 38
        }
      ]
    },
    {
      "cell_type": "code",
      "metadata": {
        "id": "N4u2meHKhSyT",
        "colab_type": "code",
        "colab": {
          "base_uri": "https://localhost:8080/",
          "height": 293
        },
        "outputId": "d4c68ece-9ee7-4eec-d4df-235a10575a9d"
      },
      "source": [
        "#Además de que para el ruido blanco no debemos tener autocorrelación, en este caso en los residuos\n",
        "#La mayoría cae dentro del sombreado azul por lo cuál no son significativos es decir no esta autocorrelacionados\n",
        "#Al observar que algunos retrasos son significativos el gráfico sugiere que probablemente hay un mejor predictor\n",
        "sgt.plot_acf(df.res_price, zero = False, lags = 40)\n",
        "plt.title(\"ACF Of Residuals for Prices\",size=24)\n",
        "plt.show()"
      ],
      "execution_count": null,
      "outputs": [
        {
          "output_type": "display_data",
          "data": {
            "image/png": "[encoded data removed]",
            "text/plain": [
              "<Figure size 432x288 with 1 Axes>"
            ]
          },
          "metadata": {
            "tags": [],
            "needs_background": "light"
          }
        }
      ]
    },
    {
      "cell_type": "code",
      "metadata": {
        "id": "d7L9EVkRhSyV",
        "colab_type": "code",
        "colab": {
          "base_uri": "https://localhost:8080/",
          "height": 364
        },
        "outputId": "d8a5be81-053f-4a70-d98d-d774d0a7d562"
      },
      "source": [
        "#Veamos un gráfico de los residuos \n",
        "#La gráfica se asemeja a ruido blanco es decir no hay ningún patrón\n",
        "df.res_price[1:].plot(figsize=(20,5))\n",
        "plt.title(\"Residuals of Prices\",size=24)\n",
        "plt.show()"
      ],
      "execution_count": null,
      "outputs": [
        {
          "output_type": "display_data",
          "data": {
            "image/png": "[encoded data removed]",
            "text/plain": [
              "<Figure size 1440x360 with 1 Axes>"
            ]
          },
          "metadata": {
            "tags": [],
            "needs_background": "light"
          }
        }
      ]
    },
    {
      "cell_type": "markdown",
      "metadata": {
        "id": "uN4UChHhxBA-",
        "colab_type": "text"
      },
      "source": [
        "## Veamos con resolver el problema de la estacionalidad"
      ]
    },
    {
      "cell_type": "code",
      "metadata": {
        "id": "jqyn0tZ9uGVj",
        "colab_type": "code",
        "colab": {}
      },
      "source": [
        "#Copiamos el df en una nueva variable\n",
        "df_comp=raw_csv_data.copy()\n",
        "#Convertimos la variable \"date\" a formato fecha indicando que el formato de la variable empieza con el día\n",
        "df_comp.date = pd.to_datetime(df_comp.date, dayfirst = True)\n",
        "#Indexamos la variable \"date\" para una mejor visualización\n",
        "df_comp.set_index(\"date\", inplace=True)\n",
        "#Indicamos la frecuencia de nuestros datos \"business days\"\n",
        "df_comp=df_comp.asfreq('b')\n",
        "df_comp=df_comp.fillna(method='ffill')\n",
        "df_comp['market_value']=df_comp.ftse\n",
        "#Borramos las variables que no utilizaremos\n",
        "del df_comp['spx']\n",
        "del df_comp['dax']\n",
        "del df_comp['ftse']\n",
        "del df_comp['nikkei']\n",
        "#Indicamos el corte para guardar el set de entrenamiento y prueba\n",
        "size = int(len(df_comp)*0.8)\n",
        "#Guardamos el set de entrenamiento y validación con sus respectivos cortes\n",
        "df, df_test = df_comp.iloc[:size], df_comp.iloc[size:]"
      ],
      "execution_count": 43,
      "outputs": []
    },
    {
      "cell_type": "code",
      "metadata": {
        "id": "qCTF4p7Txnzu",
        "colab_type": "code",
        "colab": {
          "base_uri": "https://localhost:8080/",
          "height": 235
        },
        "outputId": "0ffc0f99-1db1-4c0d-bfe9-927faf0d82f0"
      },
      "source": [
        "df_comp.head()"
      ],
      "execution_count": 44,
      "outputs": [
        {
          "output_type": "execute_result",
          "data": {
            "text/html": [
              "<div>\n",
              "<style scoped>\n",
              "    .dataframe tbody tr th:only-of-type {\n",
              "        vertical-align: middle;\n",
              "    }\n",
              "\n",
              "    .dataframe tbody tr th {\n",
              "        vertical-align: top;\n",
              "    }\n",
              "\n",
              "    .dataframe thead th {\n",
              "        text-align: right;\n",
              "    }\n",
              "</style>\n",
              "<table border=\"1\" class=\"dataframe\">\n",
              "  <thead>\n",
              "    <tr style=\"text-align: right;\">\n",
              "      <th></th>\n",
              "      <th>market_value</th>\n",
              "    </tr>\n",
              "    <tr>\n",
              "      <th>date</th>\n",
              "      <th></th>\n",
              "    </tr>\n",
              "  </thead>\n",
              "  <tbody>\n",
              "    <tr>\n",
              "      <th>1994-01-07</th>\n",
              "      <td>3445.98</td>\n",
              "    </tr>\n",
              "    <tr>\n",
              "      <th>1994-01-10</th>\n",
              "      <td>3440.58</td>\n",
              "    </tr>\n",
              "    <tr>\n",
              "      <th>1994-01-11</th>\n",
              "      <td>3413.77</td>\n",
              "    </tr>\n",
              "    <tr>\n",
              "      <th>1994-01-12</th>\n",
              "      <td>3372.02</td>\n",
              "    </tr>\n",
              "    <tr>\n",
              "      <th>1994-01-13</th>\n",
              "      <td>3360.01</td>\n",
              "    </tr>\n",
              "  </tbody>\n",
              "</table>\n",
              "</div>"
            ],
            "text/plain": [
              "            market_value\n",
              "date                    \n",
              "1994-01-07       3445.98\n",
              "1994-01-10       3440.58\n",
              "1994-01-11       3413.77\n",
              "1994-01-12       3372.02\n",
              "1994-01-13       3360.01"
            ]
          },
          "metadata": {
            "tags": []
          },
          "execution_count": 44
        }
      ]
    },
    {
      "cell_type": "markdown",
      "metadata": {
        "id": "pk1I1HnAxz-L",
        "colab_type": "text"
      },
      "source": [
        "## **Utilizaremos los retornos de la variable**"
      ]
    },
    {
      "cell_type": "code",
      "metadata": {
        "id": "Mx17IIXSxsN6",
        "colab_type": "code",
        "colab": {
          "base_uri": "https://localhost:8080/",
          "height": 119
        },
        "outputId": "38295c00-6766-4465-c0b0-6a8309d8c573"
      },
      "source": [
        "#Realizamos la transformación retorno, es decir ahora la variable será un porcentaje de cambio entre los valores para periodos consecutivos\n",
        "#Ejemplo, si los datos son diarios el retorno será el porcentaje de cambio de un día para otro\n",
        "#Utilizamos el método \"pct_change\" para extraer la tasa de cambio entre un periodo y otro, además la multiplicamos por 100 para obtener el porcentaje\n",
        "df['returns']=df.market_value.pct_change(1).mul(100)"
      ],
      "execution_count": 15,
      "outputs": [
        {
          "output_type": "stream",
          "text": [
            "/usr/local/lib/python3.6/dist-packages/ipykernel_launcher.py:4: SettingWithCopyWarning: \n",
            "A value is trying to be set on a copy of a slice from a DataFrame.\n",
            "Try using .loc[row_indexer,col_indexer] = value instead\n",
            "\n",
            "See the caveats in the documentation: https://pandas.pydata.org/pandas-docs/stable/user_guide/indexing.html#returning-a-view-versus-a-copy\n",
            "  after removing the cwd from sys.path.\n"
          ],
          "name": "stderr"
        }
      ]
    },
    {
      "cell_type": "code",
      "metadata": {
        "id": "tE4Vy3_RzYg8",
        "colab_type": "code",
        "colab": {
          "base_uri": "https://localhost:8080/",
          "height": 235
        },
        "outputId": "27adaae7-593c-42b2-8ed6-941308de005b"
      },
      "source": [
        "df.head()"
      ],
      "execution_count": 16,
      "outputs": [
        {
          "output_type": "execute_result",
          "data": {
            "text/html": [
              "<div>\n",
              "<style scoped>\n",
              "    .dataframe tbody tr th:only-of-type {\n",
              "        vertical-align: middle;\n",
              "    }\n",
              "\n",
              "    .dataframe tbody tr th {\n",
              "        vertical-align: top;\n",
              "    }\n",
              "\n",
              "    .dataframe thead th {\n",
              "        text-align: right;\n",
              "    }\n",
              "</style>\n",
              "<table border=\"1\" class=\"dataframe\">\n",
              "  <thead>\n",
              "    <tr style=\"text-align: right;\">\n",
              "      <th></th>\n",
              "      <th>market_value</th>\n",
              "      <th>returns</th>\n",
              "    </tr>\n",
              "    <tr>\n",
              "      <th>date</th>\n",
              "      <th></th>\n",
              "      <th></th>\n",
              "    </tr>\n",
              "  </thead>\n",
              "  <tbody>\n",
              "    <tr>\n",
              "      <th>1994-01-07</th>\n",
              "      <td>3445.98</td>\n",
              "      <td>NaN</td>\n",
              "    </tr>\n",
              "    <tr>\n",
              "      <th>1994-01-10</th>\n",
              "      <td>3440.58</td>\n",
              "      <td>-0.156704</td>\n",
              "    </tr>\n",
              "    <tr>\n",
              "      <th>1994-01-11</th>\n",
              "      <td>3413.77</td>\n",
              "      <td>-0.779229</td>\n",
              "    </tr>\n",
              "    <tr>\n",
              "      <th>1994-01-12</th>\n",
              "      <td>3372.02</td>\n",
              "      <td>-1.222988</td>\n",
              "    </tr>\n",
              "    <tr>\n",
              "      <th>1994-01-13</th>\n",
              "      <td>3360.01</td>\n",
              "      <td>-0.356166</td>\n",
              "    </tr>\n",
              "  </tbody>\n",
              "</table>\n",
              "</div>"
            ],
            "text/plain": [
              "            market_value   returns\n",
              "date                              \n",
              "1994-01-07       3445.98       NaN\n",
              "1994-01-10       3440.58 -0.156704\n",
              "1994-01-11       3413.77 -0.779229\n",
              "1994-01-12       3372.02 -1.222988\n",
              "1994-01-13       3360.01 -0.356166"
            ]
          },
          "metadata": {
            "tags": []
          },
          "execution_count": 16
        }
      ]
    },
    {
      "cell_type": "code",
      "metadata": {
        "id": "eJ5JrKYWztSc",
        "colab_type": "code",
        "colab": {}
      },
      "source": [
        "#Para poder hacer el contraste de hipotesis vamos a eliminar la primera fila\n",
        "df=df.iloc[1:]"
      ],
      "execution_count": 17,
      "outputs": []
    },
    {
      "cell_type": "code",
      "metadata": {
        "id": "361QDztO0P0Q",
        "colab_type": "code",
        "colab": {
          "base_uri": "https://localhost:8080/",
          "height": 235
        },
        "outputId": "caaaae49-99c8-43fe-db82-a7aab25446fe"
      },
      "source": [
        "df.head()"
      ],
      "execution_count": 18,
      "outputs": [
        {
          "output_type": "execute_result",
          "data": {
            "text/html": [
              "<div>\n",
              "<style scoped>\n",
              "    .dataframe tbody tr th:only-of-type {\n",
              "        vertical-align: middle;\n",
              "    }\n",
              "\n",
              "    .dataframe tbody tr th {\n",
              "        vertical-align: top;\n",
              "    }\n",
              "\n",
              "    .dataframe thead th {\n",
              "        text-align: right;\n",
              "    }\n",
              "</style>\n",
              "<table border=\"1\" class=\"dataframe\">\n",
              "  <thead>\n",
              "    <tr style=\"text-align: right;\">\n",
              "      <th></th>\n",
              "      <th>market_value</th>\n",
              "      <th>returns</th>\n",
              "    </tr>\n",
              "    <tr>\n",
              "      <th>date</th>\n",
              "      <th></th>\n",
              "      <th></th>\n",
              "    </tr>\n",
              "  </thead>\n",
              "  <tbody>\n",
              "    <tr>\n",
              "      <th>1994-01-10</th>\n",
              "      <td>3440.58</td>\n",
              "      <td>-0.156704</td>\n",
              "    </tr>\n",
              "    <tr>\n",
              "      <th>1994-01-11</th>\n",
              "      <td>3413.77</td>\n",
              "      <td>-0.779229</td>\n",
              "    </tr>\n",
              "    <tr>\n",
              "      <th>1994-01-12</th>\n",
              "      <td>3372.02</td>\n",
              "      <td>-1.222988</td>\n",
              "    </tr>\n",
              "    <tr>\n",
              "      <th>1994-01-13</th>\n",
              "      <td>3360.01</td>\n",
              "      <td>-0.356166</td>\n",
              "    </tr>\n",
              "    <tr>\n",
              "      <th>1994-01-14</th>\n",
              "      <td>3400.56</td>\n",
              "      <td>1.206842</td>\n",
              "    </tr>\n",
              "  </tbody>\n",
              "</table>\n",
              "</div>"
            ],
            "text/plain": [
              "            market_value   returns\n",
              "date                              \n",
              "1994-01-10       3440.58 -0.156704\n",
              "1994-01-11       3413.77 -0.779229\n",
              "1994-01-12       3372.02 -1.222988\n",
              "1994-01-13       3360.01 -0.356166\n",
              "1994-01-14       3400.56  1.206842"
            ]
          },
          "metadata": {
            "tags": []
          },
          "execution_count": 18
        }
      ]
    },
    {
      "cell_type": "code",
      "metadata": {
        "id": "74dGbzN946dZ",
        "colab_type": "code",
        "colab": {
          "base_uri": "https://localhost:8080/",
          "height": 364
        },
        "outputId": "a9435220-f8e7-4afd-ff9a-a298c40caa80"
      },
      "source": [
        "#Veamos su gráfico\n",
        "#Podemos ver un comportamiento estacionario\n",
        "df.returns.plot(figsize = (20,5))\n",
        "plt.title(\"retornos del precios de mercado\", size = 24)\n",
        "plt.legend() \n",
        "plt.show()"
      ],
      "execution_count": 26,
      "outputs": [
        {
          "output_type": "display_data",
          "data": {
            "image/png": "[encoded data removed]",
            "text/plain": [
              "<Figure size 1440x360 with 1 Axes>"
            ]
          },
          "metadata": {
            "tags": []
          }
        }
      ]
    },
    {
      "cell_type": "code",
      "metadata": {
        "id": "TbkGDAXOzAeJ",
        "colab_type": "code",
        "colab": {
          "base_uri": "https://localhost:8080/",
          "height": 153
        },
        "outputId": "531d47ce-6a8c-42ab-c503-ac4665da9882"
      },
      "source": [
        "#Ahora verificamos que sea estacionaria\n",
        "#Veamos ahora el segundo valor que el p-value en este caso es menor que .05 por lo que aceptamos que la serie sea estacionaria\n",
        "sts.adfuller(df.returns)"
      ],
      "execution_count": 19,
      "outputs": [
        {
          "output_type": "execute_result",
          "data": {
            "text/plain": [
              "(-12.770265719497182,\n",
              " 7.798058336040345e-24,\n",
              " 32,\n",
              " 4987,\n",
              " {'1%': -3.431661944885779,\n",
              "  '10%': -2.5670785949998973,\n",
              "  '5%': -2.8621197374408225},\n",
              " 15696.7672456975)"
            ]
          },
          "metadata": {
            "tags": []
          },
          "execution_count": 19
        }
      ]
    },
    {
      "cell_type": "code",
      "metadata": {
        "id": "_c7Y1c6Qzac5",
        "colab_type": "code",
        "colab": {
          "base_uri": "https://localhost:8080/",
          "height": 289
        },
        "outputId": "40c4bff7-4ded-49b5-eec9-64fe05f7005d"
      },
      "source": [
        "#Ahora veamos los gráficos de autocorrelación y autocorrelación parcial\n",
        "sgt.plot_acf(df.returns, zero = False, lags = 40)\n",
        "plt.title(\"ACF del retorno de los precios\", size = 20)\n",
        "plt.show()"
      ],
      "execution_count": 20,
      "outputs": [
        {
          "output_type": "display_data",
          "data": {
            "image/png": "[encoded data removed]",
            "text/plain": [
              "<Figure size 432x288 with 1 Axes>"
            ]
          },
          "metadata": {
            "tags": []
          }
        }
      ]
    },
    {
      "cell_type": "code",
      "metadata": {
        "id": "2lmgum-s2L_h",
        "colab_type": "code",
        "colab": {
          "base_uri": "https://localhost:8080/",
          "height": 289
        },
        "outputId": "d355cb1b-96d2-431b-d0fc-a4f0b62882ee"
      },
      "source": [
        "sgt.plot_pacf(df.returns, lags = 40, alpha = 0.05, zero = False, method = ('ols'))\n",
        "plt.title(\"PACF para los retornos\", size = 20)\n",
        "plt.show()"
      ],
      "execution_count": 23,
      "outputs": [
        {
          "output_type": "display_data",
          "data": {
            "image/png": "[encoded data removed]",
            "text/plain": [
              "<Figure size 432x288 with 1 Axes>"
            ]
          },
          "metadata": {
            "tags": []
          }
        }
      ]
    },
    {
      "cell_type": "code",
      "metadata": {
        "id": "0a0L2CLy2dc5",
        "colab_type": "code",
        "colab": {
          "base_uri": "https://localhost:8080/",
          "height": 357
        },
        "outputId": "cb7a2096-8851-4e62-c675-245aafa199bd"
      },
      "source": [
        "#Modelo AR(1) \n",
        "model_ar_1 = ARMA(df.returns, order=(1,0))\n",
        "#Ajustamos los valores\n",
        "results_ar_1 = model_ar_1.fit()\n",
        "#Podemos observar que el primer retraso no es significativo\n",
        "print(results_ar_1.summary())\n"
      ],
      "execution_count": 34,
      "outputs": [
        {
          "output_type": "stream",
          "text": [
            "                              ARMA Model Results                              \n",
            "==============================================================================\n",
            "Dep. Variable:                returns   No. Observations:                 5020\n",
            "Model:                     ARMA(1, 0)   Log Likelihood               -7929.749\n",
            "Method:                       css-mle   S.D. of innovations              1.174\n",
            "Date:                Thu, 16 Jul 2020   AIC                          15865.497\n",
            "Time:                        04:35:30   BIC                          15885.061\n",
            "Sample:                    01-10-1994   HQIC                         15872.353\n",
            "                         - 04-05-2013                                         \n",
            "=================================================================================\n",
            "                    coef    std err          z      P>|z|      [0.025      0.975]\n",
            "---------------------------------------------------------------------------------\n",
            "const             0.0188      0.016      1.159      0.247      -0.013       0.051\n",
            "ar.L1.returns    -0.0230      0.014     -1.631      0.103      -0.051       0.005\n",
            "                                    Roots                                    \n",
            "=============================================================================\n",
            "                  Real          Imaginary           Modulus         Frequency\n",
            "-----------------------------------------------------------------------------\n",
            "AR.1          -43.4386           +0.0000j           43.4386            0.5000\n",
            "-----------------------------------------------------------------------------\n"
          ],
          "name": "stdout"
        }
      ]
    },
    {
      "cell_type": "code",
      "metadata": {
        "id": "UsqGTE8d2j4w",
        "colab_type": "code",
        "colab": {
          "base_uri": "https://localhost:8080/",
          "height": 425
        },
        "outputId": "e463d166-54cb-4f1a-cb40-2b04fc777e1a"
      },
      "source": [
        "#Modelo AR(2)\n",
        "model_ar_2 = ARMA(df.returns, order=(2,0))\n",
        "#Ajustamos los valores\n",
        "results_ar_2 = model_ar_2.fit()\n",
        "#Resumen \n",
        "print(results_ar_2.summary())\n",
        "#La prueba es significativa, además de ue el segundo retraso es significativo por el momento nos quedamos con este modelo\n",
        "print(\"\\nLLR test p-value = \" + str(LLR_test(results_ar_1, results_ar_2)))"
      ],
      "execution_count": 35,
      "outputs": [
        {
          "output_type": "stream",
          "text": [
            "                              ARMA Model Results                              \n",
            "==============================================================================\n",
            "Dep. Variable:                returns   No. Observations:                 5020\n",
            "Model:                     ARMA(2, 0)   Log Likelihood               -7923.456\n",
            "Method:                       css-mle   S.D. of innovations              1.173\n",
            "Date:                Thu, 16 Jul 2020   AIC                          15854.911\n",
            "Time:                        04:35:33   BIC                          15880.996\n",
            "Sample:                    01-10-1994   HQIC                         15864.052\n",
            "                         - 04-05-2013                                         \n",
            "=================================================================================\n",
            "                    coef    std err          z      P>|z|      [0.025      0.975]\n",
            "---------------------------------------------------------------------------------\n",
            "const             0.0188      0.015      1.220      0.222      -0.011       0.049\n",
            "ar.L1.returns    -0.0242      0.014     -1.716      0.086      -0.052       0.003\n",
            "ar.L2.returns    -0.0500      0.014     -3.550      0.000      -0.078      -0.022\n",
            "                                    Roots                                    \n",
            "=============================================================================\n",
            "                  Real          Imaginary           Modulus         Frequency\n",
            "-----------------------------------------------------------------------------\n",
            "AR.1           -0.2417           -4.4635j            4.4701           -0.2586\n",
            "AR.2           -0.2417           +4.4635j            4.4701            0.2586\n",
            "-----------------------------------------------------------------------------\n",
            "\n",
            "LLR test p-value = 0.0\n"
          ],
          "name": "stdout"
        }
      ]
    },
    {
      "cell_type": "code",
      "metadata": {
        "id": "xVRvbx1s23Sd",
        "colab_type": "code",
        "colab": {
          "base_uri": "https://localhost:8080/",
          "height": 459
        },
        "outputId": "eaa0c9f1-c8c8-44c0-ff61-e3d254d27fe4"
      },
      "source": [
        "#Modelos AR(3)\n",
        "model_ar_3 = ARMA(df.returns, order=(3,0))\n",
        "#Ajustamos los valores\n",
        "results_ar_3 = model_ar_3.fit()\n",
        "#Resumen \n",
        "print(results_ar_3.summary())\n",
        "#La prueba es significativa dado que 0.00<.05 y además el retraso 3 también es significativo, de momento nos quedamos con este modelo\n",
        "print(\"\\nLLR test p-value = \" + str(LLR_test(results_ar_2, results_ar_3)))"
      ],
      "execution_count": 36,
      "outputs": [
        {
          "output_type": "stream",
          "text": [
            "                              ARMA Model Results                              \n",
            "==============================================================================\n",
            "Dep. Variable:                returns   No. Observations:                 5020\n",
            "Model:                     ARMA(3, 0)   Log Likelihood               -7906.738\n",
            "Method:                       css-mle   S.D. of innovations              1.169\n",
            "Date:                Thu, 16 Jul 2020   AIC                          15823.477\n",
            "Time:                        04:35:46   BIC                          15856.083\n",
            "Sample:                    01-10-1994   HQIC                         15834.902\n",
            "                         - 04-05-2013                                         \n",
            "=================================================================================\n",
            "                    coef    std err          z      P>|z|      [0.025      0.975]\n",
            "---------------------------------------------------------------------------------\n",
            "const             0.0189      0.014      1.330      0.184      -0.009       0.047\n",
            "ar.L1.returns    -0.0283      0.014     -2.011      0.044      -0.056      -0.001\n",
            "ar.L2.returns    -0.0521      0.014     -3.705      0.000      -0.080      -0.025\n",
            "ar.L3.returns    -0.0815      0.014     -5.792      0.000      -0.109      -0.054\n",
            "                                    Roots                                    \n",
            "=============================================================================\n",
            "                  Real          Imaginary           Modulus         Frequency\n",
            "-----------------------------------------------------------------------------\n",
            "AR.1            0.9233           -2.0210j            2.2219           -0.1818\n",
            "AR.2            0.9233           +2.0210j            2.2219            0.1818\n",
            "AR.3           -2.4855           -0.0000j            2.4855           -0.5000\n",
            "-----------------------------------------------------------------------------\n",
            "\n",
            "LLR test p-value = 0.0\n"
          ],
          "name": "stdout"
        }
      ]
    },
    {
      "cell_type": "code",
      "metadata": {
        "id": "k4Wjslrk3MP_",
        "colab_type": "code",
        "colab": {
          "base_uri": "https://localhost:8080/",
          "height": 493
        },
        "outputId": "06f0be66-caea-40f2-fb29-65bb458d8106"
      },
      "source": [
        "#Modelo AR(4)\n",
        "model_ar_4 = ARMA(df.returns, order=(4,0))\n",
        "#Ajustamos los valores\n",
        "results_ar_4 = model_ar_4.fit()\n",
        "#Resumen \n",
        "print(results_ar_4.summary())\n",
        "#La prueba es significativa dado que 0.01<.05 y además el retraso 4 también es significativo, de momento nos quedamos con este modelo\n",
        "print(\"\\nLLR test p-value = \" + str(LLR_test(results_ar_3, results_ar_4)))"
      ],
      "execution_count": 37,
      "outputs": [
        {
          "output_type": "stream",
          "text": [
            "                              ARMA Model Results                              \n",
            "==============================================================================\n",
            "Dep. Variable:                returns   No. Observations:                 5020\n",
            "Model:                     ARMA(4, 0)   Log Likelihood               -7901.330\n",
            "Method:                       css-mle   S.D. of innovations              1.168\n",
            "Date:                Thu, 16 Jul 2020   AIC                          15814.661\n",
            "Time:                        04:36:03   BIC                          15853.788\n",
            "Sample:                    01-10-1994   HQIC                         15828.371\n",
            "                         - 04-05-2013                                         \n",
            "=================================================================================\n",
            "                    coef    std err          z      P>|z|      [0.025      0.975]\n",
            "---------------------------------------------------------------------------------\n",
            "const             0.0188      0.015      1.267      0.205      -0.010       0.048\n",
            "ar.L1.returns    -0.0245      0.014     -1.739      0.082      -0.052       0.003\n",
            "ar.L2.returns    -0.0496      0.014     -3.531      0.000      -0.077      -0.022\n",
            "ar.L3.returns    -0.0802      0.014     -5.701      0.000      -0.108      -0.053\n",
            "ar.L4.returns     0.0464      0.014      3.291      0.001       0.019       0.074\n",
            "                                    Roots                                    \n",
            "=============================================================================\n",
            "                  Real          Imaginary           Modulus         Frequency\n",
            "-----------------------------------------------------------------------------\n",
            "AR.1           -1.8888           -0.0000j            1.8888           -0.5000\n",
            "AR.2            0.3231           -1.9331j            1.9599           -0.2236\n",
            "AR.3            0.3231           +1.9331j            1.9599            0.2236\n",
            "AR.4            2.9701           -0.0000j            2.9701           -0.0000\n",
            "-----------------------------------------------------------------------------\n",
            "\n",
            "LLR test p-value = 0.001\n"
          ],
          "name": "stdout"
        }
      ]
    },
    {
      "cell_type": "code",
      "metadata": {
        "id": "2T_v0YP84EUV",
        "colab_type": "code",
        "colab": {
          "base_uri": "https://localhost:8080/",
          "height": 527
        },
        "outputId": "fcbfde60-81d7-456d-c9e7-86922e073c63"
      },
      "source": [
        "#Modelo AR(5)\n",
        "model_ar_5 = ARMA(df.returns, order=(5,0))\n",
        "#Ajustamos los valores\n",
        "results_ar_5 = model_ar_5.fit()\n",
        "#Resumen \n",
        "print(results_ar_5.summary())\n",
        "#La prueba es significativa dado que 0.00<0.05 además el retraso 5 es significativo, nos quedamos con este modelo \n",
        "print(\"\\nLLR test p-value = \" + str(LLR_test(results_ar_4, results_ar_5)))"
      ],
      "execution_count": 38,
      "outputs": [
        {
          "output_type": "stream",
          "text": [
            "                              ARMA Model Results                              \n",
            "==============================================================================\n",
            "Dep. Variable:                returns   No. Observations:                 5020\n",
            "Model:                     ARMA(5, 0)   Log Likelihood               -7892.390\n",
            "Method:                       css-mle   S.D. of innovations              1.166\n",
            "Date:                Thu, 16 Jul 2020   AIC                          15798.779\n",
            "Time:                        04:36:15   BIC                          15844.428\n",
            "Sample:                    01-10-1994   HQIC                         15814.775\n",
            "                         - 04-05-2013                                         \n",
            "=================================================================================\n",
            "                    coef    std err          z      P>|z|      [0.025      0.975]\n",
            "---------------------------------------------------------------------------------\n",
            "const             0.0189      0.014      1.348      0.178      -0.009       0.046\n",
            "ar.L1.returns    -0.0217      0.014     -1.544      0.123      -0.049       0.006\n",
            "ar.L2.returns    -0.0544      0.014     -3.865      0.000      -0.082      -0.027\n",
            "ar.L3.returns    -0.0831      0.014     -5.914      0.000      -0.111      -0.056\n",
            "ar.L4.returns     0.0449      0.014      3.190      0.001       0.017       0.073\n",
            "ar.L5.returns    -0.0596      0.014     -4.232      0.000      -0.087      -0.032\n",
            "                                    Roots                                    \n",
            "=============================================================================\n",
            "                  Real          Imaginary           Modulus         Frequency\n",
            "-----------------------------------------------------------------------------\n",
            "AR.1           -1.5481           -0.0000j            1.5481           -0.5000\n",
            "AR.2           -0.2860           -1.7252j            1.7487           -0.2761\n",
            "AR.3           -0.2860           +1.7252j            1.7487            0.2761\n",
            "AR.4            1.4366           -1.2157j            1.8819           -0.1118\n",
            "AR.5            1.4366           +1.2157j            1.8819            0.1118\n",
            "-----------------------------------------------------------------------------\n",
            "\n",
            "LLR test p-value = 0.0\n"
          ],
          "name": "stdout"
        }
      ]
    },
    {
      "cell_type": "code",
      "metadata": {
        "id": "zqR7Tzri4cv5",
        "colab_type": "code",
        "colab": {
          "base_uri": "https://localhost:8080/",
          "height": 561
        },
        "outputId": "e438c1fc-0b43-4943-9d21-534c1225a67e"
      },
      "source": [
        "#Modelos AR(6)\n",
        "model_ar_6 = ARMA(df.returns, order=(6,0))\n",
        "#Ajustamos los valores\n",
        "results_ar_6 = model_ar_6.fit()\n",
        "#Resumen \n",
        "print(results_ar_6.summary())\n",
        "#La prueba es significativa 0.001<0.05, además de que el retraso 6 es significativo\n",
        "print(\"\\nLLR test p-value = \" + str(LLR_test(results_ar_5, results_ar_6)))"
      ],
      "execution_count": 39,
      "outputs": [
        {
          "output_type": "stream",
          "text": [
            "                              ARMA Model Results                              \n",
            "==============================================================================\n",
            "Dep. Variable:                returns   No. Observations:                 5020\n",
            "Model:                     ARMA(6, 0)   Log Likelihood               -7886.945\n",
            "Method:                       css-mle   S.D. of innovations              1.164\n",
            "Date:                Thu, 16 Jul 2020   AIC                          15789.890\n",
            "Time:                        04:36:26   BIC                          15842.059\n",
            "Sample:                    01-10-1994   HQIC                         15808.170\n",
            "                         - 04-05-2013                                         \n",
            "=================================================================================\n",
            "                    coef    std err          z      P>|z|      [0.025      0.975]\n",
            "---------------------------------------------------------------------------------\n",
            "const             0.0189      0.013      1.414      0.157      -0.007       0.045\n",
            "ar.L1.returns    -0.0245      0.014     -1.740      0.082      -0.052       0.003\n",
            "ar.L2.returns    -0.0523      0.014     -3.716      0.000      -0.080      -0.025\n",
            "ar.L3.returns    -0.0870      0.014     -6.174      0.000      -0.115      -0.059\n",
            "ar.L4.returns     0.0424      0.014      3.009      0.003       0.015       0.070\n",
            "ar.L5.returns    -0.0607      0.014     -4.309      0.000      -0.088      -0.033\n",
            "ar.L6.returns    -0.0466      0.014     -3.302      0.001      -0.074      -0.019\n",
            "                                    Roots                                    \n",
            "=============================================================================\n",
            "                  Real          Imaginary           Modulus         Frequency\n",
            "-----------------------------------------------------------------------------\n",
            "AR.1            1.2869           -0.9022j            1.5716           -0.0973\n",
            "AR.2            1.2869           +0.9022j            1.5716            0.0973\n",
            "AR.3           -0.0727           -1.5282j            1.5299           -0.2576\n",
            "AR.4           -0.0727           +1.5282j            1.5299            0.2576\n",
            "AR.5           -1.8659           -0.4836j            1.9275           -0.4596\n",
            "AR.6           -1.8659           +0.4836j            1.9275            0.4596\n",
            "-----------------------------------------------------------------------------\n",
            "\n",
            "LLR test p-value = 0.001\n"
          ],
          "name": "stdout"
        }
      ]
    },
    {
      "cell_type": "code",
      "metadata": {
        "id": "P72JQUsA5MET",
        "colab_type": "code",
        "colab": {
          "base_uri": "https://localhost:8080/",
          "height": 595
        },
        "outputId": "b2fb4198-c6da-4772-be7f-391984fc3f28"
      },
      "source": [
        "#Modelo AR(7)\n",
        "model_ar_7 = ARMA(df.returns, order=(7,0))\n",
        "#Ajustamos los valores\n",
        "results_ar_7 = model_ar_7.fit()\n",
        "#Resumen \n",
        "print(results_ar_7.summary())\n",
        "#La prueba no es significativa 0.44>0.05y el retraso 7 no es significativo \n",
        "print(\"\\nLLR test p-value = \" + str(LLR_test(results_ar_6, results_ar_7)))"
      ],
      "execution_count": 40,
      "outputs": [
        {
          "output_type": "stream",
          "text": [
            "                              ARMA Model Results                              \n",
            "==============================================================================\n",
            "Dep. Variable:                returns   No. Observations:                 5020\n",
            "Model:                     ARMA(7, 0)   Log Likelihood               -7886.647\n",
            "Method:                       css-mle   S.D. of innovations              1.164\n",
            "Date:                Thu, 16 Jul 2020   AIC                          15791.294\n",
            "Time:                        04:36:39   BIC                          15849.985\n",
            "Sample:                    01-10-1994   HQIC                         15811.860\n",
            "                         - 04-05-2013                                         \n",
            "=================================================================================\n",
            "                    coef    std err          z      P>|z|      [0.025      0.975]\n",
            "---------------------------------------------------------------------------------\n",
            "const             0.0189      0.014      1.399      0.162      -0.008       0.045\n",
            "ar.L1.returns    -0.0240      0.014     -1.702      0.089      -0.052       0.004\n",
            "ar.L2.returns    -0.0517      0.014     -3.663      0.000      -0.079      -0.024\n",
            "ar.L3.returns    -0.0874      0.014     -6.202      0.000      -0.115      -0.060\n",
            "ar.L4.returns     0.0433      0.014      3.064      0.002       0.016       0.071\n",
            "ar.L5.returns    -0.0601      0.014     -4.263      0.000      -0.088      -0.032\n",
            "ar.L6.returns    -0.0463      0.014     -3.282      0.001      -0.074      -0.019\n",
            "ar.L7.returns     0.0109      0.014      0.772      0.440      -0.017       0.039\n",
            "                                    Roots                                    \n",
            "=============================================================================\n",
            "                  Real          Imaginary           Modulus         Frequency\n",
            "-----------------------------------------------------------------------------\n",
            "AR.1           -1.6490           -0.5384j            1.7347           -0.4498\n",
            "AR.2           -1.6490           +0.5384j            1.7347            0.4498\n",
            "AR.3           -0.1189           -1.4954j            1.5001           -0.2626\n",
            "AR.4           -0.1189           +1.4954j            1.5001            0.2626\n",
            "AR.5            1.2790           -0.9786j            1.6105           -0.1039\n",
            "AR.6            1.2790           +0.9786j            1.6105            0.1039\n",
            "AR.7            5.2270           -0.0000j            5.2270           -0.0000\n",
            "-----------------------------------------------------------------------------\n",
            "\n",
            "LLR test p-value = 0.44\n"
          ],
          "name": "stdout"
        }
      ]
    },
    {
      "cell_type": "code",
      "metadata": {
        "id": "kd3MJBE05437",
        "colab_type": "code",
        "colab": {
          "base_uri": "https://localhost:8080/",
          "height": 629
        },
        "outputId": "c9b7a127-7979-44f0-e640-db51ebaf1870"
      },
      "source": [
        "#Modelo AR(8)\n",
        "model_ar_8 = ARMA(df.returns, order=(8,0))\n",
        "#Ajustamos los valores\n",
        "results_ar_8 = model_ar_8.fit()\n",
        "#Resumen \n",
        "print(results_ar_8.summary())\n",
        "#La prueba no es significativa 0.148>0.05 y el retraso 8 tampoco es significativo\n",
        "print(\"\\nLLR test p-value = \" + str(LLR_test(results_ar_7, results_ar_8)))"
      ],
      "execution_count": 41,
      "outputs": [
        {
          "output_type": "stream",
          "text": [
            "                              ARMA Model Results                              \n",
            "==============================================================================\n",
            "Dep. Variable:                returns   No. Observations:                 5020\n",
            "Model:                     ARMA(8, 0)   Log Likelihood               -7885.599\n",
            "Method:                       css-mle   S.D. of innovations              1.164\n",
            "Date:                Thu, 16 Jul 2020   AIC                          15791.199\n",
            "Time:                        04:36:54   BIC                          15856.410\n",
            "Sample:                    01-10-1994   HQIC                         15814.050\n",
            "                         - 04-05-2013                                         \n",
            "=================================================================================\n",
            "                    coef    std err          z      P>|z|      [0.025      0.975]\n",
            "---------------------------------------------------------------------------------\n",
            "const             0.0189      0.014      1.370      0.171      -0.008       0.046\n",
            "ar.L1.returns    -0.0242      0.014     -1.718      0.086      -0.052       0.003\n",
            "ar.L2.returns    -0.0507      0.014     -3.593      0.000      -0.078      -0.023\n",
            "ar.L3.returns    -0.0862      0.014     -6.105      0.000      -0.114      -0.059\n",
            "ar.L4.returns     0.0424      0.014      2.999      0.003       0.015       0.070\n",
            "ar.L5.returns    -0.0583      0.014     -4.122      0.000      -0.086      -0.031\n",
            "ar.L6.returns    -0.0452      0.014     -3.203      0.001      -0.073      -0.018\n",
            "ar.L7.returns     0.0114      0.014      0.807      0.420      -0.016       0.039\n",
            "ar.L8.returns     0.0204      0.014      1.448      0.148      -0.007       0.048\n",
            "                                    Roots                                    \n",
            "=============================================================================\n",
            "                  Real          Imaginary           Modulus         Frequency\n",
            "-----------------------------------------------------------------------------\n",
            "AR.1            1.1098           -1.0020j            1.4952           -0.1169\n",
            "AR.2            1.1098           +1.0020j            1.4952            0.1169\n",
            "AR.3            1.9402           -0.0000j            1.9402           -0.0000\n",
            "AR.4           -0.0601           -1.4119j            1.4131           -0.2568\n",
            "AR.5           -0.0601           +1.4119j            1.4131            0.2568\n",
            "AR.6           -1.4935           -1.1306j            1.8731           -0.3969\n",
            "AR.7           -1.4935           +1.1306j            1.8731            0.3969\n",
            "AR.8           -1.6104           -0.0000j            1.6104           -0.5000\n",
            "-----------------------------------------------------------------------------\n",
            "\n",
            "LLR test p-value = 0.148\n"
          ],
          "name": "stdout"
        }
      ]
    },
    {
      "cell_type": "code",
      "metadata": {
        "id": "P6RHUBB46Om6",
        "colab_type": "code",
        "colab": {
          "base_uri": "https://localhost:8080/",
          "height": 34
        },
        "outputId": "f91a05ca-017c-45df-c623-47702079bf86"
      },
      "source": [
        "#Para este punto los modelos ganadores son AR(2) por ser el modelo más simple y AR(6) por ser el modelo con mejores resultados\n",
        "#haremos una prueba de log verosimilitudes para ver con cuál quedarnos\n",
        "#La prueba es significativa por lo que rechazamos la hipotesis nula y nos quedamos con el modelo AR(6) dado que son significativamente diferentes\n",
        "print(\"LLR test: \" + str(LLR_test(results_ar_2, results_ar_6, DF = 4)))\n"
      ],
      "execution_count": 42,
      "outputs": [
        {
          "output_type": "stream",
          "text": [
            "LLR test: 0.0\n"
          ],
          "name": "stdout"
        }
      ]
    },
    {
      "cell_type": "code",
      "metadata": {
        "id": "MC2QVmRW7GGf",
        "colab_type": "code",
        "colab": {}
      },
      "source": [
        "#Extraemos los residuos del modelo con el método .resid\n",
        "df['res_returns'] = results_ar_6.resid"
      ],
      "execution_count": 66,
      "outputs": []
    },
    {
      "cell_type": "code",
      "metadata": {
        "id": "DnzN0Rh78Vop",
        "colab_type": "code",
        "colab": {
          "base_uri": "https://localhost:8080/",
          "height": 235
        },
        "outputId": "a6b26e8f-f043-43f0-9cca-6a39e6295315"
      },
      "source": [
        "df.head()"
      ],
      "execution_count": 67,
      "outputs": [
        {
          "output_type": "execute_result",
          "data": {
            "text/html": [
              "<div>\n",
              "<style scoped>\n",
              "    .dataframe tbody tr th:only-of-type {\n",
              "        vertical-align: middle;\n",
              "    }\n",
              "\n",
              "    .dataframe tbody tr th {\n",
              "        vertical-align: top;\n",
              "    }\n",
              "\n",
              "    .dataframe thead th {\n",
              "        text-align: right;\n",
              "    }\n",
              "</style>\n",
              "<table border=\"1\" class=\"dataframe\">\n",
              "  <thead>\n",
              "    <tr style=\"text-align: right;\">\n",
              "      <th></th>\n",
              "      <th>market_value</th>\n",
              "      <th>returns</th>\n",
              "      <th>res_returns</th>\n",
              "    </tr>\n",
              "    <tr>\n",
              "      <th>date</th>\n",
              "      <th></th>\n",
              "      <th></th>\n",
              "      <th></th>\n",
              "    </tr>\n",
              "  </thead>\n",
              "  <tbody>\n",
              "    <tr>\n",
              "      <th>1994-01-10</th>\n",
              "      <td>3440.58</td>\n",
              "      <td>-0.156704</td>\n",
              "      <td>-0.175623</td>\n",
              "    </tr>\n",
              "    <tr>\n",
              "      <th>1994-01-11</th>\n",
              "      <td>3413.77</td>\n",
              "      <td>-0.779229</td>\n",
              "      <td>-0.802198</td>\n",
              "    </tr>\n",
              "    <tr>\n",
              "      <th>1994-01-12</th>\n",
              "      <td>3372.02</td>\n",
              "      <td>-1.222988</td>\n",
              "      <td>-1.270028</td>\n",
              "    </tr>\n",
              "    <tr>\n",
              "      <th>1994-01-13</th>\n",
              "      <td>3360.01</td>\n",
              "      <td>-0.356166</td>\n",
              "      <td>-0.466065</td>\n",
              "    </tr>\n",
              "    <tr>\n",
              "      <th>1994-01-14</th>\n",
              "      <td>3400.56</td>\n",
              "      <td>1.206842</td>\n",
              "      <td>1.061277</td>\n",
              "    </tr>\n",
              "  </tbody>\n",
              "</table>\n",
              "</div>"
            ],
            "text/plain": [
              "            market_value   returns  res_returns\n",
              "date                                           \n",
              "1994-01-10       3440.58 -0.156704    -0.175623\n",
              "1994-01-11       3413.77 -0.779229    -0.802198\n",
              "1994-01-12       3372.02 -1.222988    -1.270028\n",
              "1994-01-13       3360.01 -0.356166    -0.466065\n",
              "1994-01-14       3400.56  1.206842     1.061277"
            ]
          },
          "metadata": {
            "tags": []
          },
          "execution_count": 67
        }
      ]
    },
    {
      "cell_type": "code",
      "metadata": {
        "id": "m9V1eqxQ7r4_",
        "colab_type": "code",
        "colab": {
          "base_uri": "https://localhost:8080/",
          "height": 153
        },
        "outputId": "711743c4-920b-4f6c-f7bf-80988582b35c"
      },
      "source": [
        "#Si el modelo AR(6) es el mejor predictor, entonces los residuos deben distribuirse como ruido blanco es decir media y varianza constantes\n",
        "#La prueba de Dicky Fuller nos ayudara a verificar que los residuos sean estacionarios\n",
        "#Aceptamos que son estacionarios\n",
        "sts.adfuller(df.res_returns)"
      ],
      "execution_count": 68,
      "outputs": [
        {
          "output_type": "execute_result",
          "data": {
            "text/plain": [
              "(-70.78380171410286,\n",
              " 0.0,\n",
              " 0,\n",
              " 5019,\n",
              " {'1%': -3.4316535759402753,\n",
              "  '10%': -2.567076626752987,\n",
              "  '5%': -2.8621160400844468},\n",
              " 15692.570834395005)"
            ]
          },
          "metadata": {
            "tags": []
          },
          "execution_count": 68
        }
      ]
    },
    {
      "cell_type": "code",
      "metadata": {
        "id": "BEuxZj3P78c8",
        "colab_type": "code",
        "colab": {
          "base_uri": "https://localhost:8080/",
          "height": 293
        },
        "outputId": "7b1695ec-72e0-42f9-8d44-1e565c04e2ff"
      },
      "source": [
        "#Además de que para el ruido blanco no debemos tener autocorrelación, en este caso en los residuos\n",
        "#La mayoría cae dentro del sombreado azul por lo cuál no son significativos es decir no esta autocorrelacionados\n",
        "#Al observar que algunos retrasos son significativos el gráfico sugiere que probablemente hay un mejor predictor\n",
        "sgt.plot_acf(df.res_returns, zero = False, lags = 40)\n",
        "plt.title(\"ACF de los residuos de los retornos\",size=24)\n",
        "plt.show()"
      ],
      "execution_count": 69,
      "outputs": [
        {
          "output_type": "display_data",
          "data": {
            "image/png": "[encoded data removed]",
            "text/plain": [
              "<Figure size 432x288 with 1 Axes>"
            ]
          },
          "metadata": {
            "tags": []
          }
        }
      ]
    },
    {
      "cell_type": "code",
      "metadata": {
        "id": "Hd40aME38F6U",
        "colab_type": "code",
        "colab": {
          "base_uri": "https://localhost:8080/",
          "height": 364
        },
        "outputId": "1e535ba1-e4cf-451e-a956-f149c7faaba1"
      },
      "source": [
        "#Veamos un gráfico de los residuos \n",
        "#La gráfica se asemeja a ruido blanco es decir no hay ningún patrón\n",
        "df.res_returns[1:].plot(figsize=(20,5))\n",
        "plt.title(\"Residuos de los retornos\",size=24)\n",
        "plt.show()"
      ],
      "execution_count": 49,
      "outputs": [
        {
          "output_type": "display_data",
          "data": {
            "image/png": "[encoded data removed]",
            "text/plain": [
              "<Figure size 1440x360 with 1 Axes>"
            ]
          },
          "metadata": {
            "tags": []
          }
        }
      ]
    },
    {
      "cell_type": "code",
      "metadata": {
        "id": "5oGbzptP8O1C",
        "colab_type": "code",
        "colab": {}
      },
      "source": [
        ""
      ],
      "execution_count": null,
      "outputs": []
    }
  ]
}