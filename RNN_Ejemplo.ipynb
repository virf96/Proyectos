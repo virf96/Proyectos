{
  "nbformat": 4,
  "nbformat_minor": 0,
  "metadata": {
    "kernelspec": {
      "display_name": "Python 3",
      "language": "python",
      "name": "python3"
    },
    "language_info": {
      "codemirror_mode": {
        "name": "ipython",
        "version": 3
      },
      "file_extension": ".py",
      "mimetype": "text/x-python",
      "name": "python",
      "nbconvert_exporter": "python",
      "pygments_lexer": "ipython3",
      "version": "3.6.6"
    },
    "colab": {
      "name": "RNN_Ejemplo.ipynb",
      "provenance": [],
      "toc_visible": true,
      "include_colab_link": true
    }
  },
  "cells": [
    {
      "cell_type": "markdown",
      "metadata": {
        "id": "view-in-github",
        "colab_type": "text"
      },
      "source": [
        "<a href=\"https://colab.research.google.com/github/virf96/Proyectos/blob/master/RNN_Ejemplo.ipynb\" target=\"_parent\"><img src=\"https://colab.research.google.com/assets/colab-badge.svg\" alt=\"Open In Colab\"/></a>"
      ]
    },
    {
      "cell_type": "markdown",
      "metadata": {
        "id": "S_gzVfzALZz9"
      },
      "source": [
        "# LSTM (Long Short Time Memory)\n",
        "\n",
        "Estas Redes Neuronales resuelven el problema de la pérdida de memoria en series de tiempo muy largas, es decir, memoriza a largo plazo.\n",
        "\n",
        "**¿Como funciona una Neurona LSTM?**\n",
        "\n",
        "Recordemos el funcionamiento de una RNN.\n",
        "\n",
        "Los datos pasados funcinaran como input para la salida del $x_{t+1}$ proyectado.\n",
        "\n",
        "<img src=\"https://torres.ai/wp-content/uploads/2019/09/redes-neuronales-recurrentes-deep-learning-jordi-torres-1024x535.png\">\n",
        "\n",
        "En las Redes LSTM, tendremos:\n",
        "\n",
        "**1.- FORGET GATE LAYER (Capa de puerta del olvido)**\n",
        "Es la primera parte en donde se decide la información que se va a deshechar.\n",
        "\n",
        "Aplicamos una transformación lineal a:\n",
        "\n",
        "$x_{t}$ **(Input:Tiempo $t$ de la serie)** \n",
        " \n",
        "$h_{t-1}$ **(Output: salida de la capa oculta $h_{t-1}$ )**\n",
        "\n",
        "**Tranformación lineal** \n",
        "\n",
        "$f_{t} = \\sigma(W_{f} \\cdot [h_{t-1},x_{t}]+b_{f})$\n",
        "\n",
        "$\\bullet$ $\\sigma$ = Función de activación sigmoide\n",
        "\n",
        "$\\bullet$ $W_{f}$ = Pesos asignados a la función\n",
        "\n",
        "$\\bullet$ $b_{f}$ = Sesgo\n",
        "\n",
        "**Nota:** Transformación con soporte de la función entre 0 y 1.\n",
        "\n",
        "El 1 representa que se mantiene toda la información y el 0 es deshechar toda a infromación. En este paso se determina que se olvida y que no.\n",
        "\n",
        "**2.- Input Gate Layer (Capa de puerta de entrada)**\n",
        "\n",
        "$i_{t}$ = $\\sigma(W_{f} \\cdot [h_{t-1},x_{t}]+b_{f})$\n",
        "\n",
        "**Nota:** En este paso se vuelve a aplicar una transformación sigmoide pero ahora a la tranformación lineal.$\n",
        "\n",
        "**3.- Creación de nuevo candidato de valores a partir de $C_{t-1}$**\n",
        "\n",
        "$\\bar{C_{t}}$ = $\\tanh(W_{c} \\cdot [h_{t-1},x_{t}]+b_{c})$\n",
        "\n",
        "**Nota:** En este paso se pasa la tranformación lineal por una tranformación $\\tanh$ para crear/almacenar un vector que se llamara \"nuevo candidato\" que son los valores del estado de celda.\n",
        "\n",
        "**4.-Actualización de estado de celda $C_{t}$**\n",
        "\n",
        "$C_{t}$ = $f_{t} \\cdot C_{t-1} + i_{t} \\cdot \\bar{C_{t}}$\n",
        "\n",
        "**Nota:** El antiguo estado de celda se multiplica por la transformación lineal para que en caso de ser 0, se olvide la información y en caso de ser 1 se mantenga.\n",
        "\n",
        "Después, lo agregamos a la transformación sigmoide aplicada a la tranformación lineal que a su vez estará multiplicada por el vector de \"Nuevo candidato\".\n",
        "\n",
        "Por lo tanto el resultado serán los nuevos valores candidatos que estarán escalados por cuanto decidimos actualizar cada valor sumado por el olvido o el mantenimiento de los valores de $C_{t-1}$.\n",
        "\n",
        "\n",
        "**5.-Obtención de  $h_{t}$**\n",
        "\n",
        "$O_{t}$ = $\\sigma(W_{o}[h_{t-1},x_{t}]+b_{o})$\n",
        "\n",
        "$h_{t}$ = $o_{t} \\cdot \\tanh(C_{t})$\n",
        "\n",
        "**Nota:** Tomamos nuevamente la información anterior $h_{t-1}$ y $x_{t}$, les hacemos una trasformación sigmoide y con esto decidimos que parte del estado de celda vamos a generar como output y luego colocamos el estado de celda que obtuvimos en el paso anterior $C_{t}$ y le aplicamos una transformación $\\tanh$ para que los valores esten entre -1 y 1 para después multiplicarlo por $O_{t}$.\n",
        "\n"
      ]
    },
    {
      "cell_type": "code",
      "metadata": {
        "id": "KjQEWvRm8nsp"
      },
      "source": [
        "import pandas as pd\n",
        "import numpy as np\n",
        "import matplotlib.pyplot as plt"
      ],
      "execution_count": 1,
      "outputs": []
    },
    {
      "cell_type": "markdown",
      "metadata": {
        "id": "nxoBVpgw8nst"
      },
      "source": [
        "## Datos\n",
        "https://fred.stlouisfed.org/series/S4248SM144NCEN"
      ]
    },
    {
      "cell_type": "code",
      "metadata": {
        "id": "5fnujEjalTRk",
        "outputId": "b35e5367-35f3-4c80-f3c3-79da98e04c67",
        "colab": {
          "base_uri": "https://localhost:8080/",
          "height": 34
        }
      },
      "source": [
        "from google.colab import drive\n",
        "drive.mount('/content/drive')"
      ],
      "execution_count": 2,
      "outputs": [
        {
          "output_type": "stream",
          "text": [
            "Mounted at /content/drive\n"
          ],
          "name": "stdout"
        }
      ]
    },
    {
      "cell_type": "code",
      "metadata": {
        "id": "RbQi21Yx8nsu"
      },
      "source": [
        "df = pd.read_csv('/content/drive/My Drive/datasets/AlcoholSales.csv',index_col='DATE',parse_dates=True)\n",
        "#Frecuencua mensual\n",
        "df.index.freq = 'MS'\n",
        "df.columns = ['Sales']"
      ],
      "execution_count": 3,
      "outputs": []
    },
    {
      "cell_type": "code",
      "metadata": {
        "id": "p0mKKzER8nsx",
        "outputId": "7a4b5834-f6ec-4370-bb1b-aec5f1a7054f",
        "colab": {
          "base_uri": "https://localhost:8080/",
          "height": 235
        }
      },
      "source": [
        "df.head()"
      ],
      "execution_count": 4,
      "outputs": [
        {
          "output_type": "execute_result",
          "data": {
            "text/html": [
              "<div>\n",
              "<style scoped>\n",
              "    .dataframe tbody tr th:only-of-type {\n",
              "        vertical-align: middle;\n",
              "    }\n",
              "\n",
              "    .dataframe tbody tr th {\n",
              "        vertical-align: top;\n",
              "    }\n",
              "\n",
              "    .dataframe thead th {\n",
              "        text-align: right;\n",
              "    }\n",
              "</style>\n",
              "<table border=\"1\" class=\"dataframe\">\n",
              "  <thead>\n",
              "    <tr style=\"text-align: right;\">\n",
              "      <th></th>\n",
              "      <th>Sales</th>\n",
              "    </tr>\n",
              "    <tr>\n",
              "      <th>DATE</th>\n",
              "      <th></th>\n",
              "    </tr>\n",
              "  </thead>\n",
              "  <tbody>\n",
              "    <tr>\n",
              "      <th>1992-01-01</th>\n",
              "      <td>3459</td>\n",
              "    </tr>\n",
              "    <tr>\n",
              "      <th>1992-02-01</th>\n",
              "      <td>3458</td>\n",
              "    </tr>\n",
              "    <tr>\n",
              "      <th>1992-03-01</th>\n",
              "      <td>4002</td>\n",
              "    </tr>\n",
              "    <tr>\n",
              "      <th>1992-04-01</th>\n",
              "      <td>4564</td>\n",
              "    </tr>\n",
              "    <tr>\n",
              "      <th>1992-05-01</th>\n",
              "      <td>4221</td>\n",
              "    </tr>\n",
              "  </tbody>\n",
              "</table>\n",
              "</div>"
            ],
            "text/plain": [
              "            Sales\n",
              "DATE             \n",
              "1992-01-01   3459\n",
              "1992-02-01   3458\n",
              "1992-03-01   4002\n",
              "1992-04-01   4564\n",
              "1992-05-01   4221"
            ]
          },
          "metadata": {
            "tags": []
          },
          "execution_count": 4
        }
      ]
    },
    {
      "cell_type": "code",
      "metadata": {
        "id": "gSQFcz7S8ns3",
        "outputId": "a662002e-d84a-4355-d16c-2803412eb3b2",
        "colab": {
          "base_uri": "https://localhost:8080/",
          "height": 514
        }
      },
      "source": [
        "df.plot(figsize=(12,8))"
      ],
      "execution_count": 5,
      "outputs": [
        {
          "output_type": "execute_result",
          "data": {
            "text/plain": [
              "<matplotlib.axes._subplots.AxesSubplot at 0x7f4f0a1c0c50>"
            ]
          },
          "metadata": {
            "tags": []
          },
          "execution_count": 5
        },
        {
          "output_type": "display_data",
          "data": {
            "image/png": "[encoded data removed]",
            "text/plain": [
              "<Figure size 864x576 with 1 Axes>"
            ]
          },
          "metadata": {
            "tags": [],
            "needs_background": "light"
          }
        }
      ]
    },
    {
      "cell_type": "code",
      "metadata": {
        "id": "8I1nBbM98ns6",
        "outputId": "5fffc9ab-d3ca-448b-d6cd-84ce2748fb9a",
        "colab": {
          "base_uri": "https://localhost:8080/",
          "height": 71
        }
      },
      "source": [
        "from statsmodels.tsa.seasonal import seasonal_decompose"
      ],
      "execution_count": 6,
      "outputs": [
        {
          "output_type": "stream",
          "text": [
            "/usr/local/lib/python3.6/dist-packages/statsmodels/tools/_testing.py:19: FutureWarning: pandas.util.testing is deprecated. Use the functions in the public API at pandas.testing instead.\n",
            "  import pandas.util.testing as tm\n"
          ],
          "name": "stderr"
        }
      ]
    },
    {
      "cell_type": "code",
      "metadata": {
        "id": "UXpdv3pQ8ns8",
        "outputId": "b6856647-d408-48ec-a63a-deef7f2a2696",
        "colab": {
          "base_uri": "https://localhost:8080/",
          "height": 188
        }
      },
      "source": [
        "results = seasonal_decompose(df['Sales'])\n",
        "results.observed.plot(figsize=(12,2))"
      ],
      "execution_count": 7,
      "outputs": [
        {
          "output_type": "execute_result",
          "data": {
            "text/plain": [
              "<matplotlib.axes._subplots.AxesSubplot at 0x7f4efdf36b00>"
            ]
          },
          "metadata": {
            "tags": []
          },
          "execution_count": 7
        },
        {
          "output_type": "display_data",
          "data": {
            "image/png": "[encoded data removed]",
            "text/plain": [
              "<Figure size 864x144 with 1 Axes>"
            ]
          },
          "metadata": {
            "tags": [],
            "needs_background": "light"
          }
        }
      ]
    },
    {
      "cell_type": "code",
      "metadata": {
        "id": "cxQMO7RH8ns_",
        "outputId": "87a3a2c9-6ede-4848-8384-15481853daa3",
        "colab": {
          "base_uri": "https://localhost:8080/",
          "height": 188
        }
      },
      "source": [
        "results.trend.plot(figsize=(12,2))"
      ],
      "execution_count": 8,
      "outputs": [
        {
          "output_type": "execute_result",
          "data": {
            "text/plain": [
              "<matplotlib.axes._subplots.AxesSubplot at 0x7f4efd90c5c0>"
            ]
          },
          "metadata": {
            "tags": []
          },
          "execution_count": 8
        },
        {
          "output_type": "display_data",
          "data": {
            "image/png": "[encoded data removed]",
            "text/plain": [
              "<Figure size 864x144 with 1 Axes>"
            ]
          },
          "metadata": {
            "tags": [],
            "needs_background": "light"
          }
        }
      ]
    },
    {
      "cell_type": "code",
      "metadata": {
        "id": "hj9S1lQW8ntC",
        "outputId": "1f723d1c-fe32-4c94-c4da-ad8d9b63d5fa",
        "colab": {
          "base_uri": "https://localhost:8080/",
          "height": 188
        }
      },
      "source": [
        "results.seasonal.plot(figsize=(12,2))"
      ],
      "execution_count": 9,
      "outputs": [
        {
          "output_type": "execute_result",
          "data": {
            "text/plain": [
              "<matplotlib.axes._subplots.AxesSubplot at 0x7f4efd898a58>"
            ]
          },
          "metadata": {
            "tags": []
          },
          "execution_count": 9
        },
        {
          "output_type": "display_data",
          "data": {
            "image/png": "[encoded data removed]",
            "text/plain": [
              "<Figure size 864x144 with 1 Axes>"
            ]
          },
          "metadata": {
            "tags": [],
            "needs_background": "light"
          }
        }
      ]
    },
    {
      "cell_type": "code",
      "metadata": {
        "id": "KkzQdJ_V8ntF",
        "outputId": "317b94db-6a48-469c-88bf-47bef88f7c91",
        "colab": {
          "base_uri": "https://localhost:8080/",
          "height": 188
        }
      },
      "source": [
        "results.resid.plot(figsize=(12,2))"
      ],
      "execution_count": 10,
      "outputs": [
        {
          "output_type": "execute_result",
          "data": {
            "text/plain": [
              "<matplotlib.axes._subplots.AxesSubplot at 0x7f4efd826588>"
            ]
          },
          "metadata": {
            "tags": []
          },
          "execution_count": 10
        },
        {
          "output_type": "display_data",
          "data": {
            "image/png": "[encoded data removed]",
            "text/plain": [
              "<Figure size 864x144 with 1 Axes>"
            ]
          },
          "metadata": {
            "tags": [],
            "needs_background": "light"
          }
        }
      ]
    },
    {
      "cell_type": "markdown",
      "metadata": {
        "id": "njDd-fmQ8ntI"
      },
      "source": [
        "## Train Test Split"
      ]
    },
    {
      "cell_type": "code",
      "metadata": {
        "id": "SNWGu6LP8ntI",
        "outputId": "b221cc55-af98-4b1e-f05c-0edd78509a4a",
        "colab": {
          "base_uri": "https://localhost:8080/",
          "height": 34
        }
      },
      "source": [
        "len(df)"
      ],
      "execution_count": 11,
      "outputs": [
        {
          "output_type": "execute_result",
          "data": {
            "text/plain": [
              "343"
            ]
          },
          "metadata": {
            "tags": []
          },
          "execution_count": 11
        }
      ]
    },
    {
      "cell_type": "code",
      "metadata": {
        "id": "YMI47WcG8ntL",
        "outputId": "e32b208b-bd69-49b6-b8c9-c2bce75d70bf",
        "colab": {
          "base_uri": "https://localhost:8080/",
          "height": 34
        }
      },
      "source": [
        "len(df)-12 "
      ],
      "execution_count": 12,
      "outputs": [
        {
          "output_type": "execute_result",
          "data": {
            "text/plain": [
              "331"
            ]
          },
          "metadata": {
            "tags": []
          },
          "execution_count": 12
        }
      ]
    },
    {
      "cell_type": "markdown",
      "metadata": {
        "id": "8TXWweRHnZyd"
      },
      "source": [
        "### Recordemos que como e suna serie temporal no podemos partir el dato aleatoriamente, dado que si importa el orden cronologico."
      ]
    },
    {
      "cell_type": "code",
      "metadata": {
        "id": "MuUo0Lki8ntO"
      },
      "source": [
        "train = df.iloc[:len(df)-12]\n",
        "test = df.iloc[len(df)-12:]"
      ],
      "execution_count": 13,
      "outputs": []
    },
    {
      "cell_type": "code",
      "metadata": {
        "id": "Eddn79fO8ntS",
        "outputId": "b10009da-1a2c-491c-b3e3-957d57f7fcad",
        "colab": {
          "base_uri": "https://localhost:8080/",
          "height": 34
        }
      },
      "source": [
        "len(test)"
      ],
      "execution_count": 14,
      "outputs": [
        {
          "output_type": "execute_result",
          "data": {
            "text/plain": [
              "12"
            ]
          },
          "metadata": {
            "tags": []
          },
          "execution_count": 14
        }
      ]
    },
    {
      "cell_type": "markdown",
      "metadata": {
        "id": "9YGx5yiU8ntU"
      },
      "source": [
        "## Escalando los datos"
      ]
    },
    {
      "cell_type": "code",
      "metadata": {
        "id": "kjf1HTa58ntU"
      },
      "source": [
        "from sklearn.preprocessing import MinMaxScaler"
      ],
      "execution_count": 15,
      "outputs": []
    },
    {
      "cell_type": "code",
      "metadata": {
        "id": "okNzi34r8ntX"
      },
      "source": [
        "scaler = MinMaxScaler()"
      ],
      "execution_count": 16,
      "outputs": []
    },
    {
      "cell_type": "code",
      "metadata": {
        "id": "iYjveu_e8ntZ",
        "outputId": "f0f6326e-35da-4254-9100-0319a0bc614e",
        "colab": {
          "base_uri": "https://localhost:8080/",
          "height": 34
        }
      },
      "source": [
        "# Utilizamos MinMaxScaler para estandarizar recordando que solo se utiliza para los datos de entrenamiento,\n",
        "# porque si no, el modelo ya habra visto los datos con los que se validara\n",
        "scaler.fit(train)"
      ],
      "execution_count": 17,
      "outputs": [
        {
          "output_type": "execute_result",
          "data": {
            "text/plain": [
              "MinMaxScaler(copy=True, feature_range=(0, 1))"
            ]
          },
          "metadata": {
            "tags": []
          },
          "execution_count": 17
        }
      ]
    },
    {
      "cell_type": "code",
      "metadata": {
        "id": "E_4E4J8l8ntc"
      },
      "source": [
        "# Una vez que Scale ya aprendio a escalar mis datos ahora si lo aplicamos a los 2 sets\n",
        "scaled_train = scaler.transform(train)\n",
        "scaled_test = scaler.transform(test)"
      ],
      "execution_count": 18,
      "outputs": []
    },
    {
      "cell_type": "markdown",
      "metadata": {
        "id": "t4Lc4_st8nte"
      },
      "source": [
        "# Time Series Generator\n",
        "\n",
        "Este generador toma una secuencia de puntos de datos (como una sereie temporal) espaciados en intervalos iguales, teniendo en cuenta otros parámetros de series temporales, para producir batches para el entrenamiento / validación.\n",
        "\n",
        "#### Argumentos\n",
        "    data: Indexable generator (such as list or Numpy array)\n",
        "        containing consecutive data points (timesteps).\n",
        "        The data should be at 2D, and axis 0 is expected\n",
        "        to be the time dimension.\n",
        "    targets: Targets corresponding to timesteps in `data`.\n",
        "        It should have same length as `data`.\n",
        "    length: Length of the output sequences (in number of timesteps).\n",
        "    sampling_rate: Period between successive individual timesteps\n",
        "        within sequences. For rate `r`, timesteps\n",
        "        `data[i]`, `data[i-r]`, ... `data[i - length]`\n",
        "        are used for create a sample sequence.\n",
        "    stride: Period between successive output sequences.\n",
        "        For stride `s`, consecutive output samples would\n",
        "        be centered around `data[i]`, `data[i+s]`, `data[i+2*s]`, etc.\n",
        "    start_index: Data points earlier than `start_index` will not be used\n",
        "        in the output sequences. This is useful to reserve part of the\n",
        "        data for test or validation.\n",
        "    end_index: Data points later than `end_index` will not be used\n",
        "        in the output sequences. This is useful to reserve part of the\n",
        "        data for test or validation.\n",
        "    shuffle: Whether to shuffle output samples,\n",
        "        or instead draw them in chronological order.\n",
        "    reverse: Boolean: if `true`, timesteps in each output sample will be\n",
        "        in reverse chronological order.\n",
        "    batch_size: Number of timeseries samples in each batch\n",
        "        (except maybe the last one)."
      ]
    },
    {
      "cell_type": "code",
      "metadata": {
        "id": "Qvx6Hx7d8ntf"
      },
      "source": [
        "from keras.preprocessing.sequence import TimeseriesGenerator"
      ],
      "execution_count": 19,
      "outputs": []
    },
    {
      "cell_type": "code",
      "metadata": {
        "id": "WlEWUYOY8nth",
        "outputId": "41c0d3e7-787f-4996-dc95-74c3cbdbdeaf",
        "colab": {
          "base_uri": "https://localhost:8080/",
          "height": 1000
        }
      },
      "source": [
        "#Datos de entrenamiento escalados\n",
        "#Datos entre 0 y 1\n",
        "scaled_train"
      ],
      "execution_count": 20,
      "outputs": [
        {
          "output_type": "execute_result",
          "data": {
            "text/plain": [
              "array([[0.03486194],\n",
              "       [0.03478048],\n",
              "       [0.07909098],\n",
              "       [0.12486764],\n",
              "       [0.09692922],\n",
              "       [0.12201678],\n",
              "       [0.11688523],\n",
              "       [0.09008715],\n",
              "       [0.08919117],\n",
              "       [0.10002444],\n",
              "       [0.09847683],\n",
              "       [0.1551682 ],\n",
              "       [0.        ],\n",
              "       [0.01873422],\n",
              "       [0.09196058],\n",
              "       [0.1096359 ],\n",
              "       [0.10393419],\n",
              "       [0.13561945],\n",
              "       [0.11623361],\n",
              "       [0.11615215],\n",
              "       [0.10857701],\n",
              "       [0.09815101],\n",
              "       [0.11965464],\n",
              "       [0.15826342],\n",
              "       [0.00358394],\n",
              "       [0.02818278],\n",
              "       [0.11501181],\n",
              "       [0.10018734],\n",
              "       [0.11639651],\n",
              "       [0.1591594 ],\n",
              "       [0.10531889],\n",
              "       [0.13749287],\n",
              "       [0.10939155],\n",
              "       [0.09912845],\n",
              "       [0.14278733],\n",
              "       [0.15801906],\n",
              "       [0.02761261],\n",
              "       [0.03689827],\n",
              "       [0.10083897],\n",
              "       [0.07843936],\n",
              "       [0.13716706],\n",
              "       [0.15826342],\n",
              "       [0.09709212],\n",
              "       [0.1603812 ],\n",
              "       [0.09806956],\n",
              "       [0.12405311],\n",
              "       [0.14824469],\n",
              "       [0.14620836],\n",
              "       [0.05441069],\n",
              "       [0.07754337],\n",
              "       [0.1002688 ],\n",
              "       [0.12934756],\n",
              "       [0.17821943],\n",
              "       [0.14702289],\n",
              "       [0.15557547],\n",
              "       [0.16543129],\n",
              "       [0.10865847],\n",
              "       [0.16135864],\n",
              "       [0.14816323],\n",
              "       [0.16828215],\n",
              "       [0.05921642],\n",
              "       [0.06467378],\n",
              "       [0.1159078 ],\n",
              "       [0.13065081],\n",
              "       [0.17748636],\n",
              "       [0.16502403],\n",
              "       [0.17919687],\n",
              "       [0.16315061],\n",
              "       [0.15793761],\n",
              "       [0.18823817],\n",
              "       [0.14661562],\n",
              "       [0.23898347],\n",
              "       [0.06231164],\n",
              "       [0.08047569],\n",
              "       [0.15207298],\n",
              "       [0.16771198],\n",
              "       [0.17968559],\n",
              "       [0.19679075],\n",
              "       [0.19581331],\n",
              "       [0.16909668],\n",
              "       [0.20232956],\n",
              "       [0.20786837],\n",
              "       [0.18856398],\n",
              "       [0.26512992],\n",
              "       [0.08153458],\n",
              "       [0.11436019],\n",
              "       [0.19939725],\n",
              "       [0.19972306],\n",
              "       [0.20819418],\n",
              "       [0.25617007],\n",
              "       [0.21096359],\n",
              "       [0.23279303],\n",
              "       [0.22782439],\n",
              "       [0.2295349 ],\n",
              "       [0.25649589],\n",
              "       [0.30463468],\n",
              "       [0.09872119],\n",
              "       [0.15647145],\n",
              "       [0.24248595],\n",
              "       [0.18913415],\n",
              "       [0.27726643],\n",
              "       [0.29665228],\n",
              "       [0.21218539],\n",
              "       [0.29314979],\n",
              "       [0.23263012],\n",
              "       [0.26806223],\n",
              "       [0.28418995],\n",
              "       [0.29705954],\n",
              "       [0.16706036],\n",
              "       [0.17797508],\n",
              "       [0.23311884],\n",
              "       [0.23320029],\n",
              "       [0.30691537],\n",
              "       [0.29616356],\n",
              "       [0.27229779],\n",
              "       [0.31025495],\n",
              "       [0.20721675],\n",
              "       [0.28622628],\n",
              "       [0.30610084],\n",
              "       [0.33794901],\n",
              "       [0.16991122],\n",
              "       [0.19638348],\n",
              "       [0.26928403],\n",
              "       [0.28459721],\n",
              "       [0.34088132],\n",
              "       [0.30382015],\n",
              "       [0.31986642],\n",
              "       [0.32898917],\n",
              "       [0.25388939],\n",
              "       [0.31709701],\n",
              "       [0.30015476],\n",
              "       [0.40270424],\n",
              "       [0.18693492],\n",
              "       [0.20998615],\n",
              "       [0.27555592],\n",
              "       [0.30219109],\n",
              "       [0.3350167 ],\n",
              "       [0.33412071],\n",
              "       [0.36955282],\n",
              "       [0.34495398],\n",
              "       [0.2934756 ],\n",
              "       [0.3742771 ],\n",
              "       [0.31049931],\n",
              "       [0.44872526],\n",
              "       [0.21161522],\n",
              "       [0.23352611],\n",
              "       [0.32695284],\n",
              "       [0.33094404],\n",
              "       [0.35041134],\n",
              "       [0.39806142],\n",
              "       [0.3468274 ],\n",
              "       [0.35554289],\n",
              "       [0.34438381],\n",
              "       [0.34511689],\n",
              "       [0.38282968],\n",
              "       [0.49091798],\n",
              "       [0.20575059],\n",
              "       [0.26113871],\n",
              "       [0.38217806],\n",
              "       [0.34462817],\n",
              "       [0.42437077],\n",
              "       [0.46640059],\n",
              "       [0.35195895],\n",
              "       [0.44514132],\n",
              "       [0.38364421],\n",
              "       [0.38111917],\n",
              "       [0.42485949],\n",
              "       [0.47821129],\n",
              "       [0.24721023],\n",
              "       [0.28989167],\n",
              "       [0.39846868],\n",
              "       [0.35057424],\n",
              "       [0.47340556],\n",
              "       [0.51282887],\n",
              "       [0.38779832],\n",
              "       [0.49890038],\n",
              "       [0.40775434],\n",
              "       [0.45687057],\n",
              "       [0.4966197 ],\n",
              "       [0.53058565],\n",
              "       [0.29290543],\n",
              "       [0.302354  ],\n",
              "       [0.42062393],\n",
              "       [0.39073063],\n",
              "       [0.53262198],\n",
              "       [0.52561701],\n",
              "       [0.45426407],\n",
              "       [0.53042274],\n",
              "       [0.41475931],\n",
              "       [0.53905677],\n",
              "       [0.51796041],\n",
              "       [0.57294127],\n",
              "       [0.33086259],\n",
              "       [0.36262931],\n",
              "       [0.43447096],\n",
              "       [0.47764112],\n",
              "       [0.55086748],\n",
              "       [0.5657734 ],\n",
              "       [0.53123727],\n",
              "       [0.51673862],\n",
              "       [0.50452065],\n",
              "       [0.56341126],\n",
              "       [0.46648204],\n",
              "       [0.63598599],\n",
              "       [0.34495398],\n",
              "       [0.37036735],\n",
              "       [0.46078032],\n",
              "       [0.4993891 ],\n",
              "       [0.5162499 ],\n",
              "       [0.58124949],\n",
              "       [0.52749043],\n",
              "       [0.47992181],\n",
              "       [0.50834895],\n",
              "       [0.49230268],\n",
              "       [0.48203959],\n",
              "       [0.6363118 ],\n",
              "       [0.28728517],\n",
              "       [0.3624664 ],\n",
              "       [0.52488393],\n",
              "       [0.52072982],\n",
              "       [0.51478374],\n",
              "       [0.61260894],\n",
              "       [0.49246559],\n",
              "       [0.5084304 ],\n",
              "       [0.52040401],\n",
              "       [0.51983384],\n",
              "       [0.5567321 ],\n",
              "       [0.68616111],\n",
              "       [0.31522359],\n",
              "       [0.40588092],\n",
              "       [0.55396269],\n",
              "       [0.50908202],\n",
              "       [0.56495887],\n",
              "       [0.67711982],\n",
              "       [0.49482773],\n",
              "       [0.60584833],\n",
              "       [0.57457033],\n",
              "       [0.53604301],\n",
              "       [0.59436344],\n",
              "       [0.6884418 ],\n",
              "       [0.36287367],\n",
              "       [0.45695202],\n",
              "       [0.54394396],\n",
              "       [0.52064837],\n",
              "       [0.67695691],\n",
              "       [0.6714181 ],\n",
              "       [0.55502159],\n",
              "       [0.6623768 ],\n",
              "       [0.52952676],\n",
              "       [0.62906247],\n",
              "       [0.64527165],\n",
              "       [0.72419972],\n",
              "       [0.43691456],\n",
              "       [0.47707095],\n",
              "       [0.57660666],\n",
              "       [0.60780321],\n",
              "       [0.74830985],\n",
              "       [0.6804594 ],\n",
              "       [0.66425022],\n",
              "       [0.68673129],\n",
              "       [0.60788466],\n",
              "       [0.69308463],\n",
              "       [0.66034047],\n",
              "       [0.78830333],\n",
              "       [0.45010996],\n",
              "       [0.49099943],\n",
              "       [0.57212674],\n",
              "       [0.64722652],\n",
              "       [0.71361082],\n",
              "       [0.72273357],\n",
              "       [0.64624908],\n",
              "       [0.64755233],\n",
              "       [0.63509001],\n",
              "       [0.71564715],\n",
              "       [0.60592979],\n",
              "       [0.83725666],\n",
              "       [0.43732182],\n",
              "       [0.49124379],\n",
              "       [0.62645597],\n",
              "       [0.65781543],\n",
              "       [0.69047813],\n",
              "       [0.80418669],\n",
              "       [0.71988271],\n",
              "       [0.66734544],\n",
              "       [0.73234504],\n",
              "       [0.72916836],\n",
              "       [0.69031522],\n",
              "       [0.90836524],\n",
              "       [0.4576851 ],\n",
              "       [0.59403763],\n",
              "       [0.73943146],\n",
              "       [0.68355461],\n",
              "       [0.75026472],\n",
              "       [0.86780158],\n",
              "       [0.64543455],\n",
              "       [0.78797752],\n",
              "       [0.75303413],\n",
              "       [0.72322229],\n",
              "       [0.81371671],\n",
              "       [0.92807689],\n",
              "       [0.48985909],\n",
              "       [0.60454508],\n",
              "       [0.76973202],\n",
              "       [0.68893052],\n",
              "       [0.85574652],\n",
              "       [0.9518612 ],\n",
              "       [0.68127393],\n",
              "       [0.84238821],\n",
              "       [0.72004561],\n",
              "       [0.78455649],\n",
              "       [0.82845972],\n",
              "       [0.90901686],\n",
              "       [0.52635009],\n",
              "       [0.5944449 ],\n",
              "       [0.77689989],\n",
              "       [0.71466971],\n",
              "       [0.89443675],\n",
              "       [0.92766963],\n",
              "       [0.77274578],\n",
              "       [0.89940539],\n",
              "       [0.74936874],\n",
              "       [0.87122261],\n",
              "       [0.8893052 ],\n",
              "       [1.        ],\n",
              "       [0.61782194],\n",
              "       [0.64714507],\n",
              "       [0.76899894],\n",
              "       [0.8199886 ],\n",
              "       [0.94013195],\n",
              "       [0.91602183],\n",
              "       [0.8514295 ]])"
            ]
          },
          "metadata": {
            "tags": []
          },
          "execution_count": 20
        }
      ]
    },
    {
      "cell_type": "code",
      "metadata": {
        "id": "aXmZ0kNW8ntj"
      },
      "source": [
        "# Definimos el generator\n",
        "#Definimos el numero de entradas con n_input\n",
        "n_input = 2\n",
        "#Definimos el número de caracteristicas con n_features\n",
        "n_features = 1\n",
        "#En nuestro caso la data es el mismo que el target, es donde tenemos los datos y es con los que compararemos las predicciones\n",
        "generator = TimeseriesGenerator(scaled_train, scaled_train, length=n_input, batch_size=1)"
      ],
      "execution_count": 21,
      "outputs": []
    },
    {
      "cell_type": "code",
      "metadata": {
        "id": "_Y8bK8948ntl",
        "outputId": "6ae32f90-2ccd-4086-8046-671fae083712",
        "colab": {
          "base_uri": "https://localhost:8080/",
          "height": 34
        }
      },
      "source": [
        "len(scaled_train)"
      ],
      "execution_count": 22,
      "outputs": [
        {
          "output_type": "execute_result",
          "data": {
            "text/plain": [
              "331"
            ]
          },
          "metadata": {
            "tags": []
          },
          "execution_count": 22
        }
      ]
    },
    {
      "cell_type": "code",
      "metadata": {
        "id": "I1XYDcyq8ntn",
        "outputId": "a216b20c-32f2-4922-b3a8-c56cbb6c7744",
        "colab": {
          "base_uri": "https://localhost:8080/",
          "height": 34
        }
      },
      "source": [
        "len(generator) # n_input = 2"
      ],
      "execution_count": 23,
      "outputs": [
        {
          "output_type": "execute_result",
          "data": {
            "text/plain": [
              "329"
            ]
          },
          "metadata": {
            "tags": []
          },
          "execution_count": 23
        }
      ]
    },
    {
      "cell_type": "code",
      "metadata": {
        "id": "na-huzUU8ntp",
        "outputId": "9cc28e8b-219b-476e-d08c-64c5c42dd501",
        "colab": {
          "base_uri": "https://localhost:8080/",
          "height": 102
        }
      },
      "source": [
        "scaled_train[:5]"
      ],
      "execution_count": 24,
      "outputs": [
        {
          "output_type": "execute_result",
          "data": {
            "text/plain": [
              "array([[0.03486194],\n",
              "       [0.03478048],\n",
              "       [0.07909098],\n",
              "       [0.12486764],\n",
              "       [0.09692922]])"
            ]
          },
          "metadata": {
            "tags": []
          },
          "execution_count": 24
        }
      ]
    },
    {
      "cell_type": "code",
      "metadata": {
        "id": "Dxp5-VHF8nts",
        "outputId": "b0aaf4b4-f549-4a83-e199-8cf33f0bf73f",
        "colab": {
          "base_uri": "https://localhost:8080/",
          "height": 51
        }
      },
      "source": [
        "# ¿Cómo luce el primer batch?\n",
        "# Hasta este momento solo estamos creando los batch que utilizara la red neuronal\n",
        "generator[0]"
      ],
      "execution_count": 25,
      "outputs": [
        {
          "output_type": "execute_result",
          "data": {
            "text/plain": [
              "(array([[[0.03486194],\n",
              "         [0.03478048]]]), array([[0.07909098]]))"
            ]
          },
          "metadata": {
            "tags": []
          },
          "execution_count": 25
        }
      ]
    },
    {
      "cell_type": "code",
      "metadata": {
        "id": "B4UEQPtNbAJ5"
      },
      "source": [
        "X,y = generator[0]"
      ],
      "execution_count": 26,
      "outputs": []
    },
    {
      "cell_type": "code",
      "metadata": {
        "id": "8GtIDhWG8ntv",
        "outputId": "2cebe5b0-d9a9-4ba9-f994-62ee4cc5517c",
        "colab": {
          "base_uri": "https://localhost:8080/",
          "height": 85
        }
      },
      "source": [
        "#Como podemos observar se utilizan 2 periodos para hacer una predicción\n",
        "#Todo esto por como se definio el batch\n",
        "print(f'Datos: \\n{X.flatten()}')\n",
        "print(f'Predicción: \\n {y}')"
      ],
      "execution_count": 27,
      "outputs": [
        {
          "output_type": "stream",
          "text": [
            "Datos: \n",
            "[0.03486194 0.03478048]\n",
            "Predicción: \n",
            " [[0.07909098]]\n"
          ],
          "name": "stdout"
        }
      ]
    },
    {
      "cell_type": "code",
      "metadata": {
        "id": "XRZR3vWB8ntx"
      },
      "source": [
        "# Vamos a redefinir para que utilice 12 meses y luego prediga el próximo mes\n",
        "#Esto tiene sentido si observamos que la serie tiene un ciclo \"anual\" o estacionalidad \"anual\"\n",
        "n_input = 12\n",
        "generator = TimeseriesGenerator(scaled_train, scaled_train, length=n_input, batch_size=1)"
      ],
      "execution_count": 28,
      "outputs": []
    },
    {
      "cell_type": "code",
      "metadata": {
        "id": "yjTNOgKU8ntz"
      },
      "source": [
        "# ¿Cómo luce el primer batch?\n",
        "X,y = generator[0]"
      ],
      "execution_count": 29,
      "outputs": []
    },
    {
      "cell_type": "code",
      "metadata": {
        "id": "YOyQlSRN8nt1",
        "outputId": "0254b3d5-b791-45cf-e18d-15d3064c7a65",
        "colab": {
          "base_uri": "https://localhost:8080/",
          "height": 102
        }
      },
      "source": [
        "#Lo que tenemos ahora son 12 periodos y con esto predicimos el periodo 13\n",
        "#Esta será la configuración del batch (lote) y esto es con lo que se entrenara la RNN\n",
        "#Debemos tener en cuenta que entre más grande sea el batch_size aumenta la complejidad del modelo, aumentando a su vez el riesgo de overfitting\n",
        "print(f'Given the Array: \\n{X.flatten()}')\n",
        "print(f'Predict this y: \\n {y}')"
      ],
      "execution_count": 30,
      "outputs": [
        {
          "output_type": "stream",
          "text": [
            "Given the Array: \n",
            "[0.03486194 0.03478048 0.07909098 0.12486764 0.09692922 0.12201678\n",
            " 0.11688523 0.09008715 0.08919117 0.10002444 0.09847683 0.1551682 ]\n",
            "Predict this y: \n",
            " [[0.]]\n"
          ],
          "name": "stdout"
        }
      ]
    },
    {
      "cell_type": "markdown",
      "metadata": {
        "id": "LxoYBmyG8nt4"
      },
      "source": [
        "### Creando el Modelo"
      ]
    },
    {
      "cell_type": "code",
      "metadata": {
        "id": "FFTqcGdt8nt4"
      },
      "source": [
        "from keras.models import Sequential\n",
        "from keras.layers import Dense\n",
        "from keras.layers import LSTM"
      ],
      "execution_count": 31,
      "outputs": []
    },
    {
      "cell_type": "code",
      "metadata": {
        "id": "ZJ-cv26J8nt6"
      },
      "source": [
        "# define model\n",
        "#Primero creamos el modelo secuencial\n",
        "model = Sequential()\n",
        "#Añadimos capas\n",
        "#El primer parámetro es la cantidad de neuronas, la segunda la función de activación y la tercera las entradas y el número de caracteristicas\n",
        "#El número de neuronas se ajusta a prueba y error\n",
        "#La función de activación es a consideracion nuestra\n",
        "#Las dimensiones de entrada que este caso son las del batch, en este caso es (12,1)\n",
        "model.add(LSTM(100, activation='relu', input_shape=(n_input, n_features)))\n",
        "#Aquí agregamos la capa densa que lo que hara es juntar todas las neuronas en 1 sola predicción\n",
        "model.add(Dense(1))\n",
        "#Compilamos\n",
        "#Aquí indicamos como función de coste el MSE y como optimizador el ADAM\n",
        "model.compile(optimizer='adam', loss='mse')"
      ],
      "execution_count": 32,
      "outputs": []
    },
    {
      "cell_type": "code",
      "metadata": {
        "id": "J8AjvGVw8nt8",
        "outputId": "a1114005-6209-45d8-b23b-cb4f5fde1d4f",
        "colab": {
          "base_uri": "https://localhost:8080/",
          "height": 221
        }
      },
      "source": [
        "#Dado que el modelo LSTM es complejo, los parámetros a ajustar son 40800 por lo que tarda su compilación \n",
        "model.summary()"
      ],
      "execution_count": 33,
      "outputs": [
        {
          "output_type": "stream",
          "text": [
            "Model: \"sequential\"\n",
            "_________________________________________________________________\n",
            "Layer (type)                 Output Shape              Param #   \n",
            "=================================================================\n",
            "lstm (LSTM)                  (None, 100)               40800     \n",
            "_________________________________________________________________\n",
            "dense (Dense)                (None, 1)                 101       \n",
            "=================================================================\n",
            "Total params: 40,901\n",
            "Trainable params: 40,901\n",
            "Non-trainable params: 0\n",
            "_________________________________________________________________\n"
          ],
          "name": "stdout"
        }
      ]
    },
    {
      "cell_type": "code",
      "metadata": {
        "id": "v5j-_TWK8nt-",
        "outputId": "4e0e71ee-fd1c-4723-d0ed-0e42d685de73",
        "colab": {
          "base_uri": "https://localhost:8080/",
          "height": 1000
        }
      },
      "source": [
        "# fit model\n",
        "#En el caso de que tuvieramos datos utilizariamos .fit pero como es un objeto generador, utilizamos fit_generator\n",
        "#Indicamos las epochs, que son las carreras que hará el modelo a tráves de los datos.\n",
        "#Si notamos que el error no disminuye con n epochs hay que bajar el número de epochs\n",
        "#Si notamos que sigue disminuyendo con n epochs, entonces hay que subirlas \n",
        "model.fit_generator(generator,epochs=50)"
      ],
      "execution_count": 34,
      "outputs": [
        {
          "output_type": "stream",
          "text": [
            "WARNING:tensorflow:From <ipython-input-34-513109f3c968>:6: Model.fit_generator (from tensorflow.python.keras.engine.training) is deprecated and will be removed in a future version.\n",
            "Instructions for updating:\n",
            "Please use Model.fit, which supports generators.\n",
            "Epoch 1/50\n",
            "319/319 [==============================] - 1s 4ms/step - loss: 0.0213\n",
            "Epoch 2/50\n",
            "319/319 [==============================] - 1s 4ms/step - loss: 0.0085\n",
            "Epoch 3/50\n",
            "319/319 [==============================] - 1s 4ms/step - loss: 0.0088\n",
            "Epoch 4/50\n",
            "319/319 [==============================] - 1s 4ms/step - loss: 0.0087\n",
            "Epoch 5/50\n",
            "319/319 [==============================] - 1s 4ms/step - loss: 0.0069\n",
            "Epoch 6/50\n",
            "319/319 [==============================] - 1s 4ms/step - loss: 0.0058\n",
            "Epoch 7/50\n",
            "319/319 [==============================] - 1s 4ms/step - loss: 0.0045\n",
            "Epoch 8/50\n",
            "319/319 [==============================] - 1s 4ms/step - loss: 0.0039\n",
            "Epoch 9/50\n",
            "319/319 [==============================] - 1s 4ms/step - loss: 0.0034\n",
            "Epoch 10/50\n",
            "319/319 [==============================] - 1s 4ms/step - loss: 0.0027\n",
            "Epoch 11/50\n",
            "319/319 [==============================] - 1s 4ms/step - loss: 0.0023\n",
            "Epoch 12/50\n",
            "319/319 [==============================] - 1s 5ms/step - loss: 0.0021\n",
            "Epoch 13/50\n",
            "319/319 [==============================] - 1s 5ms/step - loss: 0.0023\n",
            "Epoch 14/50\n",
            "319/319 [==============================] - 1s 4ms/step - loss: 0.0020\n",
            "Epoch 15/50\n",
            "319/319 [==============================] - 1s 4ms/step - loss: 0.0019\n",
            "Epoch 16/50\n",
            "319/319 [==============================] - 1s 4ms/step - loss: 0.0017\n",
            "Epoch 17/50\n",
            "319/319 [==============================] - 1s 4ms/step - loss: 0.0017\n",
            "Epoch 18/50\n",
            "319/319 [==============================] - 1s 4ms/step - loss: 0.0016\n",
            "Epoch 19/50\n",
            "319/319 [==============================] - 1s 5ms/step - loss: 0.0014\n",
            "Epoch 20/50\n",
            "319/319 [==============================] - 1s 4ms/step - loss: 0.0015\n",
            "Epoch 21/50\n",
            "319/319 [==============================] - 1s 4ms/step - loss: 0.0020\n",
            "Epoch 22/50\n",
            "319/319 [==============================] - 1s 4ms/step - loss: 0.0016\n",
            "Epoch 23/50\n",
            "319/319 [==============================] - 1s 4ms/step - loss: 0.0015\n",
            "Epoch 24/50\n",
            "319/319 [==============================] - 1s 4ms/step - loss: 0.0015\n",
            "Epoch 25/50\n",
            "319/319 [==============================] - 1s 4ms/step - loss: 0.0014\n",
            "Epoch 26/50\n",
            "319/319 [==============================] - 1s 4ms/step - loss: 0.0014\n",
            "Epoch 27/50\n",
            "319/319 [==============================] - 1s 4ms/step - loss: 0.0014\n",
            "Epoch 28/50\n",
            "319/319 [==============================] - 1s 5ms/step - loss: 0.0013\n",
            "Epoch 29/50\n",
            "319/319 [==============================] - 2s 5ms/step - loss: 0.0013\n",
            "Epoch 30/50\n",
            "319/319 [==============================] - 1s 4ms/step - loss: 0.0013\n",
            "Epoch 31/50\n",
            "319/319 [==============================] - 1s 5ms/step - loss: 0.0014\n",
            "Epoch 32/50\n",
            "319/319 [==============================] - 1s 5ms/step - loss: 0.0013\n",
            "Epoch 33/50\n",
            "319/319 [==============================] - 1s 4ms/step - loss: 0.0015\n",
            "Epoch 34/50\n",
            "319/319 [==============================] - 1s 5ms/step - loss: 0.0015\n",
            "Epoch 35/50\n",
            "319/319 [==============================] - 1s 5ms/step - loss: 0.0014\n",
            "Epoch 36/50\n",
            "319/319 [==============================] - 1s 4ms/step - loss: 0.0012\n",
            "Epoch 37/50\n",
            "319/319 [==============================] - 1s 5ms/step - loss: 0.0012\n",
            "Epoch 38/50\n",
            "319/319 [==============================] - 2s 5ms/step - loss: 0.0014\n",
            "Epoch 39/50\n",
            "319/319 [==============================] - 2s 5ms/step - loss: 0.0014\n",
            "Epoch 40/50\n",
            "319/319 [==============================] - 1s 5ms/step - loss: 0.0014\n",
            "Epoch 41/50\n",
            "319/319 [==============================] - 1s 4ms/step - loss: 0.0013\n",
            "Epoch 42/50\n",
            "319/319 [==============================] - 1s 4ms/step - loss: 0.0015\n",
            "Epoch 43/50\n",
            "319/319 [==============================] - 1s 4ms/step - loss: 0.0014\n",
            "Epoch 44/50\n",
            "319/319 [==============================] - 1s 4ms/step - loss: 0.0012\n",
            "Epoch 45/50\n",
            "319/319 [==============================] - 1s 5ms/step - loss: 0.0013\n",
            "Epoch 46/50\n",
            "319/319 [==============================] - 1s 4ms/step - loss: 0.0012\n",
            "Epoch 47/50\n",
            "319/319 [==============================] - 1s 5ms/step - loss: 0.0013\n",
            "Epoch 48/50\n",
            "319/319 [==============================] - 1s 4ms/step - loss: 0.0013\n",
            "Epoch 49/50\n",
            "319/319 [==============================] - 1s 4ms/step - loss: 0.0012\n",
            "Epoch 50/50\n",
            "319/319 [==============================] - 1s 4ms/step - loss: 0.0012\n"
          ],
          "name": "stdout"
        },
        {
          "output_type": "execute_result",
          "data": {
            "text/plain": [
              "<tensorflow.python.keras.callbacks.History at 0x7f4ec5c42160>"
            ]
          },
          "metadata": {
            "tags": []
          },
          "execution_count": 34
        }
      ]
    },
    {
      "cell_type": "code",
      "metadata": {
        "id": "bDJoLpgM8nuA",
        "outputId": "dab821ab-8168-45b6-ef6a-02fba7e6998c",
        "colab": {
          "base_uri": "https://localhost:8080/",
          "height": 34
        }
      },
      "source": [
        "model.history.history.keys()"
      ],
      "execution_count": 35,
      "outputs": [
        {
          "output_type": "execute_result",
          "data": {
            "text/plain": [
              "dict_keys(['loss'])"
            ]
          },
          "metadata": {
            "tags": []
          },
          "execution_count": 35
        }
      ]
    },
    {
      "cell_type": "code",
      "metadata": {
        "id": "68HyZhJH8nuD",
        "outputId": "2dbf82ed-2810-4549-c81b-85075ba54e97",
        "colab": {
          "base_uri": "https://localhost:8080/",
          "height": 282
        }
      },
      "source": [
        "#Gráficamos el número de epochs en el eje de las x y en de la y, el valor de la función de pérdida\n",
        "#En este caso quizás 20 o 25 epochs hubieran sido suficientes\n",
        "loss_per_epoch = model.history.history['loss']\n",
        "plt.plot(range(len(loss_per_epoch)),loss_per_epoch)"
      ],
      "execution_count": 36,
      "outputs": [
        {
          "output_type": "execute_result",
          "data": {
            "text/plain": [
              "[<matplotlib.lines.Line2D at 0x7f4ec3aba630>]"
            ]
          },
          "metadata": {
            "tags": []
          },
          "execution_count": 36
        },
        {
          "output_type": "display_data",
          "data": {
            "image/png": "[encoded data removed]",
            "text/plain": [
              "<Figure size 432x288 with 1 Axes>"
            ]
          },
          "metadata": {
            "tags": [],
            "needs_background": "light"
          }
        }
      ]
    },
    {
      "cell_type": "markdown",
      "metadata": {
        "id": "qCvksOdo8nuG"
      },
      "source": [
        "## Evaluando en los Datos de Prueba (Test)"
      ]
    },
    {
      "cell_type": "code",
      "metadata": {
        "id": "M35-TLgW8nuG"
      },
      "source": [
        "# 12 meses de historia ---> predecir el 13\n",
        "# Necesitaremos los últimos 12 meses del conjunto de entrenamiento para predecir el 1er mes en el conjunto de prueba\n",
        "#Como entrenamos el modelo con datos escalados, debemos introducir datos escalados.\n",
        "first_eval_batch = scaled_train[-12:]"
      ],
      "execution_count": 37,
      "outputs": []
    },
    {
      "cell_type": "code",
      "metadata": {
        "id": "i0G5HYSt8nuI",
        "outputId": "7655787d-5da1-46f3-bb69-327f4cfc91d1",
        "colab": {
          "base_uri": "https://localhost:8080/",
          "height": 221
        }
      },
      "source": [
        "#Primer batch de evaluación\n",
        "first_eval_batch"
      ],
      "execution_count": 38,
      "outputs": [
        {
          "output_type": "execute_result",
          "data": {
            "text/plain": [
              "array([[0.89940539],\n",
              "       [0.74936874],\n",
              "       [0.87122261],\n",
              "       [0.8893052 ],\n",
              "       [1.        ],\n",
              "       [0.61782194],\n",
              "       [0.64714507],\n",
              "       [0.76899894],\n",
              "       [0.8199886 ],\n",
              "       [0.94013195],\n",
              "       [0.91602183],\n",
              "       [0.8514295 ]])"
            ]
          },
          "metadata": {
            "tags": []
          },
          "execution_count": 38
        }
      ]
    },
    {
      "cell_type": "code",
      "metadata": {
        "id": "X1KpR7Beu6Uk",
        "outputId": "61ea7b06-c598-4b0d-816e-7386af5a89a0",
        "colab": {
          "base_uri": "https://localhost:8080/",
          "height": 34
        }
      },
      "source": [
        "#Dimensiones de \"X\" que es el generator (batch de 1x12)\n",
        "#Y estas mismas dimensiones debe tener cualquier cosa que entre al modelo para predecir, ya que fue con lo que se entreno\n",
        "X.shape"
      ],
      "execution_count": 39,
      "outputs": [
        {
          "output_type": "execute_result",
          "data": {
            "text/plain": [
              "(1, 12, 1)"
            ]
          },
          "metadata": {
            "tags": []
          },
          "execution_count": 39
        }
      ]
    },
    {
      "cell_type": "code",
      "metadata": {
        "id": "_cwVgXbR8nuK"
      },
      "source": [
        "#Una vez creado el first_eval_batch para no tener problemas con las dimensiones, aplicamos un reshape\n",
        "first_eval_batch = first_eval_batch.reshape((1, n_input, n_features))"
      ],
      "execution_count": 40,
      "outputs": []
    },
    {
      "cell_type": "code",
      "metadata": {
        "id": "dRbnGgrqgOxn",
        "outputId": "17746e92-814d-4655-c74c-66068537675f",
        "colab": {
          "base_uri": "https://localhost:8080/",
          "height": 34
        }
      },
      "source": [
        "#Ya tenemos las dimensiones correctas\n",
        "first_eval_batch.shape"
      ],
      "execution_count": 41,
      "outputs": [
        {
          "output_type": "execute_result",
          "data": {
            "text/plain": [
              "(1, 12, 1)"
            ]
          },
          "metadata": {
            "tags": []
          },
          "execution_count": 41
        }
      ]
    },
    {
      "cell_type": "code",
      "metadata": {
        "id": "Cqo2MGqU8nuM",
        "outputId": "eaa1499a-2b8d-4a02-dffb-10c3c375f937",
        "colab": {
          "base_uri": "https://localhost:8080/",
          "height": 34
        }
      },
      "source": [
        "#Ahora si hacemos el predict utilizando ese batch\n",
        "#Y el output es el valor de la predicción\n",
        "model.predict(first_eval_batch)"
      ],
      "execution_count": 42,
      "outputs": [
        {
          "output_type": "execute_result",
          "data": {
            "text/plain": [
              "array([[0.9152247]], dtype=float32)"
            ]
          },
          "metadata": {
            "tags": []
          },
          "execution_count": 42
        }
      ]
    },
    {
      "cell_type": "code",
      "metadata": {
        "id": "2IynOP1h8nuO",
        "outputId": "58d53b04-b9d5-412c-e6a8-ed2c185c762c",
        "colab": {
          "base_uri": "https://localhost:8080/",
          "height": 221
        }
      },
      "source": [
        "#Si lo comparamos con el primer valor del test, observamos que la predicción es cercana al valor real\n",
        "scaled_test"
      ],
      "execution_count": 43,
      "outputs": [
        {
          "output_type": "execute_result",
          "data": {
            "text/plain": [
              "array([[0.9101572 ],\n",
              "       [0.81135457],\n",
              "       [0.9282398 ],\n",
              "       [0.87496946],\n",
              "       [1.07241183],\n",
              "       [0.62132443],\n",
              "       [0.67760854],\n",
              "       [0.84540197],\n",
              "       [0.75775841],\n",
              "       [0.90250061],\n",
              "       [1.07387798],\n",
              "       [1.03763134]])"
            ]
          },
          "metadata": {
            "tags": []
          },
          "execution_count": 43
        }
      ]
    },
    {
      "cell_type": "markdown",
      "metadata": {
        "id": "45dQ-HXC8nuR"
      },
      "source": [
        "Ahora pongamos esta lógica en un bucle for para predecir el futuro para todo el rango de prueba.\n",
        "----"
      ]
    },
    {
      "cell_type": "code",
      "metadata": {
        "id": "aJVPShZy8nue"
      },
      "source": [
        "test_predictions = []\n",
        "\n",
        "#Tomamos el número de datos escalados que necesitemos con n_input\n",
        "first_eval_batch = scaled_train[-n_input:]\n",
        "#Hacemos el reshape para resolver temas de dimensiones\n",
        "current_batch = first_eval_batch.reshape((1, n_input, n_features))\n",
        "\n",
        "for i in range(len(test)):\n",
        "    \n",
        "    # obtener la predicción ([0] es para obtener solo el número en lugar de [matriz])\n",
        "    current_pred = model.predict(current_batch)[0]\n",
        "    \n",
        "    # guardar la predicción\n",
        "    test_predictions.append(current_pred) \n",
        "    \n",
        "    # actualizar el lote para incluir ahora la predicción y soltar primer valor\n",
        "    current_batch = np.append(current_batch[:,1:,:],[[current_pred]],axis=1)"
      ],
      "execution_count": 44,
      "outputs": []
    },
    {
      "cell_type": "code",
      "metadata": {
        "id": "cxabweLZ8nug",
        "outputId": "14af5b13-d2b1-4432-8f58-a7f4f38aeb86",
        "colab": {
          "base_uri": "https://localhost:8080/",
          "height": 221
        }
      },
      "source": [
        "test_predictions"
      ],
      "execution_count": 45,
      "outputs": [
        {
          "output_type": "execute_result",
          "data": {
            "text/plain": [
              "[array([0.9152247], dtype=float32),\n",
              " array([0.77755606], dtype=float32),\n",
              " array([0.89773095], dtype=float32),\n",
              " array([0.92026174], dtype=float32),\n",
              " array([1.0223545], dtype=float32),\n",
              " array([0.6172726], dtype=float32),\n",
              " array([0.68935883], dtype=float32),\n",
              " array([0.78791094], dtype=float32),\n",
              " array([0.8591596], dtype=float32),\n",
              " array([0.9538605], dtype=float32),\n",
              " array([0.9274384], dtype=float32),\n",
              " array([0.87573266], dtype=float32)]"
            ]
          },
          "metadata": {
            "tags": []
          },
          "execution_count": 45
        }
      ]
    },
    {
      "cell_type": "code",
      "metadata": {
        "id": "CSeKUpXy8nuj",
        "outputId": "2e6b2857-6175-4eba-c048-c0c1420bf8fc",
        "colab": {
          "base_uri": "https://localhost:8080/",
          "height": 221
        }
      },
      "source": [
        "scaled_test"
      ],
      "execution_count": 46,
      "outputs": [
        {
          "output_type": "execute_result",
          "data": {
            "text/plain": [
              "array([[0.9101572 ],\n",
              "       [0.81135457],\n",
              "       [0.9282398 ],\n",
              "       [0.87496946],\n",
              "       [1.07241183],\n",
              "       [0.62132443],\n",
              "       [0.67760854],\n",
              "       [0.84540197],\n",
              "       [0.75775841],\n",
              "       [0.90250061],\n",
              "       [1.07387798],\n",
              "       [1.03763134]])"
            ]
          },
          "metadata": {
            "tags": []
          },
          "execution_count": 46
        }
      ]
    },
    {
      "cell_type": "code",
      "metadata": {
        "id": "XbsSKh-dfkCb",
        "outputId": "18bf4691-64f2-463a-94b5-07ff8b2ea765",
        "colab": {
          "base_uri": "https://localhost:8080/",
          "height": 34
        }
      },
      "source": [
        "#Podemos ver que el error de predicción con los datos escalados es pequeño\n",
        "np.mean(scaled_test-test_predictions)**2/len(scaled_test)"
      ],
      "execution_count": 51,
      "outputs": [
        {
          "output_type": "execute_result",
          "data": {
            "text/plain": [
              "4.199231870183389e-05"
            ]
          },
          "metadata": {
            "tags": []
          },
          "execution_count": 51
        }
      ]
    },
    {
      "cell_type": "markdown",
      "metadata": {
        "id": "1UL6RdvW8nul"
      },
      "source": [
        "## Transformación inversa y Comparación"
      ]
    },
    {
      "cell_type": "code",
      "metadata": {
        "id": "cYDzF_1n8nul"
      },
      "source": [
        "#Ahora necesitamos volver el escalamiento a los valores reales para poder comparar con los datos originales\n",
        "true_predictions = scaler.inverse_transform(test_predictions)"
      ],
      "execution_count": 50,
      "outputs": []
    },
    {
      "cell_type": "code",
      "metadata": {
        "id": "4cbLs9C48nuo",
        "outputId": "c32b565b-13e4-43d9-db17-2062ba55d23e",
        "colab": {
          "base_uri": "https://localhost:8080/",
          "height": 221
        }
      },
      "source": [
        "true_predictions"
      ],
      "execution_count": 52,
      "outputs": [
        {
          "output_type": "execute_result",
          "data": {
            "text/plain": [
              "array([[14267.21329033],\n",
              "       [12577.05577004],\n",
              "       [14052.44283068],\n",
              "       [14329.05339038],\n",
              "       [15582.44599521],\n",
              "       [10609.25589967],\n",
              "       [11494.25836146],\n",
              "       [12704.18258905],\n",
              "       [13578.90227187],\n",
              "       [14741.5456202 ],\n",
              "       [14417.16097081],\n",
              "       [13782.36987042]])"
            ]
          },
          "metadata": {
            "tags": []
          },
          "execution_count": 52
        }
      ]
    },
    {
      "cell_type": "code",
      "metadata": {
        "id": "PV71AMEz8nur",
        "outputId": "9d352e8a-a3b5-4bac-e311-75c67fbf2a8b",
        "colab": {
          "base_uri": "https://localhost:8080/",
          "height": 452
        }
      },
      "source": [
        "test"
      ],
      "execution_count": 53,
      "outputs": [
        {
          "output_type": "execute_result",
          "data": {
            "text/html": [
              "<div>\n",
              "<style scoped>\n",
              "    .dataframe tbody tr th:only-of-type {\n",
              "        vertical-align: middle;\n",
              "    }\n",
              "\n",
              "    .dataframe tbody tr th {\n",
              "        vertical-align: top;\n",
              "    }\n",
              "\n",
              "    .dataframe thead th {\n",
              "        text-align: right;\n",
              "    }\n",
              "</style>\n",
              "<table border=\"1\" class=\"dataframe\">\n",
              "  <thead>\n",
              "    <tr style=\"text-align: right;\">\n",
              "      <th></th>\n",
              "      <th>Sales</th>\n",
              "    </tr>\n",
              "    <tr>\n",
              "      <th>DATE</th>\n",
              "      <th></th>\n",
              "    </tr>\n",
              "  </thead>\n",
              "  <tbody>\n",
              "    <tr>\n",
              "      <th>2019-08-01</th>\n",
              "      <td>14205</td>\n",
              "    </tr>\n",
              "    <tr>\n",
              "      <th>2019-09-01</th>\n",
              "      <td>12992</td>\n",
              "    </tr>\n",
              "    <tr>\n",
              "      <th>2019-10-01</th>\n",
              "      <td>14427</td>\n",
              "    </tr>\n",
              "    <tr>\n",
              "      <th>2019-11-01</th>\n",
              "      <td>13773</td>\n",
              "    </tr>\n",
              "    <tr>\n",
              "      <th>2019-12-01</th>\n",
              "      <td>16197</td>\n",
              "    </tr>\n",
              "    <tr>\n",
              "      <th>2020-01-01</th>\n",
              "      <td>10659</td>\n",
              "    </tr>\n",
              "    <tr>\n",
              "      <th>2020-02-01</th>\n",
              "      <td>11350</td>\n",
              "    </tr>\n",
              "    <tr>\n",
              "      <th>2020-03-01</th>\n",
              "      <td>13410</td>\n",
              "    </tr>\n",
              "    <tr>\n",
              "      <th>2020-04-01</th>\n",
              "      <td>12334</td>\n",
              "    </tr>\n",
              "    <tr>\n",
              "      <th>2020-05-01</th>\n",
              "      <td>14111</td>\n",
              "    </tr>\n",
              "    <tr>\n",
              "      <th>2020-06-01</th>\n",
              "      <td>16215</td>\n",
              "    </tr>\n",
              "    <tr>\n",
              "      <th>2020-07-01</th>\n",
              "      <td>15770</td>\n",
              "    </tr>\n",
              "  </tbody>\n",
              "</table>\n",
              "</div>"
            ],
            "text/plain": [
              "            Sales\n",
              "DATE             \n",
              "2019-08-01  14205\n",
              "2019-09-01  12992\n",
              "2019-10-01  14427\n",
              "2019-11-01  13773\n",
              "2019-12-01  16197\n",
              "2020-01-01  10659\n",
              "2020-02-01  11350\n",
              "2020-03-01  13410\n",
              "2020-04-01  12334\n",
              "2020-05-01  14111\n",
              "2020-06-01  16215\n",
              "2020-07-01  15770"
            ]
          },
          "metadata": {
            "tags": []
          },
          "execution_count": 53
        }
      ]
    },
    {
      "cell_type": "code",
      "metadata": {
        "id": "6rhgmNvu8nus",
        "outputId": "c3d6a17b-9d55-43b1-d05d-d3a951f9fa58",
        "colab": {
          "base_uri": "https://localhost:8080/",
          "height": 139
        }
      },
      "source": [
        "test['Predictions'] = true_predictions"
      ],
      "execution_count": 54,
      "outputs": [
        {
          "output_type": "stream",
          "text": [
            "/usr/local/lib/python3.6/dist-packages/ipykernel_launcher.py:1: SettingWithCopyWarning: \n",
            "A value is trying to be set on a copy of a slice from a DataFrame.\n",
            "Try using .loc[row_indexer,col_indexer] = value instead\n",
            "\n",
            "See the caveats in the documentation: https://pandas.pydata.org/pandas-docs/stable/user_guide/indexing.html#returning-a-view-versus-a-copy\n",
            "  \"\"\"Entry point for launching an IPython kernel.\n"
          ],
          "name": "stderr"
        }
      ]
    },
    {
      "cell_type": "code",
      "metadata": {
        "id": "A1ckSYL08nuu",
        "outputId": "17b791b2-4919-46c5-f19e-c700f8fe286f",
        "colab": {
          "base_uri": "https://localhost:8080/",
          "height": 452
        }
      },
      "source": [
        "test"
      ],
      "execution_count": 55,
      "outputs": [
        {
          "output_type": "execute_result",
          "data": {
            "text/html": [
              "<div>\n",
              "<style scoped>\n",
              "    .dataframe tbody tr th:only-of-type {\n",
              "        vertical-align: middle;\n",
              "    }\n",
              "\n",
              "    .dataframe tbody tr th {\n",
              "        vertical-align: top;\n",
              "    }\n",
              "\n",
              "    .dataframe thead th {\n",
              "        text-align: right;\n",
              "    }\n",
              "</style>\n",
              "<table border=\"1\" class=\"dataframe\">\n",
              "  <thead>\n",
              "    <tr style=\"text-align: right;\">\n",
              "      <th></th>\n",
              "      <th>Sales</th>\n",
              "      <th>Predictions</th>\n",
              "    </tr>\n",
              "    <tr>\n",
              "      <th>DATE</th>\n",
              "      <th></th>\n",
              "      <th></th>\n",
              "    </tr>\n",
              "  </thead>\n",
              "  <tbody>\n",
              "    <tr>\n",
              "      <th>2019-08-01</th>\n",
              "      <td>14205</td>\n",
              "      <td>14267.213290</td>\n",
              "    </tr>\n",
              "    <tr>\n",
              "      <th>2019-09-01</th>\n",
              "      <td>12992</td>\n",
              "      <td>12577.055770</td>\n",
              "    </tr>\n",
              "    <tr>\n",
              "      <th>2019-10-01</th>\n",
              "      <td>14427</td>\n",
              "      <td>14052.442831</td>\n",
              "    </tr>\n",
              "    <tr>\n",
              "      <th>2019-11-01</th>\n",
              "      <td>13773</td>\n",
              "      <td>14329.053390</td>\n",
              "    </tr>\n",
              "    <tr>\n",
              "      <th>2019-12-01</th>\n",
              "      <td>16197</td>\n",
              "      <td>15582.445995</td>\n",
              "    </tr>\n",
              "    <tr>\n",
              "      <th>2020-01-01</th>\n",
              "      <td>10659</td>\n",
              "      <td>10609.255900</td>\n",
              "    </tr>\n",
              "    <tr>\n",
              "      <th>2020-02-01</th>\n",
              "      <td>11350</td>\n",
              "      <td>11494.258361</td>\n",
              "    </tr>\n",
              "    <tr>\n",
              "      <th>2020-03-01</th>\n",
              "      <td>13410</td>\n",
              "      <td>12704.182589</td>\n",
              "    </tr>\n",
              "    <tr>\n",
              "      <th>2020-04-01</th>\n",
              "      <td>12334</td>\n",
              "      <td>13578.902272</td>\n",
              "    </tr>\n",
              "    <tr>\n",
              "      <th>2020-05-01</th>\n",
              "      <td>14111</td>\n",
              "      <td>14741.545620</td>\n",
              "    </tr>\n",
              "    <tr>\n",
              "      <th>2020-06-01</th>\n",
              "      <td>16215</td>\n",
              "      <td>14417.160971</td>\n",
              "    </tr>\n",
              "    <tr>\n",
              "      <th>2020-07-01</th>\n",
              "      <td>15770</td>\n",
              "      <td>13782.369870</td>\n",
              "    </tr>\n",
              "  </tbody>\n",
              "</table>\n",
              "</div>"
            ],
            "text/plain": [
              "            Sales   Predictions\n",
              "DATE                           \n",
              "2019-08-01  14205  14267.213290\n",
              "2019-09-01  12992  12577.055770\n",
              "2019-10-01  14427  14052.442831\n",
              "2019-11-01  13773  14329.053390\n",
              "2019-12-01  16197  15582.445995\n",
              "2020-01-01  10659  10609.255900\n",
              "2020-02-01  11350  11494.258361\n",
              "2020-03-01  13410  12704.182589\n",
              "2020-04-01  12334  13578.902272\n",
              "2020-05-01  14111  14741.545620\n",
              "2020-06-01  16215  14417.160971\n",
              "2020-07-01  15770  13782.369870"
            ]
          },
          "metadata": {
            "tags": []
          },
          "execution_count": 55
        }
      ]
    },
    {
      "cell_type": "code",
      "metadata": {
        "id": "OniwCjKN8nux",
        "outputId": "2d978b35-edd1-4467-e954-bc8750ccc66e",
        "colab": {
          "base_uri": "https://localhost:8080/",
          "height": 525
        }
      },
      "source": [
        "test.plot(figsize=(12,8))"
      ],
      "execution_count": 56,
      "outputs": [
        {
          "output_type": "execute_result",
          "data": {
            "text/plain": [
              "<matplotlib.axes._subplots.AxesSubplot at 0x7f4ec28a56a0>"
            ]
          },
          "metadata": {
            "tags": []
          },
          "execution_count": 56
        },
        {
          "output_type": "display_data",
          "data": {
            "image/png": "[encoded data removed]",
            "text/plain": [
              "<Figure size 864x576 with 1 Axes>"
            ]
          },
          "metadata": {
            "tags": [],
            "needs_background": "light"
          }
        }
      ]
    },
    {
      "cell_type": "code",
      "metadata": {
        "id": "KeIQV6iIhtOB",
        "outputId": "91b2fcee-d978-40c2-f687-45f8e6ac264c",
        "colab": {
          "base_uri": "https://localhost:8080/",
          "height": 34
        }
      },
      "source": [
        "from sklearn.metrics import mean_squared_error\n",
        "mean_squared_error(test.Sales,test.Predictions) "
      ],
      "execution_count": 66,
      "outputs": [
        {
          "output_type": "execute_result",
          "data": {
            "text/plain": [
              "887912.1332353223"
            ]
          },
          "metadata": {
            "tags": []
          },
          "execution_count": 66
        }
      ]
    },
    {
      "cell_type": "markdown",
      "metadata": {
        "id": "H4SOQmyQ8nu1"
      },
      "source": [
        "# Guardar un Modelo"
      ]
    },
    {
      "cell_type": "code",
      "metadata": {
        "id": "f4lHxfZJ8nu1"
      },
      "source": [
        "model.save('my_rnn_model.h5')"
      ],
      "execution_count": 67,
      "outputs": []
    },
    {
      "cell_type": "markdown",
      "metadata": {
        "id": "rBDV3s8N8nu3"
      },
      "source": [
        "# Cargar un Modelo"
      ]
    },
    {
      "cell_type": "code",
      "metadata": {
        "id": "6GWwsMZQ8nu4"
      },
      "source": [
        "from keras.models import load_model\n",
        "new_model = load_model('my_rnn_model.h5')"
      ],
      "execution_count": null,
      "outputs": []
    },
    {
      "cell_type": "code",
      "metadata": {
        "id": "lTx3WS8t8nu6",
        "outputId": "f5b06c6d-54b0-4ca2-e125-e1d1f74e5187",
        "colab": {
          "base_uri": "https://localhost:8080/",
          "height": 218
        }
      },
      "source": [
        "new_model.summary()"
      ],
      "execution_count": null,
      "outputs": [
        {
          "output_type": "stream",
          "text": [
            "Model: \"sequential_1\"\n",
            "_________________________________________________________________\n",
            "Layer (type)                 Output Shape              Param #   \n",
            "=================================================================\n",
            "lstm_1 (LSTM)                (None, 100)               40800     \n",
            "_________________________________________________________________\n",
            "dense_1 (Dense)              (None, 1)                 101       \n",
            "=================================================================\n",
            "Total params: 40,901\n",
            "Trainable params: 40,901\n",
            "Non-trainable params: 0\n",
            "_________________________________________________________________\n"
          ],
          "name": "stdout"
        }
      ]
    }
  ]
}