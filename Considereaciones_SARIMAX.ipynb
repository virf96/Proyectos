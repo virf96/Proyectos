{
  "nbformat": 4,
  "nbformat_minor": 0,
  "metadata": {
    "kernelspec": {
      "display_name": "Python 3",
      "language": "python",
      "name": "python3"
    },
    "language_info": {
      "codemirror_mode": {
        "name": "ipython",
        "version": 3
      },
      "file_extension": ".py",
      "mimetype": "text/x-python",
      "name": "python",
      "nbconvert_exporter": "python",
      "pygments_lexer": "ipython3",
      "version": "3.6.7"
    },
    "colab": {
      "name": "Copia de 11_SARIMAX.ipynb",
      "provenance": [],
      "collapsed_sections": [],
      "include_colab_link": true
    }
  },
  "cells": [
    {
      "cell_type": "markdown",
      "metadata": {
        "id": "view-in-github",
        "colab_type": "text"
      },
      "source": [
        "<a href=\"https://colab.research.google.com/github/virf96/Proyectos/blob/master/Considereaciones_SARIMAX.ipynb\" target=\"_parent\"><img src=\"https://colab.research.google.com/assets/colab-badge.svg\" alt=\"Open In Colab\"/></a>"
      ]
    },
    {
      "cell_type": "markdown",
      "metadata": {
        "id": "_d7qT2rAzrsC",
        "colab_type": "text"
      },
      "source": [
        "# SARIMAX\n",
        "\n",
        "Estos modelos son de mayor utilidad cuando se quiere estudiar series estacionales en donde puede ser interesante tomar en cuenta 12,24 o más retrasos en el tiempo.\n",
        "\n",
        "Todos los modelos de series de tiempo tiene un equivalente estacional, donde:\n",
        "\n",
        "$\\bullet$ ARMA = SARMA \n",
        "\n",
        "$\\bullet$ ARIMA = SARIMA\n",
        "\n",
        "$\\bullet$ ARIMAX =SARIMAX (p,d,q)(P,D,Q,s)\n",
        "\n",
        "**(p,d,q)** ordenes estacionales y  **(P,D,Q,s)** ordenes no estacionales\n",
        "\n",
        "**Ordenes estacionales**\n",
        "\n",
        "$p=$ parámetro autorregresivo en el modelo\n",
        "\n",
        "$d=$ Integraciones en el modelo\n",
        "\n",
        "$q=$ parámetro de medias móviles en el modelo\n",
        "\n",
        "$P=$ parámetro autorregresivo que es afectado por el parámetro **\"s\"** \n",
        "\n",
        "$D=$ parámetro de integración que es afectado por el parámetro **\"s\"**\n",
        "\n",
        "$Q=$ parámetro de medias móviles que es afectado por el parámetro **\"s\"**\n",
        "\n",
        "$s=$ parámetro estacional (Indica la cantidad de periodos en donde aparace el ciclo estacional) si el parámetro es 1, indicamos que no hay estacionalidad en el modelo.\n",
        "\n",
        "**Ejemplo**\n",
        "\n",
        "SARIMAX(1,0,2)(2,0,1,5) \n",
        "\n",
        "**Parte no estacional:** modelo con 1 retraso, 0 integraciones, 2 residuos\n",
        "\n",
        "**Parte estacional:** valor retrasado de la variable en periodos de  en 5 en cinco con 1 retraso, 0 integraciones, 1 residuo con 2 retrasos, con ciclo de 5 retraso.\n",
        "\n",
        "$x_{t}=c+\\phi_{1}x_{t-1}+\\theta_{1}\\epsilon_{t-1}+\\theta_{2}\\epsilon_{t-2}+[\\varphi_{1}(x_{t-5},x_{t-6})+\\varphi_{2}(x_{t-10},x_{t-11})]+[\\kappa(\\epsilon_{t-5}+\\epsilon_{t-6}+\\epsilon_{t-7})]+\\epsilon_{t}$\n",
        "\n",
        "$\\bullet$ AR = SAR\n",
        "\n",
        "$\\bullet$ MA =SMA\n",
        "\n",
        "**Nota:** La **\"S\"** se agrega para denotar la estacionariedad del método.\n",
        "\n"
      ]
    },
    {
      "cell_type": "markdown",
      "metadata": {
        "id": "BPDr7s99_K-0",
        "colab_type": "text"
      },
      "source": [
        "\n",
        "## Importing the relevant packages"
      ]
    },
    {
      "cell_type": "code",
      "metadata": {
        "id": "MUKNsK21_K-1",
        "colab_type": "code",
        "colab": {
          "base_uri": "https://localhost:8080/",
          "height": 52
        },
        "outputId": "caf9e166-9b05-46b5-c930-46c0deec256d"
      },
      "source": [
        "import pandas as pd\n",
        "import numpy as np\n",
        "import matplotlib.pyplot as plt\n",
        "import statsmodels.graphics.tsaplots as sgt\n",
        "import statsmodels.tsa.stattools as sts\n",
        "from statsmodels.tsa.arima_model import ARIMA\n",
        "from scipy.stats.distributions import chi2 \n",
        "from math import sqrt\n",
        "import seaborn as sns\n",
        "sns.set()"
      ],
      "execution_count": null,
      "outputs": [
        {
          "output_type": "stream",
          "text": [
            "/usr/local/lib/python3.6/dist-packages/statsmodels/tools/_testing.py:19: FutureWarning: pandas.util.testing is deprecated. Use the functions in the public API at pandas.testing instead.\n",
            "  import pandas.util.testing as tm\n"
          ],
          "name": "stderr"
        }
      ]
    },
    {
      "cell_type": "markdown",
      "metadata": {
        "id": "81rnwAeu_K-7",
        "colab_type": "text"
      },
      "source": [
        " "
      ]
    },
    {
      "cell_type": "markdown",
      "metadata": {
        "id": "GUJCJsSf_K-8",
        "colab_type": "text"
      },
      "source": [
        "## Importing the Data and Pre-processing "
      ]
    },
    {
      "cell_type": "code",
      "metadata": {
        "id": "01HjbjLj_K-9",
        "colab_type": "code",
        "colab": {}
      },
      "source": [
        "raw_csv_data = pd.read_csv(\"Index2018.csv\") \n",
        "df_comp=raw_csv_data.copy()\n",
        "df_comp.date = pd.to_datetime(df_comp.date, dayfirst = True)\n",
        "df_comp.set_index(\"date\", inplace=True)\n",
        "df_comp=df_comp.asfreq('b')\n",
        "df_comp=df_comp.fillna(method='ffill')"
      ],
      "execution_count": null,
      "outputs": []
    },
    {
      "cell_type": "code",
      "metadata": {
        "id": "NInk_yES_K_A",
        "colab_type": "code",
        "colab": {}
      },
      "source": [
        "df_comp['market_value']=df_comp.ftse"
      ],
      "execution_count": null,
      "outputs": []
    },
    {
      "cell_type": "code",
      "metadata": {
        "id": "3ZShkZBk_K_D",
        "colab_type": "code",
        "colab": {}
      },
      "source": [
        "import warnings\n",
        "warnings.filterwarnings(\"ignore\")"
      ],
      "execution_count": null,
      "outputs": []
    },
    {
      "cell_type": "code",
      "metadata": {
        "id": "__Vn50Mi_K_G",
        "colab_type": "code",
        "colab": {}
      },
      "source": [
        "#del df_comp['spx']\n",
        "#del df_comp['dax']\n",
        "#del df_comp['ftse']\n",
        "#del df_comp['nikkei']\n",
        "size = int(len(df_comp)*0.8)\n",
        "df, df_test = df_comp.iloc[:size], df_comp.iloc[size:]"
      ],
      "execution_count": null,
      "outputs": []
    },
    {
      "cell_type": "markdown",
      "metadata": {
        "id": "u_HgIakH_K_K",
        "colab_type": "text"
      },
      "source": [
        " "
      ]
    },
    {
      "cell_type": "markdown",
      "metadata": {
        "id": "DysFtAnu_K_L",
        "colab_type": "text"
      },
      "source": [
        "## The LLR Test"
      ]
    },
    {
      "cell_type": "code",
      "metadata": {
        "id": "OtkaanKr_K_M",
        "colab_type": "code",
        "colab": {}
      },
      "source": [
        "def LLR_test(mod_1, mod_2, DF = 1):\n",
        "    L1 = mod_1.llf\n",
        "    L2 = mod_2.llf\n",
        "    LR = (2*(L2-L1))    \n",
        "    p = chi2.sf(LR, DF).round(3)\n",
        "    return p"
      ],
      "execution_count": null,
      "outputs": []
    },
    {
      "cell_type": "markdown",
      "metadata": {
        "id": "i-X39u4r_K_Q",
        "colab_type": "text"
      },
      "source": [
        "## Creating Returns"
      ]
    },
    {
      "cell_type": "code",
      "metadata": {
        "scrolled": true,
        "id": "grNAxQ2K_K_Q",
        "colab_type": "code",
        "colab": {}
      },
      "source": [
        "df['returns'] = df.market_value.pct_change(1)*100"
      ],
      "execution_count": null,
      "outputs": []
    },
    {
      "cell_type": "markdown",
      "metadata": {
        "id": "DfflTfof_K_T",
        "colab_type": "text"
      },
      "source": [
        "## ARIMA(1,1,1)"
      ]
    },
    {
      "cell_type": "code",
      "metadata": {
        "id": "b_8CVL4m_K_U",
        "colab_type": "code",
        "colab": {
          "base_uri": "https://localhost:8080/",
          "height": 302
        },
        "outputId": "b56086fd-f5cb-4840-e69d-b5a2a3abcff1"
      },
      "source": [
        "model_ar_1_i_1_ma_1 = ARIMA(df.market_value, order=(1,1,1))\n",
        "results_ar_1_i_1_ma_1 = model_ar_1_i_1_ma_1.fit()\n",
        "results_ar_1_i_1_ma_1.summary()"
      ],
      "execution_count": null,
      "outputs": [
        {
          "output_type": "execute_result",
          "data": {
            "text/html": [
              "<table class=\"simpletable\">\n",
              "<caption>ARIMA Model Results</caption>\n",
              "<tr>\n",
              "  <th>Dep. Variable:</th>  <td>D.market_value</td>  <th>  No. Observations:  </th>    <td>5020</td>   \n",
              "</tr>\n",
              "<tr>\n",
              "  <th>Model:</th>          <td>ARIMA(1, 1, 1)</td>  <th>  Log Likelihood     </th> <td>-27603.666</td>\n",
              "</tr>\n",
              "<tr>\n",
              "  <th>Method:</th>             <td>css-mle</td>     <th>  S.D. of innovations</th>   <td>59.134</td>  \n",
              "</tr>\n",
              "<tr>\n",
              "  <th>Date:</th>          <td>Wed, 22 Apr 2020</td> <th>  AIC                </th>  <td>55215.333</td>\n",
              "</tr>\n",
              "<tr>\n",
              "  <th>Time:</th>              <td>12:21:13</td>     <th>  BIC                </th>  <td>55241.418</td>\n",
              "</tr>\n",
              "<tr>\n",
              "  <th>Sample:</th>           <td>01-10-1994</td>    <th>  HQIC               </th>  <td>55224.473</td>\n",
              "</tr>\n",
              "<tr>\n",
              "  <th></th>                 <td>- 04-05-2013</td>   <th>                     </th>      <td> </td>    \n",
              "</tr>\n",
              "</table>\n",
              "<table class=\"simpletable\">\n",
              "<tr>\n",
              "            <td></td>              <th>coef</th>     <th>std err</th>      <th>z</th>      <th>P>|z|</th>  <th>[0.025</th>    <th>0.975]</th>  \n",
              "</tr>\n",
              "<tr>\n",
              "  <th>const</th>                <td>    0.5655</td> <td>    0.682</td> <td>    0.829</td> <td> 0.407</td> <td>   -0.772</td> <td>    1.903</td>\n",
              "</tr>\n",
              "<tr>\n",
              "  <th>ar.L1.D.market_value</th> <td>    0.7475</td> <td>    0.070</td> <td>   10.652</td> <td> 0.000</td> <td>    0.610</td> <td>    0.885</td>\n",
              "</tr>\n",
              "<tr>\n",
              "  <th>ma.L1.D.market_value</th> <td>   -0.7936</td> <td>    0.064</td> <td>  -12.378</td> <td> 0.000</td> <td>   -0.919</td> <td>   -0.668</td>\n",
              "</tr>\n",
              "</table>\n",
              "<table class=\"simpletable\">\n",
              "<caption>Roots</caption>\n",
              "<tr>\n",
              "    <td></td>   <th>            Real</th>  <th>         Imaginary</th> <th>         Modulus</th>  <th>        Frequency</th>\n",
              "</tr>\n",
              "<tr>\n",
              "  <th>AR.1</th> <td>           1.3378</td> <td>          +0.0000j</td> <td>           1.3378</td> <td>           0.0000</td>\n",
              "</tr>\n",
              "<tr>\n",
              "  <th>MA.1</th> <td>           1.2601</td> <td>          +0.0000j</td> <td>           1.2601</td> <td>           0.0000</td>\n",
              "</tr>\n",
              "</table>"
            ],
            "text/plain": [
              "<class 'statsmodels.iolib.summary.Summary'>\n",
              "\"\"\"\n",
              "                             ARIMA Model Results                              \n",
              "==============================================================================\n",
              "Dep. Variable:         D.market_value   No. Observations:                 5020\n",
              "Model:                 ARIMA(1, 1, 1)   Log Likelihood              -27603.666\n",
              "Method:                       css-mle   S.D. of innovations             59.134\n",
              "Date:                Wed, 22 Apr 2020   AIC                          55215.333\n",
              "Time:                        12:21:13   BIC                          55241.418\n",
              "Sample:                    01-10-1994   HQIC                         55224.473\n",
              "                         - 04-05-2013                                         \n",
              "========================================================================================\n",
              "                           coef    std err          z      P>|z|      [0.025      0.975]\n",
              "----------------------------------------------------------------------------------------\n",
              "const                    0.5655      0.682      0.829      0.407      -0.772       1.903\n",
              "ar.L1.D.market_value     0.7475      0.070     10.652      0.000       0.610       0.885\n",
              "ma.L1.D.market_value    -0.7936      0.064    -12.378      0.000      -0.919      -0.668\n",
              "                                    Roots                                    \n",
              "=============================================================================\n",
              "                  Real          Imaginary           Modulus         Frequency\n",
              "-----------------------------------------------------------------------------\n",
              "AR.1            1.3378           +0.0000j            1.3378            0.0000\n",
              "MA.1            1.2601           +0.0000j            1.2601            0.0000\n",
              "-----------------------------------------------------------------------------\n",
              "\"\"\""
            ]
          },
          "metadata": {
            "tags": []
          },
          "execution_count": 8
        }
      ]
    },
    {
      "cell_type": "markdown",
      "metadata": {
        "id": "tZQ-16iw_K_Y",
        "colab_type": "text"
      },
      "source": [
        "## Residuals of the ARIMA(1,1,1)"
      ]
    },
    {
      "cell_type": "code",
      "metadata": {
        "id": "fYtRqOoh_K_Z",
        "colab_type": "code",
        "colab": {
          "base_uri": "https://localhost:8080/",
          "height": 288
        },
        "outputId": "3cc5d24c-60ae-4ada-e178-bc99cc292d88"
      },
      "source": [
        "df['res_ar_1_i_1_ma_1'] = results_ar_1_i_1_ma_1.resid\n",
        "sgt.plot_acf(df.res_ar_1_i_1_ma_1, zero = False, lags = 40)\n",
        "plt.title(\"ACF Of Residuals for ARIMA(1,1,1)\",size=20)\n",
        "plt.show()"
      ],
      "execution_count": null,
      "outputs": [
        {
          "output_type": "display_data",
          "data": {
            "image/png": "[encoded data removed]",
            "text/plain": [
              "<Figure size 432x288 with 1 Axes>"
            ]
          },
          "metadata": {
            "tags": [],
            "needs_background": "light"
          }
        }
      ]
    },
    {
      "cell_type": "code",
      "metadata": {
        "id": "IKipaOTE_K_e",
        "colab_type": "code",
        "colab": {
          "base_uri": "https://localhost:8080/",
          "height": 288
        },
        "outputId": "5801a50f-547b-4247-c589-207786d07e19"
      },
      "source": [
        "df['res_ar_1_i_1_ma_1'] = results_ar_1_i_1_ma_1.resid.iloc[:]\n",
        "sgt.plot_acf(df.res_ar_1_i_1_ma_1[1:], zero = False, lags = 40)\n",
        "plt.title(\"ACF Of Residuals for ARIMA(1,1,1)\",size=20)\n",
        "plt.show()"
      ],
      "execution_count": null,
      "outputs": [
        {
          "output_type": "display_data",
          "data": {
            "image/png": "[encoded data removed]",
            "text/plain": [
              "<Figure size 432x288 with 1 Axes>"
            ]
          },
          "metadata": {
            "tags": [],
            "needs_background": "light"
          }
        }
      ]
    },
    {
      "cell_type": "markdown",
      "metadata": {
        "id": "1jcCzQOW_K_i",
        "colab_type": "text"
      },
      "source": [
        "## Higher-Lag ARIMA Models"
      ]
    },
    {
      "cell_type": "code",
      "metadata": {
        "id": "eBPwYxDX_K_j",
        "colab_type": "code",
        "colab": {}
      },
      "source": [
        "model_ar_1_i_1_ma_2 = ARIMA(df.market_value, order=(1,1,2))\n",
        "results_ar_1_i_1_ma_2 = model_ar_1_i_1_ma_2.fit()\n",
        "model_ar_1_i_1_ma_3 = ARIMA(df.market_value, order=(1,1,3))\n",
        "results_ar_1_i_1_ma_3 = model_ar_1_i_1_ma_3.fit()\n",
        "model_ar_2_i_1_ma_1 = ARIMA(df.market_value, order=(2,1,1))\n",
        "results_ar_2_i_1_ma_1 = model_ar_2_i_1_ma_1.fit()\n",
        "model_ar_3_i_1_ma_1 = ARIMA(df.market_value, order=(3,1,1))\n",
        "results_ar_3_i_1_ma_1 = model_ar_3_i_1_ma_1.fit()\n",
        "model_ar_3_i_1_ma_2 = ARIMA(df.market_value, order=(3,1,2))\n",
        "results_ar_3_i_1_ma_2 = model_ar_3_i_1_ma_2.fit(start_ar_lags=5)"
      ],
      "execution_count": null,
      "outputs": []
    },
    {
      "cell_type": "code",
      "metadata": {
        "id": "9dWit4Ey_K_m",
        "colab_type": "code",
        "colab": {
          "base_uri": "https://localhost:8080/",
          "height": 123
        },
        "outputId": "551f9771-fd32-4a01-b369-37a308512323"
      },
      "source": [
        "print(\"ARIMA(1,1,1):  \\t LL = \", results_ar_1_i_1_ma_1.llf, \"\\t AIC = \", results_ar_1_i_1_ma_1.aic)\n",
        "print(\"ARIMA(1,1,2):  \\t LL = \", results_ar_1_i_1_ma_2.llf, \"\\t AIC = \", results_ar_1_i_1_ma_2.aic)\n",
        "print(\"ARIMA(1,1,3):  \\t LL = \", results_ar_1_i_1_ma_3.llf, \"\\t AIC = \", results_ar_1_i_1_ma_3.aic)\n",
        "print(\"ARIMA(2,1,1):  \\t LL = \", results_ar_2_i_1_ma_1.llf, \"\\t AIC = \", results_ar_2_i_1_ma_1.aic)\n",
        "print(\"ARIMA(3,1,1):  \\t LL = \", results_ar_3_i_1_ma_1.llf, \"\\t AIC = \", results_ar_3_i_1_ma_1.aic)\n",
        "print(\"ARIMA(3,1,2):  \\t LL = \", results_ar_3_i_1_ma_2.llf, \"\\t AIC = \", results_ar_3_i_1_ma_2.aic)"
      ],
      "execution_count": null,
      "outputs": [
        {
          "output_type": "stream",
          "text": [
            "ARIMA(1,1,1):  \t LL =  -27603.666412765342 \t AIC =  55215.332825530684\n",
            "ARIMA(1,1,2):  \t LL =  -27600.081863115072 \t AIC =  55210.163726230145\n",
            "ARIMA(1,1,3):  \t LL =  -27590.424032512823 \t AIC =  55192.848065025646\n",
            "ARIMA(2,1,1):  \t LL =  -27599.807487862716 \t AIC =  55209.61497572543\n",
            "ARIMA(3,1,1):  \t LL =  -27592.05537171564 \t AIC =  55196.11074343128\n",
            "ARIMA(3,1,2):  \t LL =  -27590.660808971894 \t AIC =  55195.32161794379\n"
          ],
          "name": "stdout"
        }
      ]
    },
    {
      "cell_type": "code",
      "metadata": {
        "id": "r3XQUi57_K_p",
        "colab_type": "code",
        "colab": {
          "base_uri": "https://localhost:8080/",
          "height": 52
        },
        "outputId": "1ce1d47a-cefe-4879-d3c7-6b63a7a4c8da"
      },
      "source": [
        "print(\"\\nLLR test p-value = \" + str(LLR_test(results_ar_1_i_1_ma_2, results_ar_1_i_1_ma_3)))"
      ],
      "execution_count": null,
      "outputs": [
        {
          "output_type": "stream",
          "text": [
            "\n",
            "LLR test p-value = 0.0\n"
          ],
          "name": "stdout"
        }
      ]
    },
    {
      "cell_type": "code",
      "metadata": {
        "id": "Py3otFUl_K_t",
        "colab_type": "code",
        "colab": {
          "base_uri": "https://localhost:8080/",
          "height": 52
        },
        "outputId": "1971698e-b64c-405d-8fc1-d4f5df9b5ead"
      },
      "source": [
        "print(\"\\nLLR test p-value = \" + str(LLR_test(results_ar_1_i_1_ma_1, results_ar_1_i_1_ma_3, DF = 2)))"
      ],
      "execution_count": null,
      "outputs": [
        {
          "output_type": "stream",
          "text": [
            "\n",
            "LLR test p-value = 0.0\n"
          ],
          "name": "stdout"
        }
      ]
    },
    {
      "cell_type": "code",
      "metadata": {
        "id": "8DjdFPxG_K_v",
        "colab_type": "code",
        "colab": {
          "base_uri": "https://localhost:8080/",
          "height": 288
        },
        "outputId": "9192328b-a824-4148-cfa9-af573e20b51c"
      },
      "source": [
        "df['res_ar_1_i_1_ma_3'] = results_ar_1_i_1_ma_3.resid\n",
        "sgt.plot_acf(df.res_ar_1_i_1_ma_3[1:], zero = False, lags = 40)\n",
        "plt.title(\"ACF Of Residuals for ARIMA(1,1,3)\", size=20)\n",
        "plt.show()"
      ],
      "execution_count": null,
      "outputs": [
        {
          "output_type": "display_data",
          "data": {
            "image/png": "[encoded data removed]",
            "text/plain": [
              "<Figure size 432x288 with 1 Axes>"
            ]
          },
          "metadata": {
            "tags": [],
            "needs_background": "light"
          }
        }
      ]
    },
    {
      "cell_type": "code",
      "metadata": {
        "id": "XDljQgn__K_y",
        "colab_type": "code",
        "colab": {}
      },
      "source": [
        "model_ar_5_i_1_ma_1 = ARIMA(df.market_value, order=(5,1,1))\n",
        "results_ar_5_i_1_ma_1 = model_ar_5_i_1_ma_1.fit(start_ar_lags=11)\n",
        "model_ar_6_i_1_ma_3 = ARIMA(df.market_value, order=(6,1,3))\n",
        "results_ar_6_i_1_ma_3 = model_ar_6_i_1_ma_3.fit(start_ar_lags=11)"
      ],
      "execution_count": null,
      "outputs": []
    },
    {
      "cell_type": "code",
      "metadata": {
        "id": "vL2oOqi5_K_2",
        "colab_type": "code",
        "colab": {
          "base_uri": "https://localhost:8080/",
          "height": 444
        },
        "outputId": "fe1bcc0b-f710-49cc-8158-17914a288f1a"
      },
      "source": [
        "results_ar_5_i_1_ma_1.summary()"
      ],
      "execution_count": null,
      "outputs": [
        {
          "output_type": "execute_result",
          "data": {
            "text/html": [
              "<table class=\"simpletable\">\n",
              "<caption>ARIMA Model Results</caption>\n",
              "<tr>\n",
              "  <th>Dep. Variable:</th>  <td>D.market_value</td>  <th>  No. Observations:  </th>    <td>5020</td>   \n",
              "</tr>\n",
              "<tr>\n",
              "  <th>Model:</th>          <td>ARIMA(5, 1, 1)</td>  <th>  Log Likelihood     </th> <td>-27586.512</td>\n",
              "</tr>\n",
              "<tr>\n",
              "  <th>Method:</th>             <td>css-mle</td>     <th>  S.D. of innovations</th>   <td>58.932</td>  \n",
              "</tr>\n",
              "<tr>\n",
              "  <th>Date:</th>          <td>Wed, 22 Apr 2020</td> <th>  AIC                </th>  <td>55189.024</td>\n",
              "</tr>\n",
              "<tr>\n",
              "  <th>Time:</th>              <td>12:21:25</td>     <th>  BIC                </th>  <td>55241.193</td>\n",
              "</tr>\n",
              "<tr>\n",
              "  <th>Sample:</th>           <td>01-10-1994</td>    <th>  HQIC               </th>  <td>55207.305</td>\n",
              "</tr>\n",
              "<tr>\n",
              "  <th></th>                 <td>- 04-05-2013</td>   <th>                     </th>      <td> </td>    \n",
              "</tr>\n",
              "</table>\n",
              "<table class=\"simpletable\">\n",
              "<tr>\n",
              "            <td></td>              <th>coef</th>     <th>std err</th>      <th>z</th>      <th>P>|z|</th>  <th>[0.025</th>    <th>0.975]</th>  \n",
              "</tr>\n",
              "<tr>\n",
              "  <th>const</th>                <td>    0.5663</td> <td>    0.690</td> <td>    0.820</td> <td> 0.412</td> <td>   -0.787</td> <td>    1.919</td>\n",
              "</tr>\n",
              "<tr>\n",
              "  <th>ar.L1.D.market_value</th> <td>    0.4011</td> <td>    0.159</td> <td>    2.530</td> <td> 0.011</td> <td>    0.090</td> <td>    0.712</td>\n",
              "</tr>\n",
              "<tr>\n",
              "  <th>ar.L2.D.market_value</th> <td>   -0.0445</td> <td>    0.016</td> <td>   -2.856</td> <td> 0.004</td> <td>   -0.075</td> <td>   -0.014</td>\n",
              "</tr>\n",
              "<tr>\n",
              "  <th>ar.L3.D.market_value</th> <td>   -0.0543</td> <td>    0.017</td> <td>   -3.163</td> <td> 0.002</td> <td>   -0.088</td> <td>   -0.021</td>\n",
              "</tr>\n",
              "<tr>\n",
              "  <th>ar.L4.D.market_value</th> <td>    0.0586</td> <td>    0.019</td> <td>    3.069</td> <td> 0.002</td> <td>    0.021</td> <td>    0.096</td>\n",
              "</tr>\n",
              "<tr>\n",
              "  <th>ar.L5.D.market_value</th> <td>   -0.0581</td> <td>    0.014</td> <td>   -4.118</td> <td> 0.000</td> <td>   -0.086</td> <td>   -0.030</td>\n",
              "</tr>\n",
              "<tr>\n",
              "  <th>ma.L1.D.market_value</th> <td>   -0.4213</td> <td>    0.158</td> <td>   -2.659</td> <td> 0.008</td> <td>   -0.732</td> <td>   -0.111</td>\n",
              "</tr>\n",
              "</table>\n",
              "<table class=\"simpletable\">\n",
              "<caption>Roots</caption>\n",
              "<tr>\n",
              "    <td></td>   <th>            Real</th>  <th>         Imaginary</th> <th>         Modulus</th>  <th>        Frequency</th>\n",
              "</tr>\n",
              "<tr>\n",
              "  <th>AR.1</th> <td>          -1.7609</td> <td>          -0.0000j</td> <td>           1.7609</td> <td>          -0.5000</td>\n",
              "</tr>\n",
              "<tr>\n",
              "  <th>AR.2</th> <td>           1.4633</td> <td>          -0.8605j</td> <td>           1.6975</td> <td>          -0.0846</td>\n",
              "</tr>\n",
              "<tr>\n",
              "  <th>AR.3</th> <td>           1.4633</td> <td>          +0.8605j</td> <td>           1.6975</td> <td>           0.0846</td>\n",
              "</tr>\n",
              "<tr>\n",
              "  <th>AR.4</th> <td>          -0.0790</td> <td>          -1.8393j</td> <td>           1.8410</td> <td>          -0.2568</td>\n",
              "</tr>\n",
              "<tr>\n",
              "  <th>AR.5</th> <td>          -0.0790</td> <td>          +1.8393j</td> <td>           1.8410</td> <td>           0.2568</td>\n",
              "</tr>\n",
              "<tr>\n",
              "  <th>MA.1</th> <td>           2.3734</td> <td>          +0.0000j</td> <td>           2.3734</td> <td>           0.0000</td>\n",
              "</tr>\n",
              "</table>"
            ],
            "text/plain": [
              "<class 'statsmodels.iolib.summary.Summary'>\n",
              "\"\"\"\n",
              "                             ARIMA Model Results                              \n",
              "==============================================================================\n",
              "Dep. Variable:         D.market_value   No. Observations:                 5020\n",
              "Model:                 ARIMA(5, 1, 1)   Log Likelihood              -27586.512\n",
              "Method:                       css-mle   S.D. of innovations             58.932\n",
              "Date:                Wed, 22 Apr 2020   AIC                          55189.024\n",
              "Time:                        12:21:25   BIC                          55241.193\n",
              "Sample:                    01-10-1994   HQIC                         55207.305\n",
              "                         - 04-05-2013                                         \n",
              "========================================================================================\n",
              "                           coef    std err          z      P>|z|      [0.025      0.975]\n",
              "----------------------------------------------------------------------------------------\n",
              "const                    0.5663      0.690      0.820      0.412      -0.787       1.919\n",
              "ar.L1.D.market_value     0.4011      0.159      2.530      0.011       0.090       0.712\n",
              "ar.L2.D.market_value    -0.0445      0.016     -2.856      0.004      -0.075      -0.014\n",
              "ar.L3.D.market_value    -0.0543      0.017     -3.163      0.002      -0.088      -0.021\n",
              "ar.L4.D.market_value     0.0586      0.019      3.069      0.002       0.021       0.096\n",
              "ar.L5.D.market_value    -0.0581      0.014     -4.118      0.000      -0.086      -0.030\n",
              "ma.L1.D.market_value    -0.4213      0.158     -2.659      0.008      -0.732      -0.111\n",
              "                                    Roots                                    \n",
              "=============================================================================\n",
              "                  Real          Imaginary           Modulus         Frequency\n",
              "-----------------------------------------------------------------------------\n",
              "AR.1           -1.7609           -0.0000j            1.7609           -0.5000\n",
              "AR.2            1.4633           -0.8605j            1.6975           -0.0846\n",
              "AR.3            1.4633           +0.8605j            1.6975            0.0846\n",
              "AR.4           -0.0790           -1.8393j            1.8410           -0.2568\n",
              "AR.5           -0.0790           +1.8393j            1.8410            0.2568\n",
              "MA.1            2.3734           +0.0000j            2.3734            0.0000\n",
              "-----------------------------------------------------------------------------\n",
              "\"\"\""
            ]
          },
          "metadata": {
            "tags": []
          },
          "execution_count": 17
        }
      ]
    },
    {
      "cell_type": "code",
      "metadata": {
        "id": "Spl0bFUK_K_4",
        "colab_type": "code",
        "colab": {
          "base_uri": "https://localhost:8080/",
          "height": 70
        },
        "outputId": "cf968e2c-abb7-475d-c34c-dba5c4ebf180"
      },
      "source": [
        "print(\"ARIMA(1,1,3):  \\t LL = \", results_ar_1_i_1_ma_3.llf, \"\\t AIC = \", results_ar_1_i_1_ma_3.aic)\n",
        "print(\"ARIMA(5,1,1):  \\t LL = \", results_ar_5_i_1_ma_1.llf, \"\\t AIC = \", results_ar_5_i_1_ma_1.aic)\n",
        "print(\"ARIMA(6,1,3):  \\t LL = \", results_ar_6_i_1_ma_3.llf, \"\\t AIC = \", results_ar_6_i_1_ma_3.aic)"
      ],
      "execution_count": null,
      "outputs": [
        {
          "output_type": "stream",
          "text": [
            "ARIMA(1,1,3):  \t LL =  -27590.424032512823 \t AIC =  55192.848065025646\n",
            "ARIMA(5,1,1):  \t LL =  -27586.51188810907 \t AIC =  55189.02377621814\n",
            "ARIMA(6,1,3):  \t LL =  -27583.565320496647 \t AIC =  55189.130640993295\n"
          ],
          "name": "stdout"
        }
      ]
    },
    {
      "cell_type": "code",
      "metadata": {
        "id": "84qCurS4_K_7",
        "colab_type": "code",
        "colab": {
          "base_uri": "https://localhost:8080/",
          "height": 52
        },
        "outputId": "a7c19d90-f491-47e2-9ced-ee5bbbc94a12"
      },
      "source": [
        "print(\"\\nLLR test p-value = \" + str(LLR_test(results_ar_1_i_1_ma_3, results_ar_6_i_1_ma_3, DF = 5)))"
      ],
      "execution_count": null,
      "outputs": [
        {
          "output_type": "stream",
          "text": [
            "\n",
            "LLR test p-value = 0.018\n"
          ],
          "name": "stdout"
        }
      ]
    },
    {
      "cell_type": "code",
      "metadata": {
        "id": "YMw1J1WG_K_9",
        "colab_type": "code",
        "colab": {
          "base_uri": "https://localhost:8080/",
          "height": 52
        },
        "outputId": "ceda8faf-cc7c-4b4f-ed70-21258dd2935c"
      },
      "source": [
        "print(\"\\nLLR test p-value = \" + str(LLR_test(results_ar_5_i_1_ma_1, results_ar_6_i_1_ma_3, DF = 3)))"
      ],
      "execution_count": null,
      "outputs": [
        {
          "output_type": "stream",
          "text": [
            "\n",
            "LLR test p-value = 0.117\n"
          ],
          "name": "stdout"
        }
      ]
    },
    {
      "cell_type": "code",
      "metadata": {
        "id": "awV04LGC_LAA",
        "colab_type": "code",
        "colab": {
          "base_uri": "https://localhost:8080/",
          "height": 288
        },
        "outputId": "bc62a710-e2b3-4588-fefe-2ad8def98396"
      },
      "source": [
        "df['res_ar_5_i_1_ma_1'] = results_ar_5_i_1_ma_1.resid\n",
        "sgt.plot_acf(df.res_ar_5_i_1_ma_1[1:], zero = False, lags = 40)\n",
        "plt.title(\"ACF Of Residuals for ARIMA(5,1,1)\", size=20)\n",
        "plt.show()"
      ],
      "execution_count": null,
      "outputs": [
        {
          "output_type": "display_data",
          "data": {
            "image/png": "[encoded data removed]",
            "text/plain": [
              "<Figure size 432x288 with 1 Axes>"
            ]
          },
          "metadata": {
            "tags": [],
            "needs_background": "light"
          }
        }
      ]
    },
    {
      "cell_type": "markdown",
      "metadata": {
        "id": "AC9x2ljK_LAC",
        "colab_type": "text"
      },
      "source": [
        "## Models with Higher Levels of Integration"
      ]
    },
    {
      "cell_type": "code",
      "metadata": {
        "id": "RtZZGmKJ_LAD",
        "colab_type": "code",
        "colab": {}
      },
      "source": [
        "df['delta_prices']=df.market_value.diff(1)"
      ],
      "execution_count": null,
      "outputs": []
    },
    {
      "cell_type": "code",
      "metadata": {
        "scrolled": true,
        "id": "AdhI2F15_LAF",
        "colab_type": "code",
        "colab": {
          "base_uri": "https://localhost:8080/",
          "height": 302
        },
        "outputId": "919d1219-19e6-47b0-95fc-cb5c99c52ea9"
      },
      "source": [
        "model_delta_ar_1_i_1_ma_1 = ARIMA(df.delta_prices[1:], order=(1,0,1))\n",
        "results_delta_ar_1_i_1_ma_1 = model_delta_ar_1_i_1_ma_1.fit()\n",
        "results_delta_ar_1_i_1_ma_1.summary()"
      ],
      "execution_count": null,
      "outputs": [
        {
          "output_type": "execute_result",
          "data": {
            "text/html": [
              "<table class=\"simpletable\">\n",
              "<caption>ARMA Model Results</caption>\n",
              "<tr>\n",
              "  <th>Dep. Variable:</th>   <td>delta_prices</td>   <th>  No. Observations:  </th>    <td>5020</td>   \n",
              "</tr>\n",
              "<tr>\n",
              "  <th>Model:</th>            <td>ARMA(1, 1)</td>    <th>  Log Likelihood     </th> <td>-27603.666</td>\n",
              "</tr>\n",
              "<tr>\n",
              "  <th>Method:</th>             <td>css-mle</td>     <th>  S.D. of innovations</th>   <td>59.134</td>  \n",
              "</tr>\n",
              "<tr>\n",
              "  <th>Date:</th>          <td>Wed, 22 Apr 2020</td> <th>  AIC                </th>  <td>55215.333</td>\n",
              "</tr>\n",
              "<tr>\n",
              "  <th>Time:</th>              <td>12:21:27</td>     <th>  BIC                </th>  <td>55241.418</td>\n",
              "</tr>\n",
              "<tr>\n",
              "  <th>Sample:</th>           <td>01-10-1994</td>    <th>  HQIC               </th>  <td>55224.473</td>\n",
              "</tr>\n",
              "<tr>\n",
              "  <th></th>                 <td>- 04-05-2013</td>   <th>                     </th>      <td> </td>    \n",
              "</tr>\n",
              "</table>\n",
              "<table class=\"simpletable\">\n",
              "<tr>\n",
              "           <td></td>             <th>coef</th>     <th>std err</th>      <th>z</th>      <th>P>|z|</th>  <th>[0.025</th>    <th>0.975]</th>  \n",
              "</tr>\n",
              "<tr>\n",
              "  <th>const</th>              <td>    0.5655</td> <td>    0.682</td> <td>    0.829</td> <td> 0.407</td> <td>   -0.772</td> <td>    1.903</td>\n",
              "</tr>\n",
              "<tr>\n",
              "  <th>ar.L1.delta_prices</th> <td>    0.7475</td> <td>    0.070</td> <td>   10.652</td> <td> 0.000</td> <td>    0.610</td> <td>    0.885</td>\n",
              "</tr>\n",
              "<tr>\n",
              "  <th>ma.L1.delta_prices</th> <td>   -0.7936</td> <td>    0.064</td> <td>  -12.378</td> <td> 0.000</td> <td>   -0.919</td> <td>   -0.668</td>\n",
              "</tr>\n",
              "</table>\n",
              "<table class=\"simpletable\">\n",
              "<caption>Roots</caption>\n",
              "<tr>\n",
              "    <td></td>   <th>            Real</th>  <th>         Imaginary</th> <th>         Modulus</th>  <th>        Frequency</th>\n",
              "</tr>\n",
              "<tr>\n",
              "  <th>AR.1</th> <td>           1.3378</td> <td>          +0.0000j</td> <td>           1.3378</td> <td>           0.0000</td>\n",
              "</tr>\n",
              "<tr>\n",
              "  <th>MA.1</th> <td>           1.2601</td> <td>          +0.0000j</td> <td>           1.2601</td> <td>           0.0000</td>\n",
              "</tr>\n",
              "</table>"
            ],
            "text/plain": [
              "<class 'statsmodels.iolib.summary.Summary'>\n",
              "\"\"\"\n",
              "                              ARMA Model Results                              \n",
              "==============================================================================\n",
              "Dep. Variable:           delta_prices   No. Observations:                 5020\n",
              "Model:                     ARMA(1, 1)   Log Likelihood              -27603.666\n",
              "Method:                       css-mle   S.D. of innovations             59.134\n",
              "Date:                Wed, 22 Apr 2020   AIC                          55215.333\n",
              "Time:                        12:21:27   BIC                          55241.418\n",
              "Sample:                    01-10-1994   HQIC                         55224.473\n",
              "                         - 04-05-2013                                         \n",
              "======================================================================================\n",
              "                         coef    std err          z      P>|z|      [0.025      0.975]\n",
              "--------------------------------------------------------------------------------------\n",
              "const                  0.5655      0.682      0.829      0.407      -0.772       1.903\n",
              "ar.L1.delta_prices     0.7475      0.070     10.652      0.000       0.610       0.885\n",
              "ma.L1.delta_prices    -0.7936      0.064    -12.378      0.000      -0.919      -0.668\n",
              "                                    Roots                                    \n",
              "=============================================================================\n",
              "                  Real          Imaginary           Modulus         Frequency\n",
              "-----------------------------------------------------------------------------\n",
              "AR.1            1.3378           +0.0000j            1.3378            0.0000\n",
              "MA.1            1.2601           +0.0000j            1.2601            0.0000\n",
              "-----------------------------------------------------------------------------\n",
              "\"\"\""
            ]
          },
          "metadata": {
            "tags": []
          },
          "execution_count": 23
        }
      ]
    },
    {
      "cell_type": "code",
      "metadata": {
        "id": "c79d0MjQ_LAJ",
        "colab_type": "code",
        "colab": {
          "base_uri": "https://localhost:8080/",
          "height": 158
        },
        "outputId": "31fdff76-b591-4f4c-f026-e6bc935c4aea"
      },
      "source": [
        "sts.adfuller(df.delta_prices[1:])"
      ],
      "execution_count": null,
      "outputs": [
        {
          "output_type": "execute_result",
          "data": {
            "text/plain": [
              "(-32.244093495707475,\n",
              " 0.0,\n",
              " 5,\n",
              " 5014,\n",
              " {'1%': -3.4316548765428174,\n",
              "  '10%': -2.5670769326348926,\n",
              "  '5%': -2.8621166146845334},\n",
              " 54845.96104221891)"
            ]
          },
          "metadata": {
            "tags": []
          },
          "execution_count": 24
        }
      ]
    },
    {
      "cell_type": "code",
      "metadata": {
        "id": "99OqRiT5_LAL",
        "colab_type": "code",
        "colab": {
          "base_uri": "https://localhost:8080/",
          "height": 302
        },
        "outputId": "9673f884-5941-4328-b4fd-1ee28b9d9dc2"
      },
      "source": [
        "model_ar_1_i_2_ma_1 = ARIMA(df.market_value, order=(1,2,1))\n",
        "results_ar_1_i_2_ma_1 = model_ar_1_i_2_ma_1.fit(start_ar_lags=10)\n",
        "results_ar_1_i_2_ma_1.summary()"
      ],
      "execution_count": null,
      "outputs": [
        {
          "output_type": "execute_result",
          "data": {
            "text/html": [
              "<table class=\"simpletable\">\n",
              "<caption>ARIMA Model Results</caption>\n",
              "<tr>\n",
              "  <th>Dep. Variable:</th>  <td>D2.market_value</td> <th>  No. Observations:  </th>    <td>5019</td>   \n",
              "</tr>\n",
              "<tr>\n",
              "  <th>Model:</th>          <td>ARIMA(1, 2, 1)</td>  <th>  Log Likelihood     </th> <td>-27614.159</td>\n",
              "</tr>\n",
              "<tr>\n",
              "  <th>Method:</th>             <td>css-mle</td>     <th>  S.D. of innovations</th>   <td>59.272</td>  \n",
              "</tr>\n",
              "<tr>\n",
              "  <th>Date:</th>          <td>Wed, 22 Apr 2020</td> <th>  AIC                </th>  <td>55236.317</td>\n",
              "</tr>\n",
              "<tr>\n",
              "  <th>Time:</th>              <td>12:21:28</td>     <th>  BIC                </th>  <td>55262.401</td>\n",
              "</tr>\n",
              "<tr>\n",
              "  <th>Sample:</th>           <td>01-11-1994</td>    <th>  HQIC               </th>  <td>55245.457</td>\n",
              "</tr>\n",
              "<tr>\n",
              "  <th></th>                 <td>- 04-05-2013</td>   <th>                     </th>      <td> </td>    \n",
              "</tr>\n",
              "</table>\n",
              "<table class=\"simpletable\">\n",
              "<tr>\n",
              "            <td></td>               <th>coef</th>     <th>std err</th>      <th>z</th>      <th>P>|z|</th>  <th>[0.025</th>    <th>0.975]</th>  \n",
              "</tr>\n",
              "<tr>\n",
              "  <th>const</th>                 <td>   -0.0001</td> <td>    0.001</td> <td>   -0.202</td> <td> 0.840</td> <td>   -0.001</td> <td>    0.001</td>\n",
              "</tr>\n",
              "<tr>\n",
              "  <th>ar.L1.D2.market_value</th> <td>   -0.0178</td> <td>    0.014</td> <td>   -1.262</td> <td> 0.207</td> <td>   -0.045</td> <td>    0.010</td>\n",
              "</tr>\n",
              "<tr>\n",
              "  <th>ma.L1.D2.market_value</th> <td>   -1.0000</td> <td>    0.001</td> <td>-1716.128</td> <td> 0.000</td> <td>   -1.001</td> <td>   -0.999</td>\n",
              "</tr>\n",
              "</table>\n",
              "<table class=\"simpletable\">\n",
              "<caption>Roots</caption>\n",
              "<tr>\n",
              "    <td></td>   <th>            Real</th>  <th>         Imaginary</th> <th>         Modulus</th>  <th>        Frequency</th>\n",
              "</tr>\n",
              "<tr>\n",
              "  <th>AR.1</th> <td>         -56.1374</td> <td>          +0.0000j</td> <td>          56.1374</td> <td>           0.5000</td>\n",
              "</tr>\n",
              "<tr>\n",
              "  <th>MA.1</th> <td>           1.0000</td> <td>          +0.0000j</td> <td>           1.0000</td> <td>           0.0000</td>\n",
              "</tr>\n",
              "</table>"
            ],
            "text/plain": [
              "<class 'statsmodels.iolib.summary.Summary'>\n",
              "\"\"\"\n",
              "                             ARIMA Model Results                              \n",
              "==============================================================================\n",
              "Dep. Variable:        D2.market_value   No. Observations:                 5019\n",
              "Model:                 ARIMA(1, 2, 1)   Log Likelihood              -27614.159\n",
              "Method:                       css-mle   S.D. of innovations             59.272\n",
              "Date:                Wed, 22 Apr 2020   AIC                          55236.317\n",
              "Time:                        12:21:28   BIC                          55262.401\n",
              "Sample:                    01-11-1994   HQIC                         55245.457\n",
              "                         - 04-05-2013                                         \n",
              "=========================================================================================\n",
              "                            coef    std err          z      P>|z|      [0.025      0.975]\n",
              "-----------------------------------------------------------------------------------------\n",
              "const                    -0.0001      0.001     -0.202      0.840      -0.001       0.001\n",
              "ar.L1.D2.market_value    -0.0178      0.014     -1.262      0.207      -0.045       0.010\n",
              "ma.L1.D2.market_value    -1.0000      0.001  -1716.128      0.000      -1.001      -0.999\n",
              "                                    Roots                                    \n",
              "=============================================================================\n",
              "                  Real          Imaginary           Modulus         Frequency\n",
              "-----------------------------------------------------------------------------\n",
              "AR.1          -56.1374           +0.0000j           56.1374            0.5000\n",
              "MA.1            1.0000           +0.0000j            1.0000            0.0000\n",
              "-----------------------------------------------------------------------------\n",
              "\"\"\""
            ]
          },
          "metadata": {
            "tags": []
          },
          "execution_count": 25
        }
      ]
    },
    {
      "cell_type": "code",
      "metadata": {
        "id": "tJmL6W4O_LAP",
        "colab_type": "code",
        "colab": {
          "base_uri": "https://localhost:8080/",
          "height": 288
        },
        "outputId": "00574885-84b0-4863-d850-3bb363cbfbbc"
      },
      "source": [
        "df['res_ar_1_i_2_ma_1'] = results_ar_1_i_2_ma_1.resid.iloc[:]\n",
        "sgt.plot_acf(df.res_ar_1_i_2_ma_1[2:], zero = False, lags = 40)\n",
        "plt.title(\"ACF Of Residuals for ARIMA(1,2,1)\",size=20)\n",
        "plt.show()"
      ],
      "execution_count": null,
      "outputs": [
        {
          "output_type": "display_data",
          "data": {
            "image/png": "[encoded data removed]",
            "text/plain": [
              "<Figure size 432x288 with 1 Axes>"
            ]
          },
          "metadata": {
            "tags": [],
            "needs_background": "light"
          }
        }
      ]
    },
    {
      "cell_type": "markdown",
      "metadata": {
        "id": "PGfkUqN0_LAT",
        "colab_type": "text"
      },
      "source": [
        "## ARIMAX "
      ]
    },
    {
      "cell_type": "code",
      "metadata": {
        "scrolled": true,
        "id": "-9MpT-qQ_LAT",
        "colab_type": "code",
        "colab": {
          "base_uri": "https://localhost:8080/",
          "height": 320
        },
        "outputId": "42398cb3-bfd1-4b55-cfdf-c63e8a62db9e"
      },
      "source": [
        "model_ar_1_i_1_ma_1_Xspx = ARIMA(df.market_value, exog = df.spx, order=(1,1,1))\n",
        "results_ar_1_i_1_ma_1_Xspx = model_ar_1_i_1_ma_1_Xspx.fit()\n",
        "results_ar_1_i_1_ma_1_Xspx.summary()"
      ],
      "execution_count": null,
      "outputs": [
        {
          "output_type": "execute_result",
          "data": {
            "text/html": [
              "<table class=\"simpletable\">\n",
              "<caption>ARIMA Model Results</caption>\n",
              "<tr>\n",
              "  <th>Dep. Variable:</th>  <td>D.market_value</td>  <th>  No. Observations:  </th>    <td>5020</td>   \n",
              "</tr>\n",
              "<tr>\n",
              "  <th>Model:</th>          <td>ARIMA(1, 1, 1)</td>  <th>  Log Likelihood     </th> <td>-27603.556</td>\n",
              "</tr>\n",
              "<tr>\n",
              "  <th>Method:</th>             <td>css-mle</td>     <th>  S.D. of innovations</th>   <td>59.132</td>  \n",
              "</tr>\n",
              "<tr>\n",
              "  <th>Date:</th>          <td>Wed, 22 Apr 2020</td> <th>  AIC                </th>  <td>55217.112</td>\n",
              "</tr>\n",
              "<tr>\n",
              "  <th>Time:</th>              <td>12:21:30</td>     <th>  BIC                </th>  <td>55249.718</td>\n",
              "</tr>\n",
              "<tr>\n",
              "  <th>Sample:</th>           <td>01-10-1994</td>    <th>  HQIC               </th>  <td>55228.538</td>\n",
              "</tr>\n",
              "<tr>\n",
              "  <th></th>                 <td>- 04-05-2013</td>   <th>                     </th>      <td> </td>    \n",
              "</tr>\n",
              "</table>\n",
              "<table class=\"simpletable\">\n",
              "<tr>\n",
              "            <td></td>              <th>coef</th>     <th>std err</th>      <th>z</th>      <th>P>|z|</th>  <th>[0.025</th>    <th>0.975]</th>  \n",
              "</tr>\n",
              "<tr>\n",
              "  <th>const</th>                <td>   -0.5904</td> <td>    2.655</td> <td>   -0.222</td> <td> 0.824</td> <td>   -5.795</td> <td>    4.614</td>\n",
              "</tr>\n",
              "<tr>\n",
              "  <th>spx</th>                  <td>    0.0011</td> <td>    0.002</td> <td>    0.452</td> <td> 0.651</td> <td>   -0.004</td> <td>    0.006</td>\n",
              "</tr>\n",
              "<tr>\n",
              "  <th>ar.L1.D.market_value</th> <td>    0.7455</td> <td>    0.070</td> <td>   10.576</td> <td> 0.000</td> <td>    0.607</td> <td>    0.884</td>\n",
              "</tr>\n",
              "<tr>\n",
              "  <th>ma.L1.D.market_value</th> <td>   -0.7916</td> <td>    0.065</td> <td>  -12.271</td> <td> 0.000</td> <td>   -0.918</td> <td>   -0.665</td>\n",
              "</tr>\n",
              "</table>\n",
              "<table class=\"simpletable\">\n",
              "<caption>Roots</caption>\n",
              "<tr>\n",
              "    <td></td>   <th>            Real</th>  <th>         Imaginary</th> <th>         Modulus</th>  <th>        Frequency</th>\n",
              "</tr>\n",
              "<tr>\n",
              "  <th>AR.1</th> <td>           1.3413</td> <td>          +0.0000j</td> <td>           1.3413</td> <td>           0.0000</td>\n",
              "</tr>\n",
              "<tr>\n",
              "  <th>MA.1</th> <td>           1.2632</td> <td>          +0.0000j</td> <td>           1.2632</td> <td>           0.0000</td>\n",
              "</tr>\n",
              "</table>"
            ],
            "text/plain": [
              "<class 'statsmodels.iolib.summary.Summary'>\n",
              "\"\"\"\n",
              "                             ARIMA Model Results                              \n",
              "==============================================================================\n",
              "Dep. Variable:         D.market_value   No. Observations:                 5020\n",
              "Model:                 ARIMA(1, 1, 1)   Log Likelihood              -27603.556\n",
              "Method:                       css-mle   S.D. of innovations             59.132\n",
              "Date:                Wed, 22 Apr 2020   AIC                          55217.112\n",
              "Time:                        12:21:30   BIC                          55249.718\n",
              "Sample:                    01-10-1994   HQIC                         55228.538\n",
              "                         - 04-05-2013                                         \n",
              "========================================================================================\n",
              "                           coef    std err          z      P>|z|      [0.025      0.975]\n",
              "----------------------------------------------------------------------------------------\n",
              "const                   -0.5904      2.655     -0.222      0.824      -5.795       4.614\n",
              "spx                      0.0011      0.002      0.452      0.651      -0.004       0.006\n",
              "ar.L1.D.market_value     0.7455      0.070     10.576      0.000       0.607       0.884\n",
              "ma.L1.D.market_value    -0.7916      0.065    -12.271      0.000      -0.918      -0.665\n",
              "                                    Roots                                    \n",
              "=============================================================================\n",
              "                  Real          Imaginary           Modulus         Frequency\n",
              "-----------------------------------------------------------------------------\n",
              "AR.1            1.3413           +0.0000j            1.3413            0.0000\n",
              "MA.1            1.2632           +0.0000j            1.2632            0.0000\n",
              "-----------------------------------------------------------------------------\n",
              "\"\"\""
            ]
          },
          "metadata": {
            "tags": []
          },
          "execution_count": 27
        }
      ]
    },
    {
      "cell_type": "markdown",
      "metadata": {
        "id": "7OZy0Q40_LAV",
        "colab_type": "text"
      },
      "source": [
        "## SARIMAX"
      ]
    },
    {
      "cell_type": "code",
      "metadata": {
        "id": "vqbUeUFg_LAW",
        "colab_type": "code",
        "colab": {}
      },
      "source": [
        "from statsmodels.tsa.statespace.sarimax import SARIMAX"
      ],
      "execution_count": null,
      "outputs": []
    },
    {
      "cell_type": "code",
      "metadata": {
        "id": "k1Lk3rKg_LAZ",
        "colab_type": "code",
        "colab": {
          "base_uri": "https://localhost:8080/",
          "height": 441
        },
        "outputId": "779743c4-942a-4980-a255-3ce8cbbb0e8c"
      },
      "source": [
        "model_sarimax = SARIMAX(df.market_value, exog = df.spx, order=(1,0,1), seasonal_order = (2,0,1,5))\n",
        "results_sarimax = model_sarimax.fit()\n",
        "results_sarimax.summary()"
      ],
      "execution_count": null,
      "outputs": [
        {
          "output_type": "execute_result",
          "data": {
            "text/html": [
              "<table class=\"simpletable\">\n",
              "<caption>Statespace Model Results</caption>\n",
              "<tr>\n",
              "  <th>Dep. Variable:</th>           <td>market_value</td>          <th>  No. Observations:  </th>    <td>5021</td>   \n",
              "</tr>\n",
              "<tr>\n",
              "  <th>Model:</th>           <td>SARIMAX(1, 0, 1)x(2, 0, 1, 5)</td> <th>  Log Likelihood     </th> <td>-26712.640</td>\n",
              "</tr>\n",
              "<tr>\n",
              "  <th>Date:</th>                  <td>Wed, 22 Apr 2020</td>        <th>  AIC                </th>  <td>53439.280</td>\n",
              "</tr>\n",
              "<tr>\n",
              "  <th>Time:</th>                      <td>12:21:55</td>            <th>  BIC                </th>  <td>53484.930</td>\n",
              "</tr>\n",
              "<tr>\n",
              "  <th>Sample:</th>                   <td>01-07-1994</td>           <th>  HQIC               </th>  <td>53455.277</td>\n",
              "</tr>\n",
              "<tr>\n",
              "  <th></th>                         <td>- 04-05-2013</td>          <th>                     </th>      <td> </td>    \n",
              "</tr>\n",
              "<tr>\n",
              "  <th>Covariance Type:</th>              <td>opg</td>              <th>                     </th>      <td> </td>    \n",
              "</tr>\n",
              "</table>\n",
              "<table class=\"simpletable\">\n",
              "<tr>\n",
              "      <td></td>        <th>coef</th>     <th>std err</th>      <th>z</th>      <th>P>|z|</th>  <th>[0.025</th>    <th>0.975]</th>  \n",
              "</tr>\n",
              "<tr>\n",
              "  <th>spx</th>      <td>    2.7050</td> <td>    0.035</td> <td>   76.296</td> <td> 0.000</td> <td>    2.636</td> <td>    2.774</td>\n",
              "</tr>\n",
              "<tr>\n",
              "  <th>ar.L1</th>    <td>    0.9998</td> <td>    0.000</td> <td> 2168.277</td> <td> 0.000</td> <td>    0.999</td> <td>    1.001</td>\n",
              "</tr>\n",
              "<tr>\n",
              "  <th>ma.L1</th>    <td>   -0.3102</td> <td>    0.010</td> <td>  -32.627</td> <td> 0.000</td> <td>   -0.329</td> <td>   -0.292</td>\n",
              "</tr>\n",
              "<tr>\n",
              "  <th>ar.S.L5</th>  <td>    0.9651</td> <td>    0.011</td> <td>   90.384</td> <td> 0.000</td> <td>    0.944</td> <td>    0.986</td>\n",
              "</tr>\n",
              "<tr>\n",
              "  <th>ar.S.L10</th> <td>    0.0345</td> <td>    0.010</td> <td>    3.497</td> <td> 0.000</td> <td>    0.015</td> <td>    0.054</td>\n",
              "</tr>\n",
              "<tr>\n",
              "  <th>ma.S.L5</th>  <td>   -0.9987</td> <td>    0.006</td> <td> -173.006</td> <td> 0.000</td> <td>   -1.010</td> <td>   -0.987</td>\n",
              "</tr>\n",
              "<tr>\n",
              "  <th>sigma2</th>   <td> 2442.8429</td> <td>   28.285</td> <td>   86.365</td> <td> 0.000</td> <td> 2387.405</td> <td> 2498.280</td>\n",
              "</tr>\n",
              "</table>\n",
              "<table class=\"simpletable\">\n",
              "<tr>\n",
              "  <th>Ljung-Box (Q):</th>          <td>95.45</td> <th>  Jarque-Bera (JB):  </th> <td>4208.47</td>\n",
              "</tr>\n",
              "<tr>\n",
              "  <th>Prob(Q):</th>                <td>0.00</td>  <th>  Prob(JB):          </th>  <td>0.00</td>  \n",
              "</tr>\n",
              "<tr>\n",
              "  <th>Heteroskedasticity (H):</th> <td>1.23</td>  <th>  Skew:              </th>  <td>-0.52</td> \n",
              "</tr>\n",
              "<tr>\n",
              "  <th>Prob(H) (two-sided):</th>    <td>0.00</td>  <th>  Kurtosis:          </th>  <td>7.36</td>  \n",
              "</tr>\n",
              "</table><br/><br/>Warnings:<br/>[1] Covariance matrix calculated using the outer product of gradients (complex-step)."
            ],
            "text/plain": [
              "<class 'statsmodels.iolib.summary.Summary'>\n",
              "\"\"\"\n",
              "                                 Statespace Model Results                                \n",
              "=========================================================================================\n",
              "Dep. Variable:                      market_value   No. Observations:                 5021\n",
              "Model:             SARIMAX(1, 0, 1)x(2, 0, 1, 5)   Log Likelihood              -26712.640\n",
              "Date:                           Wed, 22 Apr 2020   AIC                          53439.280\n",
              "Time:                                   12:21:55   BIC                          53484.930\n",
              "Sample:                               01-07-1994   HQIC                         53455.277\n",
              "                                    - 04-05-2013                                         \n",
              "Covariance Type:                             opg                                         \n",
              "==============================================================================\n",
              "                 coef    std err          z      P>|z|      [0.025      0.975]\n",
              "------------------------------------------------------------------------------\n",
              "spx            2.7050      0.035     76.296      0.000       2.636       2.774\n",
              "ar.L1          0.9998      0.000   2168.277      0.000       0.999       1.001\n",
              "ma.L1         -0.3102      0.010    -32.627      0.000      -0.329      -0.292\n",
              "ar.S.L5        0.9651      0.011     90.384      0.000       0.944       0.986\n",
              "ar.S.L10       0.0345      0.010      3.497      0.000       0.015       0.054\n",
              "ma.S.L5       -0.9987      0.006   -173.006      0.000      -1.010      -0.987\n",
              "sigma2      2442.8429     28.285     86.365      0.000    2387.405    2498.280\n",
              "===================================================================================\n",
              "Ljung-Box (Q):                       95.45   Jarque-Bera (JB):              4208.47\n",
              "Prob(Q):                              0.00   Prob(JB):                         0.00\n",
              "Heteroskedasticity (H):               1.23   Skew:                            -0.52\n",
              "Prob(H) (two-sided):                  0.00   Kurtosis:                         7.36\n",
              "===================================================================================\n",
              "\n",
              "Warnings:\n",
              "[1] Covariance matrix calculated using the outer product of gradients (complex-step).\n",
              "\"\"\""
            ]
          },
          "metadata": {
            "tags": []
          },
          "execution_count": 29
        }
      ]
    }
  ]
}