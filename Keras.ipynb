{
  "nbformat": 4,
  "nbformat_minor": 0,
  "metadata": {
    "kernelspec": {
      "display_name": "Python 3",
      "language": "python",
      "name": "python3"
    },
    "language_info": {
      "codemirror_mode": {
        "name": "ipython",
        "version": 3
      },
      "file_extension": ".py",
      "mimetype": "text/x-python",
      "name": "python",
      "nbconvert_exporter": "python",
      "pygments_lexer": "ipython3",
      "version": "3.6.7"
    },
    "colab": {
      "name": "Keras.ipynb",
      "provenance": [],
      "include_colab_link": true
    }
  },
  "cells": [
    {
      "cell_type": "markdown",
      "metadata": {
        "id": "view-in-github",
        "colab_type": "text"
      },
      "source": [
        "<a href=\"https://colab.research.google.com/github/virf96/Proyectos/blob/master/Keras.ipynb\" target=\"_parent\"><img src=\"https://colab.research.google.com/assets/colab-badge.svg\" alt=\"Open In Colab\"/></a>"
      ]
    },
    {
      "cell_type": "markdown",
      "metadata": {
        "id": "HRT4LwDK3bu1",
        "colab_type": "text"
      },
      "source": [
        "# Keras "
      ]
    },
    {
      "cell_type": "code",
      "metadata": {
        "id": "n43096g33bu1",
        "colab_type": "code",
        "colab": {
          "base_uri": "https://localhost:8080/",
          "height": 34
        },
        "outputId": "5bae66cd-9057-499c-e863-c9415c8f6ee2"
      },
      "source": [
        "# Importando librarías\n",
        "import keras\n",
        "import matplotlib.pyplot as plt\n",
        "import pandas as pd\n",
        "import numpy as np"
      ],
      "execution_count": null,
      "outputs": [
        {
          "output_type": "stream",
          "text": [
            "Using TensorFlow backend.\n"
          ],
          "name": "stderr"
        }
      ]
    },
    {
      "cell_type": "markdown",
      "metadata": {
        "id": "B9wstEKj3bu5",
        "colab_type": "text"
      },
      "source": [
        "## Regresión lineal y=mx+b+ruido"
      ]
    },
    {
      "cell_type": "code",
      "metadata": {
        "id": "poGsQuv_3bu5",
        "colab_type": "code",
        "colab": {}
      },
      "source": [
        "m = 2\n",
        "b = 3\n",
        "x = np.linspace(0,50,100)\n",
        "\n",
        "# vamos a fijar una semilla en 101, un valor aleatorio para asegurarnos de que obtengas los mismos resultados que yo!\n",
        "np.random.seed(101) \n",
        "ruido = np.random.normal(loc=0.0,scale=4.0,size=len(x))"
      ],
      "execution_count": null,
      "outputs": []
    },
    {
      "cell_type": "code",
      "metadata": {
        "id": "MuMla58t3bu8",
        "colab_type": "code",
        "colab": {}
      },
      "source": [
        "y = m*x + b + ruido"
      ],
      "execution_count": null,
      "outputs": []
    },
    {
      "cell_type": "code",
      "metadata": {
        "id": "toVNklzd3bu-",
        "colab_type": "code",
        "colab": {
          "base_uri": "https://localhost:8080/",
          "height": 265
        },
        "outputId": "af5af70d-4d6b-4745-ec8b-78cffdfdd686"
      },
      "source": [
        "plt.plot(x,y,'*');"
      ],
      "execution_count": null,
      "outputs": [
        {
          "output_type": "display_data",
          "data": {
            "image/png": "[encoded data removed]",
            "text/plain": [
              "<Figure size 432x288 with 1 Axes>"
            ]
          },
          "metadata": {
            "tags": [],
            "needs_background": "light"
          }
        }
      ]
    },
    {
      "cell_type": "markdown",
      "metadata": {
        "id": "kPvzkgi93bvC",
        "colab_type": "text"
      },
      "source": [
        "## Creando una Red Neuronal para una Regresión"
      ]
    },
    {
      "cell_type": "code",
      "metadata": {
        "id": "l4qsI7Uu3bvD",
        "colab_type": "code",
        "colab": {}
      },
      "source": [
        "from keras.models import Sequential\n",
        "from keras.layers import Dense"
      ],
      "execution_count": null,
      "outputs": []
    },
    {
      "cell_type": "code",
      "metadata": {
        "id": "QtvnVIMx3bvF",
        "colab_type": "code",
        "colab": {}
      },
      "source": [
        "model = Sequential()\n",
        "# 4 Neuronas, esperamos solo 1 input \n",
        "model.add(Dense(4, input_dim=1, activation='relu'))\n",
        "# 4 Neuronas\n",
        "model.add(Dense(4, activation='relu'))\n",
        "# Solo 1 neurona porque solo tenemos 1 output que es Y\n",
        "model.add(Dense(1, activation='linear'))\n",
        "# Compilamos todas las capas\n",
        "model.compile(loss='mse', optimizer='adam')"
      ],
      "execution_count": null,
      "outputs": []
    },
    {
      "cell_type": "code",
      "metadata": {
        "id": "esLa-nsq3bvI",
        "colab_type": "code",
        "colab": {
          "base_uri": "https://localhost:8080/",
          "height": 252
        },
        "outputId": "645f2a2b-f256-4743-8d33-7228ccc8323c"
      },
      "source": [
        "model.summary()"
      ],
      "execution_count": null,
      "outputs": [
        {
          "output_type": "stream",
          "text": [
            "Model: \"sequential_1\"\n",
            "_________________________________________________________________\n",
            "Layer (type)                 Output Shape              Param #   \n",
            "=================================================================\n",
            "dense_1 (Dense)              (None, 4)                 8         \n",
            "_________________________________________________________________\n",
            "dense_2 (Dense)              (None, 4)                 20        \n",
            "_________________________________________________________________\n",
            "dense_3 (Dense)              (None, 1)                 5         \n",
            "=================================================================\n",
            "Total params: 33\n",
            "Trainable params: 33\n",
            "Non-trainable params: 0\n",
            "_________________________________________________________________\n"
          ],
          "name": "stdout"
        }
      ]
    },
    {
      "cell_type": "markdown",
      "metadata": {
        "id": "dqIddxcm3bvK",
        "colab_type": "text"
      },
      "source": [
        "## Entrenamiento de la red\n",
        "\n",
        "** NOTA: EN ESTE EJEMPLO VAMOS A SALTARNOS EL PASO DE DIVIDIR LOS DATOS EN ENTRENAMIENTO Y PRUEBA!!!! **"
      ]
    },
    {
      "cell_type": "code",
      "metadata": {
        "id": "PgBp7fg-3bvL",
        "colab_type": "code",
        "colab": {
          "base_uri": "https://localhost:8080/",
          "height": 1000
        },
        "outputId": "0d25fb53-e984-42cb-a9d2-3d64ef1d1bd5"
      },
      "source": [
        "model.fit(x, y, epochs=200, verbose=1)"
      ],
      "execution_count": null,
      "outputs": [
        {
          "output_type": "stream",
          "text": [
            "Epoch 1/200\n",
            "100/100 [==============================] - 0s 3ms/step - loss: 3628.4920\n",
            "Epoch 2/200\n",
            "100/100 [==============================] - 0s 71us/step - loss: 3621.0350\n",
            "Epoch 3/200\n",
            "100/100 [==============================] - 0s 71us/step - loss: 3613.1088\n",
            "Epoch 4/200\n",
            "100/100 [==============================] - 0s 70us/step - loss: 3604.9645\n",
            "Epoch 5/200\n",
            "100/100 [==============================] - 0s 81us/step - loss: 3597.0490\n",
            "Epoch 6/200\n",
            "100/100 [==============================] - 0s 96us/step - loss: 3588.1361\n",
            "Epoch 7/200\n",
            "100/100 [==============================] - 0s 99us/step - loss: 3579.1861\n",
            "Epoch 8/200\n",
            "100/100 [==============================] - 0s 113us/step - loss: 3570.2849\n",
            "Epoch 9/200\n",
            "100/100 [==============================] - 0s 85us/step - loss: 3561.0384\n",
            "Epoch 10/200\n",
            "100/100 [==============================] - 0s 122us/step - loss: 3551.2855\n",
            "Epoch 11/200\n",
            "100/100 [==============================] - 0s 116us/step - loss: 3541.6624\n",
            "Epoch 12/200\n",
            "100/100 [==============================] - 0s 79us/step - loss: 3531.0033\n",
            "Epoch 13/200\n",
            "100/100 [==============================] - 0s 96us/step - loss: 3520.3128\n",
            "Epoch 14/200\n",
            "100/100 [==============================] - 0s 99us/step - loss: 3510.1418\n",
            "Epoch 15/200\n",
            "100/100 [==============================] - 0s 85us/step - loss: 3499.5172\n",
            "Epoch 16/200\n",
            "100/100 [==============================] - 0s 92us/step - loss: 3487.8790\n",
            "Epoch 17/200\n",
            "100/100 [==============================] - 0s 95us/step - loss: 3476.7275\n",
            "Epoch 18/200\n",
            "100/100 [==============================] - 0s 98us/step - loss: 3464.9500\n",
            "Epoch 19/200\n",
            "100/100 [==============================] - 0s 120us/step - loss: 3452.3043\n",
            "Epoch 20/200\n",
            "100/100 [==============================] - 0s 124us/step - loss: 3439.1344\n",
            "Epoch 21/200\n",
            "100/100 [==============================] - 0s 148us/step - loss: 3426.7686\n",
            "Epoch 22/200\n",
            "100/100 [==============================] - 0s 120us/step - loss: 3412.3122\n",
            "Epoch 23/200\n",
            "100/100 [==============================] - 0s 90us/step - loss: 3397.9119\n",
            "Epoch 24/200\n",
            "100/100 [==============================] - 0s 126us/step - loss: 3383.7763\n",
            "Epoch 25/200\n",
            "100/100 [==============================] - 0s 100us/step - loss: 3368.7726\n",
            "Epoch 26/200\n",
            "100/100 [==============================] - 0s 102us/step - loss: 3353.5223\n",
            "Epoch 27/200\n",
            "100/100 [==============================] - 0s 117us/step - loss: 3338.1606\n",
            "Epoch 28/200\n",
            "100/100 [==============================] - 0s 116us/step - loss: 3322.0478\n",
            "Epoch 29/200\n",
            "100/100 [==============================] - 0s 111us/step - loss: 3305.1681\n",
            "Epoch 30/200\n",
            "100/100 [==============================] - 0s 117us/step - loss: 3289.2608\n",
            "Epoch 31/200\n",
            "100/100 [==============================] - 0s 96us/step - loss: 3272.2620\n",
            "Epoch 32/200\n",
            "100/100 [==============================] - 0s 91us/step - loss: 3254.8525\n",
            "Epoch 33/200\n",
            "100/100 [==============================] - 0s 70us/step - loss: 3236.7367\n",
            "Epoch 34/200\n",
            "100/100 [==============================] - 0s 196us/step - loss: 3219.6749\n",
            "Epoch 35/200\n",
            "100/100 [==============================] - 0s 149us/step - loss: 3201.3693\n",
            "Epoch 36/200\n",
            "100/100 [==============================] - 0s 81us/step - loss: 3182.6674\n",
            "Epoch 37/200\n",
            "100/100 [==============================] - 0s 85us/step - loss: 3164.2712\n",
            "Epoch 38/200\n",
            "100/100 [==============================] - 0s 104us/step - loss: 3144.6680\n",
            "Epoch 39/200\n",
            "100/100 [==============================] - 0s 99us/step - loss: 3125.6981\n",
            "Epoch 40/200\n",
            "100/100 [==============================] - 0s 112us/step - loss: 3106.5440\n",
            "Epoch 41/200\n",
            "100/100 [==============================] - 0s 93us/step - loss: 3085.4824\n",
            "Epoch 42/200\n",
            "100/100 [==============================] - 0s 91us/step - loss: 3063.6942\n",
            "Epoch 43/200\n",
            "100/100 [==============================] - 0s 96us/step - loss: 3043.0212\n",
            "Epoch 44/200\n",
            "100/100 [==============================] - 0s 87us/step - loss: 3020.6801\n",
            "Epoch 45/200\n",
            "100/100 [==============================] - 0s 83us/step - loss: 2999.2113\n",
            "Epoch 46/200\n",
            "100/100 [==============================] - 0s 75us/step - loss: 2975.0380\n",
            "Epoch 47/200\n",
            "100/100 [==============================] - 0s 83us/step - loss: 2953.4473\n",
            "Epoch 48/200\n",
            "100/100 [==============================] - 0s 84us/step - loss: 2930.4330\n",
            "Epoch 49/200\n",
            "100/100 [==============================] - 0s 84us/step - loss: 2907.6480\n",
            "Epoch 50/200\n",
            "100/100 [==============================] - 0s 91us/step - loss: 2883.7473\n",
            "Epoch 51/200\n",
            "100/100 [==============================] - 0s 80us/step - loss: 2860.2188\n",
            "Epoch 52/200\n",
            "100/100 [==============================] - 0s 78us/step - loss: 2835.0112\n",
            "Epoch 53/200\n",
            "100/100 [==============================] - 0s 98us/step - loss: 2809.8432\n",
            "Epoch 54/200\n",
            "100/100 [==============================] - 0s 94us/step - loss: 2784.7365\n",
            "Epoch 55/200\n",
            "100/100 [==============================] - 0s 96us/step - loss: 2757.7196\n",
            "Epoch 56/200\n",
            "100/100 [==============================] - 0s 94us/step - loss: 2731.6018\n",
            "Epoch 57/200\n",
            "100/100 [==============================] - 0s 115us/step - loss: 2705.9758\n",
            "Epoch 58/200\n",
            "100/100 [==============================] - 0s 108us/step - loss: 2677.3091\n",
            "Epoch 59/200\n",
            "100/100 [==============================] - 0s 101us/step - loss: 2650.8557\n",
            "Epoch 60/200\n",
            "100/100 [==============================] - 0s 99us/step - loss: 2621.6917\n",
            "Epoch 61/200\n",
            "100/100 [==============================] - 0s 99us/step - loss: 2593.5265\n",
            "Epoch 62/200\n",
            "100/100 [==============================] - 0s 101us/step - loss: 2565.1804\n",
            "Epoch 63/200\n",
            "100/100 [==============================] - 0s 95us/step - loss: 2538.1691\n",
            "Epoch 64/200\n",
            "100/100 [==============================] - 0s 102us/step - loss: 2509.1520\n",
            "Epoch 65/200\n",
            "100/100 [==============================] - 0s 92us/step - loss: 2480.4388\n",
            "Epoch 66/200\n",
            "100/100 [==============================] - 0s 75us/step - loss: 2450.8135\n",
            "Epoch 67/200\n",
            "100/100 [==============================] - 0s 85us/step - loss: 2421.6685\n",
            "Epoch 68/200\n",
            "100/100 [==============================] - 0s 98us/step - loss: 2392.5458\n",
            "Epoch 69/200\n",
            "100/100 [==============================] - 0s 74us/step - loss: 2362.6051\n",
            "Epoch 70/200\n",
            "100/100 [==============================] - 0s 88us/step - loss: 2332.5987\n",
            "Epoch 71/200\n",
            "100/100 [==============================] - 0s 98us/step - loss: 2302.2147\n",
            "Epoch 72/200\n",
            "100/100 [==============================] - 0s 99us/step - loss: 2270.1380\n",
            "Epoch 73/200\n",
            "100/100 [==============================] - 0s 114us/step - loss: 2236.8606\n",
            "Epoch 74/200\n",
            "100/100 [==============================] - 0s 93us/step - loss: 2203.6889\n",
            "Epoch 75/200\n",
            "100/100 [==============================] - 0s 84us/step - loss: 2170.0357\n",
            "Epoch 76/200\n",
            "100/100 [==============================] - 0s 108us/step - loss: 2136.6042\n",
            "Epoch 77/200\n",
            "100/100 [==============================] - 0s 92us/step - loss: 2106.0995\n",
            "Epoch 78/200\n",
            "100/100 [==============================] - 0s 112us/step - loss: 2072.4921\n",
            "Epoch 79/200\n",
            "100/100 [==============================] - 0s 114us/step - loss: 2040.9067\n",
            "Epoch 80/200\n",
            "100/100 [==============================] - 0s 113us/step - loss: 2007.8461\n",
            "Epoch 81/200\n",
            "100/100 [==============================] - 0s 93us/step - loss: 1976.1495\n",
            "Epoch 82/200\n",
            "100/100 [==============================] - 0s 129us/step - loss: 1941.2319\n",
            "Epoch 83/200\n",
            "100/100 [==============================] - 0s 89us/step - loss: 1906.6762\n",
            "Epoch 84/200\n",
            "100/100 [==============================] - 0s 98us/step - loss: 1870.9305\n",
            "Epoch 85/200\n",
            "100/100 [==============================] - 0s 104us/step - loss: 1836.8021\n",
            "Epoch 86/200\n",
            "100/100 [==============================] - 0s 105us/step - loss: 1801.9764\n",
            "Epoch 87/200\n",
            "100/100 [==============================] - 0s 96us/step - loss: 1767.3207\n",
            "Epoch 88/200\n",
            "100/100 [==============================] - 0s 106us/step - loss: 1734.7286\n",
            "Epoch 89/200\n",
            "100/100 [==============================] - 0s 182us/step - loss: 1699.9697\n",
            "Epoch 90/200\n",
            "100/100 [==============================] - 0s 102us/step - loss: 1667.4506\n",
            "Epoch 91/200\n",
            "100/100 [==============================] - 0s 95us/step - loss: 1632.9423\n",
            "Epoch 92/200\n",
            "100/100 [==============================] - 0s 88us/step - loss: 1598.6407\n",
            "Epoch 93/200\n",
            "100/100 [==============================] - 0s 98us/step - loss: 1564.4206\n",
            "Epoch 94/200\n",
            "100/100 [==============================] - 0s 86us/step - loss: 1530.7840\n",
            "Epoch 95/200\n",
            "100/100 [==============================] - 0s 87us/step - loss: 1498.6983\n",
            "Epoch 96/200\n",
            "100/100 [==============================] - 0s 132us/step - loss: 1464.3295\n",
            "Epoch 97/200\n",
            "100/100 [==============================] - 0s 91us/step - loss: 1432.3553\n",
            "Epoch 98/200\n",
            "100/100 [==============================] - 0s 67us/step - loss: 1400.6242\n",
            "Epoch 99/200\n",
            "100/100 [==============================] - 0s 81us/step - loss: 1368.2527\n",
            "Epoch 100/200\n",
            "100/100 [==============================] - 0s 82us/step - loss: 1334.9506\n",
            "Epoch 101/200\n",
            "100/100 [==============================] - 0s 79us/step - loss: 1302.2726\n",
            "Epoch 102/200\n",
            "100/100 [==============================] - 0s 99us/step - loss: 1271.4421\n",
            "Epoch 103/200\n",
            "100/100 [==============================] - 0s 92us/step - loss: 1238.9945\n",
            "Epoch 104/200\n",
            "100/100 [==============================] - 0s 93us/step - loss: 1207.9971\n",
            "Epoch 105/200\n",
            "100/100 [==============================] - 0s 183us/step - loss: 1175.8834\n",
            "Epoch 106/200\n",
            "100/100 [==============================] - 0s 98us/step - loss: 1145.5497\n",
            "Epoch 107/200\n",
            "100/100 [==============================] - 0s 98us/step - loss: 1116.3618\n",
            "Epoch 108/200\n",
            "100/100 [==============================] - 0s 126us/step - loss: 1086.7809\n",
            "Epoch 109/200\n",
            "100/100 [==============================] - 0s 92us/step - loss: 1059.6773\n",
            "Epoch 110/200\n",
            "100/100 [==============================] - 0s 100us/step - loss: 1030.7998\n",
            "Epoch 111/200\n",
            "100/100 [==============================] - 0s 104us/step - loss: 1001.9221\n",
            "Epoch 112/200\n",
            "100/100 [==============================] - 0s 123us/step - loss: 974.4120\n",
            "Epoch 113/200\n",
            "100/100 [==============================] - 0s 82us/step - loss: 945.1691\n",
            "Epoch 114/200\n",
            "100/100 [==============================] - 0s 115us/step - loss: 917.1162\n",
            "Epoch 115/200\n",
            "100/100 [==============================] - 0s 93us/step - loss: 889.6878\n",
            "Epoch 116/200\n",
            "100/100 [==============================] - 0s 97us/step - loss: 860.7759\n",
            "Epoch 117/200\n",
            "100/100 [==============================] - 0s 99us/step - loss: 833.0036\n",
            "Epoch 118/200\n",
            "100/100 [==============================] - 0s 96us/step - loss: 805.9119\n",
            "Epoch 119/200\n",
            "100/100 [==============================] - 0s 94us/step - loss: 779.7682\n",
            "Epoch 120/200\n",
            "100/100 [==============================] - 0s 129us/step - loss: 752.0124\n",
            "Epoch 121/200\n",
            "100/100 [==============================] - 0s 90us/step - loss: 724.3263\n",
            "Epoch 122/200\n",
            "100/100 [==============================] - 0s 103us/step - loss: 696.5781\n",
            "Epoch 123/200\n",
            "100/100 [==============================] - 0s 193us/step - loss: 670.8817\n",
            "Epoch 124/200\n",
            "100/100 [==============================] - 0s 84us/step - loss: 645.2934\n",
            "Epoch 125/200\n",
            "100/100 [==============================] - 0s 98us/step - loss: 620.5287\n",
            "Epoch 126/200\n",
            "100/100 [==============================] - 0s 103us/step - loss: 595.0447\n",
            "Epoch 127/200\n",
            "100/100 [==============================] - 0s 100us/step - loss: 570.5637\n",
            "Epoch 128/200\n",
            "100/100 [==============================] - 0s 100us/step - loss: 547.5299\n",
            "Epoch 129/200\n",
            "100/100 [==============================] - 0s 96us/step - loss: 525.2934\n",
            "Epoch 130/200\n",
            "100/100 [==============================] - 0s 102us/step - loss: 503.8604\n",
            "Epoch 131/200\n",
            "100/100 [==============================] - 0s 97us/step - loss: 483.8993\n",
            "Epoch 132/200\n",
            "100/100 [==============================] - 0s 93us/step - loss: 464.7923\n",
            "Epoch 133/200\n",
            "100/100 [==============================] - 0s 74us/step - loss: 445.2370\n",
            "Epoch 134/200\n",
            "100/100 [==============================] - 0s 112us/step - loss: 426.4950\n",
            "Epoch 135/200\n",
            "100/100 [==============================] - 0s 92us/step - loss: 407.8242\n",
            "Epoch 136/200\n",
            "100/100 [==============================] - 0s 128us/step - loss: 390.1547\n",
            "Epoch 137/200\n",
            "100/100 [==============================] - 0s 85us/step - loss: 373.0808\n",
            "Epoch 138/200\n",
            "100/100 [==============================] - 0s 104us/step - loss: 355.5100\n",
            "Epoch 139/200\n",
            "100/100 [==============================] - 0s 98us/step - loss: 339.3957\n",
            "Epoch 140/200\n",
            "100/100 [==============================] - 0s 98us/step - loss: 324.3608\n",
            "Epoch 141/200\n",
            "100/100 [==============================] - 0s 89us/step - loss: 310.7345\n",
            "Epoch 142/200\n",
            "100/100 [==============================] - 0s 93us/step - loss: 297.3240\n",
            "Epoch 143/200\n",
            "100/100 [==============================] - 0s 94us/step - loss: 284.6968\n",
            "Epoch 144/200\n",
            "100/100 [==============================] - 0s 90us/step - loss: 271.9263\n",
            "Epoch 145/200\n",
            "100/100 [==============================] - 0s 96us/step - loss: 260.6765\n",
            "Epoch 146/200\n",
            "100/100 [==============================] - 0s 116us/step - loss: 248.8413\n",
            "Epoch 147/200\n",
            "100/100 [==============================] - 0s 99us/step - loss: 236.7004\n",
            "Epoch 148/200\n",
            "100/100 [==============================] - 0s 94us/step - loss: 224.8763\n",
            "Epoch 149/200\n",
            "100/100 [==============================] - 0s 84us/step - loss: 213.9233\n",
            "Epoch 150/200\n",
            "100/100 [==============================] - 0s 116us/step - loss: 203.0226\n",
            "Epoch 151/200\n",
            "100/100 [==============================] - 0s 144us/step - loss: 192.3916\n",
            "Epoch 152/200\n",
            "100/100 [==============================] - 0s 95us/step - loss: 182.2251\n",
            "Epoch 153/200\n",
            "100/100 [==============================] - 0s 103us/step - loss: 173.1843\n",
            "Epoch 154/200\n",
            "100/100 [==============================] - 0s 123us/step - loss: 165.0112\n",
            "Epoch 155/200\n",
            "100/100 [==============================] - 0s 106us/step - loss: 156.8467\n",
            "Epoch 156/200\n",
            "100/100 [==============================] - 0s 91us/step - loss: 149.2752\n",
            "Epoch 157/200\n",
            "100/100 [==============================] - 0s 87us/step - loss: 141.8490\n",
            "Epoch 158/200\n",
            "100/100 [==============================] - 0s 94us/step - loss: 135.2255\n",
            "Epoch 159/200\n",
            "100/100 [==============================] - 0s 119us/step - loss: 128.7421\n",
            "Epoch 160/200\n",
            "100/100 [==============================] - 0s 134us/step - loss: 122.4314\n",
            "Epoch 161/200\n",
            "100/100 [==============================] - 0s 114us/step - loss: 115.9094\n",
            "Epoch 162/200\n",
            "100/100 [==============================] - 0s 106us/step - loss: 109.8538\n",
            "Epoch 163/200\n",
            "100/100 [==============================] - 0s 118us/step - loss: 104.1344\n",
            "Epoch 164/200\n",
            "100/100 [==============================] - 0s 114us/step - loss: 98.4894\n",
            "Epoch 165/200\n",
            "100/100 [==============================] - 0s 112us/step - loss: 93.1568\n",
            "Epoch 166/200\n",
            "100/100 [==============================] - 0s 125us/step - loss: 88.5093\n",
            "Epoch 167/200\n",
            "100/100 [==============================] - 0s 100us/step - loss: 83.7576\n",
            "Epoch 168/200\n",
            "100/100 [==============================] - 0s 87us/step - loss: 79.3363\n",
            "Epoch 169/200\n",
            "100/100 [==============================] - 0s 82us/step - loss: 75.0527\n",
            "Epoch 170/200\n",
            "100/100 [==============================] - 0s 87us/step - loss: 71.0081\n",
            "Epoch 171/200\n",
            "100/100 [==============================] - 0s 85us/step - loss: 67.2278\n",
            "Epoch 172/200\n",
            "100/100 [==============================] - 0s 86us/step - loss: 63.8060\n",
            "Epoch 173/200\n",
            "100/100 [==============================] - 0s 77us/step - loss: 60.2807\n",
            "Epoch 174/200\n",
            "100/100 [==============================] - 0s 78us/step - loss: 57.1846\n",
            "Epoch 175/200\n",
            "100/100 [==============================] - 0s 84us/step - loss: 54.1458\n",
            "Epoch 176/200\n",
            "100/100 [==============================] - 0s 77us/step - loss: 51.3232\n",
            "Epoch 177/200\n",
            "100/100 [==============================] - 0s 76us/step - loss: 48.6622\n",
            "Epoch 178/200\n",
            "100/100 [==============================] - 0s 81us/step - loss: 46.3901\n",
            "Epoch 179/200\n",
            "100/100 [==============================] - 0s 116us/step - loss: 44.1899\n",
            "Epoch 180/200\n",
            "100/100 [==============================] - 0s 116us/step - loss: 42.3045\n",
            "Epoch 181/200\n",
            "100/100 [==============================] - 0s 82us/step - loss: 40.3713\n",
            "Epoch 182/200\n",
            "100/100 [==============================] - 0s 107us/step - loss: 38.6055\n",
            "Epoch 183/200\n",
            "100/100 [==============================] - 0s 113us/step - loss: 36.9744\n",
            "Epoch 184/200\n",
            "100/100 [==============================] - 0s 151us/step - loss: 35.4792\n",
            "Epoch 185/200\n",
            "100/100 [==============================] - 0s 139us/step - loss: 34.0406\n",
            "Epoch 186/200\n",
            "100/100 [==============================] - 0s 79us/step - loss: 32.8051\n",
            "Epoch 187/200\n",
            "100/100 [==============================] - 0s 105us/step - loss: 31.6733\n",
            "Epoch 188/200\n",
            "100/100 [==============================] - 0s 98us/step - loss: 30.6341\n",
            "Epoch 189/200\n",
            "100/100 [==============================] - 0s 191us/step - loss: 29.6720\n",
            "Epoch 190/200\n",
            "100/100 [==============================] - 0s 94us/step - loss: 28.7318\n",
            "Epoch 191/200\n",
            "100/100 [==============================] - 0s 103us/step - loss: 27.8849\n",
            "Epoch 192/200\n",
            "100/100 [==============================] - 0s 127us/step - loss: 27.0820\n",
            "Epoch 193/200\n",
            "100/100 [==============================] - 0s 99us/step - loss: 26.2605\n",
            "Epoch 194/200\n",
            "100/100 [==============================] - 0s 90us/step - loss: 25.5113\n",
            "Epoch 195/200\n",
            "100/100 [==============================] - 0s 97us/step - loss: 24.8238\n",
            "Epoch 196/200\n",
            "100/100 [==============================] - 0s 87us/step - loss: 24.2220\n",
            "Epoch 197/200\n",
            "100/100 [==============================] - 0s 86us/step - loss: 23.6771\n",
            "Epoch 198/200\n",
            "100/100 [==============================] - 0s 94us/step - loss: 23.1681\n",
            "Epoch 199/200\n",
            "100/100 [==============================] - 0s 90us/step - loss: 22.7552\n",
            "Epoch 200/200\n",
            "100/100 [==============================] - 0s 105us/step - loss: 22.3803\n"
          ],
          "name": "stdout"
        },
        {
          "output_type": "execute_result",
          "data": {
            "text/plain": [
              "<keras.callbacks.callbacks.History at 0x7f317f2580f0>"
            ]
          },
          "metadata": {
            "tags": []
          },
          "execution_count": 8
        }
      ]
    },
    {
      "cell_type": "code",
      "metadata": {
        "id": "pDJM_h9AE_79",
        "colab_type": "code",
        "colab": {
          "base_uri": "https://localhost:8080/",
          "height": 282
        },
        "outputId": "bf9f04c7-9d84-44f8-c8da-2c4766821bbd"
      },
      "source": [
        "loss=model.history.history['loss']\n",
        "epochs=range(len(loss))\n",
        "plt.plot(epochs,loss)"
      ],
      "execution_count": null,
      "outputs": [
        {
          "output_type": "execute_result",
          "data": {
            "text/plain": [
              "[<matplotlib.lines.Line2D at 0x7f31355364e0>]"
            ]
          },
          "metadata": {
            "tags": []
          },
          "execution_count": 9
        },
        {
          "output_type": "display_data",
          "data": {
            "image/png": "[encoded data removed]",
            "text/plain": [
              "<Figure size 432x288 with 1 Axes>"
            ]
          },
          "metadata": {
            "tags": [],
            "needs_background": "light"
          }
        }
      ]
    },
    {
      "cell_type": "markdown",
      "metadata": {
        "id": "sQQ-RL8k3bvN",
        "colab_type": "text"
      },
      "source": [
        "## Prediciendo nuevos puntos con el modelo creado\n"
      ]
    },
    {
      "cell_type": "code",
      "metadata": {
        "id": "7mKcVdwr3bvO",
        "colab_type": "code",
        "colab": {}
      },
      "source": [
        "x_for_predictions = np.linspace(0,50,1000)"
      ],
      "execution_count": null,
      "outputs": []
    },
    {
      "cell_type": "code",
      "metadata": {
        "id": "zilII-3l3bvQ",
        "colab_type": "code",
        "colab": {}
      },
      "source": [
        "y_predicted = model.predict(x_for_predictions)"
      ],
      "execution_count": null,
      "outputs": []
    },
    {
      "cell_type": "code",
      "metadata": {
        "id": "CRmYwiW93bvS",
        "colab_type": "code",
        "colab": {
          "base_uri": "https://localhost:8080/",
          "height": 265
        },
        "outputId": "36d68e2b-fdaf-4f30-ed67-89366552fa6c"
      },
      "source": [
        "# X e Y originales\n",
        "plt.plot(x,y,'*')\n",
        "# Línea de predicción\n",
        "plt.plot(x_for_predictions,y_predicted,'r');"
      ],
      "execution_count": null,
      "outputs": [
        {
          "output_type": "display_data",
          "data": {
            "image/png": "[encoded data removed]",
            "text/plain": [
              "<Figure size 432x288 with 1 Axes>"
            ]
          },
          "metadata": {
            "tags": [],
            "needs_background": "light"
          }
        }
      ]
    },
    {
      "cell_type": "markdown",
      "metadata": {
        "id": "MbnrstBa3bvU",
        "colab_type": "text"
      },
      "source": [
        "# Evaluando el error"
      ]
    },
    {
      "cell_type": "code",
      "metadata": {
        "id": "XxIMKNaX3bvV",
        "colab_type": "code",
        "colab": {}
      },
      "source": [
        "from sklearn.metrics import mean_squared_error,mean_absolute_error"
      ],
      "execution_count": null,
      "outputs": []
    },
    {
      "cell_type": "code",
      "metadata": {
        "id": "BqVLux-h3bvX",
        "colab_type": "code",
        "colab": {}
      },
      "source": [
        "# Predicciones\n",
        "prediction_for_true_y = model.predict(x)"
      ],
      "execution_count": null,
      "outputs": []
    },
    {
      "cell_type": "code",
      "metadata": {
        "id": "TqnV8_Ho3bva",
        "colab_type": "code",
        "colab": {
          "base_uri": "https://localhost:8080/",
          "height": 34
        },
        "outputId": "e61845ea-bf88-468e-9b39-079fa4bc0497"
      },
      "source": [
        "mean_squared_error(y,prediction_for_true_y)"
      ],
      "execution_count": null,
      "outputs": [
        {
          "output_type": "execute_result",
          "data": {
            "text/plain": [
              "22.088611448916264"
            ]
          },
          "metadata": {
            "tags": []
          },
          "execution_count": 15
        }
      ]
    },
    {
      "cell_type": "code",
      "metadata": {
        "id": "7lAvngdpO9PE",
        "colab_type": "code",
        "colab": {
          "base_uri": "https://localhost:8080/",
          "height": 34
        },
        "outputId": "8e5e643f-2b50-4b9b-9ceb-48b9a3b61640"
      },
      "source": [
        "mean_absolute_error(y,prediction_for_true_y)"
      ],
      "execution_count": null,
      "outputs": [
        {
          "output_type": "execute_result",
          "data": {
            "text/plain": [
              "3.7767897936722683"
            ]
          },
          "metadata": {
            "tags": []
          },
          "execution_count": 16
        }
      ]
    }
  ]
}