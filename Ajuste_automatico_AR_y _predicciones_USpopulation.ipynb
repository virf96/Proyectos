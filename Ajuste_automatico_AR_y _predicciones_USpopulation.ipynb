{
  "nbformat": 4,
  "nbformat_minor": 0,
  "metadata": {
    "kernelspec": {
      "display_name": "Python 3",
      "language": "python",
      "name": "python3"
    },
    "language_info": {
      "codemirror_mode": {
        "name": "ipython",
        "version": 3
      },
      "file_extension": ".py",
      "mimetype": "text/x-python",
      "name": "python",
      "nbconvert_exporter": "python",
      "pygments_lexer": "ipython3",
      "version": "3.7.2"
    },
    "colab": {
      "name": "Copia de 7_AR_USpopulation.ipynb",
      "provenance": [],
      "include_colab_link": true
    }
  },
  "cells": [
    {
      "cell_type": "markdown",
      "metadata": {
        "id": "view-in-github",
        "colab_type": "text"
      },
      "source": [
        "<a href=\"https://colab.research.google.com/github/virf96/Proyectos/blob/master/Ajuste_automatico_AR_y%20_predicciones_USpopulation.ipynb\" target=\"_parent\"><img src=\"https://colab.research.google.com/assets/colab-badge.svg\" alt=\"Open In Colab\"/></a>"
      ]
    },
    {
      "cell_type": "markdown",
      "metadata": {
        "id": "LTSmdvaOC6nG",
        "colab_type": "text"
      },
      "source": [
        "## US population dataset\n",
        "Población mensual de E.U estimada en miles de personas, desde Enero 2011 a Diciembre 2018 (96 datos, 8 años). "
      ]
    },
    {
      "cell_type": "code",
      "metadata": {
        "id": "UNJUgc9HC6nH",
        "colab_type": "code",
        "colab": {}
      },
      "source": [
        "import pandas as pd\n",
        "import numpy as np\n",
        "%matplotlib inline\n",
        "\n",
        "# Cargamos herramientas especificas para forecast \n",
        "from statsmodels.tsa.ar_model import AR,ARResults\n",
        "\n",
        "# Cargamos U.S. Population dataset\n",
        "#Indexamos la variable \"DATE\" y la convertimos a formato fecha\n",
        "df = pd.read_csv('https://raw.githubusercontent.com/virf96/curso-series-temporales/master/4.%20Modelos%20AR%20autorregresivos/Python/uspopulation.csv',\n",
        "                 index_col='DATE',parse_dates=True)\n",
        "\n",
        "#Indicamos una frecuencia mensual\n",
        "df.index.freq = 'MS'"
      ],
      "execution_count": 102,
      "outputs": []
    },
    {
      "cell_type": "code",
      "metadata": {
        "id": "RIn3NMuXC6nK",
        "colab_type": "code",
        "colab": {
          "base_uri": "https://localhost:8080/",
          "height": 235
        },
        "outputId": "89721211-dfb1-420c-a50b-6e12ee25b162"
      },
      "source": [
        "df.head()"
      ],
      "execution_count": 103,
      "outputs": [
        {
          "output_type": "execute_result",
          "data": {
            "text/html": [
              "<div>\n",
              "<style scoped>\n",
              "    .dataframe tbody tr th:only-of-type {\n",
              "        vertical-align: middle;\n",
              "    }\n",
              "\n",
              "    .dataframe tbody tr th {\n",
              "        vertical-align: top;\n",
              "    }\n",
              "\n",
              "    .dataframe thead th {\n",
              "        text-align: right;\n",
              "    }\n",
              "</style>\n",
              "<table border=\"1\" class=\"dataframe\">\n",
              "  <thead>\n",
              "    <tr style=\"text-align: right;\">\n",
              "      <th></th>\n",
              "      <th>PopEst</th>\n",
              "    </tr>\n",
              "    <tr>\n",
              "      <th>DATE</th>\n",
              "      <th></th>\n",
              "    </tr>\n",
              "  </thead>\n",
              "  <tbody>\n",
              "    <tr>\n",
              "      <th>2011-01-01</th>\n",
              "      <td>311037</td>\n",
              "    </tr>\n",
              "    <tr>\n",
              "      <th>2011-02-01</th>\n",
              "      <td>311189</td>\n",
              "    </tr>\n",
              "    <tr>\n",
              "      <th>2011-03-01</th>\n",
              "      <td>311351</td>\n",
              "    </tr>\n",
              "    <tr>\n",
              "      <th>2011-04-01</th>\n",
              "      <td>311522</td>\n",
              "    </tr>\n",
              "    <tr>\n",
              "      <th>2011-05-01</th>\n",
              "      <td>311699</td>\n",
              "    </tr>\n",
              "  </tbody>\n",
              "</table>\n",
              "</div>"
            ],
            "text/plain": [
              "            PopEst\n",
              "DATE              \n",
              "2011-01-01  311037\n",
              "2011-02-01  311189\n",
              "2011-03-01  311351\n",
              "2011-04-01  311522\n",
              "2011-05-01  311699"
            ]
          },
          "metadata": {
            "tags": []
          },
          "execution_count": 103
        }
      ]
    },
    {
      "cell_type": "markdown",
      "metadata": {
        "id": "qBApKezDC6nO",
        "colab_type": "text"
      },
      "source": [
        "## Gráfico de la serie"
      ]
    },
    {
      "cell_type": "code",
      "metadata": {
        "id": "URnc4nMCC6nQ",
        "colab_type": "code",
        "colab": {
          "base_uri": "https://localhost:8080/",
          "height": 350
        },
        "outputId": "70b2d897-e492-4815-9ed2-270e99b0259f"
      },
      "source": [
        "#Crecimiento mensual de la población en US\n",
        "title='U.S. Monthly Population Estimates'\n",
        "ylabel='Pop. Est. (thousands)'\n",
        "\n",
        "ax = df['PopEst'].plot(figsize=(12,5),title=title);\n",
        "ax.autoscale(axis='x',tight=True)\n",
        "ax.set(ylabel=ylabel);"
      ],
      "execution_count": 104,
      "outputs": [
        {
          "output_type": "display_data",
          "data": {
            "image/png": "[encoded data removed]",
            "text/plain": [
              "<Figure size 864x360 with 1 Axes>"
            ]
          },
          "metadata": {
            "tags": [],
            "needs_background": "light"
          }
        }
      ]
    },
    {
      "cell_type": "markdown",
      "metadata": {
        "id": "2wQ9WrLEC6nS",
        "colab_type": "text"
      },
      "source": [
        "## Datos entrenamiento/prueba\n"
      ]
    },
    {
      "cell_type": "code",
      "metadata": {
        "id": "Firlp-okC6nT",
        "colab_type": "code",
        "colab": {
          "base_uri": "https://localhost:8080/",
          "height": 34
        },
        "outputId": "645c809a-7454-4fc4-f23f-5094be54f082"
      },
      "source": [
        "len(df)"
      ],
      "execution_count": 105,
      "outputs": [
        {
          "output_type": "execute_result",
          "data": {
            "text/plain": [
              "96"
            ]
          },
          "metadata": {
            "tags": []
          },
          "execution_count": 105
        }
      ]
    },
    {
      "cell_type": "code",
      "metadata": {
        "id": "BddcHm9kC6nV",
        "colab_type": "code",
        "colab": {}
      },
      "source": [
        "#Dividimos el df en test y train\n",
        "train = df.iloc[:84]\n",
        "test = df.iloc[84:]"
      ],
      "execution_count": 106,
      "outputs": []
    },
    {
      "cell_type": "markdown",
      "metadata": {
        "id": "pY11kq5NC6nY",
        "colab_type": "text"
      },
      "source": [
        "## Modelo AR(1) "
      ]
    },
    {
      "cell_type": "code",
      "metadata": {
        "id": "ajeg5A7TC6nY",
        "colab_type": "code",
        "colab": {}
      },
      "source": [
        "# Ignoramos los warnings\n",
        "import warnings\n",
        "warnings.filterwarnings(\"ignore\")"
      ],
      "execution_count": 107,
      "outputs": []
    },
    {
      "cell_type": "code",
      "metadata": {
        "id": "79MklaZTC6nb",
        "colab_type": "code",
        "colab": {
          "base_uri": "https://localhost:8080/",
          "height": 102
        },
        "outputId": "9eaf1414-f616-4eb4-b7d3-8ba2d7d0136d"
      },
      "source": [
        "#Le pasamos a la función \"AR\" los datos\n",
        "model = AR(train['PopEst'])\n",
        "#Ajustamos el modelo indicando el número de retraso con \"maxlag\"  y estime los coeficiente por máxima verosimilitud\n",
        "#En el caso de que \"maxlag\" sea mayor a uno considerara todos los modelos intermedios hasta llegar al indicado en el parametro\n",
        "AR1fit = model.fit(maxlag=1,method='mle')\n",
        "#Imprimimos el número de retrasos\n",
        "print(f'Lag: {AR1fit.k_ar}')\n",
        "#Me devuelve los coeficientes, es decir la constante y el retraso indicado\n",
        "print(f'Coefficients:\\n{AR1fit.params}')"
      ],
      "execution_count": 108,
      "outputs": [
        {
          "output_type": "stream",
          "text": [
            "Lag: 1\n",
            "Coefficients:\n",
            "const        147.296808\n",
            "L1.PopEst      0.999537\n",
            "dtype: float64\n"
          ],
          "name": "stdout"
        }
      ]
    },
    {
      "cell_type": "code",
      "metadata": {
        "id": "syD9wGXzWrIs",
        "colab_type": "code",
        "colab": {
          "base_uri": "https://localhost:8080/",
          "height": 34
        },
        "outputId": "03f84ac4-386f-4ae5-eaab-074317716df2"
      },
      "source": [
        "AR1fit.aic"
      ],
      "execution_count": 109,
      "outputs": [
        {
          "output_type": "execute_result",
          "data": {
            "text/plain": [
              "10.533689612341348"
            ]
          },
          "metadata": {
            "tags": []
          },
          "execution_count": 109
        }
      ]
    },
    {
      "cell_type": "code",
      "metadata": {
        "id": "qY00YwunC6ne",
        "colab_type": "code",
        "colab": {}
      },
      "source": [
        "#En el caso de querer hacer predicciones, vamos a ir desde la última observación del conjunto de entrenamiento hasta donde termina el conjuntod de test\n",
        "start=len(train)\n",
        "end=len(train)+len(test)-1\n",
        "#Predecimos\n",
        "predictions1 = AR1fit.predict(start=start, end=end, dynamic=False).rename('AR(1) Predictions')"
      ],
      "execution_count": 110,
      "outputs": []
    },
    {
      "cell_type": "code",
      "metadata": {
        "id": "ldQNz1o_C6ng",
        "colab_type": "code",
        "colab": {
          "base_uri": "https://localhost:8080/",
          "height": 238
        },
        "outputId": "095db6bd-3b13-4d7c-e882-f58ac45f1b77"
      },
      "source": [
        "predictions1"
      ],
      "execution_count": 111,
      "outputs": [
        {
          "output_type": "execute_result",
          "data": {
            "text/plain": [
              "2018-01-01    326374.208364\n",
              "2018-02-01    326370.418482\n",
              "2018-03-01    326366.630356\n",
              "2018-04-01    326362.843982\n",
              "2018-05-01    326359.059362\n",
              "2018-06-01    326355.276494\n",
              "2018-07-01    326351.495376\n",
              "2018-08-01    326347.716010\n",
              "2018-09-01    326343.938392\n",
              "2018-10-01    326340.162524\n",
              "2018-11-01    326336.388403\n",
              "2018-12-01    326332.616030\n",
              "Freq: MS, Name: AR(1) Predictions, dtype: float64"
            ]
          },
          "metadata": {
            "tags": []
          },
          "execution_count": 111
        }
      ]
    },
    {
      "cell_type": "code",
      "metadata": {
        "id": "gjbLIynEMtNY",
        "colab_type": "code",
        "colab": {
          "base_uri": "https://localhost:8080/",
          "height": 34
        },
        "outputId": "5636c9cb-cb8a-4d9c-cfa2-77fdf9995c19"
      },
      "source": [
        "len(predictions1)"
      ],
      "execution_count": 112,
      "outputs": [
        {
          "output_type": "execute_result",
          "data": {
            "text/plain": [
              "12"
            ]
          },
          "metadata": {
            "tags": []
          },
          "execution_count": 112
        }
      ]
    },
    {
      "cell_type": "code",
      "metadata": {
        "id": "lqtbwQEgC6ni",
        "colab_type": "code",
        "colab": {
          "base_uri": "https://localhost:8080/",
          "height": 221
        },
        "outputId": "f760b628-16f0-4c82-d749-c9987298abd9"
      },
      "source": [
        "# Comparando predicciones con valores reales\n",
        "for i in range(len(predictions1)):\n",
        "    print(f\"predicted={predictions1[i]:<11.10}, expected={test['PopEst'][i]}\")"
      ],
      "execution_count": 113,
      "outputs": [
        {
          "output_type": "stream",
          "text": [
            "predicted=326374.2084, expected=326527\n",
            "predicted=326370.4185, expected=326669\n",
            "predicted=326366.6304, expected=326812\n",
            "predicted=326362.844 , expected=326968\n",
            "predicted=326359.0594, expected=327134\n",
            "predicted=326355.2765, expected=327312\n",
            "predicted=326351.4954, expected=327502\n",
            "predicted=326347.716 , expected=327698\n",
            "predicted=326343.9384, expected=327893\n",
            "predicted=326340.1625, expected=328077\n",
            "predicted=326336.3884, expected=328241\n",
            "predicted=326332.616 , expected=328393\n"
          ],
          "name": "stdout"
        }
      ]
    },
    {
      "cell_type": "code",
      "metadata": {
        "id": "bySE4vXMC6nl",
        "colab_type": "code",
        "colab": {
          "base_uri": "https://localhost:8080/",
          "height": 400
        },
        "outputId": "deee2017-d090-4805-cca4-bbf8ca029eef"
      },
      "source": [
        "#Observamos las predicciones contra los datos observados\n",
        "#El modelo no estima muy bien los valores reales\n",
        "test['PopEst'].plot(legend=True)\n",
        "predictions1.plot(legend=True,figsize=(12,6));"
      ],
      "execution_count": 114,
      "outputs": [
        {
          "output_type": "display_data",
          "data": {
            "image/png": "[encoded data removed]",
            "text/plain": [
              "<Figure size 864x432 with 1 Axes>"
            ]
          },
          "metadata": {
            "tags": [],
            "needs_background": "light"
          }
        }
      ]
    },
    {
      "cell_type": "markdown",
      "metadata": {
        "id": "8imd7wC9C6no",
        "colab_type": "text"
      },
      "source": [
        "## Modelo AR(2)"
      ]
    },
    {
      "cell_type": "code",
      "metadata": {
        "scrolled": true,
        "id": "jml24hRlC6np",
        "colab_type": "code",
        "colab": {
          "base_uri": "https://localhost:8080/",
          "height": 119
        },
        "outputId": "0dab2afd-4658-4d21-ef9d-afbe75a405e9"
      },
      "source": [
        "# Añadimos un retraso a la complejidad del modelo\n",
        "AR2fit = model.fit(maxlag=2,method='mle')\n",
        "print(f'Lag: {AR2fit.k_ar}')\n",
        "print(f'Coefficients:\\n{AR2fit.params}')"
      ],
      "execution_count": 115,
      "outputs": [
        {
          "output_type": "stream",
          "text": [
            "Lag: 2\n",
            "Coefficients:\n",
            "const        134.115961\n",
            "L1.PopEst      1.996239\n",
            "L2.PopEst     -0.996660\n",
            "dtype: float64\n"
          ],
          "name": "stdout"
        }
      ]
    },
    {
      "cell_type": "code",
      "metadata": {
        "id": "2KZjEJkgW4vG",
        "colab_type": "code",
        "colab": {
          "base_uri": "https://localhost:8080/",
          "height": 34
        },
        "outputId": "64a987dc-3434-4913-a6b1-2c74a1efc800"
      },
      "source": [
        "AR2fit.aic"
      ],
      "execution_count": 117,
      "outputs": [
        {
          "output_type": "execute_result",
          "data": {
            "text/plain": [
              "5.157101134928266"
            ]
          },
          "metadata": {
            "tags": []
          },
          "execution_count": 117
        }
      ]
    },
    {
      "cell_type": "code",
      "metadata": {
        "id": "w4IHT8mTC6nr",
        "colab_type": "code",
        "colab": {}
      },
      "source": [
        "start=len(train)\n",
        "end=len(train)+len(test)-1\n",
        "predictions2 = AR2fit.predict(start=start, end=end, dynamic=False).rename('AR(2) Predictions')"
      ],
      "execution_count": 119,
      "outputs": []
    },
    {
      "cell_type": "code",
      "metadata": {
        "id": "gFWBL9TzC6nt",
        "colab_type": "code",
        "colab": {
          "base_uri": "https://localhost:8080/",
          "height": 400
        },
        "outputId": "1c0c405d-8933-4e27-bc3c-f889e02866bc"
      },
      "source": [
        "#Parece que con 2 retrasos el modelo va mejorando\n",
        "test['PopEst'].plot(legend=True)\n",
        "predictions1.plot(legend=True)\n",
        "predictions2.plot(legend=True,figsize=(12,6));"
      ],
      "execution_count": 120,
      "outputs": [
        {
          "output_type": "display_data",
          "data": {
            "image/png": "[encoded data removed]",
            "text/plain": [
              "<Figure size 864x432 with 1 Axes>"
            ]
          },
          "metadata": {
            "tags": [],
            "needs_background": "light"
          }
        }
      ]
    },
    {
      "cell_type": "markdown",
      "metadata": {
        "id": "IDVgvJBCC6nv",
        "colab_type": "text"
      },
      "source": [
        "## Modelo AR(p) donde statsmodels elige p\n"
      ]
    },
    {
      "cell_type": "code",
      "metadata": {
        "id": "QsJiCWBPC6nw",
        "colab_type": "code",
        "colab": {
          "base_uri": "https://localhost:8080/",
          "height": 221
        },
        "outputId": "a0543556-4529-455d-df3d-3fb386c10ab5"
      },
      "source": [
        "#Utilizamos el criterio de información BIC\n",
        "#Al especificar el parametro \"ic\" la función devuelve os resultados para cierto número de retrasos y devuelve la cantidad de retrasos que se debe utilizar\n",
        "#Para este caso se deberían considerar 8\n",
        "ARfit = model.fit(ic='bic')\n",
        "print(f'Lag: {ARfit.k_ar}')\n",
        "print(f'Coefficients:\\n{ARfit.params}')"
      ],
      "execution_count": 121,
      "outputs": [
        {
          "output_type": "stream",
          "text": [
            "Lag: 8\n",
            "Coefficients:\n",
            "const        82.309677\n",
            "L1.PopEst     2.437997\n",
            "L2.PopEst    -2.302100\n",
            "L3.PopEst     1.565427\n",
            "L4.PopEst    -1.431211\n",
            "L5.PopEst     1.125022\n",
            "L6.PopEst    -0.919494\n",
            "L7.PopEst     0.963694\n",
            "L8.PopEst    -0.439511\n",
            "dtype: float64\n"
          ],
          "name": "stdout"
        }
      ]
    },
    {
      "cell_type": "code",
      "metadata": {
        "id": "FZMiQdUTC6ny",
        "colab_type": "code",
        "colab": {}
      },
      "source": [
        "#Ajustamos modelo\n",
        "start = len(train)\n",
        "end = len(train)+len(test)-1\n",
        "rename = f'AR(8) Predictions'\n",
        "\n",
        "predictions8 = ARfit.predict(start=start,end=end,dynamic=False).rename(rename)"
      ],
      "execution_count": 122,
      "outputs": []
    },
    {
      "cell_type": "code",
      "metadata": {
        "id": "eBhbuTY9C6n1",
        "colab_type": "code",
        "colab": {
          "base_uri": "https://localhost:8080/",
          "height": 400
        },
        "outputId": "0cac00f5-698f-4bde-af76-e58c812e39ea"
      },
      "source": [
        "#Visualizamos resultados\n",
        "test['PopEst'].plot(legend=True)\n",
        "predictions1.plot(legend=True)\n",
        "predictions2.plot(legend=True)\n",
        "predictions8.plot(legend=True,figsize=(12,6));"
      ],
      "execution_count": 123,
      "outputs": [
        {
          "output_type": "display_data",
          "data": {
            "image/png": "[encoded data removed]",
            "text/plain": [
              "<Figure size 864x432 with 1 Axes>"
            ]
          },
          "metadata": {
            "tags": [],
            "needs_background": "light"
          }
        }
      ]
    },
    {
      "cell_type": "markdown",
      "metadata": {
        "id": "rOsSoUsXC6n3",
        "colab_type": "text"
      },
      "source": [
        "## Evaluar el modelo\n",
        "Error cuadrático medio: Mean Squared Error (MSE)."
      ]
    },
    {
      "cell_type": "code",
      "metadata": {
        "id": "PfLjM0btC6n3",
        "colab_type": "code",
        "colab": {
          "base_uri": "https://localhost:8080/",
          "height": 68
        },
        "outputId": "6a0f2d70-431f-4c66-8efa-ca63d0b06b30"
      },
      "source": [
        "#El modelo con el menor error es el AR(8)\n",
        "from sklearn.metrics import mean_squared_error\n",
        "\n",
        "labels = ['AR(1)','AR(2)','AR(8)']\n",
        "preds = [predictions1, predictions2, predictions8]  # these are variables, not strings!\n",
        "\n",
        "for i in range(3):\n",
        "    error = mean_squared_error(test['PopEst'], preds[i])\n",
        "    print(f'{labels[i]} Error: {error:11.10}')"
      ],
      "execution_count": 124,
      "outputs": [
        {
          "output_type": "stream",
          "text": [
            "AR(1) Error: 1552397.371\n",
            "AR(2) Error: 53225.10866\n",
            "AR(8) Error: 186.9705375\n"
          ],
          "name": "stdout"
        }
      ]
    },
    {
      "cell_type": "code",
      "metadata": {
        "id": "bbEqOqNnC6n6",
        "colab_type": "code",
        "colab": {
          "base_uri": "https://localhost:8080/",
          "height": 68
        },
        "outputId": "55c02c33-7b7c-4554-a8c5-9b5fcc779f0e"
      },
      "source": [
        "#Validamos también con el criterio de información AIC y el criterio más bajo es el de AR(8)\n",
        "modls = [AR1fit,AR2fit,ARfit]\n",
        "\n",
        "for i in range(3):\n",
        "    print(f'{labels[i]} AIC: {modls[i].aic:6.5}')"
      ],
      "execution_count": 125,
      "outputs": [
        {
          "output_type": "stream",
          "text": [
            "AR(1) AIC: 10.534\n",
            "AR(2) AIC: 5.1571\n",
            "AR(8) AIC: 3.5878\n"
          ],
          "name": "stdout"
        }
      ]
    },
    {
      "cell_type": "markdown",
      "metadata": {
        "id": "JpdXGbm9C6n8",
        "colab_type": "text"
      },
      "source": [
        "## Predicciones"
      ]
    },
    {
      "cell_type": "code",
      "metadata": {
        "id": "nvcyKC_NC6n8",
        "colab_type": "code",
        "colab": {}
      },
      "source": [
        "# Primero re entrena el modelo con todo el data set\n",
        "model = AR(df['PopEst'])\n",
        "\n",
        "#Después ajusta el modelo\n",
        "ARfit = model.fit(maxlag=8,method='mle')\n",
        "\n",
        "# Haz las predicciones\n",
        "#En este caso es para una ventana de tiempo de 12 \n",
        "#En este caso le indicamos qu estima en el momento en el que termina el df hasta 12 momentos posteriores\n",
        "fcast = ARfit.predict(start=len(df), end=len(df)+12, dynamic=False).rename('Forecast')\n",
        "\n"
      ],
      "execution_count": 127,
      "outputs": []
    },
    {
      "cell_type": "code",
      "metadata": {
        "id": "nitHioMrVd-a",
        "colab_type": "code",
        "colab": {
          "base_uri": "https://localhost:8080/",
          "height": 255
        },
        "outputId": "01c86c74-6dda-4d57-a6b6-ce947e41e2ed"
      },
      "source": [
        "fcast"
      ],
      "execution_count": 128,
      "outputs": [
        {
          "output_type": "execute_result",
          "data": {
            "text/plain": [
              "2019-01-01    328533.473424\n",
              "2019-02-01    328662.343314\n",
              "2019-03-01    328790.639113\n",
              "2019-04-01    328926.549675\n",
              "2019-05-01    329075.650573\n",
              "2019-06-01    329236.054122\n",
              "2019-07-01    329403.038791\n",
              "2019-08-01    329575.663426\n",
              "2019-09-01    329745.517422\n",
              "2019-10-01    329902.465197\n",
              "2019-11-01    330043.091536\n",
              "2019-12-01    330167.942485\n",
              "2020-01-01    330280.950356\n",
              "Freq: MS, Name: Forecast, dtype: float64"
            ]
          },
          "metadata": {
            "tags": []
          },
          "execution_count": 128
        }
      ]
    },
    {
      "cell_type": "code",
      "metadata": {
        "id": "xhDxJStKXLrd",
        "colab_type": "code",
        "colab": {
          "base_uri": "https://localhost:8080/",
          "height": 388
        },
        "outputId": "9c68f93a-4e9a-4712-f55f-7864bce69b8a"
      },
      "source": [
        "# Gráfica los rsultados\n",
        "df['PopEst'].plot(legend=True)\n",
        "fcast.plot(legend=True,figsize=(12,6));"
      ],
      "execution_count": 129,
      "outputs": [
        {
          "output_type": "display_data",
          "data": {
            "image/png": "[encoded data removed]",
            "text/plain": [
              "<Figure size 864x432 with 1 Axes>"
            ]
          },
          "metadata": {
            "tags": [],
            "needs_background": "light"
          }
        }
      ]
    },
    {
      "cell_type": "code",
      "metadata": {
        "id": "8qhQnXGmXMpE",
        "colab_type": "code",
        "colab": {}
      },
      "source": [
        ""
      ],
      "execution_count": null,
      "outputs": []
    }
  ]
}