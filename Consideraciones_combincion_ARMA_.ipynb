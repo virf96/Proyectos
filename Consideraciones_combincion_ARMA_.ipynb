{
  "nbformat": 4,
  "nbformat_minor": 0,
  "metadata": {
    "kernelspec": {
      "display_name": "Python 3",
      "language": "python",
      "name": "python3"
    },
    "language_info": {
      "codemirror_mode": {
        "name": "ipython",
        "version": 3
      },
      "file_extension": ".py",
      "mimetype": "text/x-python",
      "name": "python",
      "nbconvert_exporter": "python",
      "pygments_lexer": "ipython3",
      "version": "3.6.7"
    },
    "colab": {
      "name": "Copia de 9_ARMA .ipynb",
      "provenance": [],
      "include_colab_link": true
    }
  },
  "cells": [
    {
      "cell_type": "markdown",
      "metadata": {
        "id": "view-in-github",
        "colab_type": "text"
      },
      "source": [
        "<a href=\"https://colab.research.google.com/github/virf96/Proyectos/blob/master/Consideraciones_combincion_ARMA_.ipynb\" target=\"_parent\"><img src=\"https://colab.research.google.com/assets/colab-badge.svg\" alt=\"Open In Colab\"/></a>"
      ]
    },
    {
      "cell_type": "markdown",
      "metadata": {
        "id": "iP7zmfjO7rUA",
        "colab_type": "text"
      },
      "source": [
        "# Consideraciones modelo ARMA (Autorregresivo de medias móviles)\n",
        "\n",
        "Este modelo combina el método autorregresivo y medias móviles, este modelo considera el valor de la varible en el periodo anterior y el residuo en el periodo anterior.\n",
        "\n",
        "**Modelo ARMA más simple**\n",
        "\n",
        "**ARMA(1,1):**$x_{t}=c+\\phi_{1}x_{t-1}+\\theta_{1}\\epsilon_{t-1}+\\epsilon_{t}$\n",
        "\n",
        "donde:\n",
        "\n",
        "$x_{t}$ = Valor de la variable en el perido $t$\n",
        "\n",
        "$c$ = Una constante\n",
        "\n",
        "$\\phi_{1}$ = parámetro a estimar\n",
        "\n",
        "$x_{t-1}$ = Valor de la variable en el pariodo $t-1$\n",
        "\n",
        "$\\theta_{1}$ = parámetro a estimar\n",
        "\n",
        "$\\epsilon_{t-1}$ = Residuo en el perido $t-1$\n",
        "\n",
        "$\\epsilon_{t}$ = Residuo en el perido $t$\n",
        "\n",
        "\n",
        "\n"
      ]
    },
    {
      "cell_type": "markdown",
      "metadata": {
        "id": "2U6d3HTqS1rb",
        "colab_type": "text"
      },
      "source": [
        "## Importing the relevant packages"
      ]
    },
    {
      "cell_type": "code",
      "metadata": {
        "id": "7q1J9DDg7rUB",
        "colab_type": "code",
        "colab": {
          "base_uri": "https://localhost:8080/",
          "height": 71
        },
        "outputId": "164ffe4a-2753-4697-feae-754169a3936b"
      },
      "source": [
        "import pandas as pd\n",
        "import numpy as np\n",
        "import matplotlib.pyplot as plt\n",
        "import statsmodels.graphics.tsaplots as sgt\n",
        "import statsmodels.tsa.stattools as sts\n",
        "from statsmodels.tsa.arima_model import ARMA\n",
        "from scipy.stats.distributions import chi2 \n",
        "import seaborn as sns\n",
        "sns.set()"
      ],
      "execution_count": 1,
      "outputs": [
        {
          "output_type": "stream",
          "text": [
            "/usr/local/lib/python3.6/dist-packages/statsmodels/tools/_testing.py:19: FutureWarning: pandas.util.testing is deprecated. Use the functions in the public API at pandas.testing instead.\n",
            "  import pandas.util.testing as tm\n"
          ],
          "name": "stderr"
        }
      ]
    },
    {
      "cell_type": "markdown",
      "metadata": {
        "id": "zf9H9nKL7rUE",
        "colab_type": "text"
      },
      "source": [
        "## Importing the Data and Pre-processing "
      ]
    },
    {
      "cell_type": "code",
      "metadata": {
        "id": "jIQePDWc7rUF",
        "colab_type": "code",
        "colab": {}
      },
      "source": [
        "#Cargamos los datos\n",
        "raw_csv_data = pd.read_csv(\"https://raw.githubusercontent.com/virf96/curso-series-temporales/master/2.%20Serie%20temporal%20en%20R%20y%20Python/Python/Index2018.csv\") \n",
        "#Copiamos el df en otra variable\n",
        "df_comp=raw_csv_data.copy()\n",
        "#Convertimos la variable \"date\" a formato fecha indicando que la variable tiene primero el día\n",
        "df_comp.date = pd.to_datetime(df_comp.date, dayfirst = True)\n",
        "#Indexamos la fecha\n",
        "df_comp.set_index(\"date\", inplace=True)\n",
        "#Indicamos que la frecuencia es \"business days\"\n",
        "df_comp=df_comp.asfreq('b')"
      ],
      "execution_count": 2,
      "outputs": []
    },
    {
      "cell_type": "code",
      "metadata": {
        "id": "2WasB9mMYeAe",
        "colab_type": "code",
        "colab": {
          "base_uri": "https://localhost:8080/",
          "height": 235
        },
        "outputId": "797a0551-89f8-4ed6-da84-2feed11d9eeb"
      },
      "source": [
        "df_comp.head()"
      ],
      "execution_count": 3,
      "outputs": [
        {
          "output_type": "execute_result",
          "data": {
            "text/html": [
              "<div>\n",
              "<style scoped>\n",
              "    .dataframe tbody tr th:only-of-type {\n",
              "        vertical-align: middle;\n",
              "    }\n",
              "\n",
              "    .dataframe tbody tr th {\n",
              "        vertical-align: top;\n",
              "    }\n",
              "\n",
              "    .dataframe thead th {\n",
              "        text-align: right;\n",
              "    }\n",
              "</style>\n",
              "<table border=\"1\" class=\"dataframe\">\n",
              "  <thead>\n",
              "    <tr style=\"text-align: right;\">\n",
              "      <th></th>\n",
              "      <th>spx</th>\n",
              "      <th>dax</th>\n",
              "      <th>ftse</th>\n",
              "      <th>nikkei</th>\n",
              "    </tr>\n",
              "    <tr>\n",
              "      <th>date</th>\n",
              "      <th></th>\n",
              "      <th></th>\n",
              "      <th></th>\n",
              "      <th></th>\n",
              "    </tr>\n",
              "  </thead>\n",
              "  <tbody>\n",
              "    <tr>\n",
              "      <th>1994-01-07</th>\n",
              "      <td>469.90</td>\n",
              "      <td>2224.95</td>\n",
              "      <td>3445.98</td>\n",
              "      <td>18124.01</td>\n",
              "    </tr>\n",
              "    <tr>\n",
              "      <th>1994-01-10</th>\n",
              "      <td>475.27</td>\n",
              "      <td>2225.00</td>\n",
              "      <td>3440.58</td>\n",
              "      <td>18443.44</td>\n",
              "    </tr>\n",
              "    <tr>\n",
              "      <th>1994-01-11</th>\n",
              "      <td>474.13</td>\n",
              "      <td>2228.10</td>\n",
              "      <td>3413.77</td>\n",
              "      <td>18485.25</td>\n",
              "    </tr>\n",
              "    <tr>\n",
              "      <th>1994-01-12</th>\n",
              "      <td>474.17</td>\n",
              "      <td>2182.06</td>\n",
              "      <td>3372.02</td>\n",
              "      <td>18793.88</td>\n",
              "    </tr>\n",
              "    <tr>\n",
              "      <th>1994-01-13</th>\n",
              "      <td>472.47</td>\n",
              "      <td>2142.37</td>\n",
              "      <td>3360.01</td>\n",
              "      <td>18577.26</td>\n",
              "    </tr>\n",
              "  </tbody>\n",
              "</table>\n",
              "</div>"
            ],
            "text/plain": [
              "               spx      dax     ftse    nikkei\n",
              "date                                          \n",
              "1994-01-07  469.90  2224.95  3445.98  18124.01\n",
              "1994-01-10  475.27  2225.00  3440.58  18443.44\n",
              "1994-01-11  474.13  2228.10  3413.77  18485.25\n",
              "1994-01-12  474.17  2182.06  3372.02  18793.88\n",
              "1994-01-13  472.47  2142.37  3360.01  18577.26"
            ]
          },
          "metadata": {
            "tags": []
          },
          "execution_count": 3
        }
      ]
    },
    {
      "cell_type": "code",
      "metadata": {
        "id": "ffAIN9RtYeDm",
        "colab_type": "code",
        "colab": {
          "base_uri": "https://localhost:8080/",
          "height": 102
        },
        "outputId": "7490de1a-0a3a-4557-c39e-a17039435b3d"
      },
      "source": [
        "#Verificamos que no haya NA´s\n",
        "df_comp.isna().sum()"
      ],
      "execution_count": 4,
      "outputs": [
        {
          "output_type": "execute_result",
          "data": {
            "text/plain": [
              "spx       8\n",
              "dax       8\n",
              "ftse      8\n",
              "nikkei    8\n",
              "dtype: int64"
            ]
          },
          "metadata": {
            "tags": []
          },
          "execution_count": 4
        }
      ]
    },
    {
      "cell_type": "code",
      "metadata": {
        "id": "vPTKJk_5YulD",
        "colab_type": "code",
        "colab": {}
      },
      "source": [
        "#Rellenamos los NA´s con el método \"front fill\"\n",
        "df_comp=df_comp.fillna(method='ffill')"
      ],
      "execution_count": 5,
      "outputs": []
    },
    {
      "cell_type": "code",
      "metadata": {
        "id": "lDHBuFhZ7rUI",
        "colab_type": "code",
        "colab": {}
      },
      "source": [
        "#Renombramos ftse\n",
        "df_comp['market_value']=df_comp.ftse"
      ],
      "execution_count": 6,
      "outputs": []
    },
    {
      "cell_type": "code",
      "metadata": {
        "id": "0pMh6mFJ7rUL",
        "colab_type": "code",
        "colab": {}
      },
      "source": [
        "#Borramos las variables que no ocuparemos\n",
        "del df_comp['spx']\n",
        "del df_comp['dax']\n",
        "del df_comp['ftse']\n",
        "del df_comp['nikkei']\n",
        "#Indicamos el punto de corte para el set de entrenamiento y prueba\n",
        "size = int(len(df_comp)*0.8)\n",
        "df, df_test = df_comp.iloc[:size], df_comp.iloc[size:]"
      ],
      "execution_count": 7,
      "outputs": []
    },
    {
      "cell_type": "code",
      "metadata": {
        "id": "JGaU4UAk7rUN",
        "colab_type": "code",
        "colab": {}
      },
      "source": [
        "import warnings\n",
        "warnings.filterwarnings(\"ignore\")"
      ],
      "execution_count": 8,
      "outputs": []
    },
    {
      "cell_type": "markdown",
      "metadata": {
        "id": "W6_wEjGH7rUQ",
        "colab_type": "text"
      },
      "source": [
        "## The LLR Test"
      ]
    },
    {
      "cell_type": "code",
      "metadata": {
        "id": "gG6DHTDk7rUQ",
        "colab_type": "code",
        "colab": {}
      },
      "source": [
        "#Definimos el contraste de log verosimilitud\n",
        "def LLR_test(mod_1, mod_2, DF = 1):\n",
        "    L1 = mod_1.llf\n",
        "    L2 = mod_2.llf\n",
        "    LR = (2*(L2-L1))    \n",
        "    p = chi2.sf(LR, DF).round(3)\n",
        "    return p"
      ],
      "execution_count": 9,
      "outputs": []
    },
    {
      "cell_type": "markdown",
      "metadata": {
        "id": "oDoi-j8T7rUT",
        "colab_type": "text"
      },
      "source": [
        "## Creating Returns"
      ]
    },
    {
      "cell_type": "code",
      "metadata": {
        "scrolled": true,
        "id": "NaOskq9D7rUU",
        "colab_type": "code",
        "colab": {}
      },
      "source": [
        "#Guardamos los retornos de la variable, recordando que unicamente es la tasa de variación entre un día y otro, lo multiplicamos por 100 para obtener una tasa\n",
        "#Tomamos los retornos dado que estos si son estacionarios y necesariamente debe cumplir ese supuesto la serie\n",
        "df['returns'] = df.market_value.pct_change(1)*100"
      ],
      "execution_count": 10,
      "outputs": []
    },
    {
      "cell_type": "code",
      "metadata": {
        "id": "cAspgjtEsZdm",
        "colab_type": "code",
        "colab": {
          "base_uri": "https://localhost:8080/",
          "height": 235
        },
        "outputId": "e06df683-f9a3-4b26-99de-ccf9344d0fab"
      },
      "source": [
        "df.head()"
      ],
      "execution_count": 11,
      "outputs": [
        {
          "output_type": "execute_result",
          "data": {
            "text/html": [
              "<div>\n",
              "<style scoped>\n",
              "    .dataframe tbody tr th:only-of-type {\n",
              "        vertical-align: middle;\n",
              "    }\n",
              "\n",
              "    .dataframe tbody tr th {\n",
              "        vertical-align: top;\n",
              "    }\n",
              "\n",
              "    .dataframe thead th {\n",
              "        text-align: right;\n",
              "    }\n",
              "</style>\n",
              "<table border=\"1\" class=\"dataframe\">\n",
              "  <thead>\n",
              "    <tr style=\"text-align: right;\">\n",
              "      <th></th>\n",
              "      <th>market_value</th>\n",
              "      <th>returns</th>\n",
              "    </tr>\n",
              "    <tr>\n",
              "      <th>date</th>\n",
              "      <th></th>\n",
              "      <th></th>\n",
              "    </tr>\n",
              "  </thead>\n",
              "  <tbody>\n",
              "    <tr>\n",
              "      <th>1994-01-07</th>\n",
              "      <td>3445.98</td>\n",
              "      <td>NaN</td>\n",
              "    </tr>\n",
              "    <tr>\n",
              "      <th>1994-01-10</th>\n",
              "      <td>3440.58</td>\n",
              "      <td>-0.156704</td>\n",
              "    </tr>\n",
              "    <tr>\n",
              "      <th>1994-01-11</th>\n",
              "      <td>3413.77</td>\n",
              "      <td>-0.779229</td>\n",
              "    </tr>\n",
              "    <tr>\n",
              "      <th>1994-01-12</th>\n",
              "      <td>3372.02</td>\n",
              "      <td>-1.222988</td>\n",
              "    </tr>\n",
              "    <tr>\n",
              "      <th>1994-01-13</th>\n",
              "      <td>3360.01</td>\n",
              "      <td>-0.356166</td>\n",
              "    </tr>\n",
              "  </tbody>\n",
              "</table>\n",
              "</div>"
            ],
            "text/plain": [
              "            market_value   returns\n",
              "date                              \n",
              "1994-01-07       3445.98       NaN\n",
              "1994-01-10       3440.58 -0.156704\n",
              "1994-01-11       3413.77 -0.779229\n",
              "1994-01-12       3372.02 -1.222988\n",
              "1994-01-13       3360.01 -0.356166"
            ]
          },
          "metadata": {
            "tags": []
          },
          "execution_count": 11
        }
      ]
    },
    {
      "cell_type": "markdown",
      "metadata": {
        "id": "jwDSkbUR7rUW",
        "colab_type": "text"
      },
      "source": [
        "## ARMA(1,1)"
      ]
    },
    {
      "cell_type": "code",
      "metadata": {
        "id": "oVt1zVHc7rUW",
        "colab_type": "code",
        "colab": {
          "base_uri": "https://localhost:8080/",
          "height": 351
        },
        "outputId": "ed36f58c-d9e1-4460-f7c0-55467e9a95ac"
      },
      "source": [
        "#Definimos el modelo ARMA(1,1)\n",
        "model_ret_ar_1_ma_1 = ARMA(df.returns[1:], order=(1,1))\n",
        "#Ajustamos el modelo\n",
        "results_ret_ar_1_ma_1 = model_ret_ar_1_ma_1.fit()\n",
        "#Resumen del modelo\n",
        "#Observamos que tanto el retraso del modelo AR (variable en el periodo t-1) como el retraso del MA (residuos en el periodo t-1) son significativos\n",
        "#El coeficiente auteorregresivo tiene sigmo positivo sugiere que hay una tendencia positiva entre valores pasados y presentes\n",
        "results_ret_ar_1_ma_1.summary()"
      ],
      "execution_count": 14,
      "outputs": [
        {
          "output_type": "execute_result",
          "data": {
            "text/html": [
              "<table class=\"simpletable\">\n",
              "<caption>ARMA Model Results</caption>\n",
              "<tr>\n",
              "  <th>Dep. Variable:</th>      <td>returns</td>     <th>  No. Observations:  </th>   <td>5020</td>   \n",
              "</tr>\n",
              "<tr>\n",
              "  <th>Model:</th>            <td>ARMA(1, 1)</td>    <th>  Log Likelihood     </th> <td>-7916.500</td>\n",
              "</tr>\n",
              "<tr>\n",
              "  <th>Method:</th>             <td>css-mle</td>     <th>  S.D. of innovations</th>   <td>1.171</td>  \n",
              "</tr>\n",
              "<tr>\n",
              "  <th>Date:</th>          <td>Fri, 17 Jul 2020</td> <th>  AIC                </th> <td>15841.000</td>\n",
              "</tr>\n",
              "<tr>\n",
              "  <th>Time:</th>              <td>01:46:13</td>     <th>  BIC                </th> <td>15867.085</td>\n",
              "</tr>\n",
              "<tr>\n",
              "  <th>Sample:</th>           <td>01-10-1994</td>    <th>  HQIC               </th> <td>15850.140</td>\n",
              "</tr>\n",
              "<tr>\n",
              "  <th></th>                 <td>- 04-05-2013</td>   <th>                     </th>     <td> </td>    \n",
              "</tr>\n",
              "</table>\n",
              "<table class=\"simpletable\">\n",
              "<tr>\n",
              "        <td></td>           <th>coef</th>     <th>std err</th>      <th>z</th>      <th>P>|z|</th>  <th>[0.025</th>    <th>0.975]</th>  \n",
              "</tr>\n",
              "<tr>\n",
              "  <th>const</th>         <td>    0.0189</td> <td>    0.013</td> <td>    1.446</td> <td> 0.148</td> <td>   -0.007</td> <td>    0.045</td>\n",
              "</tr>\n",
              "<tr>\n",
              "  <th>ar.L1.returns</th> <td>    0.7649</td> <td>    0.067</td> <td>   11.349</td> <td> 0.000</td> <td>    0.633</td> <td>    0.897</td>\n",
              "</tr>\n",
              "<tr>\n",
              "  <th>ma.L1.returns</th> <td>   -0.8141</td> <td>    0.061</td> <td>  -13.406</td> <td> 0.000</td> <td>   -0.933</td> <td>   -0.695</td>\n",
              "</tr>\n",
              "</table>\n",
              "<table class=\"simpletable\">\n",
              "<caption>Roots</caption>\n",
              "<tr>\n",
              "    <td></td>   <th>            Real</th>  <th>         Imaginary</th> <th>         Modulus</th>  <th>        Frequency</th>\n",
              "</tr>\n",
              "<tr>\n",
              "  <th>AR.1</th> <td>           1.3074</td> <td>          +0.0000j</td> <td>           1.3074</td> <td>           0.0000</td>\n",
              "</tr>\n",
              "<tr>\n",
              "  <th>MA.1</th> <td>           1.2284</td> <td>          +0.0000j</td> <td>           1.2284</td> <td>           0.0000</td>\n",
              "</tr>\n",
              "</table>"
            ],
            "text/plain": [
              "<class 'statsmodels.iolib.summary.Summary'>\n",
              "\"\"\"\n",
              "                              ARMA Model Results                              \n",
              "==============================================================================\n",
              "Dep. Variable:                returns   No. Observations:                 5020\n",
              "Model:                     ARMA(1, 1)   Log Likelihood               -7916.500\n",
              "Method:                       css-mle   S.D. of innovations              1.171\n",
              "Date:                Fri, 17 Jul 2020   AIC                          15841.000\n",
              "Time:                        01:46:13   BIC                          15867.085\n",
              "Sample:                    01-10-1994   HQIC                         15850.140\n",
              "                         - 04-05-2013                                         \n",
              "=================================================================================\n",
              "                    coef    std err          z      P>|z|      [0.025      0.975]\n",
              "---------------------------------------------------------------------------------\n",
              "const             0.0189      0.013      1.446      0.148      -0.007       0.045\n",
              "ar.L1.returns     0.7649      0.067     11.349      0.000       0.633       0.897\n",
              "ma.L1.returns    -0.8141      0.061    -13.406      0.000      -0.933      -0.695\n",
              "                                    Roots                                    \n",
              "=============================================================================\n",
              "                  Real          Imaginary           Modulus         Frequency\n",
              "-----------------------------------------------------------------------------\n",
              "AR.1            1.3074           +0.0000j            1.3074            0.0000\n",
              "MA.1            1.2284           +0.0000j            1.2284            0.0000\n",
              "-----------------------------------------------------------------------------\n",
              "\"\"\""
            ]
          },
          "metadata": {
            "tags": []
          },
          "execution_count": 14
        }
      ]
    },
    {
      "cell_type": "code",
      "metadata": {
        "scrolled": true,
        "id": "JfRYC2WJ7rUa",
        "colab_type": "code",
        "colab": {}
      },
      "source": [
        "#Defimismo el modelo AR(1) Y MA(1) para compararlo con el ARMA(1,1)\n",
        "model_ret_ar_1 = ARMA(df.returns[1:], order = (1,0))\n",
        "model_ret_ma_1 = ARMA(df.returns[1:], order = (0,1))\n",
        "results_ret_ar_1 = model_ret_ar_1.fit()\n",
        "results_ret_ma_1 = model_ret_ma_1.fit()"
      ],
      "execution_count": 12,
      "outputs": []
    },
    {
      "cell_type": "code",
      "metadata": {
        "id": "SgJ6brIP7rUc",
        "colab_type": "code",
        "colab": {
          "base_uri": "https://localhost:8080/",
          "height": 85
        },
        "outputId": "92357d40-6296-4550-a435-0cd2a1f9b8cf"
      },
      "source": [
        "#En este caso no hay que definir los grados de libertad dado que por defecto \"DF=1\"\n",
        "#La prueba es significativa por lo que nos quedamos con ARMA(1,1)\n",
        "print(\"\\nARMA vs AR \", LLR_test(results_ret_ar_1, results_ret_ar_1_ma_1))\n",
        "print(\"\\nARMA vs MA \", LLR_test(results_ret_ma_1, results_ret_ar_1_ma_1))"
      ],
      "execution_count": 15,
      "outputs": [
        {
          "output_type": "stream",
          "text": [
            "\n",
            "ARMA vs AR  0.0\n",
            "\n",
            "ARMA vs MA  0.0\n"
          ],
          "name": "stdout"
        }
      ]
    },
    {
      "cell_type": "markdown",
      "metadata": {
        "id": "K1qAIsSG7rUe",
        "colab_type": "text"
      },
      "source": [
        "## Higher-Lag ARMA Models\n",
        "\n",
        "¿Como definimos cuantos retrasos para un modelo **ARMA**?\n",
        "\n",
        "1.   Empezaremos definiendo un modelo complejo, es decir, un número grande para el componete autorregresivo como para el de medias moviles.\n",
        "$x_{t}=c+\\phi_{1}x_{t-1}+\\phi_{2}x_{t-2}+...+\\phi_{n}x_{t-n}+\\theta_{1}\\epsilon_{t-1}+\\theta_{2}\\epsilon_{t-2}+...+\\theta_{n}\\epsilon_{t-n}+\\epsilon_{t}$\n",
        "\n",
        "2.   Iremos disminuyendo el número de componentes **hasta llegar al más simple** que contenga **todos los coeficientes significativos**, en donde la **log-verosimilitud sea alta** y donde el **criterio de información BIC ó AIC sea bajo**  \n",
        "\n",
        "\n"
      ]
    },
    {
      "cell_type": "code",
      "metadata": {
        "id": "bnOidUn6VBYu",
        "colab_type": "code",
        "colab": {
          "base_uri": "https://localhost:8080/",
          "height": 293
        },
        "outputId": "834a33e4-36c2-4a86-b7ce-23530c94789d"
      },
      "source": [
        "#Gráfica de autocorrelación para los retornos\n",
        "#La gráfica indica que el componenete de media moviles no debería contener más de 8 retrasos\n",
        "sgt.plot_acf(df.returns[1:], zero = False, lags = 40)\n",
        "plt.title(\"ACF for Returns\",size=24)\n",
        "plt.show()"
      ],
      "execution_count": 17,
      "outputs": [
        {
          "output_type": "display_data",
          "data": {
            "image/png": "[encoded data removed]",
            "text/plain": [
              "<Figure size 432x288 with 1 Axes>"
            ]
          },
          "metadata": {
            "tags": [],
            "needs_background": "light"
          }
        }
      ]
    },
    {
      "cell_type": "code",
      "metadata": {
        "id": "jqqkgoXNVByQ",
        "colab_type": "code",
        "colab": {
          "base_uri": "https://localhost:8080/",
          "height": 293
        },
        "outputId": "40d9ed96-1d8a-42b7-961e-e2bc21f8b1ac"
      },
      "source": [
        "#Gráfica de autocorrelación parcial para los retornos\n",
        "#La gráfica indica que el componenete de autorregresivo no debería contener más de 6 retrasos\n",
        "sgt.plot_pacf(df.returns[1:], zero = False, lags = 40, method='ols')\n",
        "plt.title(\"PACF for Returns\",size=24)\n",
        "plt.show()"
      ],
      "execution_count": 19,
      "outputs": [
        {
          "output_type": "display_data",
          "data": {
            "image/png": "[encoded data removed]",
            "text/plain": [
              "<Figure size 432x288 with 1 Axes>"
            ]
          },
          "metadata": {
            "tags": [],
            "needs_background": "light"
          }
        }
      ]
    },
    {
      "cell_type": "code",
      "metadata": {
        "id": "zI4Ex9aA7rUf",
        "colab_type": "code",
        "colab": {
          "base_uri": "https://localhost:8080/",
          "height": 519
        },
        "outputId": "7e12da95-0389-4b71-de2f-b6f0acd0aec7"
      },
      "source": [
        "#Como el modelo ARMA se complementa lo normal es que se reduzcan los retrasos para cada componente en el ARMA\n",
        "#Empezamos con un ARMA(3,3)\n",
        "model_ret_ar_3_ma_3 = ARMA(df.returns[1:], order=(3,3))\n",
        "results_ret_ar_3_ma_3 = model_ret_ar_3_ma_3.fit()\n",
        "#Podemos ver que el tanto el primer coficiente autorregresivo como el primer coeficiente de medias moviles no son significativos\n",
        "#Un modelo de menos retrasos podría ser de mejor uso\n",
        "results_ret_ar_3_ma_3.summary()"
      ],
      "execution_count": 21,
      "outputs": [
        {
          "output_type": "execute_result",
          "data": {
            "text/html": [
              "<table class=\"simpletable\">\n",
              "<caption>ARMA Model Results</caption>\n",
              "<tr>\n",
              "  <th>Dep. Variable:</th>      <td>returns</td>     <th>  No. Observations:  </th>   <td>5020</td>   \n",
              "</tr>\n",
              "<tr>\n",
              "  <th>Model:</th>            <td>ARMA(3, 3)</td>    <th>  Log Likelihood     </th> <td>-7893.515</td>\n",
              "</tr>\n",
              "<tr>\n",
              "  <th>Method:</th>             <td>css-mle</td>     <th>  S.D. of innovations</th>   <td>1.166</td>  \n",
              "</tr>\n",
              "<tr>\n",
              "  <th>Date:</th>          <td>Fri, 17 Jul 2020</td> <th>  AIC                </th> <td>15803.030</td>\n",
              "</tr>\n",
              "<tr>\n",
              "  <th>Time:</th>              <td>02:06:25</td>     <th>  BIC                </th> <td>15855.199</td>\n",
              "</tr>\n",
              "<tr>\n",
              "  <th>Sample:</th>           <td>01-10-1994</td>    <th>  HQIC               </th> <td>15821.310</td>\n",
              "</tr>\n",
              "<tr>\n",
              "  <th></th>                 <td>- 04-05-2013</td>   <th>                     </th>     <td> </td>    \n",
              "</tr>\n",
              "</table>\n",
              "<table class=\"simpletable\">\n",
              "<tr>\n",
              "        <td></td>           <th>coef</th>     <th>std err</th>      <th>z</th>      <th>P>|z|</th>  <th>[0.025</th>    <th>0.975]</th>  \n",
              "</tr>\n",
              "<tr>\n",
              "  <th>const</th>         <td>    0.0189</td> <td>    0.014</td> <td>    1.395</td> <td> 0.163</td> <td>   -0.008</td> <td>    0.045</td>\n",
              "</tr>\n",
              "<tr>\n",
              "  <th>ar.L1.returns</th> <td>   -0.1898</td> <td>    0.104</td> <td>   -1.827</td> <td> 0.068</td> <td>   -0.393</td> <td>    0.014</td>\n",
              "</tr>\n",
              "<tr>\n",
              "  <th>ar.L2.returns</th> <td>   -0.2942</td> <td>    0.087</td> <td>   -3.389</td> <td> 0.001</td> <td>   -0.464</td> <td>   -0.124</td>\n",
              "</tr>\n",
              "<tr>\n",
              "  <th>ar.L3.returns</th> <td>    0.4459</td> <td>    0.138</td> <td>    3.225</td> <td> 0.001</td> <td>    0.175</td> <td>    0.717</td>\n",
              "</tr>\n",
              "<tr>\n",
              "  <th>ma.L1.returns</th> <td>    0.1707</td> <td>    0.099</td> <td>    1.726</td> <td> 0.084</td> <td>   -0.023</td> <td>    0.365</td>\n",
              "</tr>\n",
              "<tr>\n",
              "  <th>ma.L2.returns</th> <td>    0.2277</td> <td>    0.084</td> <td>    2.701</td> <td> 0.007</td> <td>    0.062</td> <td>    0.393</td>\n",
              "</tr>\n",
              "<tr>\n",
              "  <th>ma.L3.returns</th> <td>   -0.5432</td> <td>    0.127</td> <td>   -4.270</td> <td> 0.000</td> <td>   -0.793</td> <td>   -0.294</td>\n",
              "</tr>\n",
              "</table>\n",
              "<table class=\"simpletable\">\n",
              "<caption>Roots</caption>\n",
              "<tr>\n",
              "    <td></td>   <th>            Real</th>  <th>         Imaginary</th> <th>         Modulus</th>  <th>        Frequency</th>\n",
              "</tr>\n",
              "<tr>\n",
              "  <th>AR.1</th> <td>          -0.5168</td> <td>          -1.0283j</td> <td>           1.1508</td> <td>          -0.3241</td>\n",
              "</tr>\n",
              "<tr>\n",
              "  <th>AR.2</th> <td>          -0.5168</td> <td>          +1.0283j</td> <td>           1.1508</td> <td>           0.3241</td>\n",
              "</tr>\n",
              "<tr>\n",
              "  <th>AR.3</th> <td>           1.6932</td> <td>          -0.0000j</td> <td>           1.6932</td> <td>          -0.0000</td>\n",
              "</tr>\n",
              "<tr>\n",
              "  <th>MA.1</th> <td>          -0.5286</td> <td>          -0.9835j</td> <td>           1.1166</td> <td>          -0.3285</td>\n",
              "</tr>\n",
              "<tr>\n",
              "  <th>MA.2</th> <td>          -0.5286</td> <td>          +0.9835j</td> <td>           1.1166</td> <td>           0.3285</td>\n",
              "</tr>\n",
              "<tr>\n",
              "  <th>MA.3</th> <td>           1.4764</td> <td>          -0.0000j</td> <td>           1.4764</td> <td>          -0.0000</td>\n",
              "</tr>\n",
              "</table>"
            ],
            "text/plain": [
              "<class 'statsmodels.iolib.summary.Summary'>\n",
              "\"\"\"\n",
              "                              ARMA Model Results                              \n",
              "==============================================================================\n",
              "Dep. Variable:                returns   No. Observations:                 5020\n",
              "Model:                     ARMA(3, 3)   Log Likelihood               -7893.515\n",
              "Method:                       css-mle   S.D. of innovations              1.166\n",
              "Date:                Fri, 17 Jul 2020   AIC                          15803.030\n",
              "Time:                        02:06:25   BIC                          15855.199\n",
              "Sample:                    01-10-1994   HQIC                         15821.310\n",
              "                         - 04-05-2013                                         \n",
              "=================================================================================\n",
              "                    coef    std err          z      P>|z|      [0.025      0.975]\n",
              "---------------------------------------------------------------------------------\n",
              "const             0.0189      0.014      1.395      0.163      -0.008       0.045\n",
              "ar.L1.returns    -0.1898      0.104     -1.827      0.068      -0.393       0.014\n",
              "ar.L2.returns    -0.2942      0.087     -3.389      0.001      -0.464      -0.124\n",
              "ar.L3.returns     0.4459      0.138      3.225      0.001       0.175       0.717\n",
              "ma.L1.returns     0.1707      0.099      1.726      0.084      -0.023       0.365\n",
              "ma.L2.returns     0.2277      0.084      2.701      0.007       0.062       0.393\n",
              "ma.L3.returns    -0.5432      0.127     -4.270      0.000      -0.793      -0.294\n",
              "                                    Roots                                    \n",
              "=============================================================================\n",
              "                  Real          Imaginary           Modulus         Frequency\n",
              "-----------------------------------------------------------------------------\n",
              "AR.1           -0.5168           -1.0283j            1.1508           -0.3241\n",
              "AR.2           -0.5168           +1.0283j            1.1508            0.3241\n",
              "AR.3            1.6932           -0.0000j            1.6932           -0.0000\n",
              "MA.1           -0.5286           -0.9835j            1.1166           -0.3285\n",
              "MA.2           -0.5286           +0.9835j            1.1166            0.3285\n",
              "MA.3            1.4764           -0.0000j            1.4764           -0.0000\n",
              "-----------------------------------------------------------------------------\n",
              "\"\"\""
            ]
          },
          "metadata": {
            "tags": []
          },
          "execution_count": 21
        }
      ]
    },
    {
      "cell_type": "code",
      "metadata": {
        "id": "EJ4dWsuG7rUi",
        "colab_type": "code",
        "colab": {
          "base_uri": "https://localhost:8080/",
          "height": 34
        },
        "outputId": "ad497acc-6a73-4a28-9238-1d488856241e"
      },
      "source": [
        "#Modificamos los grados de libertad, la diferencia ya es 4\n",
        "#La prueba es significativa por lo que sugiere que un modelo ARMA(3,3) hace mejor estimaciones que un modelo ARMA(1,1)\n",
        "LLR_test(results_ret_ar_1_ma_1, results_ret_ar_3_ma_3, DF = 4)"
      ],
      "execution_count": 22,
      "outputs": [
        {
          "output_type": "execute_result",
          "data": {
            "text/plain": [
              "0.0"
            ]
          },
          "metadata": {
            "tags": []
          },
          "execution_count": 22
        }
      ]
    },
    {
      "cell_type": "code",
      "metadata": {
        "id": "lqflALFk7rUn",
        "colab_type": "code",
        "colab": {
          "base_uri": "https://localhost:8080/",
          "height": 477
        },
        "outputId": "255d4994-51b3-4af4-d6da-ebb162914ee9"
      },
      "source": [
        "#Empecemos comprobante los modelos ARMA que consideran 5 componentes\n",
        "#Modelo ARMA(3,2) 3 retrasos autorregresivos y 2 de medias móviles\n",
        "model_ret_ar_3_ma_2 = ARMA(df.returns[1:], order=(3,2))\n",
        "results_ret_ar_3_ma_2 = model_ret_ar_3_ma_2.fit()\n",
        "#Podemos ver que todos los coeficientes son significativos\n",
        "#Este es un posible buen modelo\n",
        "results_ret_ar_3_ma_2.summary()"
      ],
      "execution_count": 23,
      "outputs": [
        {
          "output_type": "execute_result",
          "data": {
            "text/html": [
              "<table class=\"simpletable\">\n",
              "<caption>ARMA Model Results</caption>\n",
              "<tr>\n",
              "  <th>Dep. Variable:</th>      <td>returns</td>     <th>  No. Observations:  </th>   <td>5020</td>   \n",
              "</tr>\n",
              "<tr>\n",
              "  <th>Model:</th>            <td>ARMA(3, 2)</td>    <th>  Log Likelihood     </th> <td>-7895.747</td>\n",
              "</tr>\n",
              "<tr>\n",
              "  <th>Method:</th>             <td>css-mle</td>     <th>  S.D. of innovations</th>   <td>1.166</td>  \n",
              "</tr>\n",
              "<tr>\n",
              "  <th>Date:</th>          <td>Fri, 17 Jul 2020</td> <th>  AIC                </th> <td>15805.495</td>\n",
              "</tr>\n",
              "<tr>\n",
              "  <th>Time:</th>              <td>02:09:43</td>     <th>  BIC                </th> <td>15851.143</td>\n",
              "</tr>\n",
              "<tr>\n",
              "  <th>Sample:</th>           <td>01-10-1994</td>    <th>  HQIC               </th> <td>15821.491</td>\n",
              "</tr>\n",
              "<tr>\n",
              "  <th></th>                 <td>- 04-05-2013</td>   <th>                     </th>     <td> </td>    \n",
              "</tr>\n",
              "</table>\n",
              "<table class=\"simpletable\">\n",
              "<tr>\n",
              "        <td></td>           <th>coef</th>     <th>std err</th>      <th>z</th>      <th>P>|z|</th>  <th>[0.025</th>    <th>0.975]</th>  \n",
              "</tr>\n",
              "<tr>\n",
              "  <th>const</th>         <td>    0.0188</td> <td>    0.015</td> <td>    1.251</td> <td> 0.211</td> <td>   -0.011</td> <td>    0.048</td>\n",
              "</tr>\n",
              "<tr>\n",
              "  <th>ar.L1.returns</th> <td>   -0.6785</td> <td>    0.087</td> <td>   -7.799</td> <td> 0.000</td> <td>   -0.849</td> <td>   -0.508</td>\n",
              "</tr>\n",
              "<tr>\n",
              "  <th>ar.L2.returns</th> <td>   -0.5088</td> <td>    0.139</td> <td>   -3.670</td> <td> 0.000</td> <td>   -0.780</td> <td>   -0.237</td>\n",
              "</tr>\n",
              "<tr>\n",
              "  <th>ar.L3.returns</th> <td>   -0.1141</td> <td>    0.015</td> <td>   -7.655</td> <td> 0.000</td> <td>   -0.143</td> <td>   -0.085</td>\n",
              "</tr>\n",
              "<tr>\n",
              "  <th>ma.L1.returns</th> <td>    0.6568</td> <td>    0.087</td> <td>    7.536</td> <td> 0.000</td> <td>    0.486</td> <td>    0.828</td>\n",
              "</tr>\n",
              "<tr>\n",
              "  <th>ma.L2.returns</th> <td>    0.4474</td> <td>    0.141</td> <td>    3.175</td> <td> 0.002</td> <td>    0.171</td> <td>    0.724</td>\n",
              "</tr>\n",
              "</table>\n",
              "<table class=\"simpletable\">\n",
              "<caption>Roots</caption>\n",
              "<tr>\n",
              "    <td></td>   <th>            Real</th>  <th>         Imaginary</th> <th>         Modulus</th>  <th>        Frequency</th>\n",
              "</tr>\n",
              "<tr>\n",
              "  <th>AR.1</th> <td>          -0.4929</td> <td>          -1.5100j</td> <td>           1.5885</td> <td>          -0.3002</td>\n",
              "</tr>\n",
              "<tr>\n",
              "  <th>AR.2</th> <td>          -0.4929</td> <td>          +1.5100j</td> <td>           1.5885</td> <td>           0.3002</td>\n",
              "</tr>\n",
              "<tr>\n",
              "  <th>AR.3</th> <td>          -3.4749</td> <td>          -0.0000j</td> <td>           3.4749</td> <td>          -0.5000</td>\n",
              "</tr>\n",
              "<tr>\n",
              "  <th>MA.1</th> <td>          -0.7340</td> <td>          -1.3025j</td> <td>           1.4951</td> <td>          -0.3317</td>\n",
              "</tr>\n",
              "<tr>\n",
              "  <th>MA.2</th> <td>          -0.7340</td> <td>          +1.3025j</td> <td>           1.4951</td> <td>           0.3317</td>\n",
              "</tr>\n",
              "</table>"
            ],
            "text/plain": [
              "<class 'statsmodels.iolib.summary.Summary'>\n",
              "\"\"\"\n",
              "                              ARMA Model Results                              \n",
              "==============================================================================\n",
              "Dep. Variable:                returns   No. Observations:                 5020\n",
              "Model:                     ARMA(3, 2)   Log Likelihood               -7895.747\n",
              "Method:                       css-mle   S.D. of innovations              1.166\n",
              "Date:                Fri, 17 Jul 2020   AIC                          15805.495\n",
              "Time:                        02:09:43   BIC                          15851.143\n",
              "Sample:                    01-10-1994   HQIC                         15821.491\n",
              "                         - 04-05-2013                                         \n",
              "=================================================================================\n",
              "                    coef    std err          z      P>|z|      [0.025      0.975]\n",
              "---------------------------------------------------------------------------------\n",
              "const             0.0188      0.015      1.251      0.211      -0.011       0.048\n",
              "ar.L1.returns    -0.6785      0.087     -7.799      0.000      -0.849      -0.508\n",
              "ar.L2.returns    -0.5088      0.139     -3.670      0.000      -0.780      -0.237\n",
              "ar.L3.returns    -0.1141      0.015     -7.655      0.000      -0.143      -0.085\n",
              "ma.L1.returns     0.6568      0.087      7.536      0.000       0.486       0.828\n",
              "ma.L2.returns     0.4474      0.141      3.175      0.002       0.171       0.724\n",
              "                                    Roots                                    \n",
              "=============================================================================\n",
              "                  Real          Imaginary           Modulus         Frequency\n",
              "-----------------------------------------------------------------------------\n",
              "AR.1           -0.4929           -1.5100j            1.5885           -0.3002\n",
              "AR.2           -0.4929           +1.5100j            1.5885            0.3002\n",
              "AR.3           -3.4749           -0.0000j            3.4749           -0.5000\n",
              "MA.1           -0.7340           -1.3025j            1.4951           -0.3317\n",
              "MA.2           -0.7340           +1.3025j            1.4951            0.3317\n",
              "-----------------------------------------------------------------------------\n",
              "\"\"\""
            ]
          },
          "metadata": {
            "tags": []
          },
          "execution_count": 23
        }
      ]
    },
    {
      "cell_type": "code",
      "metadata": {
        "id": "RAKfjQLh7rUp",
        "colab_type": "code",
        "colab": {
          "base_uri": "https://localhost:8080/",
          "height": 477
        },
        "outputId": "95f59fae-df50-4103-f4e6-d042e3cafb08"
      },
      "source": [
        "#Modelo ARMA(2,3) 2 retrasos autorregresivos y 3 de medias móviles\n",
        "model_ret_ar_2_ma_3 = ARMA(df.returns[1:], order=(2,3))\n",
        "results_ret_ar_2_ma_3 = model_ret_ar_2_ma_3.fit()\n",
        "#Este modelo contiene 2 coeficientes que no son significativos, el segundo retraso autorregresivo y el segundo de medias móviles\n",
        "#Este no sería un buen modelo\n",
        "results_ret_ar_2_ma_3.summary()"
      ],
      "execution_count": 25,
      "outputs": [
        {
          "output_type": "execute_result",
          "data": {
            "text/html": [
              "<table class=\"simpletable\">\n",
              "<caption>ARMA Model Results</caption>\n",
              "<tr>\n",
              "  <th>Dep. Variable:</th>      <td>returns</td>     <th>  No. Observations:  </th>   <td>5020</td>   \n",
              "</tr>\n",
              "<tr>\n",
              "  <th>Model:</th>            <td>ARMA(2, 3)</td>    <th>  Log Likelihood     </th> <td>-7895.587</td>\n",
              "</tr>\n",
              "<tr>\n",
              "  <th>Method:</th>             <td>css-mle</td>     <th>  S.D. of innovations</th>   <td>1.166</td>  \n",
              "</tr>\n",
              "<tr>\n",
              "  <th>Date:</th>          <td>Fri, 17 Jul 2020</td> <th>  AIC                </th> <td>15805.174</td>\n",
              "</tr>\n",
              "<tr>\n",
              "  <th>Time:</th>              <td>02:16:12</td>     <th>  BIC                </th> <td>15850.823</td>\n",
              "</tr>\n",
              "<tr>\n",
              "  <th>Sample:</th>           <td>01-10-1994</td>    <th>  HQIC               </th> <td>15821.170</td>\n",
              "</tr>\n",
              "<tr>\n",
              "  <th></th>                 <td>- 04-05-2013</td>   <th>                     </th>     <td> </td>    \n",
              "</tr>\n",
              "</table>\n",
              "<table class=\"simpletable\">\n",
              "<tr>\n",
              "        <td></td>           <th>coef</th>     <th>std err</th>      <th>z</th>      <th>P>|z|</th>  <th>[0.025</th>    <th>0.975]</th>  \n",
              "</tr>\n",
              "<tr>\n",
              "  <th>const</th>         <td>    0.0189</td> <td>    0.015</td> <td>    1.276</td> <td> 0.202</td> <td>   -0.010</td> <td>    0.048</td>\n",
              "</tr>\n",
              "<tr>\n",
              "  <th>ar.L1.returns</th> <td>   -0.5605</td> <td>    0.090</td> <td>   -6.245</td> <td> 0.000</td> <td>   -0.736</td> <td>   -0.385</td>\n",
              "</tr>\n",
              "<tr>\n",
              "  <th>ar.L2.returns</th> <td>   -0.4187</td> <td>    0.193</td> <td>   -2.172</td> <td> 0.030</td> <td>   -0.797</td> <td>   -0.041</td>\n",
              "</tr>\n",
              "<tr>\n",
              "  <th>ma.L1.returns</th> <td>    0.5378</td> <td>    0.090</td> <td>    6.000</td> <td> 0.000</td> <td>    0.362</td> <td>    0.714</td>\n",
              "</tr>\n",
              "<tr>\n",
              "  <th>ma.L2.returns</th> <td>    0.3540</td> <td>    0.195</td> <td>    1.818</td> <td> 0.069</td> <td>   -0.028</td> <td>    0.736</td>\n",
              "</tr>\n",
              "<tr>\n",
              "  <th>ma.L3.returns</th> <td>   -0.1158</td> <td>    0.016</td> <td>   -7.369</td> <td> 0.000</td> <td>   -0.147</td> <td>   -0.085</td>\n",
              "</tr>\n",
              "</table>\n",
              "<table class=\"simpletable\">\n",
              "<caption>Roots</caption>\n",
              "<tr>\n",
              "    <td></td>   <th>            Real</th>  <th>         Imaginary</th> <th>         Modulus</th>  <th>        Frequency</th>\n",
              "</tr>\n",
              "<tr>\n",
              "  <th>AR.1</th> <td>          -0.6694</td> <td>          -1.3930j</td> <td>           1.5455</td> <td>          -0.3213</td>\n",
              "</tr>\n",
              "<tr>\n",
              "  <th>AR.2</th> <td>          -0.6694</td> <td>          +1.3930j</td> <td>           1.5455</td> <td>           0.3213</td>\n",
              "</tr>\n",
              "<tr>\n",
              "  <th>MA.1</th> <td>          -0.7270</td> <td>          -1.1772j</td> <td>           1.3836</td> <td>          -0.3381</td>\n",
              "</tr>\n",
              "<tr>\n",
              "  <th>MA.2</th> <td>          -0.7270</td> <td>          +1.1772j</td> <td>           1.3836</td> <td>           0.3381</td>\n",
              "</tr>\n",
              "<tr>\n",
              "  <th>MA.3</th> <td>           4.5096</td> <td>          -0.0000j</td> <td>           4.5096</td> <td>          -0.0000</td>\n",
              "</tr>\n",
              "</table>"
            ],
            "text/plain": [
              "<class 'statsmodels.iolib.summary.Summary'>\n",
              "\"\"\"\n",
              "                              ARMA Model Results                              \n",
              "==============================================================================\n",
              "Dep. Variable:                returns   No. Observations:                 5020\n",
              "Model:                     ARMA(2, 3)   Log Likelihood               -7895.587\n",
              "Method:                       css-mle   S.D. of innovations              1.166\n",
              "Date:                Fri, 17 Jul 2020   AIC                          15805.174\n",
              "Time:                        02:16:12   BIC                          15850.823\n",
              "Sample:                    01-10-1994   HQIC                         15821.170\n",
              "                         - 04-05-2013                                         \n",
              "=================================================================================\n",
              "                    coef    std err          z      P>|z|      [0.025      0.975]\n",
              "---------------------------------------------------------------------------------\n",
              "const             0.0189      0.015      1.276      0.202      -0.010       0.048\n",
              "ar.L1.returns    -0.5605      0.090     -6.245      0.000      -0.736      -0.385\n",
              "ar.L2.returns    -0.4187      0.193     -2.172      0.030      -0.797      -0.041\n",
              "ma.L1.returns     0.5378      0.090      6.000      0.000       0.362       0.714\n",
              "ma.L2.returns     0.3540      0.195      1.818      0.069      -0.028       0.736\n",
              "ma.L3.returns    -0.1158      0.016     -7.369      0.000      -0.147      -0.085\n",
              "                                    Roots                                    \n",
              "=============================================================================\n",
              "                  Real          Imaginary           Modulus         Frequency\n",
              "-----------------------------------------------------------------------------\n",
              "AR.1           -0.6694           -1.3930j            1.5455           -0.3213\n",
              "AR.2           -0.6694           +1.3930j            1.5455            0.3213\n",
              "MA.1           -0.7270           -1.1772j            1.3836           -0.3381\n",
              "MA.2           -0.7270           +1.1772j            1.3836            0.3381\n",
              "MA.3            4.5096           -0.0000j            4.5096           -0.0000\n",
              "-----------------------------------------------------------------------------\n",
              "\"\"\""
            ]
          },
          "metadata": {
            "tags": []
          },
          "execution_count": 25
        }
      ]
    },
    {
      "cell_type": "code",
      "metadata": {
        "id": "sTKO4iWQ7rUu",
        "colab_type": "code",
        "colab": {
          "base_uri": "https://localhost:8080/",
          "height": 435
        },
        "outputId": "cc108ecd-99dc-41f4-f2dc-1b97f65c7c8d"
      },
      "source": [
        "#Ahora los modelos ARMA que consideran 4 componentes\n",
        "#Modelo ARMA(3,1) 3 retrasos autorregresivos y 1 de medias móviles\n",
        "model_ret_ar_3_ma_1 = ARMA(df.returns[1:], order=(3,1))\n",
        "results_ret_ar_3_ma_1 = model_ret_ar_3_ma_1.fit()\n",
        "#En este caso todos los coeficientes son significativos por lo que este podría ser un buen modelo\n",
        "results_ret_ar_3_ma_1.summary()"
      ],
      "execution_count": 26,
      "outputs": [
        {
          "output_type": "execute_result",
          "data": {
            "text/html": [
              "<table class=\"simpletable\">\n",
              "<caption>ARMA Model Results</caption>\n",
              "<tr>\n",
              "  <th>Dep. Variable:</th>      <td>returns</td>     <th>  No. Observations:  </th>   <td>5020</td>   \n",
              "</tr>\n",
              "<tr>\n",
              "  <th>Model:</th>            <td>ARMA(3, 1)</td>    <th>  Log Likelihood     </th> <td>-7899.072</td>\n",
              "</tr>\n",
              "<tr>\n",
              "  <th>Method:</th>             <td>css-mle</td>     <th>  S.D. of innovations</th>   <td>1.167</td>  \n",
              "</tr>\n",
              "<tr>\n",
              "  <th>Date:</th>          <td>Fri, 17 Jul 2020</td> <th>  AIC                </th> <td>15810.144</td>\n",
              "</tr>\n",
              "<tr>\n",
              "  <th>Time:</th>              <td>02:17:45</td>     <th>  BIC                </th> <td>15849.271</td>\n",
              "</tr>\n",
              "<tr>\n",
              "  <th>Sample:</th>           <td>01-10-1994</td>    <th>  HQIC               </th> <td>15823.855</td>\n",
              "</tr>\n",
              "<tr>\n",
              "  <th></th>                 <td>- 04-05-2013</td>   <th>                     </th>     <td> </td>    \n",
              "</tr>\n",
              "</table>\n",
              "<table class=\"simpletable\">\n",
              "<tr>\n",
              "        <td></td>           <th>coef</th>     <th>std err</th>      <th>z</th>      <th>P>|z|</th>  <th>[0.025</th>    <th>0.975]</th>  \n",
              "</tr>\n",
              "<tr>\n",
              "  <th>const</th>         <td>    0.0189</td> <td>    0.015</td> <td>    1.298</td> <td> 0.194</td> <td>   -0.010</td> <td>    0.047</td>\n",
              "</tr>\n",
              "<tr>\n",
              "  <th>ar.L1.returns</th> <td>   -0.5077</td> <td>    0.088</td> <td>   -5.769</td> <td> 0.000</td> <td>   -0.680</td> <td>   -0.335</td>\n",
              "</tr>\n",
              "<tr>\n",
              "  <th>ar.L2.returns</th> <td>   -0.0638</td> <td>    0.016</td> <td>   -4.023</td> <td> 0.000</td> <td>   -0.095</td> <td>   -0.033</td>\n",
              "</tr>\n",
              "<tr>\n",
              "  <th>ar.L3.returns</th> <td>   -0.1102</td> <td>    0.014</td> <td>   -7.850</td> <td> 0.000</td> <td>   -0.138</td> <td>   -0.083</td>\n",
              "</tr>\n",
              "<tr>\n",
              "  <th>ma.L1.returns</th> <td>    0.4839</td> <td>    0.088</td> <td>    5.500</td> <td> 0.000</td> <td>    0.311</td> <td>    0.656</td>\n",
              "</tr>\n",
              "</table>\n",
              "<table class=\"simpletable\">\n",
              "<caption>Roots</caption>\n",
              "<tr>\n",
              "    <td></td>   <th>            Real</th>  <th>         Imaginary</th> <th>         Modulus</th>  <th>        Frequency</th>\n",
              "</tr>\n",
              "<tr>\n",
              "  <th>AR.1</th> <td>          -1.5095</td> <td>          -0.0000j</td> <td>           1.5095</td> <td>          -0.5000</td>\n",
              "</tr>\n",
              "<tr>\n",
              "  <th>AR.2</th> <td>           0.4653</td> <td>          -2.4076j</td> <td>           2.4521</td> <td>          -0.2196</td>\n",
              "</tr>\n",
              "<tr>\n",
              "  <th>AR.3</th> <td>           0.4653</td> <td>          +2.4076j</td> <td>           2.4521</td> <td>           0.2196</td>\n",
              "</tr>\n",
              "<tr>\n",
              "  <th>MA.1</th> <td>          -2.0668</td> <td>          +0.0000j</td> <td>           2.0668</td> <td>           0.5000</td>\n",
              "</tr>\n",
              "</table>"
            ],
            "text/plain": [
              "<class 'statsmodels.iolib.summary.Summary'>\n",
              "\"\"\"\n",
              "                              ARMA Model Results                              \n",
              "==============================================================================\n",
              "Dep. Variable:                returns   No. Observations:                 5020\n",
              "Model:                     ARMA(3, 1)   Log Likelihood               -7899.072\n",
              "Method:                       css-mle   S.D. of innovations              1.167\n",
              "Date:                Fri, 17 Jul 2020   AIC                          15810.144\n",
              "Time:                        02:17:45   BIC                          15849.271\n",
              "Sample:                    01-10-1994   HQIC                         15823.855\n",
              "                         - 04-05-2013                                         \n",
              "=================================================================================\n",
              "                    coef    std err          z      P>|z|      [0.025      0.975]\n",
              "---------------------------------------------------------------------------------\n",
              "const             0.0189      0.015      1.298      0.194      -0.010       0.047\n",
              "ar.L1.returns    -0.5077      0.088     -5.769      0.000      -0.680      -0.335\n",
              "ar.L2.returns    -0.0638      0.016     -4.023      0.000      -0.095      -0.033\n",
              "ar.L3.returns    -0.1102      0.014     -7.850      0.000      -0.138      -0.083\n",
              "ma.L1.returns     0.4839      0.088      5.500      0.000       0.311       0.656\n",
              "                                    Roots                                    \n",
              "=============================================================================\n",
              "                  Real          Imaginary           Modulus         Frequency\n",
              "-----------------------------------------------------------------------------\n",
              "AR.1           -1.5095           -0.0000j            1.5095           -0.5000\n",
              "AR.2            0.4653           -2.4076j            2.4521           -0.2196\n",
              "AR.3            0.4653           +2.4076j            2.4521            0.2196\n",
              "MA.1           -2.0668           +0.0000j            2.0668            0.5000\n",
              "-----------------------------------------------------------------------------\n",
              "\"\"\""
            ]
          },
          "metadata": {
            "tags": []
          },
          "execution_count": 26
        }
      ]
    },
    {
      "cell_type": "code",
      "metadata": {
        "id": "nm3KLFVA7rUw",
        "colab_type": "code",
        "colab": {
          "base_uri": "https://localhost:8080/",
          "height": 34
        },
        "outputId": "539271f2-18df-49d1-ce8a-c944806edcf9"
      },
      "source": [
        "#Como la diferencia es de 1, no tenemos que indicar los grados de libertad\n",
        "#Realizamos el contraste y vemos que es significativo por lo que nos quedamos con el modeo ARMA(3,1)\n",
        "LLR_test(results_ret_ar_3_ma_1, results_ret_ar_3_ma_2)"
      ],
      "execution_count": 27,
      "outputs": [
        {
          "output_type": "execute_result",
          "data": {
            "text/plain": [
              "0.01"
            ]
          },
          "metadata": {
            "tags": []
          },
          "execution_count": 27
        }
      ]
    },
    {
      "cell_type": "code",
      "metadata": {
        "id": "4V8A3CJJ7rUy",
        "colab_type": "code",
        "colab": {
          "base_uri": "https://localhost:8080/",
          "height": 435
        },
        "outputId": "832a0bdb-dfa1-4689-86dc-9285adaef545"
      },
      "source": [
        "#Ahora los modelos ARMA que consideran 4 componentes\n",
        "#Modelo ARMA(2,2) 2 retrasos autorregresivos y 2 de medias móviles\n",
        "model_ret_ar_2_ma_2 = ARMA(df.returns[1:], order=(2,2))\n",
        "results_ret_ar_2_ma_2 = model_ret_ar_2_ma_2.fit()\n",
        "#Podemos observar que el segundo retraso autorregresivo no es significativo ni el segundo retraso de medias móviles\n",
        "#Este no es un buen modelo\n",
        "results_ret_ar_2_ma_2.summary()"
      ],
      "execution_count": 28,
      "outputs": [
        {
          "output_type": "execute_result",
          "data": {
            "text/html": [
              "<table class=\"simpletable\">\n",
              "<caption>ARMA Model Results</caption>\n",
              "<tr>\n",
              "  <th>Dep. Variable:</th>      <td>returns</td>     <th>  No. Observations:  </th>   <td>5020</td>   \n",
              "</tr>\n",
              "<tr>\n",
              "  <th>Model:</th>            <td>ARMA(2, 2)</td>    <th>  Log Likelihood     </th> <td>-7913.223</td>\n",
              "</tr>\n",
              "<tr>\n",
              "  <th>Method:</th>             <td>css-mle</td>     <th>  S.D. of innovations</th>   <td>1.170</td>  \n",
              "</tr>\n",
              "<tr>\n",
              "  <th>Date:</th>          <td>Fri, 17 Jul 2020</td> <th>  AIC                </th> <td>15838.446</td>\n",
              "</tr>\n",
              "<tr>\n",
              "  <th>Time:</th>              <td>02:20:22</td>     <th>  BIC                </th> <td>15877.573</td>\n",
              "</tr>\n",
              "<tr>\n",
              "  <th>Sample:</th>           <td>01-10-1994</td>    <th>  HQIC               </th> <td>15852.156</td>\n",
              "</tr>\n",
              "<tr>\n",
              "  <th></th>                 <td>- 04-05-2013</td>   <th>                     </th>     <td> </td>    \n",
              "</tr>\n",
              "</table>\n",
              "<table class=\"simpletable\">\n",
              "<tr>\n",
              "        <td></td>           <th>coef</th>     <th>std err</th>      <th>z</th>      <th>P>|z|</th>  <th>[0.025</th>    <th>0.975]</th>  \n",
              "</tr>\n",
              "<tr>\n",
              "  <th>const</th>         <td>    0.0189</td> <td>    0.014</td> <td>    1.394</td> <td> 0.163</td> <td>   -0.008</td> <td>    0.045</td>\n",
              "</tr>\n",
              "<tr>\n",
              "  <th>ar.L1.returns</th> <td>    0.7820</td> <td>    0.238</td> <td>    3.284</td> <td> 0.001</td> <td>    0.315</td> <td>    1.249</td>\n",
              "</tr>\n",
              "<tr>\n",
              "  <th>ar.L2.returns</th> <td>   -0.1563</td> <td>    0.177</td> <td>   -0.884</td> <td> 0.377</td> <td>   -0.503</td> <td>    0.190</td>\n",
              "</tr>\n",
              "<tr>\n",
              "  <th>ma.L1.returns</th> <td>   -0.8105</td> <td>    0.239</td> <td>   -3.388</td> <td> 0.001</td> <td>   -1.279</td> <td>   -0.342</td>\n",
              "</tr>\n",
              "<tr>\n",
              "  <th>ma.L2.returns</th> <td>    0.1177</td> <td>    0.187</td> <td>    0.628</td> <td> 0.530</td> <td>   -0.250</td> <td>    0.485</td>\n",
              "</tr>\n",
              "</table>\n",
              "<table class=\"simpletable\">\n",
              "<caption>Roots</caption>\n",
              "<tr>\n",
              "    <td></td>   <th>            Real</th>  <th>         Imaginary</th> <th>         Modulus</th>  <th>        Frequency</th>\n",
              "</tr>\n",
              "<tr>\n",
              "  <th>AR.1</th> <td>           2.5017</td> <td>          -0.3739j</td> <td>           2.5295</td> <td>          -0.0236</td>\n",
              "</tr>\n",
              "<tr>\n",
              "  <th>AR.2</th> <td>           2.5017</td> <td>          +0.3739j</td> <td>           2.5295</td> <td>           0.0236</td>\n",
              "</tr>\n",
              "<tr>\n",
              "  <th>MA.1</th> <td>           1.6107</td> <td>          +0.0000j</td> <td>           1.6107</td> <td>           0.0000</td>\n",
              "</tr>\n",
              "<tr>\n",
              "  <th>MA.2</th> <td>           5.2737</td> <td>          +0.0000j</td> <td>           5.2737</td> <td>           0.0000</td>\n",
              "</tr>\n",
              "</table>"
            ],
            "text/plain": [
              "<class 'statsmodels.iolib.summary.Summary'>\n",
              "\"\"\"\n",
              "                              ARMA Model Results                              \n",
              "==============================================================================\n",
              "Dep. Variable:                returns   No. Observations:                 5020\n",
              "Model:                     ARMA(2, 2)   Log Likelihood               -7913.223\n",
              "Method:                       css-mle   S.D. of innovations              1.170\n",
              "Date:                Fri, 17 Jul 2020   AIC                          15838.446\n",
              "Time:                        02:20:22   BIC                          15877.573\n",
              "Sample:                    01-10-1994   HQIC                         15852.156\n",
              "                         - 04-05-2013                                         \n",
              "=================================================================================\n",
              "                    coef    std err          z      P>|z|      [0.025      0.975]\n",
              "---------------------------------------------------------------------------------\n",
              "const             0.0189      0.014      1.394      0.163      -0.008       0.045\n",
              "ar.L1.returns     0.7820      0.238      3.284      0.001       0.315       1.249\n",
              "ar.L2.returns    -0.1563      0.177     -0.884      0.377      -0.503       0.190\n",
              "ma.L1.returns    -0.8105      0.239     -3.388      0.001      -1.279      -0.342\n",
              "ma.L2.returns     0.1177      0.187      0.628      0.530      -0.250       0.485\n",
              "                                    Roots                                    \n",
              "=============================================================================\n",
              "                  Real          Imaginary           Modulus         Frequency\n",
              "-----------------------------------------------------------------------------\n",
              "AR.1            2.5017           -0.3739j            2.5295           -0.0236\n",
              "AR.2            2.5017           +0.3739j            2.5295            0.0236\n",
              "MA.1            1.6107           +0.0000j            1.6107            0.0000\n",
              "MA.2            5.2737           +0.0000j            5.2737            0.0000\n",
              "-----------------------------------------------------------------------------\n",
              "\"\"\""
            ]
          },
          "metadata": {
            "tags": []
          },
          "execution_count": 28
        }
      ]
    },
    {
      "cell_type": "code",
      "metadata": {
        "id": "XsSvUxSk7rU0",
        "colab_type": "code",
        "colab": {
          "base_uri": "https://localhost:8080/",
          "height": 435
        },
        "outputId": "395fe279-9011-4482-8add-25a66f475ceb"
      },
      "source": [
        "#Ahora los modelos ARMA que consideran 4 componentes\n",
        "#Modelo ARMA(1,3) 1 retraso autorregresivo y 3 de medias móviles\n",
        "model_ret_ar_1_ma_3 = ARMA(df.returns[1:], order=(1,3))\n",
        "results_ret_ar_1_ma_3 = model_ret_ar_1_ma_3.fit()\n",
        "#Obsrvamos que todos los coeficientes son significativos\n",
        "#Este podría ser un buen modelo\n",
        "results_ret_ar_1_ma_3.summary()"
      ],
      "execution_count": 29,
      "outputs": [
        {
          "output_type": "execute_result",
          "data": {
            "text/html": [
              "<table class=\"simpletable\">\n",
              "<caption>ARMA Model Results</caption>\n",
              "<tr>\n",
              "  <th>Dep. Variable:</th>      <td>returns</td>     <th>  No. Observations:  </th>   <td>5020</td>   \n",
              "</tr>\n",
              "<tr>\n",
              "  <th>Model:</th>            <td>ARMA(1, 3)</td>    <th>  Log Likelihood     </th> <td>-7896.838</td>\n",
              "</tr>\n",
              "<tr>\n",
              "  <th>Method:</th>             <td>css-mle</td>     <th>  S.D. of innovations</th>   <td>1.167</td>  \n",
              "</tr>\n",
              "<tr>\n",
              "  <th>Date:</th>          <td>Fri, 17 Jul 2020</td> <th>  AIC                </th> <td>15805.676</td>\n",
              "</tr>\n",
              "<tr>\n",
              "  <th>Time:</th>              <td>02:21:37</td>     <th>  BIC                </th> <td>15844.803</td>\n",
              "</tr>\n",
              "<tr>\n",
              "  <th>Sample:</th>           <td>01-10-1994</td>    <th>  HQIC               </th> <td>15819.386</td>\n",
              "</tr>\n",
              "<tr>\n",
              "  <th></th>                 <td>- 04-05-2013</td>   <th>                     </th>     <td> </td>    \n",
              "</tr>\n",
              "</table>\n",
              "<table class=\"simpletable\">\n",
              "<tr>\n",
              "        <td></td>           <th>coef</th>     <th>std err</th>      <th>z</th>      <th>P>|z|</th>  <th>[0.025</th>    <th>0.975]</th>  \n",
              "</tr>\n",
              "<tr>\n",
              "  <th>const</th>         <td>    0.0189</td> <td>    0.014</td> <td>    1.332</td> <td> 0.183</td> <td>   -0.009</td> <td>    0.047</td>\n",
              "</tr>\n",
              "<tr>\n",
              "  <th>ar.L1.returns</th> <td>   -0.4699</td> <td>    0.096</td> <td>   -4.901</td> <td> 0.000</td> <td>   -0.658</td> <td>   -0.282</td>\n",
              "</tr>\n",
              "<tr>\n",
              "  <th>ma.L1.returns</th> <td>    0.4474</td> <td>    0.095</td> <td>    4.691</td> <td> 0.000</td> <td>    0.260</td> <td>    0.634</td>\n",
              "</tr>\n",
              "<tr>\n",
              "  <th>ma.L2.returns</th> <td>   -0.0637</td> <td>    0.015</td> <td>   -4.113</td> <td> 0.000</td> <td>   -0.094</td> <td>   -0.033</td>\n",
              "</tr>\n",
              "<tr>\n",
              "  <th>ma.L3.returns</th> <td>   -0.1182</td> <td>    0.014</td> <td>   -8.200</td> <td> 0.000</td> <td>   -0.146</td> <td>   -0.090</td>\n",
              "</tr>\n",
              "</table>\n",
              "<table class=\"simpletable\">\n",
              "<caption>Roots</caption>\n",
              "<tr>\n",
              "    <td></td>   <th>            Real</th>  <th>         Imaginary</th> <th>         Modulus</th>  <th>        Frequency</th>\n",
              "</tr>\n",
              "<tr>\n",
              "  <th>AR.1</th> <td>          -2.1282</td> <td>          +0.0000j</td> <td>           2.1282</td> <td>           0.5000</td>\n",
              "</tr>\n",
              "<tr>\n",
              "  <th>MA.1</th> <td>          -1.4882</td> <td>          -1.1206j</td> <td>           1.8629</td> <td>          -0.3973</td>\n",
              "</tr>\n",
              "<tr>\n",
              "  <th>MA.2</th> <td>          -1.4882</td> <td>          +1.1206j</td> <td>           1.8629</td> <td>           0.3973</td>\n",
              "</tr>\n",
              "<tr>\n",
              "  <th>MA.3</th> <td>           2.4376</td> <td>          -0.0000j</td> <td>           2.4376</td> <td>          -0.0000</td>\n",
              "</tr>\n",
              "</table>"
            ],
            "text/plain": [
              "<class 'statsmodels.iolib.summary.Summary'>\n",
              "\"\"\"\n",
              "                              ARMA Model Results                              \n",
              "==============================================================================\n",
              "Dep. Variable:                returns   No. Observations:                 5020\n",
              "Model:                     ARMA(1, 3)   Log Likelihood               -7896.838\n",
              "Method:                       css-mle   S.D. of innovations              1.167\n",
              "Date:                Fri, 17 Jul 2020   AIC                          15805.676\n",
              "Time:                        02:21:37   BIC                          15844.803\n",
              "Sample:                    01-10-1994   HQIC                         15819.386\n",
              "                         - 04-05-2013                                         \n",
              "=================================================================================\n",
              "                    coef    std err          z      P>|z|      [0.025      0.975]\n",
              "---------------------------------------------------------------------------------\n",
              "const             0.0189      0.014      1.332      0.183      -0.009       0.047\n",
              "ar.L1.returns    -0.4699      0.096     -4.901      0.000      -0.658      -0.282\n",
              "ma.L1.returns     0.4474      0.095      4.691      0.000       0.260       0.634\n",
              "ma.L2.returns    -0.0637      0.015     -4.113      0.000      -0.094      -0.033\n",
              "ma.L3.returns    -0.1182      0.014     -8.200      0.000      -0.146      -0.090\n",
              "                                    Roots                                    \n",
              "=============================================================================\n",
              "                  Real          Imaginary           Modulus         Frequency\n",
              "-----------------------------------------------------------------------------\n",
              "AR.1           -2.1282           +0.0000j            2.1282            0.5000\n",
              "MA.1           -1.4882           -1.1206j            1.8629           -0.3973\n",
              "MA.2           -1.4882           +1.1206j            1.8629            0.3973\n",
              "MA.3            2.4376           -0.0000j            2.4376           -0.0000\n",
              "-----------------------------------------------------------------------------\n",
              "\"\"\""
            ]
          },
          "metadata": {
            "tags": []
          },
          "execution_count": 29
        }
      ]
    },
    {
      "cell_type": "markdown",
      "metadata": {
        "id": "o-U5B6NKmCnu",
        "colab_type": "text"
      },
      "source": [
        "# Nota:\n",
        "\n",
        "El contraste de log-verosimilitudes solo funciona con modelos Anidados.\n",
        "\n",
        "**¿Que es un modelo Anidado?**\n",
        "\n",
        "Supongamos que tenemos un modelos **ARMA($p_{1}$,$q_{1}$)** y **ARMA($p_{2}$,$q_{2}$)**. El segundo modelo esta Anidado al primero si y solo si:\n",
        "\n",
        "$\\bullet$ $p_{1}+q_{1}>p_{2}+q_{2}$\n",
        "\n",
        "$\\bullet$ $p_{1} \\geq p_{2}$\n",
        "\n",
        "$\\bullet$ $q_{1} \\geq q_{2}$"
      ]
    },
    {
      "cell_type": "code",
      "metadata": {
        "id": "efNSprt57rU2",
        "colab_type": "code",
        "colab": {
          "base_uri": "https://localhost:8080/",
          "height": 85
        },
        "outputId": "b092d1ce-2acd-45d2-825a-09d8c4bc591a"
      },
      "source": [
        "#En este caso el contraste de log-verosimilitudes no es posible usar dado que no se cumple la 3era condición\n",
        "#Los compararemos a mano\n",
        "#Dado que 2 modelos cumplieron con los coeficientes significativos, debemos checar los otros requisitos para saber cuál es mejor \n",
        "#Comparamos los log-verosimilitud y AIC del ARMA(3,2) Y ARMA(1,3), recordando que queremos que la log-verosimilitud seal ALTA y el AIC sea Bajo\n",
        "#Nos quedamos con con el modelo ARMA(3,2)\n",
        "print(\"\\n ARMA(3,2): \\tLL = \", results_ret_ar_3_ma_2.llf, \"\\tAIC = \", results_ret_ar_3_ma_2.aic)\n",
        "print(\"\\n ARMA(1,3): \\tLL = \", results_ret_ar_1_ma_3.llf, \"\\tAIC = \", results_ret_ar_1_ma_3.aic)"
      ],
      "execution_count": 31,
      "outputs": [
        {
          "output_type": "stream",
          "text": [
            "\n",
            " ARMA(3,2): \tLL =  -7895.7474585145965 \tAIC =  15805.494917029193\n",
            "\n",
            " ARMA(1,3): \tLL =  -7896.837893752801 \tAIC =  15805.675787505603\n"
          ],
          "name": "stdout"
        }
      ]
    },
    {
      "cell_type": "markdown",
      "metadata": {
        "id": "bcCIUqdk7rU5",
        "colab_type": "text"
      },
      "source": [
        "## Residuals for Returns"
      ]
    },
    {
      "cell_type": "code",
      "metadata": {
        "id": "REQyLlnX7rU5",
        "colab_type": "code",
        "colab": {}
      },
      "source": [
        "#Guardamos lo residuos del modelo ARMA(3,2) que fue nuestro modelo ganador\n",
        "df['res_ret_ar_3_ma_2'] = results_ret_ar_3_ma_2.resid[1:]"
      ],
      "execution_count": 32,
      "outputs": []
    },
    {
      "cell_type": "code",
      "metadata": {
        "id": "MF3d3GPU7rU8",
        "colab_type": "code",
        "colab": {
          "base_uri": "https://localhost:8080/",
          "height": 364
        },
        "outputId": "886fbfd0-9408-47bd-c2e4-87920ce0c33a"
      },
      "source": [
        "#Sugiere que la volatilidad en los retornos podría ser no del todo comprensible si utilizamos un modelo ARMA\n",
        "df.res_ret_ar_3_ma_2.plot(figsize = (20,5))\n",
        "plt.title(\"Residuals of Returns\", size=24)\n",
        "plt.show()"
      ],
      "execution_count": 33,
      "outputs": [
        {
          "output_type": "display_data",
          "data": {
            "image/png": "[encoded data removed]",
            "text/plain": [
              "<Figure size 1440x360 with 1 Axes>"
            ]
          },
          "metadata": {
            "tags": [],
            "needs_background": "light"
          }
        }
      ]
    },
    {
      "cell_type": "code",
      "metadata": {
        "id": "WBFVqXLU7rU-",
        "colab_type": "code",
        "colab": {
          "base_uri": "https://localhost:8080/",
          "height": 293
        },
        "outputId": "f1880696-2183-48df-e2fb-2cd840133d85"
      },
      "source": [
        "#Vemos que tenemos retrasos significativos\n",
        "#Esto indicaria que hay un modelo mejor podría ser aquel que contemple un modelo de orden 5 en el componente autorregresivo o de medias móviles\n",
        "sgt.plot_acf(df.res_ret_ar_3_ma_2[2:], zero = False, lags = 40)\n",
        "plt.title(\"ACF Of Residuals for Returns\",size=24)\n",
        "plt.show()"
      ],
      "execution_count": 34,
      "outputs": [
        {
          "output_type": "display_data",
          "data": {
            "image/png": "[encoded data removed]",
            "text/plain": [
              "<Figure size 432x288 with 1 Axes>"
            ]
          },
          "metadata": {
            "tags": [],
            "needs_background": "light"
          }
        }
      ]
    },
    {
      "cell_type": "markdown",
      "metadata": {
        "id": "942CxfKg7rVB",
        "colab_type": "text"
      },
      "source": [
        "## Reevaluating Model Selection"
      ]
    },
    {
      "cell_type": "code",
      "metadata": {
        "id": "8k6PUY8F7rVB",
        "colab_type": "code",
        "colab": {
          "base_uri": "https://localhost:8080/",
          "height": 687
        },
        "outputId": "dc1382a1-e705-4585-ba47-4a51c623e671"
      },
      "source": [
        "#Vamos a empezar re-evaluando modelo\n",
        "#ARMA(5,5) dado que el gráfico ACF indica eso\n",
        "model_ret_ar_5_ma_5 = ARMA(df.returns[1:], order=(5,5))\n",
        "results_ret_ar_5_ma_5 = model_ret_ar_5_ma_5.fit()\n",
        "#Notamos que muchos no son significativos\n",
        "results_ret_ar_5_ma_5.summary()"
      ],
      "execution_count": 35,
      "outputs": [
        {
          "output_type": "execute_result",
          "data": {
            "text/html": [
              "<table class=\"simpletable\">\n",
              "<caption>ARMA Model Results</caption>\n",
              "<tr>\n",
              "  <th>Dep. Variable:</th>      <td>returns</td>     <th>  No. Observations:  </th>   <td>5020</td>   \n",
              "</tr>\n",
              "<tr>\n",
              "  <th>Model:</th>            <td>ARMA(5, 5)</td>    <th>  Log Likelihood     </th> <td>-7882.160</td>\n",
              "</tr>\n",
              "<tr>\n",
              "  <th>Method:</th>             <td>css-mle</td>     <th>  S.D. of innovations</th>   <td>1.163</td>  \n",
              "</tr>\n",
              "<tr>\n",
              "  <th>Date:</th>          <td>Fri, 17 Jul 2020</td> <th>  AIC                </th> <td>15788.321</td>\n",
              "</tr>\n",
              "<tr>\n",
              "  <th>Time:</th>              <td>02:45:36</td>     <th>  BIC                </th> <td>15866.575</td>\n",
              "</tr>\n",
              "<tr>\n",
              "  <th>Sample:</th>           <td>01-10-1994</td>    <th>  HQIC               </th> <td>15815.742</td>\n",
              "</tr>\n",
              "<tr>\n",
              "  <th></th>                 <td>- 04-05-2013</td>   <th>                     </th>     <td> </td>    \n",
              "</tr>\n",
              "</table>\n",
              "<table class=\"simpletable\">\n",
              "<tr>\n",
              "        <td></td>           <th>coef</th>     <th>std err</th>      <th>z</th>      <th>P>|z|</th>  <th>[0.025</th>    <th>0.975]</th>  \n",
              "</tr>\n",
              "<tr>\n",
              "  <th>const</th>         <td>    0.0189</td> <td>    0.013</td> <td>    1.402</td> <td> 0.161</td> <td>   -0.008</td> <td>    0.045</td>\n",
              "</tr>\n",
              "<tr>\n",
              "  <th>ar.L1.returns</th> <td>   -0.0684</td> <td>    0.140</td> <td>   -0.490</td> <td> 0.624</td> <td>   -0.342</td> <td>    0.205</td>\n",
              "</tr>\n",
              "<tr>\n",
              "  <th>ar.L2.returns</th> <td>   -0.6722</td> <td>    0.146</td> <td>   -4.603</td> <td> 0.000</td> <td>   -0.958</td> <td>   -0.386</td>\n",
              "</tr>\n",
              "<tr>\n",
              "  <th>ar.L3.returns</th> <td>   -0.1152</td> <td>    0.141</td> <td>   -0.817</td> <td> 0.414</td> <td>   -0.392</td> <td>    0.161</td>\n",
              "</tr>\n",
              "<tr>\n",
              "  <th>ar.L4.returns</th> <td>    0.1779</td> <td>    0.129</td> <td>    1.381</td> <td> 0.167</td> <td>   -0.075</td> <td>    0.430</td>\n",
              "</tr>\n",
              "<tr>\n",
              "  <th>ar.L5.returns</th> <td>    0.1215</td> <td>    0.107</td> <td>    1.132</td> <td> 0.258</td> <td>   -0.089</td> <td>    0.332</td>\n",
              "</tr>\n",
              "<tr>\n",
              "  <th>ma.L1.returns</th> <td>    0.0443</td> <td>    0.138</td> <td>    0.322</td> <td> 0.748</td> <td>   -0.226</td> <td>    0.314</td>\n",
              "</tr>\n",
              "<tr>\n",
              "  <th>ma.L2.returns</th> <td>    0.6223</td> <td>    0.144</td> <td>    4.321</td> <td> 0.000</td> <td>    0.340</td> <td>    0.905</td>\n",
              "</tr>\n",
              "<tr>\n",
              "  <th>ma.L3.returns</th> <td>    0.0107</td> <td>    0.136</td> <td>    0.079</td> <td> 0.937</td> <td>   -0.256</td> <td>    0.277</td>\n",
              "</tr>\n",
              "<tr>\n",
              "  <th>ma.L4.returns</th> <td>   -0.1753</td> <td>    0.122</td> <td>   -1.436</td> <td> 0.151</td> <td>   -0.415</td> <td>    0.064</td>\n",
              "</tr>\n",
              "<tr>\n",
              "  <th>ma.L5.returns</th> <td>   -0.2240</td> <td>    0.104</td> <td>   -2.148</td> <td> 0.032</td> <td>   -0.428</td> <td>   -0.020</td>\n",
              "</tr>\n",
              "</table>\n",
              "<table class=\"simpletable\">\n",
              "<caption>Roots</caption>\n",
              "<tr>\n",
              "    <td></td>   <th>            Real</th>  <th>         Imaginary</th> <th>         Modulus</th>  <th>        Frequency</th>\n",
              "</tr>\n",
              "<tr>\n",
              "  <th>AR.1</th> <td>           0.0870</td> <td>          -1.0364j</td> <td>           1.0401</td> <td>          -0.2367</td>\n",
              "</tr>\n",
              "<tr>\n",
              "  <th>AR.2</th> <td>           0.0870</td> <td>          +1.0364j</td> <td>           1.0401</td> <td>           0.2367</td>\n",
              "</tr>\n",
              "<tr>\n",
              "  <th>AR.3</th> <td>           1.7715</td> <td>          -0.0000j</td> <td>           1.7715</td> <td>          -0.0000</td>\n",
              "</tr>\n",
              "<tr>\n",
              "  <th>AR.4</th> <td>          -1.7050</td> <td>          -1.1784j</td> <td>           2.0726</td> <td>          -0.4038</td>\n",
              "</tr>\n",
              "<tr>\n",
              "  <th>AR.5</th> <td>          -1.7050</td> <td>          +1.1784j</td> <td>           2.0726</td> <td>           0.4038</td>\n",
              "</tr>\n",
              "<tr>\n",
              "  <th>MA.1</th> <td>           0.1033</td> <td>          -1.0434j</td> <td>           1.0485</td> <td>          -0.2343</td>\n",
              "</tr>\n",
              "<tr>\n",
              "  <th>MA.2</th> <td>           0.1033</td> <td>          +1.0434j</td> <td>           1.0485</td> <td>           0.2343</td>\n",
              "</tr>\n",
              "<tr>\n",
              "  <th>MA.3</th> <td>           1.4855</td> <td>          -0.0000j</td> <td>           1.4855</td> <td>          -0.0000</td>\n",
              "</tr>\n",
              "<tr>\n",
              "  <th>MA.4</th> <td>          -1.2373</td> <td>          -1.0965j</td> <td>           1.6532</td> <td>          -0.3846</td>\n",
              "</tr>\n",
              "<tr>\n",
              "  <th>MA.5</th> <td>          -1.2373</td> <td>          +1.0965j</td> <td>           1.6532</td> <td>           0.3846</td>\n",
              "</tr>\n",
              "</table>"
            ],
            "text/plain": [
              "<class 'statsmodels.iolib.summary.Summary'>\n",
              "\"\"\"\n",
              "                              ARMA Model Results                              \n",
              "==============================================================================\n",
              "Dep. Variable:                returns   No. Observations:                 5020\n",
              "Model:                     ARMA(5, 5)   Log Likelihood               -7882.160\n",
              "Method:                       css-mle   S.D. of innovations              1.163\n",
              "Date:                Fri, 17 Jul 2020   AIC                          15788.321\n",
              "Time:                        02:45:36   BIC                          15866.575\n",
              "Sample:                    01-10-1994   HQIC                         15815.742\n",
              "                         - 04-05-2013                                         \n",
              "=================================================================================\n",
              "                    coef    std err          z      P>|z|      [0.025      0.975]\n",
              "---------------------------------------------------------------------------------\n",
              "const             0.0189      0.013      1.402      0.161      -0.008       0.045\n",
              "ar.L1.returns    -0.0684      0.140     -0.490      0.624      -0.342       0.205\n",
              "ar.L2.returns    -0.6722      0.146     -4.603      0.000      -0.958      -0.386\n",
              "ar.L3.returns    -0.1152      0.141     -0.817      0.414      -0.392       0.161\n",
              "ar.L4.returns     0.1779      0.129      1.381      0.167      -0.075       0.430\n",
              "ar.L5.returns     0.1215      0.107      1.132      0.258      -0.089       0.332\n",
              "ma.L1.returns     0.0443      0.138      0.322      0.748      -0.226       0.314\n",
              "ma.L2.returns     0.6223      0.144      4.321      0.000       0.340       0.905\n",
              "ma.L3.returns     0.0107      0.136      0.079      0.937      -0.256       0.277\n",
              "ma.L4.returns    -0.1753      0.122     -1.436      0.151      -0.415       0.064\n",
              "ma.L5.returns    -0.2240      0.104     -2.148      0.032      -0.428      -0.020\n",
              "                                    Roots                                    \n",
              "=============================================================================\n",
              "                  Real          Imaginary           Modulus         Frequency\n",
              "-----------------------------------------------------------------------------\n",
              "AR.1            0.0870           -1.0364j            1.0401           -0.2367\n",
              "AR.2            0.0870           +1.0364j            1.0401            0.2367\n",
              "AR.3            1.7715           -0.0000j            1.7715           -0.0000\n",
              "AR.4           -1.7050           -1.1784j            2.0726           -0.4038\n",
              "AR.5           -1.7050           +1.1784j            2.0726            0.4038\n",
              "MA.1            0.1033           -1.0434j            1.0485           -0.2343\n",
              "MA.2            0.1033           +1.0434j            1.0485            0.2343\n",
              "MA.3            1.4855           -0.0000j            1.4855           -0.0000\n",
              "MA.4           -1.2373           -1.0965j            1.6532           -0.3846\n",
              "MA.5           -1.2373           +1.0965j            1.6532            0.3846\n",
              "-----------------------------------------------------------------------------\n",
              "\"\"\""
            ]
          },
          "metadata": {
            "tags": []
          },
          "execution_count": 35
        }
      ]
    },
    {
      "cell_type": "code",
      "metadata": {
        "id": "4VP0PAV27rVD",
        "colab_type": "code",
        "colab": {
          "base_uri": "https://localhost:8080/",
          "height": 519
        },
        "outputId": "69b7d384-0f4b-4c8b-de4f-339f16325b13"
      },
      "source": [
        "#Al revisar los 8 combinaciones restantes podemos ver que el modelo ARMA(5,1) es un buen modelo \n",
        "model_ret_ar_5_ma_1 = ARMA(df.returns[1:], order=(5,1))\n",
        "results_ret_ar_5_ma_1 = model_ret_ar_5_ma_1.fit()\n",
        "#Todos sus coeficientes son significativos\n",
        "results_ret_ar_5_ma_1.summary()"
      ],
      "execution_count": 36,
      "outputs": [
        {
          "output_type": "execute_result",
          "data": {
            "text/html": [
              "<table class=\"simpletable\">\n",
              "<caption>ARMA Model Results</caption>\n",
              "<tr>\n",
              "  <th>Dep. Variable:</th>      <td>returns</td>     <th>  No. Observations:  </th>   <td>5020</td>   \n",
              "</tr>\n",
              "<tr>\n",
              "  <th>Model:</th>            <td>ARMA(5, 1)</td>    <th>  Log Likelihood     </th> <td>-7889.311</td>\n",
              "</tr>\n",
              "<tr>\n",
              "  <th>Method:</th>             <td>css-mle</td>     <th>  S.D. of innovations</th>   <td>1.165</td>  \n",
              "</tr>\n",
              "<tr>\n",
              "  <th>Date:</th>          <td>Fri, 17 Jul 2020</td> <th>  AIC                </th> <td>15794.623</td>\n",
              "</tr>\n",
              "<tr>\n",
              "  <th>Time:</th>              <td>02:48:36</td>     <th>  BIC                </th> <td>15846.792</td>\n",
              "</tr>\n",
              "<tr>\n",
              "  <th>Sample:</th>           <td>01-10-1994</td>    <th>  HQIC               </th> <td>15812.903</td>\n",
              "</tr>\n",
              "<tr>\n",
              "  <th></th>                 <td>- 04-05-2013</td>   <th>                     </th>     <td> </td>    \n",
              "</tr>\n",
              "</table>\n",
              "<table class=\"simpletable\">\n",
              "<tr>\n",
              "        <td></td>           <th>coef</th>     <th>std err</th>      <th>z</th>      <th>P>|z|</th>  <th>[0.025</th>    <th>0.975]</th>  \n",
              "</tr>\n",
              "<tr>\n",
              "  <th>const</th>         <td>    0.0189</td> <td>    0.013</td> <td>    1.407</td> <td> 0.159</td> <td>   -0.007</td> <td>    0.045</td>\n",
              "</tr>\n",
              "<tr>\n",
              "  <th>ar.L1.returns</th> <td>    0.3440</td> <td>    0.131</td> <td>    2.624</td> <td> 0.009</td> <td>    0.087</td> <td>    0.601</td>\n",
              "</tr>\n",
              "<tr>\n",
              "  <th>ar.L2.returns</th> <td>   -0.0458</td> <td>    0.015</td> <td>   -3.005</td> <td> 0.003</td> <td>   -0.076</td> <td>   -0.016</td>\n",
              "</tr>\n",
              "<tr>\n",
              "  <th>ar.L3.returns</th> <td>   -0.0652</td> <td>    0.016</td> <td>   -4.010</td> <td> 0.000</td> <td>   -0.097</td> <td>   -0.033</td>\n",
              "</tr>\n",
              "<tr>\n",
              "  <th>ar.L4.returns</th> <td>    0.0741</td> <td>    0.018</td> <td>    4.068</td> <td> 0.000</td> <td>    0.038</td> <td>    0.110</td>\n",
              "</tr>\n",
              "<tr>\n",
              "  <th>ar.L5.returns</th> <td>   -0.0813</td> <td>    0.014</td> <td>   -5.688</td> <td> 0.000</td> <td>   -0.109</td> <td>   -0.053</td>\n",
              "</tr>\n",
              "<tr>\n",
              "  <th>ma.L1.returns</th> <td>   -0.3673</td> <td>    0.131</td> <td>   -2.801</td> <td> 0.005</td> <td>   -0.624</td> <td>   -0.110</td>\n",
              "</tr>\n",
              "</table>\n",
              "<table class=\"simpletable\">\n",
              "<caption>Roots</caption>\n",
              "<tr>\n",
              "    <td></td>   <th>            Real</th>  <th>         Imaginary</th> <th>         Modulus</th>  <th>        Frequency</th>\n",
              "</tr>\n",
              "<tr>\n",
              "  <th>AR.1</th> <td>          -1.6158</td> <td>          -0.0000j</td> <td>           1.6158</td> <td>          -0.5000</td>\n",
              "</tr>\n",
              "<tr>\n",
              "  <th>AR.2</th> <td>           1.3793</td> <td>          -0.8614j</td> <td>           1.6261</td> <td>          -0.0888</td>\n",
              "</tr>\n",
              "<tr>\n",
              "  <th>AR.3</th> <td>           1.3793</td> <td>          +0.8614j</td> <td>           1.6261</td> <td>           0.0888</td>\n",
              "</tr>\n",
              "<tr>\n",
              "  <th>AR.4</th> <td>          -0.1156</td> <td>          -1.6929j</td> <td>           1.6968</td> <td>          -0.2608</td>\n",
              "</tr>\n",
              "<tr>\n",
              "  <th>AR.5</th> <td>          -0.1156</td> <td>          +1.6929j</td> <td>           1.6968</td> <td>           0.2608</td>\n",
              "</tr>\n",
              "<tr>\n",
              "  <th>MA.1</th> <td>           2.7223</td> <td>          +0.0000j</td> <td>           2.7223</td> <td>           0.0000</td>\n",
              "</tr>\n",
              "</table>"
            ],
            "text/plain": [
              "<class 'statsmodels.iolib.summary.Summary'>\n",
              "\"\"\"\n",
              "                              ARMA Model Results                              \n",
              "==============================================================================\n",
              "Dep. Variable:                returns   No. Observations:                 5020\n",
              "Model:                     ARMA(5, 1)   Log Likelihood               -7889.311\n",
              "Method:                       css-mle   S.D. of innovations              1.165\n",
              "Date:                Fri, 17 Jul 2020   AIC                          15794.623\n",
              "Time:                        02:48:36   BIC                          15846.792\n",
              "Sample:                    01-10-1994   HQIC                         15812.903\n",
              "                         - 04-05-2013                                         \n",
              "=================================================================================\n",
              "                    coef    std err          z      P>|z|      [0.025      0.975]\n",
              "---------------------------------------------------------------------------------\n",
              "const             0.0189      0.013      1.407      0.159      -0.007       0.045\n",
              "ar.L1.returns     0.3440      0.131      2.624      0.009       0.087       0.601\n",
              "ar.L2.returns    -0.0458      0.015     -3.005      0.003      -0.076      -0.016\n",
              "ar.L3.returns    -0.0652      0.016     -4.010      0.000      -0.097      -0.033\n",
              "ar.L4.returns     0.0741      0.018      4.068      0.000       0.038       0.110\n",
              "ar.L5.returns    -0.0813      0.014     -5.688      0.000      -0.109      -0.053\n",
              "ma.L1.returns    -0.3673      0.131     -2.801      0.005      -0.624      -0.110\n",
              "                                    Roots                                    \n",
              "=============================================================================\n",
              "                  Real          Imaginary           Modulus         Frequency\n",
              "-----------------------------------------------------------------------------\n",
              "AR.1           -1.6158           -0.0000j            1.6158           -0.5000\n",
              "AR.2            1.3793           -0.8614j            1.6261           -0.0888\n",
              "AR.3            1.3793           +0.8614j            1.6261            0.0888\n",
              "AR.4           -0.1156           -1.6929j            1.6968           -0.2608\n",
              "AR.5           -0.1156           +1.6929j            1.6968            0.2608\n",
              "MA.1            2.7223           +0.0000j            2.7223            0.0000\n",
              "-----------------------------------------------------------------------------\n",
              "\"\"\""
            ]
          },
          "metadata": {
            "tags": []
          },
          "execution_count": 36
        }
      ]
    },
    {
      "cell_type": "code",
      "metadata": {
        "id": "CRlodUjv7rVF",
        "colab_type": "code",
        "colab": {
          "base_uri": "https://localhost:8080/",
          "height": 519
        },
        "outputId": "54be1f76-72bd-4001-fe6d-1fdb34ba0666"
      },
      "source": [
        "#Otro modelo bueno es el modelo ARMA(1,5) es un buen modelo \n",
        "model_ret_ar_1_ma_5 = ARMA(df.returns[1:], order=(1,5))\n",
        "results_ret_ar_1_ma_5 = model_ret_ar_1_ma_5.fit()\n",
        "#Todos sus coeficientes son significativos\n",
        "results_ret_ar_1_ma_5.summary()"
      ],
      "execution_count": 37,
      "outputs": [
        {
          "output_type": "execute_result",
          "data": {
            "text/html": [
              "<table class=\"simpletable\">\n",
              "<caption>ARMA Model Results</caption>\n",
              "<tr>\n",
              "  <th>Dep. Variable:</th>      <td>returns</td>     <th>  No. Observations:  </th>   <td>5020</td>   \n",
              "</tr>\n",
              "<tr>\n",
              "  <th>Model:</th>            <td>ARMA(1, 5)</td>    <th>  Log Likelihood     </th> <td>-7890.973</td>\n",
              "</tr>\n",
              "<tr>\n",
              "  <th>Method:</th>             <td>css-mle</td>     <th>  S.D. of innovations</th>   <td>1.165</td>  \n",
              "</tr>\n",
              "<tr>\n",
              "  <th>Date:</th>          <td>Fri, 17 Jul 2020</td> <th>  AIC                </th> <td>15797.947</td>\n",
              "</tr>\n",
              "<tr>\n",
              "  <th>Time:</th>              <td>02:51:04</td>     <th>  BIC                </th> <td>15850.116</td>\n",
              "</tr>\n",
              "<tr>\n",
              "  <th>Sample:</th>           <td>01-10-1994</td>    <th>  HQIC               </th> <td>15816.228</td>\n",
              "</tr>\n",
              "<tr>\n",
              "  <th></th>                 <td>- 04-05-2013</td>   <th>                     </th>     <td> </td>    \n",
              "</tr>\n",
              "</table>\n",
              "<table class=\"simpletable\">\n",
              "<tr>\n",
              "        <td></td>           <th>coef</th>     <th>std err</th>      <th>z</th>      <th>P>|z|</th>  <th>[0.025</th>    <th>0.975]</th>  \n",
              "</tr>\n",
              "<tr>\n",
              "  <th>const</th>         <td>    0.0189</td> <td>    0.013</td> <td>    1.419</td> <td> 0.156</td> <td>   -0.007</td> <td>    0.045</td>\n",
              "</tr>\n",
              "<tr>\n",
              "  <th>ar.L1.returns</th> <td>    0.3285</td> <td>    0.152</td> <td>    2.159</td> <td> 0.031</td> <td>    0.030</td> <td>    0.627</td>\n",
              "</tr>\n",
              "<tr>\n",
              "  <th>ma.L1.returns</th> <td>   -0.3534</td> <td>    0.152</td> <td>   -2.332</td> <td> 0.020</td> <td>   -0.650</td> <td>   -0.056</td>\n",
              "</tr>\n",
              "<tr>\n",
              "  <th>ma.L2.returns</th> <td>   -0.0404</td> <td>    0.015</td> <td>   -2.624</td> <td> 0.009</td> <td>   -0.071</td> <td>   -0.010</td>\n",
              "</tr>\n",
              "<tr>\n",
              "  <th>ma.L3.returns</th> <td>   -0.0679</td> <td>    0.017</td> <td>   -4.022</td> <td> 0.000</td> <td>   -0.101</td> <td>   -0.035</td>\n",
              "</tr>\n",
              "<tr>\n",
              "  <th>ma.L4.returns</th> <td>    0.0742</td> <td>    0.020</td> <td>    3.771</td> <td> 0.000</td> <td>    0.036</td> <td>    0.113</td>\n",
              "</tr>\n",
              "<tr>\n",
              "  <th>ma.L5.returns</th> <td>   -0.0683</td> <td>    0.015</td> <td>   -4.660</td> <td> 0.000</td> <td>   -0.097</td> <td>   -0.040</td>\n",
              "</tr>\n",
              "</table>\n",
              "<table class=\"simpletable\">\n",
              "<caption>Roots</caption>\n",
              "<tr>\n",
              "    <td></td>   <th>            Real</th>  <th>         Imaginary</th> <th>         Modulus</th>  <th>        Frequency</th>\n",
              "</tr>\n",
              "<tr>\n",
              "  <th>AR.1</th> <td>           3.0442</td> <td>          +0.0000j</td> <td>           3.0442</td> <td>           0.0000</td>\n",
              "</tr>\n",
              "<tr>\n",
              "  <th>MA.1</th> <td>          -1.1897</td> <td>          -1.1548j</td> <td>           1.6580</td> <td>          -0.3774</td>\n",
              "</tr>\n",
              "<tr>\n",
              "  <th>MA.2</th> <td>          -1.1897</td> <td>          +1.1548j</td> <td>           1.6580</td> <td>           0.3774</td>\n",
              "</tr>\n",
              "<tr>\n",
              "  <th>MA.3</th> <td>           1.5041</td> <td>          -0.0000j</td> <td>           1.5041</td> <td>          -0.0000</td>\n",
              "</tr>\n",
              "<tr>\n",
              "  <th>MA.4</th> <td>           0.9809</td> <td>          -1.6057j</td> <td>           1.8815</td> <td>          -0.1627</td>\n",
              "</tr>\n",
              "<tr>\n",
              "  <th>MA.5</th> <td>           0.9809</td> <td>          +1.6057j</td> <td>           1.8815</td> <td>           0.1627</td>\n",
              "</tr>\n",
              "</table>"
            ],
            "text/plain": [
              "<class 'statsmodels.iolib.summary.Summary'>\n",
              "\"\"\"\n",
              "                              ARMA Model Results                              \n",
              "==============================================================================\n",
              "Dep. Variable:                returns   No. Observations:                 5020\n",
              "Model:                     ARMA(1, 5)   Log Likelihood               -7890.973\n",
              "Method:                       css-mle   S.D. of innovations              1.165\n",
              "Date:                Fri, 17 Jul 2020   AIC                          15797.947\n",
              "Time:                        02:51:04   BIC                          15850.116\n",
              "Sample:                    01-10-1994   HQIC                         15816.228\n",
              "                         - 04-05-2013                                         \n",
              "=================================================================================\n",
              "                    coef    std err          z      P>|z|      [0.025      0.975]\n",
              "---------------------------------------------------------------------------------\n",
              "const             0.0189      0.013      1.419      0.156      -0.007       0.045\n",
              "ar.L1.returns     0.3285      0.152      2.159      0.031       0.030       0.627\n",
              "ma.L1.returns    -0.3534      0.152     -2.332      0.020      -0.650      -0.056\n",
              "ma.L2.returns    -0.0404      0.015     -2.624      0.009      -0.071      -0.010\n",
              "ma.L3.returns    -0.0679      0.017     -4.022      0.000      -0.101      -0.035\n",
              "ma.L4.returns     0.0742      0.020      3.771      0.000       0.036       0.113\n",
              "ma.L5.returns    -0.0683      0.015     -4.660      0.000      -0.097      -0.040\n",
              "                                    Roots                                    \n",
              "=============================================================================\n",
              "                  Real          Imaginary           Modulus         Frequency\n",
              "-----------------------------------------------------------------------------\n",
              "AR.1            3.0442           +0.0000j            3.0442            0.0000\n",
              "MA.1           -1.1897           -1.1548j            1.6580           -0.3774\n",
              "MA.2           -1.1897           +1.1548j            1.6580            0.3774\n",
              "MA.3            1.5041           -0.0000j            1.5041           -0.0000\n",
              "MA.4            0.9809           -1.6057j            1.8815           -0.1627\n",
              "MA.5            0.9809           +1.6057j            1.8815            0.1627\n",
              "-----------------------------------------------------------------------------\n",
              "\"\"\""
            ]
          },
          "metadata": {
            "tags": []
          },
          "execution_count": 37
        }
      ]
    },
    {
      "cell_type": "code",
      "metadata": {
        "id": "uOuhwGSB7rVH",
        "colab_type": "code",
        "colab": {
          "base_uri": "https://localhost:8080/",
          "height": 51
        },
        "outputId": "4c65a65d-3769-4a2b-8a73-083d34bea170"
      },
      "source": [
        "#Los comparamos manualmente\n",
        "#Nos quedamos con el ARMA(5,1) como modelo ganador\n",
        "print(\"ARMA(5,1):  \\t LL = \",results_ret_ar_5_ma_1.llf,\"\\t AIC = \",results_ret_ar_5_ma_1.aic)\n",
        "print(\"ARMA(1,5):  \\t LL = \",results_ret_ar_1_ma_5.llf,\"\\t AIC = \",results_ret_ar_1_ma_5.aic)"
      ],
      "execution_count": 38,
      "outputs": [
        {
          "output_type": "stream",
          "text": [
            "ARMA(5,1):  \t LL =  -7889.311282945847 \t AIC =  15794.622565891694\n",
            "ARMA(1,5):  \t LL =  -7890.973460209621 \t AIC =  15797.946920419243\n"
          ],
          "name": "stdout"
        }
      ]
    },
    {
      "cell_type": "code",
      "metadata": {
        "id": "KJhZGHGS7rVK",
        "colab_type": "code",
        "colab": {
          "base_uri": "https://localhost:8080/",
          "height": 34
        },
        "outputId": "fcac0110-d04d-45ea-f726-0858507b8d6f"
      },
      "source": [
        "#Comparamos este modelo con el ARMA(3,2) que fue el modelo ganador en la primera iteración\n",
        "#Nos quedamos con el ARMA(5,1)\n",
        "#El empezar por modelos demasiado simplistas puede conducir a no escontrar un buen modelo para nuestro problema por es crucial revisuar los residuos del modelo\n",
        "print(\"ARMA(3,2):  \\t LL = \",results_ret_ar_3_ma_2.llf,\"\\t AIC = \",results_ret_ar_3_ma_2.aic)"
      ],
      "execution_count": 39,
      "outputs": [
        {
          "output_type": "stream",
          "text": [
            "ARMA(3,2):  \t LL =  -7895.7474585145965 \t AIC =  15805.494917029193\n"
          ],
          "name": "stdout"
        }
      ]
    },
    {
      "cell_type": "markdown",
      "metadata": {
        "id": "YI31aYxX7rVM",
        "colab_type": "text"
      },
      "source": [
        "## Residuals for the New Model"
      ]
    },
    {
      "cell_type": "code",
      "metadata": {
        "id": "HmxaNSvP7rVN",
        "colab_type": "code",
        "colab": {}
      },
      "source": [
        "#Guardamos los residuos del modelo ganador\n",
        "df['res_ret_ar_5_ma_1'] = results_ret_ar_5_ma_1.resid"
      ],
      "execution_count": 41,
      "outputs": []
    },
    {
      "cell_type": "code",
      "metadata": {
        "id": "QDPVdqcw7rVP",
        "colab_type": "code",
        "colab": {
          "base_uri": "https://localhost:8080/",
          "height": 293
        },
        "outputId": "711a827f-f462-48de-f79c-823ebbed77f5"
      },
      "source": [
        "#Podemos ver que hay menos autocorrelación con los retrasos, hay significancia hasta el retraso 18\n",
        "#Pero esto podría sobre ajustar el modelo, el complejizar el modelo demasiado nos llevara a una decepción cuando vea datos desconocidos\n",
        "sgt.plot_acf(df.res_ret_ar_5_ma_1[1:], zero = False, lags = 40)\n",
        "plt.title(\"ACF of Residuals for Returns\",size=24)\n",
        "plt.show()"
      ],
      "execution_count": 43,
      "outputs": [
        {
          "output_type": "display_data",
          "data": {
            "image/png": "[encoded data removed]",
            "text/plain": [
              "<Figure size 432x288 with 1 Axes>"
            ]
          },
          "metadata": {
            "tags": [],
            "needs_background": "light"
          }
        }
      ]
    },
    {
      "cell_type": "markdown",
      "metadata": {
        "id": "IhY9bMUO7rVR",
        "colab_type": "text"
      },
      "source": [
        "## ARMA Models for Prices\n",
        "\n",
        "Veamos ahora como funcionan los modelos ARMA para series que no son estacionarias"
      ]
    },
    {
      "cell_type": "code",
      "metadata": {
        "id": "qUbPZLss7rVR",
        "colab_type": "code",
        "colab": {
          "base_uri": "https://localhost:8080/",
          "height": 289
        },
        "outputId": "cbcb4bd2-02e5-4cc4-cd90-160c7c1afddf"
      },
      "source": [
        "#Podemos ver que todos los retrasos son significativos\n",
        "#Esto sugiere un modelo de medias móviles con infinitos retrasos, por suerte sabemos que esto es equivalente a un modelo siemple de autorregresión\n",
        "sgt.plot_acf(df.market_value, unbiased=True, zero = False, lags = 40)\n",
        "plt.title(\"Autocorrelation Function for Prices\",size=20)\n",
        "plt.show()"
      ],
      "execution_count": 44,
      "outputs": [
        {
          "output_type": "display_data",
          "data": {
            "image/png": "[encoded data removed]",
            "text/plain": [
              "<Figure size 432x288 with 1 Axes>"
            ]
          },
          "metadata": {
            "tags": [],
            "needs_background": "light"
          }
        }
      ]
    },
    {
      "cell_type": "code",
      "metadata": {
        "id": "Rs_4NlkC7rVT",
        "colab_type": "code",
        "colab": {
          "base_uri": "https://localhost:8080/",
          "height": 289
        },
        "outputId": "b64ab3e8-f4de-4608-e777-40a308f9ae8a"
      },
      "source": [
        "#6 coeficientes son significativos\n",
        "sgt.plot_pacf(df.market_value, lags = 40, alpha = 0.05, zero = False , method = ('ols'))\n",
        "plt.title(\"Partial Autocorrelation Function for Prices\",size=20)\n",
        "plt.show()"
      ],
      "execution_count": 45,
      "outputs": [
        {
          "output_type": "display_data",
          "data": {
            "image/png": "[encoded data removed]",
            "text/plain": [
              "<Figure size 432x288 with 1 Axes>"
            ]
          },
          "metadata": {
            "tags": [],
            "needs_background": "light"
          }
        }
      ]
    },
    {
      "cell_type": "code",
      "metadata": {
        "id": "6z24Qc5K7rVV",
        "colab_type": "code",
        "colab": {
          "base_uri": "https://localhost:8080/",
          "height": 351
        },
        "outputId": "380e5a84-0cb7-41ac-b5d1-7178fd2eca2f"
      },
      "source": [
        "#Empecemos con un ARMA(1,1)\n",
        "model_ar_1_ma_1 = ARMA(df.market_value, order=(1,1))\n",
        "results_ar_1_ma_1 = model_ar_1_ma_1.fit()\n",
        "#Observamos que el retraso para medias móviles no es significativo\n",
        "results_ar_1_ma_1.summary()"
      ],
      "execution_count": 47,
      "outputs": [
        {
          "output_type": "execute_result",
          "data": {
            "text/html": [
              "<table class=\"simpletable\">\n",
              "<caption>ARMA Model Results</caption>\n",
              "<tr>\n",
              "  <th>Dep. Variable:</th>   <td>market_value</td>   <th>  No. Observations:  </th>    <td>5021</td>   \n",
              "</tr>\n",
              "<tr>\n",
              "  <th>Model:</th>            <td>ARMA(1, 1)</td>    <th>  Log Likelihood     </th> <td>-27621.792</td>\n",
              "</tr>\n",
              "<tr>\n",
              "  <th>Method:</th>             <td>css-mle</td>     <th>  S.D. of innovations</th>   <td>59.248</td>  \n",
              "</tr>\n",
              "<tr>\n",
              "  <th>Date:</th>          <td>Fri, 17 Jul 2020</td> <th>  AIC                </th>  <td>55251.584</td>\n",
              "</tr>\n",
              "<tr>\n",
              "  <th>Time:</th>              <td>03:02:00</td>     <th>  BIC                </th>  <td>55277.670</td>\n",
              "</tr>\n",
              "<tr>\n",
              "  <th>Sample:</th>           <td>01-07-1994</td>    <th>  HQIC               </th>  <td>55260.725</td>\n",
              "</tr>\n",
              "<tr>\n",
              "  <th></th>                 <td>- 04-05-2013</td>   <th>                     </th>      <td> </td>    \n",
              "</tr>\n",
              "</table>\n",
              "<table class=\"simpletable\">\n",
              "<tr>\n",
              "           <td></td>             <th>coef</th>     <th>std err</th>      <th>z</th>      <th>P>|z|</th>  <th>[0.025</th>    <th>0.975]</th>  \n",
              "</tr>\n",
              "<tr>\n",
              "  <th>const</th>              <td> 5101.4137</td> <td>  497.008</td> <td>   10.264</td> <td> 0.000</td> <td> 4127.296</td> <td> 6075.532</td>\n",
              "</tr>\n",
              "<tr>\n",
              "  <th>ar.L1.market_value</th> <td>    0.9985</td> <td>    0.001</td> <td> 1321.326</td> <td> 0.000</td> <td>    0.997</td> <td>    1.000</td>\n",
              "</tr>\n",
              "<tr>\n",
              "  <th>ma.L1.market_value</th> <td>   -0.0191</td> <td>    0.015</td> <td>   -1.278</td> <td> 0.201</td> <td>   -0.048</td> <td>    0.010</td>\n",
              "</tr>\n",
              "</table>\n",
              "<table class=\"simpletable\">\n",
              "<caption>Roots</caption>\n",
              "<tr>\n",
              "    <td></td>   <th>            Real</th>  <th>         Imaginary</th> <th>         Modulus</th>  <th>        Frequency</th>\n",
              "</tr>\n",
              "<tr>\n",
              "  <th>AR.1</th> <td>           1.0015</td> <td>          +0.0000j</td> <td>           1.0015</td> <td>           0.0000</td>\n",
              "</tr>\n",
              "<tr>\n",
              "  <th>MA.1</th> <td>          52.3402</td> <td>          +0.0000j</td> <td>          52.3402</td> <td>           0.0000</td>\n",
              "</tr>\n",
              "</table>"
            ],
            "text/plain": [
              "<class 'statsmodels.iolib.summary.Summary'>\n",
              "\"\"\"\n",
              "                              ARMA Model Results                              \n",
              "==============================================================================\n",
              "Dep. Variable:           market_value   No. Observations:                 5021\n",
              "Model:                     ARMA(1, 1)   Log Likelihood              -27621.792\n",
              "Method:                       css-mle   S.D. of innovations             59.248\n",
              "Date:                Fri, 17 Jul 2020   AIC                          55251.584\n",
              "Time:                        03:02:00   BIC                          55277.670\n",
              "Sample:                    01-07-1994   HQIC                         55260.725\n",
              "                         - 04-05-2013                                         \n",
              "======================================================================================\n",
              "                         coef    std err          z      P>|z|      [0.025      0.975]\n",
              "--------------------------------------------------------------------------------------\n",
              "const               5101.4137    497.008     10.264      0.000    4127.296    6075.532\n",
              "ar.L1.market_value     0.9985      0.001   1321.326      0.000       0.997       1.000\n",
              "ma.L1.market_value    -0.0191      0.015     -1.278      0.201      -0.048       0.010\n",
              "                                    Roots                                    \n",
              "=============================================================================\n",
              "                  Real          Imaginary           Modulus         Frequency\n",
              "-----------------------------------------------------------------------------\n",
              "AR.1            1.0015           +0.0000j            1.0015            0.0000\n",
              "MA.1           52.3402           +0.0000j           52.3402            0.0000\n",
              "-----------------------------------------------------------------------------\n",
              "\"\"\""
            ]
          },
          "metadata": {
            "tags": []
          },
          "execution_count": 47
        }
      ]
    },
    {
      "cell_type": "code",
      "metadata": {
        "id": "_J0xWndM7rVX",
        "colab_type": "code",
        "colab": {}
      },
      "source": [
        "#Anlicemos los residuos para darnos una idea de por donde podría estar el mejor modelo\n",
        "df['res_ar_1_ma_1'] = results_ar_1_ma_1.resid"
      ],
      "execution_count": 48,
      "outputs": []
    },
    {
      "cell_type": "code",
      "metadata": {
        "id": "sOvAu_M87rVZ",
        "colab_type": "code",
        "colab": {
          "base_uri": "https://localhost:8080/",
          "height": 289
        },
        "outputId": "033e3f29-e585-41e8-db25-507307056c9e"
      },
      "source": [
        "#Podemos ver que 5 de los primeros 6 retrasos son significativos\n",
        "#Esto indica que un modelo que considere 6 retrasos en algúno de sus componenetes podría ser una respuesta\n",
        "sgt.plot_acf(df.res_ar_1_ma_1, zero = False, lags = 40)\n",
        "plt.title(\"ACF Of Residuals of Prices\",size=20)\n",
        "plt.show()"
      ],
      "execution_count": 50,
      "outputs": [
        {
          "output_type": "display_data",
          "data": {
            "image/png": "[encoded data removed]",
            "text/plain": [
              "<Figure size 432x288 with 1 Axes>"
            ]
          },
          "metadata": {
            "tags": [],
            "needs_background": "light"
          }
        }
      ]
    },
    {
      "cell_type": "code",
      "metadata": {
        "id": "ogsW8Snj7rVb",
        "colab_type": "code",
        "colab": {
          "base_uri": "https://localhost:8080/",
          "height": 771
        },
        "outputId": "b1aa9313-6ca3-46b4-da0e-239be809a194"
      },
      "source": [
        "#Empezaremos con un ARMA(6,6)\n",
        "model_ar_6_ma_6 = ARMA(df.market_value, order=(6,6))\n",
        "#Para evitar errores debemos insertar la opción \"start_ar_lags\" e intentar con número mayores que el que queremos utilizar para el componente autorregresivo \n",
        "results_ar_6_ma_6 = model_ar_6_ma_6.fit(start_ar_lags = 11)\n",
        "#Podemos ver que el retraso autorregresivo 4 y el de medias móviles no son significativos\n",
        "results_ar_6_ma_6.summary()"
      ],
      "execution_count": 54,
      "outputs": [
        {
          "output_type": "execute_result",
          "data": {
            "text/html": [
              "<table class=\"simpletable\">\n",
              "<caption>ARMA Model Results</caption>\n",
              "<tr>\n",
              "  <th>Dep. Variable:</th>   <td>market_value</td>   <th>  No. Observations:  </th>    <td>5021</td>   \n",
              "</tr>\n",
              "<tr>\n",
              "  <th>Model:</th>            <td>ARMA(6, 6)</td>    <th>  Log Likelihood     </th> <td>-27587.932</td>\n",
              "</tr>\n",
              "<tr>\n",
              "  <th>Method:</th>             <td>css-mle</td>     <th>  S.D. of innovations</th>   <td>58.849</td>  \n",
              "</tr>\n",
              "<tr>\n",
              "  <th>Date:</th>          <td>Fri, 17 Jul 2020</td> <th>  AIC                </th>  <td>55203.864</td>\n",
              "</tr>\n",
              "<tr>\n",
              "  <th>Time:</th>              <td>03:08:43</td>     <th>  BIC                </th>  <td>55295.164</td>\n",
              "</tr>\n",
              "<tr>\n",
              "  <th>Sample:</th>           <td>01-07-1994</td>    <th>  HQIC               </th>  <td>55235.856</td>\n",
              "</tr>\n",
              "<tr>\n",
              "  <th></th>                 <td>- 04-05-2013</td>   <th>                     </th>      <td> </td>    \n",
              "</tr>\n",
              "</table>\n",
              "<table class=\"simpletable\">\n",
              "<tr>\n",
              "           <td></td>             <th>coef</th>     <th>std err</th>      <th>z</th>      <th>P>|z|</th>  <th>[0.025</th>    <th>0.975]</th>  \n",
              "</tr>\n",
              "<tr>\n",
              "  <th>const</th>              <td> 5089.6477</td> <td>  568.179</td> <td>    8.958</td> <td> 0.000</td> <td> 3976.037</td> <td> 6203.259</td>\n",
              "</tr>\n",
              "<tr>\n",
              "  <th>ar.L1.market_value</th> <td>    1.9275</td> <td>    0.032</td> <td>   59.960</td> <td> 0.000</td> <td>    1.864</td> <td>    1.990</td>\n",
              "</tr>\n",
              "<tr>\n",
              "  <th>ar.L2.market_value</th> <td>   -1.7357</td> <td>    0.040</td> <td>  -43.372</td> <td> 0.000</td> <td>   -1.814</td> <td>   -1.657</td>\n",
              "</tr>\n",
              "<tr>\n",
              "  <th>ar.L3.market_value</th> <td>    1.2673</td> <td>    0.034</td> <td>   36.745</td> <td> 0.000</td> <td>    1.200</td> <td>    1.335</td>\n",
              "</tr>\n",
              "<tr>\n",
              "  <th>ar.L4.market_value</th> <td>   -0.2372</td> <td>    0.159</td> <td>   -1.496</td> <td> 0.135</td> <td>   -0.548</td> <td>    0.073</td>\n",
              "</tr>\n",
              "<tr>\n",
              "  <th>ar.L5.market_value</th> <td>   -0.4064</td> <td>    0.166</td> <td>   -2.454</td> <td> 0.014</td> <td>   -0.731</td> <td>   -0.082</td>\n",
              "</tr>\n",
              "<tr>\n",
              "  <th>ar.L6.market_value</th> <td>    0.1840</td> <td>    0.049</td> <td>    3.770</td> <td> 0.000</td> <td>    0.088</td> <td>    0.280</td>\n",
              "</tr>\n",
              "<tr>\n",
              "  <th>ma.L1.market_value</th> <td>   -0.9486</td> <td>    0.035</td> <td>  -27.053</td> <td> 0.000</td> <td>   -1.017</td> <td>   -0.880</td>\n",
              "</tr>\n",
              "<tr>\n",
              "  <th>ma.L2.market_value</th> <td>    0.7798</td> <td>    0.032</td> <td>   24.155</td> <td> 0.000</td> <td>    0.716</td> <td>    0.843</td>\n",
              "</tr>\n",
              "<tr>\n",
              "  <th>ma.L3.market_value</th> <td>   -0.5083</td> <td>    0.031</td> <td>  -16.321</td> <td> 0.000</td> <td>   -0.569</td> <td>   -0.447</td>\n",
              "</tr>\n",
              "<tr>\n",
              "  <th>ma.L4.market_value</th> <td>   -0.1562</td> <td>    0.159</td> <td>   -0.982</td> <td> 0.326</td> <td>   -0.468</td> <td>    0.156</td>\n",
              "</tr>\n",
              "<tr>\n",
              "  <th>ma.L5.market_value</th> <td>    0.0953</td> <td>    0.057</td> <td>    1.681</td> <td> 0.093</td> <td>   -0.016</td> <td>    0.206</td>\n",
              "</tr>\n",
              "<tr>\n",
              "  <th>ma.L6.market_value</th> <td>    0.0670</td> <td>    0.024</td> <td>    2.798</td> <td> 0.005</td> <td>    0.020</td> <td>    0.114</td>\n",
              "</tr>\n",
              "</table>\n",
              "<table class=\"simpletable\">\n",
              "<caption>Roots</caption>\n",
              "<tr>\n",
              "    <td></td>   <th>            Real</th>  <th>         Imaginary</th> <th>         Modulus</th>  <th>        Frequency</th>\n",
              "</tr>\n",
              "<tr>\n",
              "  <th>AR.1</th> <td>           0.0857</td> <td>          -1.0503j</td> <td>           1.0537</td> <td>          -0.2370</td>\n",
              "</tr>\n",
              "<tr>\n",
              "  <th>AR.2</th> <td>           0.0857</td> <td>          +1.0503j</td> <td>           1.0537</td> <td>           0.2370</td>\n",
              "</tr>\n",
              "<tr>\n",
              "  <th>AR.3</th> <td>          -2.0251</td> <td>          -0.0000j</td> <td>           2.0251</td> <td>          -0.5000</td>\n",
              "</tr>\n",
              "<tr>\n",
              "  <th>AR.4</th> <td>           1.0011</td> <td>          -0.0000j</td> <td>           1.0011</td> <td>          -0.0000</td>\n",
              "</tr>\n",
              "<tr>\n",
              "  <th>AR.5</th> <td>           1.5306</td> <td>          -0.2671j</td> <td>           1.5537</td> <td>          -0.0275</td>\n",
              "</tr>\n",
              "<tr>\n",
              "  <th>AR.6</th> <td>           1.5306</td> <td>          +0.2671j</td> <td>           1.5537</td> <td>           0.0275</td>\n",
              "</tr>\n",
              "<tr>\n",
              "  <th>MA.1</th> <td>           0.1028</td> <td>          -1.0612j</td> <td>           1.0662</td> <td>          -0.2346</td>\n",
              "</tr>\n",
              "<tr>\n",
              "  <th>MA.2</th> <td>           0.1028</td> <td>          +1.0612j</td> <td>           1.0662</td> <td>           0.2346</td>\n",
              "</tr>\n",
              "<tr>\n",
              "  <th>MA.3</th> <td>           1.3623</td> <td>          -0.2795j</td> <td>           1.3906</td> <td>          -0.0322</td>\n",
              "</tr>\n",
              "<tr>\n",
              "  <th>MA.4</th> <td>           1.3623</td> <td>          +0.2795j</td> <td>           1.3906</td> <td>           0.0322</td>\n",
              "</tr>\n",
              "<tr>\n",
              "  <th>MA.5</th> <td>          -2.1760</td> <td>          -1.4332j</td> <td>           2.6056</td> <td>          -0.4073</td>\n",
              "</tr>\n",
              "<tr>\n",
              "  <th>MA.6</th> <td>          -2.1760</td> <td>          +1.4332j</td> <td>           2.6056</td> <td>           0.4073</td>\n",
              "</tr>\n",
              "</table>"
            ],
            "text/plain": [
              "<class 'statsmodels.iolib.summary.Summary'>\n",
              "\"\"\"\n",
              "                              ARMA Model Results                              \n",
              "==============================================================================\n",
              "Dep. Variable:           market_value   No. Observations:                 5021\n",
              "Model:                     ARMA(6, 6)   Log Likelihood              -27587.932\n",
              "Method:                       css-mle   S.D. of innovations             58.849\n",
              "Date:                Fri, 17 Jul 2020   AIC                          55203.864\n",
              "Time:                        03:08:43   BIC                          55295.164\n",
              "Sample:                    01-07-1994   HQIC                         55235.856\n",
              "                         - 04-05-2013                                         \n",
              "======================================================================================\n",
              "                         coef    std err          z      P>|z|      [0.025      0.975]\n",
              "--------------------------------------------------------------------------------------\n",
              "const               5089.6477    568.179      8.958      0.000    3976.037    6203.259\n",
              "ar.L1.market_value     1.9275      0.032     59.960      0.000       1.864       1.990\n",
              "ar.L2.market_value    -1.7357      0.040    -43.372      0.000      -1.814      -1.657\n",
              "ar.L3.market_value     1.2673      0.034     36.745      0.000       1.200       1.335\n",
              "ar.L4.market_value    -0.2372      0.159     -1.496      0.135      -0.548       0.073\n",
              "ar.L5.market_value    -0.4064      0.166     -2.454      0.014      -0.731      -0.082\n",
              "ar.L6.market_value     0.1840      0.049      3.770      0.000       0.088       0.280\n",
              "ma.L1.market_value    -0.9486      0.035    -27.053      0.000      -1.017      -0.880\n",
              "ma.L2.market_value     0.7798      0.032     24.155      0.000       0.716       0.843\n",
              "ma.L3.market_value    -0.5083      0.031    -16.321      0.000      -0.569      -0.447\n",
              "ma.L4.market_value    -0.1562      0.159     -0.982      0.326      -0.468       0.156\n",
              "ma.L5.market_value     0.0953      0.057      1.681      0.093      -0.016       0.206\n",
              "ma.L6.market_value     0.0670      0.024      2.798      0.005       0.020       0.114\n",
              "                                    Roots                                    \n",
              "=============================================================================\n",
              "                  Real          Imaginary           Modulus         Frequency\n",
              "-----------------------------------------------------------------------------\n",
              "AR.1            0.0857           -1.0503j            1.0537           -0.2370\n",
              "AR.2            0.0857           +1.0503j            1.0537            0.2370\n",
              "AR.3           -2.0251           -0.0000j            2.0251           -0.5000\n",
              "AR.4            1.0011           -0.0000j            1.0011           -0.0000\n",
              "AR.5            1.5306           -0.2671j            1.5537           -0.0275\n",
              "AR.6            1.5306           +0.2671j            1.5537            0.0275\n",
              "MA.1            0.1028           -1.0612j            1.0662           -0.2346\n",
              "MA.2            0.1028           +1.0612j            1.0662            0.2346\n",
              "MA.3            1.3623           -0.2795j            1.3906           -0.0322\n",
              "MA.4            1.3623           +0.2795j            1.3906            0.0322\n",
              "MA.5           -2.1760           -1.4332j            2.6056           -0.4073\n",
              "MA.6           -2.1760           +1.4332j            2.6056            0.4073\n",
              "-----------------------------------------------------------------------------\n",
              "\"\"\""
            ]
          },
          "metadata": {
            "tags": []
          },
          "execution_count": 54
        }
      ]
    },
    {
      "cell_type": "code",
      "metadata": {
        "id": "0oI2JECD7rVg",
        "colab_type": "code",
        "colab": {
          "base_uri": "https://localhost:8080/",
          "height": 603
        },
        "outputId": "85a579e0-8258-4c5f-e352-ac046e4c9745"
      },
      "source": [
        "#Después de analizar todas las posibles combinaciones para modelos ARMA que consideran un componente de orden 6\n",
        "#Llegamos a que Modelo ARMA(6,2) es un modelocon todos sus coeficientes significativos\n",
        "model_ar_6_ma_2 = ARMA(df.market_value, order=(6,2))\n",
        "results_ar_6_ma_2 = model_ar_6_ma_2.fit()\n",
        "results_ar_6_ma_2.summary()"
      ],
      "execution_count": 55,
      "outputs": [
        {
          "output_type": "execute_result",
          "data": {
            "text/html": [
              "<table class=\"simpletable\">\n",
              "<caption>ARMA Model Results</caption>\n",
              "<tr>\n",
              "  <th>Dep. Variable:</th>   <td>market_value</td>   <th>  No. Observations:  </th>    <td>5021</td>   \n",
              "</tr>\n",
              "<tr>\n",
              "  <th>Model:</th>            <td>ARMA(6, 2)</td>    <th>  Log Likelihood     </th> <td>-27589.750</td>\n",
              "</tr>\n",
              "<tr>\n",
              "  <th>Method:</th>             <td>css-mle</td>     <th>  S.D. of innovations</th>   <td>58.871</td>  \n",
              "</tr>\n",
              "<tr>\n",
              "  <th>Date:</th>          <td>Fri, 17 Jul 2020</td> <th>  AIC                </th>  <td>55199.500</td>\n",
              "</tr>\n",
              "<tr>\n",
              "  <th>Time:</th>              <td>03:12:16</td>     <th>  BIC                </th>  <td>55264.714</td>\n",
              "</tr>\n",
              "<tr>\n",
              "  <th>Sample:</th>           <td>01-07-1994</td>    <th>  HQIC               </th>  <td>55222.352</td>\n",
              "</tr>\n",
              "<tr>\n",
              "  <th></th>                 <td>- 04-05-2013</td>   <th>                     </th>      <td> </td>    \n",
              "</tr>\n",
              "</table>\n",
              "<table class=\"simpletable\">\n",
              "<tr>\n",
              "           <td></td>             <th>coef</th>     <th>std err</th>      <th>z</th>      <th>P>|z|</th>  <th>[0.025</th>    <th>0.975]</th>  \n",
              "</tr>\n",
              "<tr>\n",
              "  <th>const</th>              <td> 5089.6452</td> <td>  559.643</td> <td>    9.094</td> <td> 0.000</td> <td> 3992.765</td> <td> 6186.525</td>\n",
              "</tr>\n",
              "<tr>\n",
              "  <th>ar.L1.market_value</th> <td>    1.1801</td> <td>    0.052</td> <td>   22.528</td> <td> 0.000</td> <td>    1.077</td> <td>    1.283</td>\n",
              "</tr>\n",
              "<tr>\n",
              "  <th>ar.L2.market_value</th> <td>   -1.0823</td> <td>    0.075</td> <td>  -14.355</td> <td> 0.000</td> <td>   -1.230</td> <td>   -0.934</td>\n",
              "</tr>\n",
              "<tr>\n",
              "  <th>ar.L3.market_value</th> <td>    0.8181</td> <td>    0.068</td> <td>   12.070</td> <td> 0.000</td> <td>    0.685</td> <td>    0.951</td>\n",
              "</tr>\n",
              "<tr>\n",
              "  <th>ar.L4.market_value</th> <td>    0.0807</td> <td>    0.027</td> <td>    2.937</td> <td> 0.003</td> <td>    0.027</td> <td>    0.135</td>\n",
              "</tr>\n",
              "<tr>\n",
              "  <th>ar.L5.market_value</th> <td>   -0.0879</td> <td>    0.025</td> <td>   -3.564</td> <td> 0.000</td> <td>   -0.136</td> <td>   -0.040</td>\n",
              "</tr>\n",
              "<tr>\n",
              "  <th>ar.L6.market_value</th> <td>    0.0891</td> <td>    0.015</td> <td>    5.923</td> <td> 0.000</td> <td>    0.060</td> <td>    0.119</td>\n",
              "</tr>\n",
              "<tr>\n",
              "  <th>ma.L1.market_value</th> <td>   -0.2013</td> <td>    0.051</td> <td>   -3.965</td> <td> 0.000</td> <td>   -0.301</td> <td>   -0.102</td>\n",
              "</tr>\n",
              "<tr>\n",
              "  <th>ma.L2.market_value</th> <td>    0.8589</td> <td>    0.064</td> <td>   13.317</td> <td> 0.000</td> <td>    0.733</td> <td>    0.985</td>\n",
              "</tr>\n",
              "</table>\n",
              "<table class=\"simpletable\">\n",
              "<caption>Roots</caption>\n",
              "<tr>\n",
              "    <td></td>   <th>            Real</th>  <th>         Imaginary</th> <th>         Modulus</th>  <th>        Frequency</th>\n",
              "</tr>\n",
              "<tr>\n",
              "  <th>AR.1</th> <td>           1.0011</td> <td>          -0.0000j</td> <td>           1.0011</td> <td>          -0.0000</td>\n",
              "</tr>\n",
              "<tr>\n",
              "  <th>AR.2</th> <td>           0.0927</td> <td>          -1.0633j</td> <td>           1.0673</td> <td>          -0.2362</td>\n",
              "</tr>\n",
              "<tr>\n",
              "  <th>AR.3</th> <td>           0.0927</td> <td>          +1.0633j</td> <td>           1.0673</td> <td>           0.2362</td>\n",
              "</tr>\n",
              "<tr>\n",
              "  <th>AR.4</th> <td>          -2.2407</td> <td>          -0.0000j</td> <td>           2.2407</td> <td>          -0.5000</td>\n",
              "</tr>\n",
              "<tr>\n",
              "  <th>AR.5</th> <td>           1.0201</td> <td>          -1.8300j</td> <td>           2.0951</td> <td>          -0.1691</td>\n",
              "</tr>\n",
              "<tr>\n",
              "  <th>AR.6</th> <td>           1.0201</td> <td>          +1.8300j</td> <td>           2.0951</td> <td>           0.1691</td>\n",
              "</tr>\n",
              "<tr>\n",
              "  <th>MA.1</th> <td>           0.1172</td> <td>          -1.0726j</td> <td>           1.0790</td> <td>          -0.2327</td>\n",
              "</tr>\n",
              "<tr>\n",
              "  <th>MA.2</th> <td>           0.1172</td> <td>          +1.0726j</td> <td>           1.0790</td> <td>           0.2327</td>\n",
              "</tr>\n",
              "</table>"
            ],
            "text/plain": [
              "<class 'statsmodels.iolib.summary.Summary'>\n",
              "\"\"\"\n",
              "                              ARMA Model Results                              \n",
              "==============================================================================\n",
              "Dep. Variable:           market_value   No. Observations:                 5021\n",
              "Model:                     ARMA(6, 2)   Log Likelihood              -27589.750\n",
              "Method:                       css-mle   S.D. of innovations             58.871\n",
              "Date:                Fri, 17 Jul 2020   AIC                          55199.500\n",
              "Time:                        03:12:16   BIC                          55264.714\n",
              "Sample:                    01-07-1994   HQIC                         55222.352\n",
              "                         - 04-05-2013                                         \n",
              "======================================================================================\n",
              "                         coef    std err          z      P>|z|      [0.025      0.975]\n",
              "--------------------------------------------------------------------------------------\n",
              "const               5089.6452    559.643      9.094      0.000    3992.765    6186.525\n",
              "ar.L1.market_value     1.1801      0.052     22.528      0.000       1.077       1.283\n",
              "ar.L2.market_value    -1.0823      0.075    -14.355      0.000      -1.230      -0.934\n",
              "ar.L3.market_value     0.8181      0.068     12.070      0.000       0.685       0.951\n",
              "ar.L4.market_value     0.0807      0.027      2.937      0.003       0.027       0.135\n",
              "ar.L5.market_value    -0.0879      0.025     -3.564      0.000      -0.136      -0.040\n",
              "ar.L6.market_value     0.0891      0.015      5.923      0.000       0.060       0.119\n",
              "ma.L1.market_value    -0.2013      0.051     -3.965      0.000      -0.301      -0.102\n",
              "ma.L2.market_value     0.8589      0.064     13.317      0.000       0.733       0.985\n",
              "                                    Roots                                    \n",
              "=============================================================================\n",
              "                  Real          Imaginary           Modulus         Frequency\n",
              "-----------------------------------------------------------------------------\n",
              "AR.1            1.0011           -0.0000j            1.0011           -0.0000\n",
              "AR.2            0.0927           -1.0633j            1.0673           -0.2362\n",
              "AR.3            0.0927           +1.0633j            1.0673            0.2362\n",
              "AR.4           -2.2407           -0.0000j            2.2407           -0.5000\n",
              "AR.5            1.0201           -1.8300j            2.0951           -0.1691\n",
              "AR.6            1.0201           +1.8300j            2.0951            0.1691\n",
              "MA.1            0.1172           -1.0726j            1.0790           -0.2327\n",
              "MA.2            0.1172           +1.0726j            1.0790            0.2327\n",
              "-----------------------------------------------------------------------------\n",
              "\"\"\""
            ]
          },
          "metadata": {
            "tags": []
          },
          "execution_count": 55
        }
      ]
    },
    {
      "cell_type": "code",
      "metadata": {
        "id": "L6gzkgzy7rVk",
        "colab_type": "code",
        "colab": {
          "base_uri": "https://localhost:8080/",
          "height": 289
        },
        "outputId": "9aa25a10-da6c-4edd-a3eb-60e9e2cd22c4"
      },
      "source": [
        "#Extraemos los residuos\n",
        "df['res_ar_6_ma_2'] = results_ar_6_ma_2.resid\n",
        "#Observamos que solo 3 residuos son significativos pero en general se asemeja a un ACF de ruido blanco\n",
        "#Esta parece una muy buena posible solución\n",
        "sgt.plot_acf(df.res_ar_6_ma_2, zero = False, lags = 40)\n",
        "plt.title(\"ACF Of Residuals of Prices\",size=20)\n",
        "plt.show()"
      ],
      "execution_count": 57,
      "outputs": [
        {
          "output_type": "display_data",
          "data": {
            "image/png": "[encoded data removed]",
            "text/plain": [
              "<Figure size 432x288 with 1 Axes>"
            ]
          },
          "metadata": {
            "tags": [],
            "needs_background": "light"
          }
        }
      ]
    },
    {
      "cell_type": "markdown",
      "metadata": {
        "id": "S0ijVg3j7rVm",
        "colab_type": "text"
      },
      "source": [
        "## ARMA for Returns vs ARMA for Prices"
      ]
    },
    {
      "cell_type": "code",
      "metadata": {
        "id": "MqcYIyue7rVn",
        "colab_type": "code",
        "colab": {
          "base_uri": "https://localhost:8080/",
          "height": 51
        },
        "outputId": "0e239136-c3fe-4f69-9404-8d420d306785"
      },
      "source": [
        "#Ahora vamos a compararlo con el ARMA(5,1) que contiene a los retornos, es decir a una serie estacionaria\n",
        "#Esto porque el ARMA(6,2) contiene una serie no estacionaria que son los precios y habiamos dicho que los modelos ARMA no funcionan bien con series no estacionarias\n",
        "#Podemos ver que la log verosimilitud de el ARMA(5,1) es más grande y el AIC  es más bajo, esto indica que es un mejor modelo dado que tiene una serie estacionaria\n",
        "print(\"ARMA(6,2):  \\t LL = \", results_ar_6_ma_2.llf, \"\\t AIC = \", results_ar_6_ma_2.aic)\n",
        "print(\"ARMA(5,1):  \\t LL = \", results_ret_ar_5_ma_1.llf, \"\\t AIC = \", results_ret_ar_5_ma_1.aic)"
      ],
      "execution_count": 58,
      "outputs": [
        {
          "output_type": "stream",
          "text": [
            "ARMA(6,2):  \t LL =  -27589.750018536673 \t AIC =  55199.50003707335\n",
            "ARMA(5,1):  \t LL =  -7889.311282945847 \t AIC =  15794.622565891694\n"
          ],
          "name": "stdout"
        }
      ]
    },
    {
      "cell_type": "code",
      "metadata": {
        "id": "zzS9f4evxE5l",
        "colab_type": "code",
        "colab": {}
      },
      "source": [
        ""
      ],
      "execution_count": null,
      "outputs": []
    }
  ]
}