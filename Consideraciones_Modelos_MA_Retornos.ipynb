{
  "nbformat": 4,
  "nbformat_minor": 0,
  "metadata": {
    "kernelspec": {
      "display_name": "Python 3",
      "language": "python",
      "name": "python3"
    },
    "language_info": {
      "codemirror_mode": {
        "name": "ipython",
        "version": 3
      },
      "file_extension": ".py",
      "mimetype": "text/x-python",
      "name": "python",
      "nbconvert_exporter": "python",
      "pygments_lexer": "ipython3",
      "version": "3.6.7"
    },
    "colab": {
      "name": "Copia de 8_Modelo_MA_Returns.ipynb",
      "provenance": [],
      "collapsed_sections": [],
      "include_colab_link": true
    }
  },
  "cells": [
    {
      "cell_type": "markdown",
      "metadata": {
        "id": "view-in-github",
        "colab_type": "text"
      },
      "source": [
        "<a href=\"https://colab.research.google.com/github/virf96/Proyectos/blob/master/Consideraciones_Modelos_MA_Retornos.ipynb\" target=\"_parent\"><img src=\"https://colab.research.google.com/assets/colab-badge.svg\" alt=\"Open In Colab\"/></a>"
      ]
    },
    {
      "cell_type": "markdown",
      "metadata": {
        "id": "iEHCeHHTSt7R",
        "colab_type": "text"
      },
      "source": [
        "## Modelo de Medias Móviles\n",
        "\n",
        "Este modelo a diferencia del modelo autorregresivo va a explicar a la serie de tiempo en función de los residuos en el periodo anterior.\n",
        "\n",
        "Para este modelo **MA(1)** se leera como modelos de medias móviles con un retraso.\n",
        "\n",
        "Pasos a seguir para encontrar el número de retrasos adecuados para la serie de tiempo:\n",
        "\n",
        "$1.-$ Realizar la versión más simple del modelo\n",
        "\n",
        "$2.-$ Complejizar el número de retrasos al menos hasta 8\n",
        "\n",
        "$3.-$Analizar los significacia de los regresores y la probabilidad de la log verosimilitud\n",
        "\n",
        "$4.-$Analizar los residuos de la serie temporal verificando que se cumpla una estacionalidad y comportamiento semejante al ruido blanco\n",
        "\n",
        "$5.-$ Comparar los modelos y escoger el mejor\n",
        "\n",
        "**Ahora veamos la forma más simple del modelo de medias móviles $MA(1):$ $x_{t}=c+\\theta_{i}\\epsilon_{t-1}+\\epsilon_{t}$**, en donde:\n",
        "\n",
        "$x_{t}:$ Observación en el periodo $t$\n",
        "\n",
        "$c:$ es una constante\n",
        "\n",
        "$\\theta:$ Un parámetro  donde $-1<\\theta<1$\n",
        "\n",
        "$\\epsilon_{t-1}:$ Residuo en el periodo $t-1$\n",
        "\n",
        "$\\epsilon_{t}:$ Residuo en el periodo $t$\n",
        "\n",
        "**¿Como generamos los residuos?**\n",
        "\n",
        "Los residuos serán el resultado de realizar la diferencia entre la observación estimado y la real en el periodo $t$.\n",
        "\n",
        "$\\epsilon=x_{t}-\\hat{x_{t}}$\n",
        "\n",
        "Para este modelo, la forma correcta de encontrar el número de retrasos correcto va a ser mediante el **ACF**, dado que el modelo de medias móviles no se basa en valores de la variable en periodos anteriores, en este caso nos interesa los efectos directos como los efectos inderectos. \n",
        "\n",
        "**Propiedades**\n",
        "\n",
        "$\\bullet$ MA(1)=AR($\\infty$) Se cumple que un modelo de Medias Móviles con 1 retrasos es igual a un modelo autorregresivo con infinitos retrasos.\n",
        "\n"
      ]
    },
    {
      "cell_type": "markdown",
      "metadata": {
        "id": "MDks6Tm2GCXS",
        "colab_type": "text"
      },
      "source": [
        "## Importing the relevant packages"
      ]
    },
    {
      "cell_type": "code",
      "metadata": {
        "id": "eo6zUSLLSt7S",
        "colab_type": "code",
        "colab": {
          "base_uri": "https://localhost:8080/",
          "height": 71
        },
        "outputId": "fb9d7484-c020-4ae6-c458-26698ae8711a"
      },
      "source": [
        "import pandas as pd\n",
        "import numpy as np\n",
        "import matplotlib.pyplot as plt\n",
        "import statsmodels.graphics.tsaplots as sgt\n",
        "import statsmodels.tsa.stattools as sts\n",
        "from statsmodels.tsa.arima_model import ARMA\n",
        "from scipy.stats.distributions import chi2 \n",
        "from math import sqrt\n",
        "import seaborn as sns\n",
        "sns.set()"
      ],
      "execution_count": 1,
      "outputs": [
        {
          "output_type": "stream",
          "text": [
            "/usr/local/lib/python3.6/dist-packages/statsmodels/tools/_testing.py:19: FutureWarning: pandas.util.testing is deprecated. Use the functions in the public API at pandas.testing instead.\n",
            "  import pandas.util.testing as tm\n"
          ],
          "name": "stderr"
        }
      ]
    },
    {
      "cell_type": "markdown",
      "metadata": {
        "id": "qZ7N5lciSt7W",
        "colab_type": "text"
      },
      "source": [
        "## Importing the Data and Pre-processing "
      ]
    },
    {
      "cell_type": "code",
      "metadata": {
        "id": "AzOIIriaSt7W",
        "colab_type": "code",
        "colab": {}
      },
      "source": [
        "#Cargamos los datos\n",
        "raw_csv_data = pd.read_csv(\"https://raw.githubusercontent.com/virf96/curso-series-temporales/master/2.%20Serie%20temporal%20en%20R%20y%20Python/Python/Index2018.csv\") \n",
        "#Copiamos el df en una nueva variables\n",
        "df_comp=raw_csv_data.copy()\n",
        "#Convertimos la variables a formato fecha e indicamos que nuestra variable empieza con el día\n",
        "df_comp.date = pd.to_datetime(df_comp.date, dayfirst = True)\n",
        "#Indexamos la fecha\n",
        "df_comp.set_index(\"date\", inplace=True)\n",
        "#Indicamos que la frecuancia de los días es \"busniess days\"\n",
        "df_comp=df_comp.asfreq('b')"
      ],
      "execution_count": 2,
      "outputs": []
    },
    {
      "cell_type": "code",
      "metadata": {
        "id": "I8if1oH7QPFu",
        "colab_type": "code",
        "colab": {
          "base_uri": "https://localhost:8080/",
          "height": 235
        },
        "outputId": "edd634bb-06f7-45f9-d168-2317b7fa3d6f"
      },
      "source": [
        "df_comp.head()"
      ],
      "execution_count": 3,
      "outputs": [
        {
          "output_type": "execute_result",
          "data": {
            "text/html": [
              "<div>\n",
              "<style scoped>\n",
              "    .dataframe tbody tr th:only-of-type {\n",
              "        vertical-align: middle;\n",
              "    }\n",
              "\n",
              "    .dataframe tbody tr th {\n",
              "        vertical-align: top;\n",
              "    }\n",
              "\n",
              "    .dataframe thead th {\n",
              "        text-align: right;\n",
              "    }\n",
              "</style>\n",
              "<table border=\"1\" class=\"dataframe\">\n",
              "  <thead>\n",
              "    <tr style=\"text-align: right;\">\n",
              "      <th></th>\n",
              "      <th>spx</th>\n",
              "      <th>dax</th>\n",
              "      <th>ftse</th>\n",
              "      <th>nikkei</th>\n",
              "    </tr>\n",
              "    <tr>\n",
              "      <th>date</th>\n",
              "      <th></th>\n",
              "      <th></th>\n",
              "      <th></th>\n",
              "      <th></th>\n",
              "    </tr>\n",
              "  </thead>\n",
              "  <tbody>\n",
              "    <tr>\n",
              "      <th>1994-01-07</th>\n",
              "      <td>469.90</td>\n",
              "      <td>2224.95</td>\n",
              "      <td>3445.98</td>\n",
              "      <td>18124.01</td>\n",
              "    </tr>\n",
              "    <tr>\n",
              "      <th>1994-01-10</th>\n",
              "      <td>475.27</td>\n",
              "      <td>2225.00</td>\n",
              "      <td>3440.58</td>\n",
              "      <td>18443.44</td>\n",
              "    </tr>\n",
              "    <tr>\n",
              "      <th>1994-01-11</th>\n",
              "      <td>474.13</td>\n",
              "      <td>2228.10</td>\n",
              "      <td>3413.77</td>\n",
              "      <td>18485.25</td>\n",
              "    </tr>\n",
              "    <tr>\n",
              "      <th>1994-01-12</th>\n",
              "      <td>474.17</td>\n",
              "      <td>2182.06</td>\n",
              "      <td>3372.02</td>\n",
              "      <td>18793.88</td>\n",
              "    </tr>\n",
              "    <tr>\n",
              "      <th>1994-01-13</th>\n",
              "      <td>472.47</td>\n",
              "      <td>2142.37</td>\n",
              "      <td>3360.01</td>\n",
              "      <td>18577.26</td>\n",
              "    </tr>\n",
              "  </tbody>\n",
              "</table>\n",
              "</div>"
            ],
            "text/plain": [
              "               spx      dax     ftse    nikkei\n",
              "date                                          \n",
              "1994-01-07  469.90  2224.95  3445.98  18124.01\n",
              "1994-01-10  475.27  2225.00  3440.58  18443.44\n",
              "1994-01-11  474.13  2228.10  3413.77  18485.25\n",
              "1994-01-12  474.17  2182.06  3372.02  18793.88\n",
              "1994-01-13  472.47  2142.37  3360.01  18577.26"
            ]
          },
          "metadata": {
            "tags": []
          },
          "execution_count": 3
        }
      ]
    },
    {
      "cell_type": "code",
      "metadata": {
        "id": "bb5UtmtbQU0G",
        "colab_type": "code",
        "colab": {
          "base_uri": "https://localhost:8080/",
          "height": 102
        },
        "outputId": "fe26df75-e4e1-4ed6-c933-3343d4c6ea44"
      },
      "source": [
        "#Contamos el número de na\n",
        "df_comp.isna().sum()"
      ],
      "execution_count": 4,
      "outputs": [
        {
          "output_type": "execute_result",
          "data": {
            "text/plain": [
              "spx       8\n",
              "dax       8\n",
              "ftse      8\n",
              "nikkei    8\n",
              "dtype: int64"
            ]
          },
          "metadata": {
            "tags": []
          },
          "execution_count": 4
        }
      ]
    },
    {
      "cell_type": "code",
      "metadata": {
        "id": "L6r5qkpFQbdO",
        "colab_type": "code",
        "colab": {}
      },
      "source": [
        "#Llenamos los missings con el método front fill\n",
        "df_comp=df_comp.fillna(method='ffill')"
      ],
      "execution_count": 5,
      "outputs": []
    },
    {
      "cell_type": "code",
      "metadata": {
        "id": "W2apOQcuSt7Z",
        "colab_type": "code",
        "colab": {}
      },
      "source": [
        "#Renombramos la variable que vamos a utilizar\n",
        "df_comp['market_value']=df_comp.ftse"
      ],
      "execution_count": 6,
      "outputs": []
    },
    {
      "cell_type": "code",
      "metadata": {
        "id": "UyFcYXJQSt7b",
        "colab_type": "code",
        "colab": {}
      },
      "source": [
        "#Borramos las que no utilizaremos\n",
        "del df_comp['spx']\n",
        "del df_comp['dax']\n",
        "del df_comp['ftse']\n",
        "del df_comp['nikkei']\n",
        "#Determinamos el corte para el set de entrenamiento y de prueba\n",
        "size = int(len(df_comp)*0.8)\n",
        "df, df_test = df_comp.iloc[:size], df_comp.iloc[size:]"
      ],
      "execution_count": 7,
      "outputs": []
    },
    {
      "cell_type": "code",
      "metadata": {
        "id": "pY_Uvt6PRCdh",
        "colab_type": "code",
        "colab": {
          "base_uri": "https://localhost:8080/",
          "height": 235
        },
        "outputId": "6275f1a0-9b56-48cf-e73b-5cd64b1ecf97"
      },
      "source": [
        "df_comp.head()"
      ],
      "execution_count": 8,
      "outputs": [
        {
          "output_type": "execute_result",
          "data": {
            "text/html": [
              "<div>\n",
              "<style scoped>\n",
              "    .dataframe tbody tr th:only-of-type {\n",
              "        vertical-align: middle;\n",
              "    }\n",
              "\n",
              "    .dataframe tbody tr th {\n",
              "        vertical-align: top;\n",
              "    }\n",
              "\n",
              "    .dataframe thead th {\n",
              "        text-align: right;\n",
              "    }\n",
              "</style>\n",
              "<table border=\"1\" class=\"dataframe\">\n",
              "  <thead>\n",
              "    <tr style=\"text-align: right;\">\n",
              "      <th></th>\n",
              "      <th>market_value</th>\n",
              "    </tr>\n",
              "    <tr>\n",
              "      <th>date</th>\n",
              "      <th></th>\n",
              "    </tr>\n",
              "  </thead>\n",
              "  <tbody>\n",
              "    <tr>\n",
              "      <th>1994-01-07</th>\n",
              "      <td>3445.98</td>\n",
              "    </tr>\n",
              "    <tr>\n",
              "      <th>1994-01-10</th>\n",
              "      <td>3440.58</td>\n",
              "    </tr>\n",
              "    <tr>\n",
              "      <th>1994-01-11</th>\n",
              "      <td>3413.77</td>\n",
              "    </tr>\n",
              "    <tr>\n",
              "      <th>1994-01-12</th>\n",
              "      <td>3372.02</td>\n",
              "    </tr>\n",
              "    <tr>\n",
              "      <th>1994-01-13</th>\n",
              "      <td>3360.01</td>\n",
              "    </tr>\n",
              "  </tbody>\n",
              "</table>\n",
              "</div>"
            ],
            "text/plain": [
              "            market_value\n",
              "date                    \n",
              "1994-01-07       3445.98\n",
              "1994-01-10       3440.58\n",
              "1994-01-11       3413.77\n",
              "1994-01-12       3372.02\n",
              "1994-01-13       3360.01"
            ]
          },
          "metadata": {
            "tags": []
          },
          "execution_count": 8
        }
      ]
    },
    {
      "cell_type": "markdown",
      "metadata": {
        "id": "WkzVFMmXSt7f",
        "colab_type": "text"
      },
      "source": [
        "## The LLR Test"
      ]
    },
    {
      "cell_type": "code",
      "metadata": {
        "id": "1NHkSqGpSt7f",
        "colab_type": "code",
        "colab": {}
      },
      "source": [
        "#Definimos la función para el contraste de log verosimilitudes de los modelos que generaremos\n",
        "def LLR_test(mod_1, mod_2, DF = 1):\n",
        "    L1 = mod_1.llf\n",
        "    L2 = mod_2.llf\n",
        "    LR = (2*(L2-L1))    \n",
        "    p = chi2.sf(LR, DF).round(3)\n",
        "    return p"
      ],
      "execution_count": 9,
      "outputs": []
    },
    {
      "cell_type": "code",
      "metadata": {
        "id": "c5YZ7V7aSt7i",
        "colab_type": "code",
        "colab": {}
      },
      "source": [
        "import warnings\n",
        "warnings.filterwarnings(\"ignore\")"
      ],
      "execution_count": 10,
      "outputs": []
    },
    {
      "cell_type": "markdown",
      "metadata": {
        "id": "cyuKKVr2St7k",
        "colab_type": "text"
      },
      "source": [
        "## Creating Returns"
      ]
    },
    {
      "cell_type": "code",
      "metadata": {
        "scrolled": true,
        "id": "AWgKW0RYSt7l",
        "colab_type": "code",
        "colab": {}
      },
      "source": [
        "#Creamos los retornos de la variable para obtener una serie estacionaria, recordando que solo es la tasa de variación entre periodos\n",
        "df['returns'] = df.market_value.pct_change(1)*100"
      ],
      "execution_count": 11,
      "outputs": []
    },
    {
      "cell_type": "code",
      "metadata": {
        "id": "77Eh37DMs-xk",
        "colab_type": "code",
        "colab": {
          "base_uri": "https://localhost:8080/",
          "height": 235
        },
        "outputId": "16e9e77a-1094-4326-8b95-0abd682dd36a"
      },
      "source": [
        "df.head()"
      ],
      "execution_count": 12,
      "outputs": [
        {
          "output_type": "execute_result",
          "data": {
            "text/html": [
              "<div>\n",
              "<style scoped>\n",
              "    .dataframe tbody tr th:only-of-type {\n",
              "        vertical-align: middle;\n",
              "    }\n",
              "\n",
              "    .dataframe tbody tr th {\n",
              "        vertical-align: top;\n",
              "    }\n",
              "\n",
              "    .dataframe thead th {\n",
              "        text-align: right;\n",
              "    }\n",
              "</style>\n",
              "<table border=\"1\" class=\"dataframe\">\n",
              "  <thead>\n",
              "    <tr style=\"text-align: right;\">\n",
              "      <th></th>\n",
              "      <th>market_value</th>\n",
              "      <th>returns</th>\n",
              "    </tr>\n",
              "    <tr>\n",
              "      <th>date</th>\n",
              "      <th></th>\n",
              "      <th></th>\n",
              "    </tr>\n",
              "  </thead>\n",
              "  <tbody>\n",
              "    <tr>\n",
              "      <th>1994-01-07</th>\n",
              "      <td>3445.98</td>\n",
              "      <td>NaN</td>\n",
              "    </tr>\n",
              "    <tr>\n",
              "      <th>1994-01-10</th>\n",
              "      <td>3440.58</td>\n",
              "      <td>-0.156704</td>\n",
              "    </tr>\n",
              "    <tr>\n",
              "      <th>1994-01-11</th>\n",
              "      <td>3413.77</td>\n",
              "      <td>-0.779229</td>\n",
              "    </tr>\n",
              "    <tr>\n",
              "      <th>1994-01-12</th>\n",
              "      <td>3372.02</td>\n",
              "      <td>-1.222988</td>\n",
              "    </tr>\n",
              "    <tr>\n",
              "      <th>1994-01-13</th>\n",
              "      <td>3360.01</td>\n",
              "      <td>-0.356166</td>\n",
              "    </tr>\n",
              "  </tbody>\n",
              "</table>\n",
              "</div>"
            ],
            "text/plain": [
              "            market_value   returns\n",
              "date                              \n",
              "1994-01-07       3445.98       NaN\n",
              "1994-01-10       3440.58 -0.156704\n",
              "1994-01-11       3413.77 -0.779229\n",
              "1994-01-12       3372.02 -1.222988\n",
              "1994-01-13       3360.01 -0.356166"
            ]
          },
          "metadata": {
            "tags": []
          },
          "execution_count": 12
        }
      ]
    },
    {
      "cell_type": "markdown",
      "metadata": {
        "id": "-Pbne8uySt7n",
        "colab_type": "text"
      },
      "source": [
        "## ACF for Returns"
      ]
    },
    {
      "cell_type": "code",
      "metadata": {
        "id": "MkSpRTFoSt7o",
        "colab_type": "code",
        "colab": {
          "base_uri": "https://localhost:8080/",
          "height": 293
        },
        "outputId": "5e6d0d9e-6878-4058-9447-2efb6c43bc49"
      },
      "source": [
        "#Analizamos el gráfico de autocorrelación\n",
        "#Indicamos que no considere la primera fila dado que no hay tasa de variación entre los periodos\n",
        "#Indicamos que no considere el primer retorno dado que no tendría sentido\n",
        "#Y que lo haga pra 40 retrasos\n",
        "#Observamos que no todos los retrasos son positivos a diferencia de con los precios, además de que varian mucho en magnitud\n",
        "#Los primeros retornos son los más significativos\n",
        "sgt.plot_acf(df.returns[1:], zero = False, lags = 40)\n",
        "plt.title(\"ACF for Returns\", size=24)\n",
        "plt.show()"
      ],
      "execution_count": 13,
      "outputs": [
        {
          "output_type": "display_data",
          "data": {
            "image/png": "[encoded data removed]",
            "text/plain": [
              "<Figure size 432x288 with 1 Axes>"
            ]
          },
          "metadata": {
            "tags": [],
            "needs_background": "light"
          }
        }
      ]
    },
    {
      "cell_type": "code",
      "metadata": {
        "id": "1RwVODEM12zE",
        "colab_type": "code",
        "colab": {
          "base_uri": "https://localhost:8080/",
          "height": 293
        },
        "outputId": "25e68a0c-a499-4992-f9ce-9fe9c2189e56"
      },
      "source": [
        "#Gráfico de autocorrelación parcial\n",
        "#Método por verosimilitud\n",
        "#Observamos que es muy parecida al gráfico de autocorrelación\n",
        "#Lo más recomendable será explorar más o menos 7 retrasos después de ese punto ya no serán de mucha ayuda los retrasos\n",
        "sgt.plot_pacf(df.returns[1:], lags = 40, zero = False, method = ('ols'))\n",
        "plt.title(\"PACF FTSE Returns\", size=24)\n",
        "plt.show()"
      ],
      "execution_count": 14,
      "outputs": [
        {
          "output_type": "display_data",
          "data": {
            "image/png": "[encoded data removed]",
            "text/plain": [
              "<Figure size 432x288 with 1 Axes>"
            ]
          },
          "metadata": {
            "tags": [],
            "needs_background": "light"
          }
        }
      ]
    },
    {
      "cell_type": "markdown",
      "metadata": {
        "id": "qsVkAF1nSt7q",
        "colab_type": "text"
      },
      "source": [
        "## MA(1) for Returns"
      ]
    },
    {
      "cell_type": "code",
      "metadata": {
        "id": "6cHMElhNSt7r",
        "colab_type": "code",
        "colab": {
          "base_uri": "https://localhost:8080/",
          "height": 309
        },
        "outputId": "e1b3fb36-43c3-42a7-adbc-b9b4ca31092c"
      },
      "source": [
        "#Modelo MA(1)\n",
        "#A diferencia de los modelos AR, en el parametro \"order=(0,1)\" se pone de lado derecho el número de retrasos para que sea un modelo MA\n",
        "model_ret_ma_1 = ARMA(df.returns[1:], order=(0,1))\n",
        "#Ajustamos el modelo\n",
        "results_ret_ma_1 = model_ret_ma_1.fit()\n",
        "#Resumen del modelo, en este caso el primer retrasos no es significativo\n",
        "results_ret_ma_1.summary()"
      ],
      "execution_count": 15,
      "outputs": [
        {
          "output_type": "execute_result",
          "data": {
            "text/html": [
              "<table class=\"simpletable\">\n",
              "<caption>ARMA Model Results</caption>\n",
              "<tr>\n",
              "  <th>Dep. Variable:</th>      <td>returns</td>     <th>  No. Observations:  </th>   <td>5020</td>   \n",
              "</tr>\n",
              "<tr>\n",
              "  <th>Model:</th>            <td>ARMA(0, 1)</td>    <th>  Log Likelihood     </th> <td>-7929.595</td>\n",
              "</tr>\n",
              "<tr>\n",
              "  <th>Method:</th>             <td>css-mle</td>     <th>  S.D. of innovations</th>   <td>1.174</td>  \n",
              "</tr>\n",
              "<tr>\n",
              "  <th>Date:</th>          <td>Fri, 17 Jul 2020</td> <th>  AIC                </th> <td>15865.190</td>\n",
              "</tr>\n",
              "<tr>\n",
              "  <th>Time:</th>              <td>04:10:30</td>     <th>  BIC                </th> <td>15884.754</td>\n",
              "</tr>\n",
              "<tr>\n",
              "  <th>Sample:</th>           <td>01-10-1994</td>    <th>  HQIC               </th> <td>15872.045</td>\n",
              "</tr>\n",
              "<tr>\n",
              "  <th></th>                 <td>- 04-05-2013</td>   <th>                     </th>     <td> </td>    \n",
              "</tr>\n",
              "</table>\n",
              "<table class=\"simpletable\">\n",
              "<tr>\n",
              "        <td></td>           <th>coef</th>     <th>std err</th>      <th>z</th>      <th>P>|z|</th>  <th>[0.025</th>    <th>0.975]</th>  \n",
              "</tr>\n",
              "<tr>\n",
              "  <th>const</th>         <td>    0.0188</td> <td>    0.016</td> <td>    1.162</td> <td> 0.245</td> <td>   -0.013</td> <td>    0.050</td>\n",
              "</tr>\n",
              "<tr>\n",
              "  <th>ma.L1.returns</th> <td>   -0.0257</td> <td>    0.015</td> <td>   -1.720</td> <td> 0.086</td> <td>   -0.055</td> <td>    0.004</td>\n",
              "</tr>\n",
              "</table>\n",
              "<table class=\"simpletable\">\n",
              "<caption>Roots</caption>\n",
              "<tr>\n",
              "    <td></td>   <th>            Real</th>  <th>         Imaginary</th> <th>         Modulus</th>  <th>        Frequency</th>\n",
              "</tr>\n",
              "<tr>\n",
              "  <th>MA.1</th> <td>          38.8549</td> <td>          +0.0000j</td> <td>          38.8549</td> <td>           0.0000</td>\n",
              "</tr>\n",
              "</table>"
            ],
            "text/plain": [
              "<class 'statsmodels.iolib.summary.Summary'>\n",
              "\"\"\"\n",
              "                              ARMA Model Results                              \n",
              "==============================================================================\n",
              "Dep. Variable:                returns   No. Observations:                 5020\n",
              "Model:                     ARMA(0, 1)   Log Likelihood               -7929.595\n",
              "Method:                       css-mle   S.D. of innovations              1.174\n",
              "Date:                Fri, 17 Jul 2020   AIC                          15865.190\n",
              "Time:                        04:10:30   BIC                          15884.754\n",
              "Sample:                    01-10-1994   HQIC                         15872.045\n",
              "                         - 04-05-2013                                         \n",
              "=================================================================================\n",
              "                    coef    std err          z      P>|z|      [0.025      0.975]\n",
              "---------------------------------------------------------------------------------\n",
              "const             0.0188      0.016      1.162      0.245      -0.013       0.050\n",
              "ma.L1.returns    -0.0257      0.015     -1.720      0.086      -0.055       0.004\n",
              "                                    Roots                                    \n",
              "=============================================================================\n",
              "                  Real          Imaginary           Modulus         Frequency\n",
              "-----------------------------------------------------------------------------\n",
              "MA.1           38.8549           +0.0000j           38.8549            0.0000\n",
              "-----------------------------------------------------------------------------\n",
              "\"\"\""
            ]
          },
          "metadata": {
            "tags": []
          },
          "execution_count": 15
        }
      ]
    },
    {
      "cell_type": "markdown",
      "metadata": {
        "id": "6BqhEaMeSt7t",
        "colab_type": "text"
      },
      "source": [
        "## Higher-Lag MA Models for Returns"
      ]
    },
    {
      "cell_type": "code",
      "metadata": {
        "id": "FnVLYmT_St7u",
        "colab_type": "code",
        "colab": {
          "base_uri": "https://localhost:8080/",
          "height": 425
        },
        "outputId": "18bad6bc-0ac3-4ea7-9c14-18164a3cf330"
      },
      "source": [
        "#Modelo MA(2)\n",
        "model_ret_ma_2 = ARMA(df.returns[1:], order=(0,2))\n",
        "results_ret_ma_2 = model_ret_ma_2.fit()\n",
        "print(results_ret_ma_2.summary())\n",
        "#El primer y segundo retrasos si es significativo\n",
        "#Contraste de log verosimilitudes es significante, por lo cuál nos quedamos con este modelo momentaneamente \n",
        "print(\"\\nLLR test p-value = \" + str(LLR_test(results_ret_ma_1, results_ret_ma_2)))"
      ],
      "execution_count": 16,
      "outputs": [
        {
          "output_type": "stream",
          "text": [
            "                              ARMA Model Results                              \n",
            "==============================================================================\n",
            "Dep. Variable:                returns   No. Observations:                 5020\n",
            "Model:                     ARMA(0, 2)   Log Likelihood               -7922.864\n",
            "Method:                       css-mle   S.D. of innovations              1.173\n",
            "Date:                Fri, 17 Jul 2020   AIC                          15853.728\n",
            "Time:                        04:10:31   BIC                          15879.812\n",
            "Sample:                    01-10-1994   HQIC                         15862.868\n",
            "                         - 04-05-2013                                         \n",
            "=================================================================================\n",
            "                    coef    std err          z      P>|z|      [0.025      0.975]\n",
            "---------------------------------------------------------------------------------\n",
            "const             0.0188      0.015      1.239      0.215      -0.011       0.049\n",
            "ma.L1.returns    -0.0327      0.014     -2.297      0.022      -0.061      -0.005\n",
            "ma.L2.returns    -0.0502      0.014     -3.669      0.000      -0.077      -0.023\n",
            "                                    Roots                                    \n",
            "=============================================================================\n",
            "                  Real          Imaginary           Modulus         Frequency\n",
            "-----------------------------------------------------------------------------\n",
            "MA.1            4.1499           +0.0000j            4.1499            0.0000\n",
            "MA.2           -4.8004           +0.0000j            4.8004            0.5000\n",
            "-----------------------------------------------------------------------------\n",
            "\n",
            "LLR test p-value = 0.0\n"
          ],
          "name": "stdout"
        }
      ]
    },
    {
      "cell_type": "code",
      "metadata": {
        "id": "-gZCMwlJSt7w",
        "colab_type": "code",
        "colab": {
          "base_uri": "https://localhost:8080/",
          "height": 459
        },
        "outputId": "ddaf7de8-e0ee-4484-e09f-e902979696e5"
      },
      "source": [
        "#Modelo MA(3)\n",
        "model_ret_ma_3 = ARMA(df.returns[1:], order=(0,3))\n",
        "results_ret_ma_3 = model_ret_ma_3.fit()\n",
        "print(results_ret_ma_3.summary())\n",
        "#El segundo y tercer retrasos si es significativo pero el primero no\n",
        "#Contraste de log verosimilitudes es significante, por lo cuál nos quedamos con este modelo \n",
        "print(\"\\nLLR test p-value = \" + str(LLR_test(results_ret_ma_2, results_ret_ma_3)))"
      ],
      "execution_count": 17,
      "outputs": [
        {
          "output_type": "stream",
          "text": [
            "                              ARMA Model Results                              \n",
            "==============================================================================\n",
            "Dep. Variable:                returns   No. Observations:                 5020\n",
            "Model:                     ARMA(0, 3)   Log Likelihood               -7904.317\n",
            "Method:                       css-mle   S.D. of innovations              1.168\n",
            "Date:                Fri, 17 Jul 2020   AIC                          15818.634\n",
            "Time:                        04:10:31   BIC                          15851.240\n",
            "Sample:                    01-10-1994   HQIC                         15830.060\n",
            "                         - 04-05-2013                                         \n",
            "=================================================================================\n",
            "                    coef    std err          z      P>|z|      [0.025      0.975]\n",
            "---------------------------------------------------------------------------------\n",
            "const             0.0189      0.014      1.376      0.169      -0.008       0.046\n",
            "ma.L1.returns    -0.0203      0.014     -1.423      0.155      -0.048       0.008\n",
            "ma.L2.returns    -0.0556      0.013     -4.134      0.000      -0.082      -0.029\n",
            "ma.L3.returns    -0.0904      0.015     -6.121      0.000      -0.119      -0.061\n",
            "                                    Roots                                    \n",
            "=============================================================================\n",
            "                  Real          Imaginary           Modulus         Frequency\n",
            "-----------------------------------------------------------------------------\n",
            "MA.1            2.0105           -0.0000j            2.0105           -0.0000\n",
            "MA.2           -1.3129           -1.9441j            2.3459           -0.3445\n",
            "MA.3           -1.3129           +1.9441j            2.3459            0.3445\n",
            "-----------------------------------------------------------------------------\n",
            "\n",
            "LLR test p-value = 0.0\n"
          ],
          "name": "stdout"
        }
      ]
    },
    {
      "cell_type": "code",
      "metadata": {
        "id": "vsDD0FEHSt7y",
        "colab_type": "code",
        "colab": {
          "base_uri": "https://localhost:8080/",
          "height": 493
        },
        "outputId": "59b813b5-bf96-4b90-e7a9-180188b5b8ae"
      },
      "source": [
        "#Modelo MA(4)\n",
        "model_ret_ma_4 = ARMA(df.returns[1:], order=[0,4])\n",
        "results_ret_ma_4 = model_ret_ma_4.fit()\n",
        "print(results_ret_ma_4.summary())\n",
        "#El segundo,tercero y cuarto retrasos son es significativos pero el primero no\n",
        "#Contraste de log verosimilitudes es significante, por lo cuál nos quedamos con este modelo \n",
        "print(\"\\nLLR test p-value = \" + str(LLR_test(results_ret_ma_3, results_ret_ma_4)))"
      ],
      "execution_count": 18,
      "outputs": [
        {
          "output_type": "stream",
          "text": [
            "                              ARMA Model Results                              \n",
            "==============================================================================\n",
            "Dep. Variable:                returns   No. Observations:                 5020\n",
            "Model:                     ARMA(0, 4)   Log Likelihood               -7898.773\n",
            "Method:                       css-mle   S.D. of innovations              1.167\n",
            "Date:                Fri, 17 Jul 2020   AIC                          15809.547\n",
            "Time:                        04:10:32   BIC                          15848.674\n",
            "Sample:                    01-10-1994   HQIC                         15823.257\n",
            "                         - 04-05-2013                                         \n",
            "=================================================================================\n",
            "                    coef    std err          z      P>|z|      [0.025      0.975]\n",
            "---------------------------------------------------------------------------------\n",
            "const             0.0189      0.014      1.305      0.192      -0.009       0.047\n",
            "ma.L1.returns    -0.0203      0.014     -1.443      0.149      -0.048       0.007\n",
            "ma.L2.returns    -0.0551      0.014     -3.902      0.000      -0.083      -0.027\n",
            "ma.L3.returns    -0.0922      0.015     -6.306      0.000      -0.121      -0.064\n",
            "ma.L4.returns     0.0454      0.014      3.338      0.001       0.019       0.072\n",
            "                                    Roots                                    \n",
            "=============================================================================\n",
            "                  Real          Imaginary           Modulus         Frequency\n",
            "-----------------------------------------------------------------------------\n",
            "MA.1           -1.2257           -1.4206j            1.8763           -0.3633\n",
            "MA.2           -1.2257           +1.4206j            1.8763            0.3633\n",
            "MA.3            2.2405           -1.1103j            2.5006           -0.0732\n",
            "MA.4            2.2405           +1.1103j            2.5006            0.0732\n",
            "-----------------------------------------------------------------------------\n",
            "\n",
            "LLR test p-value = 0.001\n"
          ],
          "name": "stdout"
        }
      ]
    },
    {
      "cell_type": "code",
      "metadata": {
        "id": "VXqRiHbYSt70",
        "colab_type": "code",
        "colab": {
          "base_uri": "https://localhost:8080/",
          "height": 527
        },
        "outputId": "4147177a-89a5-40b4-84ba-e306d91b4709"
      },
      "source": [
        "#Modelo MA(5)\n",
        "model_ret_ma_5 = ARMA(df.returns[1:], order=[0,5])\n",
        "results_ret_ma_5 = model_ret_ma_5.fit()\n",
        "print(results_ret_ma_5.summary())\n",
        "#El segundo,tercero,cuarto y quinto retrasos son significativos pero el primero no\n",
        "#Contraste de log verosimilitudes es significante, por lo cuál nos quedamos con este modelo \n",
        "print(\"\\nLLR test p-value = \" + str(LLR_test(results_ret_ma_4, results_ret_ma_5)))"
      ],
      "execution_count": 19,
      "outputs": [
        {
          "output_type": "stream",
          "text": [
            "                              ARMA Model Results                              \n",
            "==============================================================================\n",
            "Dep. Variable:                returns   No. Observations:                 5020\n",
            "Model:                     ARMA(0, 5)   Log Likelihood               -7892.823\n",
            "Method:                       css-mle   S.D. of innovations              1.166\n",
            "Date:                Fri, 17 Jul 2020   AIC                          15799.645\n",
            "Time:                        04:10:32   BIC                          15845.294\n",
            "Sample:                    01-10-1994   HQIC                         15815.641\n",
            "                         - 04-05-2013                                         \n",
            "=================================================================================\n",
            "                    coef    std err          z      P>|z|      [0.025      0.975]\n",
            "---------------------------------------------------------------------------------\n",
            "const             0.0189      0.014      1.376      0.169      -0.008       0.046\n",
            "ma.L1.returns    -0.0262      0.014     -1.851      0.064      -0.054       0.002\n",
            "ma.L2.returns    -0.0497      0.014     -3.518      0.000      -0.077      -0.022\n",
            "ma.L3.returns    -0.0852      0.015     -5.799      0.000      -0.114      -0.056\n",
            "ma.L4.returns     0.0458      0.014      3.374      0.001       0.019       0.072\n",
            "ma.L5.returns    -0.0500      0.014     -3.454      0.001      -0.078      -0.022\n",
            "                                    Roots                                    \n",
            "=============================================================================\n",
            "                  Real          Imaginary           Modulus         Frequency\n",
            "-----------------------------------------------------------------------------\n",
            "MA.1           -1.2127           -1.0805j            1.6242           -0.3842\n",
            "MA.2           -1.2127           +1.0805j            1.6242            0.3842\n",
            "MA.3            1.7305           -0.0000j            1.7305           -0.0000\n",
            "MA.4            0.8062           -1.9326j            2.0940           -0.1871\n",
            "MA.5            0.8062           +1.9326j            2.0940            0.1871\n",
            "-----------------------------------------------------------------------------\n",
            "\n",
            "LLR test p-value = 0.001\n"
          ],
          "name": "stdout"
        }
      ]
    },
    {
      "cell_type": "code",
      "metadata": {
        "id": "rWk7e3XiSt73",
        "colab_type": "code",
        "colab": {
          "base_uri": "https://localhost:8080/",
          "height": 561
        },
        "outputId": "b0383a10-bdc7-4abd-acc9-a370ff13b12a"
      },
      "source": [
        "#Modelo MA(6)\n",
        "model_ret_ma_6 = ARMA(df.returns[1:], order=[0,6])\n",
        "results_ret_ma_6 = model_ret_ma_6.fit()\n",
        "print(results_ret_ma_6.summary())\n",
        "#El segundo,tercero,cuarto,quinto y sexto retrasos son significativos pero el primero no\n",
        "#Contraste de log verosimilitudes es significante, por lo cuál nos quedamos con este modelo \n",
        "print(\"\\nLLR test p-value = \" + str(LLR_test(results_ret_ma_5, results_ret_ma_6)))"
      ],
      "execution_count": 20,
      "outputs": [
        {
          "output_type": "stream",
          "text": [
            "                              ARMA Model Results                              \n",
            "==============================================================================\n",
            "Dep. Variable:                returns   No. Observations:                 5020\n",
            "Model:                     ARMA(0, 6)   Log Likelihood               -7889.221\n",
            "Method:                       css-mle   S.D. of innovations              1.165\n",
            "Date:                Fri, 17 Jul 2020   AIC                          15794.442\n",
            "Time:                        04:10:34   BIC                          15846.612\n",
            "Sample:                    01-10-1994   HQIC                         15812.723\n",
            "                         - 04-05-2013                                         \n",
            "=================================================================================\n",
            "                    coef    std err          z      P>|z|      [0.025      0.975]\n",
            "---------------------------------------------------------------------------------\n",
            "const             0.0189      0.013      1.430      0.153      -0.007       0.045\n",
            "ma.L1.returns    -0.0237      0.014     -1.682      0.093      -0.051       0.004\n",
            "ma.L2.returns    -0.0486      0.014     -3.436      0.001      -0.076      -0.021\n",
            "ma.L3.returns    -0.0827      0.014     -5.846      0.000      -0.110      -0.055\n",
            "ma.L4.returns     0.0466      0.014      3.434      0.001       0.020       0.073\n",
            "ma.L5.returns    -0.0484      0.014     -3.371      0.001      -0.077      -0.020\n",
            "ma.L6.returns    -0.0387      0.014     -2.682      0.007      -0.067      -0.010\n",
            "                                    Roots                                    \n",
            "=============================================================================\n",
            "                  Real          Imaginary           Modulus         Frequency\n",
            "-----------------------------------------------------------------------------\n",
            "MA.1            1.5011           -0.0000j            1.5011           -0.0000\n",
            "MA.2            0.8248           -1.4775j            1.6921           -0.1690\n",
            "MA.3            0.8248           +1.4775j            1.6921            0.1690\n",
            "MA.4           -1.0066           -1.2260j            1.5863           -0.3594\n",
            "MA.5           -1.0066           +1.2260j            1.5863            0.3594\n",
            "MA.6           -2.3891           -0.0000j            2.3891           -0.5000\n",
            "-----------------------------------------------------------------------------\n",
            "\n",
            "LLR test p-value = 0.007\n"
          ],
          "name": "stdout"
        }
      ]
    },
    {
      "cell_type": "code",
      "metadata": {
        "id": "37Dxuw7ISt75",
        "colab_type": "code",
        "colab": {
          "base_uri": "https://localhost:8080/",
          "height": 595
        },
        "outputId": "f8a30cfb-8148-4746-da6a-ae3aa5ec3fd8"
      },
      "source": [
        "#Modelo MA(7)\n",
        "model_ret_ma_7 = ARMA(df.returns[1:], order=[0,7])\n",
        "results_ret_ma_7 = model_ret_ma_7.fit()\n",
        "print(results_ret_ma_7.summary())\n",
        "#El segundo,tercero,cuarto,quinto y sexto retrasos son significativos pero el primero y septimo por lo cuál ya descartariamos este modelo\n",
        "#Contraste de log verosimilitudes no es significante, por lo cuál descartamos este modelo\n",
        "print(\"\\nLLR test p-value = \" + str(LLR_test(results_ret_ma_6, results_ret_ma_7)))"
      ],
      "execution_count": 21,
      "outputs": [
        {
          "output_type": "stream",
          "text": [
            "                              ARMA Model Results                              \n",
            "==============================================================================\n",
            "Dep. Variable:                returns   No. Observations:                 5020\n",
            "Model:                     ARMA(0, 7)   Log Likelihood               -7889.046\n",
            "Method:                       css-mle   S.D. of innovations              1.165\n",
            "Date:                Fri, 17 Jul 2020   AIC                          15796.091\n",
            "Time:                        04:10:36   BIC                          15854.782\n",
            "Sample:                    01-10-1994   HQIC                         15816.657\n",
            "                         - 04-05-2013                                         \n",
            "=================================================================================\n",
            "                    coef    std err          z      P>|z|      [0.025      0.975]\n",
            "---------------------------------------------------------------------------------\n",
            "const             0.0189      0.013      1.418      0.156      -0.007       0.045\n",
            "ma.L1.returns    -0.0247      0.014     -1.739      0.082      -0.052       0.003\n",
            "ma.L2.returns    -0.0488      0.014     -3.454      0.001      -0.077      -0.021\n",
            "ma.L3.returns    -0.0821      0.014     -5.789      0.000      -0.110      -0.054\n",
            "ma.L4.returns     0.0458      0.014      3.360      0.001       0.019       0.073\n",
            "ma.L5.returns    -0.0486      0.014     -3.381      0.001      -0.077      -0.020\n",
            "ma.L6.returns    -0.0390      0.014     -2.702      0.007      -0.067      -0.011\n",
            "ma.L7.returns     0.0085      0.014      0.592      0.554      -0.020       0.037\n",
            "                                    Roots                                    \n",
            "=============================================================================\n",
            "                  Real          Imaginary           Modulus         Frequency\n",
            "-----------------------------------------------------------------------------\n",
            "MA.1           -0.9690           -1.1814j            1.5279           -0.3593\n",
            "MA.2           -0.9690           +1.1814j            1.5279            0.3593\n",
            "MA.3           -2.0397           -0.0000j            2.0397           -0.5000\n",
            "MA.4            0.7516           -1.5246j            1.6998           -0.1771\n",
            "MA.5            0.7516           +1.5246j            1.6998            0.1771\n",
            "MA.6            1.5538           -0.0000j            1.5538           -0.0000\n",
            "MA.7            5.5175           -0.0000j            5.5175           -0.0000\n",
            "-----------------------------------------------------------------------------\n",
            "\n",
            "LLR test p-value = 0.554\n"
          ],
          "name": "stdout"
        }
      ]
    },
    {
      "cell_type": "code",
      "metadata": {
        "id": "uBq-2wSUSt77",
        "colab_type": "code",
        "colab": {
          "base_uri": "https://localhost:8080/",
          "height": 629
        },
        "outputId": "cdfb87d7-c274-490f-b91e-3c2d4c2beac9"
      },
      "source": [
        "#Modelo MA(8)\n",
        "model_ret_ma_8 = ARMA(df.returns[1:], order=[0,8])\n",
        "results_ret_ma_8 = model_ret_ma_8.fit()\n",
        "print(results_ret_ma_8.summary())\n",
        "#Podemos notar un comportamiento diferente ya que solo el primero y septimo valor no son significativos \n",
        "#En este caso lo importante es que el octavo retrasos es significativo\n",
        "#La prueba de contraste es significaiva por lo cuál este modelo es mejor\n",
        "#Como el gráfico de autocorrelación arroja que hasta el retrasos 18 encontraremos otro valor significativo es posible que este sea el mejor modelo para nuestro problema\n",
        "print(\"\\nLLR test p-value = \" + str(LLR_test(results_ret_ma_7, results_ret_ma_8)))"
      ],
      "execution_count": 22,
      "outputs": [
        {
          "output_type": "stream",
          "text": [
            "                              ARMA Model Results                              \n",
            "==============================================================================\n",
            "Dep. Variable:                returns   No. Observations:                 5020\n",
            "Model:                     ARMA(0, 8)   Log Likelihood               -7885.603\n",
            "Method:                       css-mle   S.D. of innovations              1.164\n",
            "Date:                Fri, 17 Jul 2020   AIC                          15791.205\n",
            "Time:                        04:10:39   BIC                          15856.417\n",
            "Sample:                    01-10-1994   HQIC                         15814.056\n",
            "                         - 04-05-2013                                         \n",
            "=================================================================================\n",
            "                    coef    std err          z      P>|z|      [0.025      0.975]\n",
            "---------------------------------------------------------------------------------\n",
            "const             0.0189      0.014      1.364      0.173      -0.008       0.046\n",
            "ma.L1.returns    -0.0238      0.014     -1.688      0.091      -0.051       0.004\n",
            "ma.L2.returns    -0.0495      0.014     -3.514      0.000      -0.077      -0.022\n",
            "ma.L3.returns    -0.0847      0.014     -5.993      0.000      -0.112      -0.057\n",
            "ma.L4.returns     0.0488      0.014      3.440      0.001       0.021       0.077\n",
            "ma.L5.returns    -0.0518      0.014     -3.634      0.000      -0.080      -0.024\n",
            "ma.L6.returns    -0.0402      0.014     -2.787      0.005      -0.068      -0.012\n",
            "ma.L7.returns     0.0084      0.014      0.587      0.557      -0.020       0.036\n",
            "ma.L8.returns     0.0366      0.014      2.626      0.009       0.009       0.064\n",
            "                                    Roots                                    \n",
            "=============================================================================\n",
            "                  Real          Imaginary           Modulus         Frequency\n",
            "-----------------------------------------------------------------------------\n",
            "MA.1            1.4716           -0.4282j            1.5326           -0.0451\n",
            "MA.2            1.4716           +0.4282j            1.5326            0.0451\n",
            "MA.3            0.5944           -1.3169j            1.4448           -0.1825\n",
            "MA.4            0.5944           +1.3169j            1.4448            0.1825\n",
            "MA.5           -0.7318           -1.2736j            1.4689           -0.3330\n",
            "MA.6           -0.7318           +1.2736j            1.4689            0.3330\n",
            "MA.7           -1.4485           -0.6983j            1.6081           -0.4285\n",
            "MA.8           -1.4485           +0.6983j            1.6081            0.4285\n",
            "-----------------------------------------------------------------------------\n",
            "\n",
            "LLR test p-value = 0.009\n"
          ],
          "name": "stdout"
        }
      ]
    },
    {
      "cell_type": "code",
      "metadata": {
        "id": "vNfRclIgSt7-",
        "colab_type": "code",
        "colab": {
          "base_uri": "https://localhost:8080/",
          "height": 34
        },
        "outputId": "ba61faae-e4b6-417c-a9f4-ebaef1a2901b"
      },
      "source": [
        "#Contrastamos los 2 modelos ganadores\n",
        "#La prueba es significativa, entonces nos quedamos con el modelo MA(8)\n",
        "LLR_test(results_ret_ma_6, results_ret_ma_8, DF = 2)"
      ],
      "execution_count": 23,
      "outputs": [
        {
          "output_type": "execute_result",
          "data": {
            "text/plain": [
              "0.027"
            ]
          },
          "metadata": {
            "tags": []
          },
          "execution_count": 23
        }
      ]
    },
    {
      "cell_type": "markdown",
      "metadata": {
        "id": "uGXwagw-St8A",
        "colab_type": "text"
      },
      "source": [
        "## Residuals for Returns"
      ]
    },
    {
      "cell_type": "code",
      "metadata": {
        "id": "wjxd2Sl4St8A",
        "colab_type": "code",
        "colab": {}
      },
      "source": [
        "#Extraemos los residuos para analizar los supuestos \n",
        "df['res_ret_ma_8'] = results_ret_ma_8.resid[1:]"
      ],
      "execution_count": 24,
      "outputs": []
    },
    {
      "cell_type": "code",
      "metadata": {
        "id": "3t1gJ-YMSt8C",
        "colab_type": "code",
        "colab": {
          "base_uri": "https://localhost:8080/",
          "height": 51
        },
        "outputId": "818458a9-fd3b-4d5c-a53f-0fcd0e1530a6"
      },
      "source": [
        "#Caculamos la media de los residuos y calculamos la varianza redondeado a 3 decimales\n",
        "print(\"The mean of the residuals is \" + str(round(df.res_ret_ma_8.mean(),3)) + \"\\nThe variance of the residuals is \" + str(round(df.res_ret_ma_8.var(),3)))"
      ],
      "execution_count": 25,
      "outputs": [
        {
          "output_type": "stream",
          "text": [
            "The mean of the residuals is -0.0\n",
            "The variance of the residuals is 1.356\n"
          ],
          "name": "stdout"
        }
      ]
    },
    {
      "cell_type": "code",
      "metadata": {
        "scrolled": true,
        "id": "v9t_vMvaSt8E",
        "colab_type": "code",
        "colab": {
          "base_uri": "https://localhost:8080/",
          "height": 34
        },
        "outputId": "cf8116e5-58a2-4b0e-f1ae-98b8772125c7"
      },
      "source": [
        "#Como la varianza son las desviaciones al cuadrado utilizaremos la raíz para encontrar la desviación típica\n",
        "#sigma\n",
        "#Sabemos que un ruido blanco implica normalidad por lo que podemos usar la regla del 68,95 y 99.7 que indican que porcentaje de los datos se propaga a 1,2 o 3 desviaciones tipicas lejos de la media\n",
        "#Por lo que esperamos que la mayoría de los retornos este entre -3*sigma y 3*sigma, es decir entre -3.5 y 3.5 \n",
        "#Esto significa que en el peor de los casos podriamos tener variaciones de 7 puntos porcentuales entre la predicción y el valor real dado que |-3.5-3.5|=7\n",
        "#Estas variaciones deben ser minimmizadas aún más dado que esta puede ser la brecha entre ganancias o perdidas\n",
        "round(sqrt(df.res_ret_ma_8.var()),3)"
      ],
      "execution_count": 26,
      "outputs": [
        {
          "output_type": "execute_result",
          "data": {
            "text/plain": [
              "1.164"
            ]
          },
          "metadata": {
            "tags": []
          },
          "execution_count": 26
        }
      ]
    },
    {
      "cell_type": "code",
      "metadata": {
        "scrolled": false,
        "id": "9373QiG_St8G",
        "colab_type": "code",
        "colab": {
          "base_uri": "https://localhost:8080/",
          "height": 364
        },
        "outputId": "4f7f9fb4-1f1d-491c-94ae-31558d42d6aa"
      },
      "source": [
        "#Veamos un gráfico de los residuos \n",
        "#La gráfica se asemeja a ruido blanco es decir no hay ningún patrón\n",
        "df.res_ret_ma_8[1:].plot(figsize = (20,5))\n",
        "plt.title(\"Residuals of Returns\", size = 24)\n",
        "plt.show()"
      ],
      "execution_count": 27,
      "outputs": [
        {
          "output_type": "display_data",
          "data": {
            "image/png": "[encoded data removed]",
            "text/plain": [
              "<Figure size 1440x360 with 1 Axes>"
            ]
          },
          "metadata": {
            "tags": [],
            "needs_background": "light"
          }
        }
      ]
    },
    {
      "cell_type": "code",
      "metadata": {
        "id": "o7yGPFYOSt8I",
        "colab_type": "code",
        "colab": {
          "base_uri": "https://localhost:8080/",
          "height": 153
        },
        "outputId": "c1245fd7-ffc7-444e-dfa5-1bfec5dceda0"
      },
      "source": [
        "#Prueba de dicky fuller\n",
        "#Como el p-value es menor que .05 se acepta que sea estacionaria\n",
        "sts.adfuller(df.res_ret_ma_8[2:])"
      ],
      "execution_count": 28,
      "outputs": [
        {
          "output_type": "execute_result",
          "data": {
            "text/plain": [
              "(-70.83581502434359,\n",
              " 0.0,\n",
              " 0,\n",
              " 5018,\n",
              " {'1%': -3.4316538358533277,\n",
              "  '10%': -2.567076687880585,\n",
              "  '5%': -2.8621161549128313},\n",
              " 15684.052185059796)"
            ]
          },
          "metadata": {
            "tags": []
          },
          "execution_count": 28
        }
      ]
    },
    {
      "cell_type": "code",
      "metadata": {
        "id": "7rwoa6sGSt8L",
        "colab_type": "code",
        "colab": {
          "base_uri": "https://localhost:8080/",
          "height": 293
        },
        "outputId": "c3f1d3b0-d39d-4807-b505-d21b32a043f5"
      },
      "source": [
        "#Veamos que el gráfico de autocorrelaciones aún muestra correlación, esto sugiere que quizas haya un mejor predictor pero esto pasaría hasta el retraso 18\n",
        "sgt.plot_acf(df.res_ret_ma_8[2:], zero = False, lags = 40)\n",
        "plt.title(\"ACF Of Residuals for Returns\",size=24)\n",
        "plt.show()"
      ],
      "execution_count": 29,
      "outputs": [
        {
          "output_type": "display_data",
          "data": {
            "image/png": "[encoded data removed]",
            "text/plain": [
              "<Figure size 432x288 with 1 Axes>"
            ]
          },
          "metadata": {
            "tags": [],
            "needs_background": "light"
          }
        }
      ]
    },
    {
      "cell_type": "markdown",
      "metadata": {
        "id": "IIJjUZgPgsQV",
        "colab_type": "text"
      },
      "source": [
        "## Analicemos el otro modelo ganador MA(6)\n",
        "\n"
      ]
    },
    {
      "cell_type": "code",
      "metadata": {
        "id": "5bJiLsqLgynn",
        "colab_type": "code",
        "colab": {}
      },
      "source": [
        "df['res_ret_ma_6'] = results_ret_ma_6.resid[1:]"
      ],
      "execution_count": 30,
      "outputs": []
    },
    {
      "cell_type": "code",
      "metadata": {
        "id": "bGzdsmYOg56M",
        "colab_type": "code",
        "colab": {
          "base_uri": "https://localhost:8080/",
          "height": 235
        },
        "outputId": "4f4c643f-1649-4ca2-c022-ed479af1f8bf"
      },
      "source": [
        "df.head()"
      ],
      "execution_count": 31,
      "outputs": [
        {
          "output_type": "execute_result",
          "data": {
            "text/html": [
              "<div>\n",
              "<style scoped>\n",
              "    .dataframe tbody tr th:only-of-type {\n",
              "        vertical-align: middle;\n",
              "    }\n",
              "\n",
              "    .dataframe tbody tr th {\n",
              "        vertical-align: top;\n",
              "    }\n",
              "\n",
              "    .dataframe thead th {\n",
              "        text-align: right;\n",
              "    }\n",
              "</style>\n",
              "<table border=\"1\" class=\"dataframe\">\n",
              "  <thead>\n",
              "    <tr style=\"text-align: right;\">\n",
              "      <th></th>\n",
              "      <th>market_value</th>\n",
              "      <th>returns</th>\n",
              "      <th>res_ret_ma_8</th>\n",
              "      <th>res_ret_ma_6</th>\n",
              "    </tr>\n",
              "    <tr>\n",
              "      <th>date</th>\n",
              "      <th></th>\n",
              "      <th></th>\n",
              "      <th></th>\n",
              "      <th></th>\n",
              "    </tr>\n",
              "  </thead>\n",
              "  <tbody>\n",
              "    <tr>\n",
              "      <th>1994-01-07</th>\n",
              "      <td>3445.98</td>\n",
              "      <td>NaN</td>\n",
              "      <td>NaN</td>\n",
              "      <td>NaN</td>\n",
              "    </tr>\n",
              "    <tr>\n",
              "      <th>1994-01-10</th>\n",
              "      <td>3440.58</td>\n",
              "      <td>-0.156704</td>\n",
              "      <td>NaN</td>\n",
              "      <td>NaN</td>\n",
              "    </tr>\n",
              "    <tr>\n",
              "      <th>1994-01-11</th>\n",
              "      <td>3413.77</td>\n",
              "      <td>-0.779229</td>\n",
              "      <td>-0.802111</td>\n",
              "      <td>-0.802083</td>\n",
              "    </tr>\n",
              "    <tr>\n",
              "      <th>1994-01-12</th>\n",
              "      <td>3372.02</td>\n",
              "      <td>-1.222988</td>\n",
              "      <td>-1.269464</td>\n",
              "      <td>-1.268789</td>\n",
              "    </tr>\n",
              "    <tr>\n",
              "      <th>1994-01-13</th>\n",
              "      <td>3360.01</td>\n",
              "      <td>-0.356166</td>\n",
              "      <td>-0.464780</td>\n",
              "      <td>-0.461319</td>\n",
              "    </tr>\n",
              "  </tbody>\n",
              "</table>\n",
              "</div>"
            ],
            "text/plain": [
              "            market_value   returns  res_ret_ma_8  res_ret_ma_6\n",
              "date                                                          \n",
              "1994-01-07       3445.98       NaN           NaN           NaN\n",
              "1994-01-10       3440.58 -0.156704           NaN           NaN\n",
              "1994-01-11       3413.77 -0.779229     -0.802111     -0.802083\n",
              "1994-01-12       3372.02 -1.222988     -1.269464     -1.268789\n",
              "1994-01-13       3360.01 -0.356166     -0.464780     -0.461319"
            ]
          },
          "metadata": {
            "tags": []
          },
          "execution_count": 31
        }
      ]
    },
    {
      "cell_type": "code",
      "metadata": {
        "id": "444S5_eIg6CC",
        "colab_type": "code",
        "colab": {
          "base_uri": "https://localhost:8080/",
          "height": 51
        },
        "outputId": "1e90b1d9-aa05-4f0f-af1e-435c7605bd96"
      },
      "source": [
        "#Caculamos la media de los residuos y calculamos la varianza redondeado a 3 decimales\n",
        "print(\"The mean of the residuals is \" + str(round(df.res_ret_ma_6.mean(),3)) + \"\\nThe variance of the residuals is \" + str(round(df.res_ret_ma_6.var(),3)))"
      ],
      "execution_count": 32,
      "outputs": [
        {
          "output_type": "stream",
          "text": [
            "The mean of the residuals is -0.0\n",
            "The variance of the residuals is 1.357\n"
          ],
          "name": "stdout"
        }
      ]
    },
    {
      "cell_type": "code",
      "metadata": {
        "id": "id4LkKMFg6H0",
        "colab_type": "code",
        "colab": {
          "base_uri": "https://localhost:8080/",
          "height": 34
        },
        "outputId": "1520c6c1-8338-4b98-8475-4381cb8fce55"
      },
      "source": [
        "#Como la varianza son las desviaciones al cuadrado utilizaremos la raíz para encontrar la desviación típica\n",
        "#sigma\n",
        "#Sabemos que un ruido blanco implica normalidad por lo que podemos usar la regla del 68,95 y 99.7 que indican que porcentaje de los datos se propaga a 1,2 o 3 desviaciones tipicas lejos de la media\n",
        "#Por lo que esperamos que la mayoría de los retornos este entre -3*sigma y 3*sigma, es decir entre -3.495 y 3.495 \n",
        "#Esto significa que en el peor de los casos podriamos tener variaciones de 6.99 puntos porcentuales entre la predicción y el valor real dado que |-3.495-3.496|=6.99\n",
        "#Este modelo es ligeramente mejor dado que las variaciones bajaron un poco\n",
        "#Estas variaciones deben ser minimmizadas aún más dado que esta puede ser la brecha entre ganancias o perdidas\n",
        "round(sqrt(df.res_ret_ma_6.var()),3)"
      ],
      "execution_count": 33,
      "outputs": [
        {
          "output_type": "execute_result",
          "data": {
            "text/plain": [
              "1.165"
            ]
          },
          "metadata": {
            "tags": []
          },
          "execution_count": 33
        }
      ]
    },
    {
      "cell_type": "code",
      "metadata": {
        "id": "6cIy-vyFg6La",
        "colab_type": "code",
        "colab": {
          "base_uri": "https://localhost:8080/",
          "height": 364
        },
        "outputId": "c39cf9c8-73d8-4e63-e753-1dc2588f8b97"
      },
      "source": [
        "#Veamos un gráfico de los residuos \n",
        "#La gráfica se asemeja a ruido blanco es decir no hay ningún patrón\n",
        "df.res_ret_ma_6[1:].plot(figsize = (20,5))\n",
        "plt.title(\"Residuals of Returns\", size = 24)\n",
        "plt.show()"
      ],
      "execution_count": 34,
      "outputs": [
        {
          "output_type": "display_data",
          "data": {
            "image/png": "[encoded data removed]",
            "text/plain": [
              "<Figure size 1440x360 with 1 Axes>"
            ]
          },
          "metadata": {
            "tags": [],
            "needs_background": "light"
          }
        }
      ]
    },
    {
      "cell_type": "code",
      "metadata": {
        "id": "7BhqVjuug6Oi",
        "colab_type": "code",
        "colab": {
          "base_uri": "https://localhost:8080/",
          "height": 153
        },
        "outputId": "b0a031f0-7f22-4abd-e066-822f718f2531"
      },
      "source": [
        "#Prueba de dicky fuller\n",
        "#Como el p-value es menor que .05 se acepta que sea estacionaria\n",
        "sts.adfuller(df.res_ret_ma_8[2:])"
      ],
      "execution_count": 35,
      "outputs": [
        {
          "output_type": "execute_result",
          "data": {
            "text/plain": [
              "(-70.83581502434359,\n",
              " 0.0,\n",
              " 0,\n",
              " 5018,\n",
              " {'1%': -3.4316538358533277,\n",
              "  '10%': -2.567076687880585,\n",
              "  '5%': -2.8621161549128313},\n",
              " 15684.052185059796)"
            ]
          },
          "metadata": {
            "tags": []
          },
          "execution_count": 35
        }
      ]
    },
    {
      "cell_type": "code",
      "metadata": {
        "id": "PQNeV7QAg6RZ",
        "colab_type": "code",
        "colab": {
          "base_uri": "https://localhost:8080/",
          "height": 293
        },
        "outputId": "f39f939f-c394-4768-e3a2-869ee8510fa1"
      },
      "source": [
        "#Veamos que el gráfico de autocorrelaciones aún muestra correlación, esto sugiere que quizas haya un mejor predictor considerando el retraso 8\n",
        "sgt.plot_acf(df.res_ret_ma_6[2:], zero = False, lags = 40)\n",
        "plt.title(\"ACF Of Residuals for Returns\",size=24)\n",
        "plt.show()"
      ],
      "execution_count": 36,
      "outputs": [
        {
          "output_type": "display_data",
          "data": {
            "image/png": "[encoded data removed]",
            "text/plain": [
              "<Figure size 432x288 with 1 Axes>"
            ]
          },
          "metadata": {
            "tags": [],
            "needs_background": "light"
          }
        }
      ]
    },
    {
      "cell_type": "markdown",
      "metadata": {
        "id": "GP4uaCL2_KQl",
        "colab_type": "text"
      },
      "source": [
        "## Estandarización de precios\n",
        "\n",
        "Cuando estandarizamos la serie basicamente mapeamos cada valor del espacio muestral y lo convertimos en un porcentaje con respecto al primer valor del conjunto, esto nos va a dar una tasa.\n",
        "\n",
        "De esta manera va a ser posible comparar diferentes series de tiempo.\n",
        "\n",
        "Este proceso no afectara las propiedades de la serie, es decir, si no es estacionaria, esto no hará que lo sea."
      ]
    },
    {
      "cell_type": "code",
      "metadata": {
        "id": "IiJW2gZw_ipZ",
        "colab_type": "code",
        "colab": {}
      },
      "source": [
        "#Seleccionamos el primer valor de nuestra serie de precios y lo guardamos en \"benchmark\"\n",
        "benchmark = df.market_value.iloc[0]\n",
        "#Guardamos la variable estandarizamos en otra columna del df, dividimos ese valor entre cada uno de las observaciones y lo multipicamos por 100\n",
        "df['norm'] = df.market_value.div(benchmark).mul(100)"
      ],
      "execution_count": 37,
      "outputs": []
    },
    {
      "cell_type": "code",
      "metadata": {
        "id": "d7Fk4ThhPstk",
        "colab_type": "code",
        "colab": {
          "base_uri": "https://localhost:8080/",
          "height": 235
        },
        "outputId": "033b9ce0-5c0b-4cf0-d90f-54b73d56a087"
      },
      "source": [
        "df.head()"
      ],
      "execution_count": 38,
      "outputs": [
        {
          "output_type": "execute_result",
          "data": {
            "text/html": [
              "<div>\n",
              "<style scoped>\n",
              "    .dataframe tbody tr th:only-of-type {\n",
              "        vertical-align: middle;\n",
              "    }\n",
              "\n",
              "    .dataframe tbody tr th {\n",
              "        vertical-align: top;\n",
              "    }\n",
              "\n",
              "    .dataframe thead th {\n",
              "        text-align: right;\n",
              "    }\n",
              "</style>\n",
              "<table border=\"1\" class=\"dataframe\">\n",
              "  <thead>\n",
              "    <tr style=\"text-align: right;\">\n",
              "      <th></th>\n",
              "      <th>market_value</th>\n",
              "      <th>returns</th>\n",
              "      <th>res_ret_ma_8</th>\n",
              "      <th>res_ret_ma_6</th>\n",
              "      <th>norm</th>\n",
              "    </tr>\n",
              "    <tr>\n",
              "      <th>date</th>\n",
              "      <th></th>\n",
              "      <th></th>\n",
              "      <th></th>\n",
              "      <th></th>\n",
              "      <th></th>\n",
              "    </tr>\n",
              "  </thead>\n",
              "  <tbody>\n",
              "    <tr>\n",
              "      <th>1994-01-07</th>\n",
              "      <td>3445.98</td>\n",
              "      <td>NaN</td>\n",
              "      <td>NaN</td>\n",
              "      <td>NaN</td>\n",
              "      <td>100.000000</td>\n",
              "    </tr>\n",
              "    <tr>\n",
              "      <th>1994-01-10</th>\n",
              "      <td>3440.58</td>\n",
              "      <td>-0.156704</td>\n",
              "      <td>NaN</td>\n",
              "      <td>NaN</td>\n",
              "      <td>99.843296</td>\n",
              "    </tr>\n",
              "    <tr>\n",
              "      <th>1994-01-11</th>\n",
              "      <td>3413.77</td>\n",
              "      <td>-0.779229</td>\n",
              "      <td>-0.802111</td>\n",
              "      <td>-0.802083</td>\n",
              "      <td>99.065288</td>\n",
              "    </tr>\n",
              "    <tr>\n",
              "      <th>1994-01-12</th>\n",
              "      <td>3372.02</td>\n",
              "      <td>-1.222988</td>\n",
              "      <td>-1.269464</td>\n",
              "      <td>-1.268789</td>\n",
              "      <td>97.853731</td>\n",
              "    </tr>\n",
              "    <tr>\n",
              "      <th>1994-01-13</th>\n",
              "      <td>3360.01</td>\n",
              "      <td>-0.356166</td>\n",
              "      <td>-0.464780</td>\n",
              "      <td>-0.461319</td>\n",
              "      <td>97.505209</td>\n",
              "    </tr>\n",
              "  </tbody>\n",
              "</table>\n",
              "</div>"
            ],
            "text/plain": [
              "            market_value   returns  res_ret_ma_8  res_ret_ma_6        norm\n",
              "date                                                                      \n",
              "1994-01-07       3445.98       NaN           NaN           NaN  100.000000\n",
              "1994-01-10       3440.58 -0.156704           NaN           NaN   99.843296\n",
              "1994-01-11       3413.77 -0.779229     -0.802111     -0.802083   99.065288\n",
              "1994-01-12       3372.02 -1.222988     -1.269464     -1.268789   97.853731\n",
              "1994-01-13       3360.01 -0.356166     -0.464780     -0.461319   97.505209"
            ]
          },
          "metadata": {
            "tags": []
          },
          "execution_count": 38
        }
      ]
    },
    {
      "cell_type": "code",
      "metadata": {
        "id": "hzaoTPsM_x7e",
        "colab_type": "code",
        "colab": {
          "base_uri": "https://localhost:8080/",
          "height": 153
        },
        "outputId": "3ba8e533-ccdf-4e0e-ca78-6170323faf2f"
      },
      "source": [
        "#Verificamos que sea estacionaria\n",
        "#Rechazamos que sea estacionaria dado que .05<.33\n",
        "sts.adfuller(df['norm'])"
      ],
      "execution_count": 39,
      "outputs": [
        {
          "output_type": "execute_result",
          "data": {
            "text/plain": [
              "(-1.9041551418836287,\n",
              " 0.3301089327703105,\n",
              " 6,\n",
              " 5014,\n",
              " {'1%': -3.4316548765428174,\n",
              "  '10%': -2.5670769326348926,\n",
              "  '5%': -2.8621166146845334},\n",
              " 19541.17381480549)"
            ]
          },
          "metadata": {
            "tags": []
          },
          "execution_count": 39
        }
      ]
    },
    {
      "cell_type": "markdown",
      "metadata": {
        "id": "BeZdKDx8St8P",
        "colab_type": "text"
      },
      "source": [
        "##  Retornos estandarizamos"
      ]
    },
    {
      "cell_type": "code",
      "metadata": {
        "id": "dJQA06rWSt8P",
        "colab_type": "code",
        "colab": {}
      },
      "source": [
        "#estandarizamos los retornos\n",
        "bench_ret = df.returns.iloc[1]\n",
        "df['norm_ret'] = df.returns.div(bench_ret).mul(100)"
      ],
      "execution_count": 40,
      "outputs": []
    },
    {
      "cell_type": "code",
      "metadata": {
        "id": "CcUjuc2bRJiM",
        "colab_type": "code",
        "colab": {
          "base_uri": "https://localhost:8080/",
          "height": 235
        },
        "outputId": "b183e238-87e3-457f-9244-9459ecf98cb9"
      },
      "source": [
        "df.head()"
      ],
      "execution_count": 41,
      "outputs": [
        {
          "output_type": "execute_result",
          "data": {
            "text/html": [
              "<div>\n",
              "<style scoped>\n",
              "    .dataframe tbody tr th:only-of-type {\n",
              "        vertical-align: middle;\n",
              "    }\n",
              "\n",
              "    .dataframe tbody tr th {\n",
              "        vertical-align: top;\n",
              "    }\n",
              "\n",
              "    .dataframe thead th {\n",
              "        text-align: right;\n",
              "    }\n",
              "</style>\n",
              "<table border=\"1\" class=\"dataframe\">\n",
              "  <thead>\n",
              "    <tr style=\"text-align: right;\">\n",
              "      <th></th>\n",
              "      <th>market_value</th>\n",
              "      <th>returns</th>\n",
              "      <th>res_ret_ma_8</th>\n",
              "      <th>res_ret_ma_6</th>\n",
              "      <th>norm</th>\n",
              "      <th>norm_ret</th>\n",
              "    </tr>\n",
              "    <tr>\n",
              "      <th>date</th>\n",
              "      <th></th>\n",
              "      <th></th>\n",
              "      <th></th>\n",
              "      <th></th>\n",
              "      <th></th>\n",
              "      <th></th>\n",
              "    </tr>\n",
              "  </thead>\n",
              "  <tbody>\n",
              "    <tr>\n",
              "      <th>1994-01-07</th>\n",
              "      <td>3445.98</td>\n",
              "      <td>NaN</td>\n",
              "      <td>NaN</td>\n",
              "      <td>NaN</td>\n",
              "      <td>100.000000</td>\n",
              "      <td>NaN</td>\n",
              "    </tr>\n",
              "    <tr>\n",
              "      <th>1994-01-10</th>\n",
              "      <td>3440.58</td>\n",
              "      <td>-0.156704</td>\n",
              "      <td>NaN</td>\n",
              "      <td>NaN</td>\n",
              "      <td>99.843296</td>\n",
              "      <td>100.000000</td>\n",
              "    </tr>\n",
              "    <tr>\n",
              "      <th>1994-01-11</th>\n",
              "      <td>3413.77</td>\n",
              "      <td>-0.779229</td>\n",
              "      <td>-0.802111</td>\n",
              "      <td>-0.802083</td>\n",
              "      <td>99.065288</td>\n",
              "      <td>497.260711</td>\n",
              "    </tr>\n",
              "    <tr>\n",
              "      <th>1994-01-12</th>\n",
              "      <td>3372.02</td>\n",
              "      <td>-1.222988</td>\n",
              "      <td>-1.269464</td>\n",
              "      <td>-1.268789</td>\n",
              "      <td>97.853731</td>\n",
              "      <td>780.443046</td>\n",
              "    </tr>\n",
              "    <tr>\n",
              "      <th>1994-01-13</th>\n",
              "      <td>3360.01</td>\n",
              "      <td>-0.356166</td>\n",
              "      <td>-0.464780</td>\n",
              "      <td>-0.461319</td>\n",
              "      <td>97.505209</td>\n",
              "      <td>227.285567</td>\n",
              "    </tr>\n",
              "  </tbody>\n",
              "</table>\n",
              "</div>"
            ],
            "text/plain": [
              "            market_value   returns  ...        norm    norm_ret\n",
              "date                                ...                        \n",
              "1994-01-07       3445.98       NaN  ...  100.000000         NaN\n",
              "1994-01-10       3440.58 -0.156704  ...   99.843296  100.000000\n",
              "1994-01-11       3413.77 -0.779229  ...   99.065288  497.260711\n",
              "1994-01-12       3372.02 -1.222988  ...   97.853731  780.443046\n",
              "1994-01-13       3360.01 -0.356166  ...   97.505209  227.285567\n",
              "\n",
              "[5 rows x 6 columns]"
            ]
          },
          "metadata": {
            "tags": []
          },
          "execution_count": 41
        }
      ]
    },
    {
      "cell_type": "code",
      "metadata": {
        "id": "AVMPK2-6RBfw",
        "colab_type": "code",
        "colab": {
          "base_uri": "https://localhost:8080/",
          "height": 153
        },
        "outputId": "3a39c8b2-7336-4c83-aca4-4f7f57e4bbfa"
      },
      "source": [
        "#En este caso los retornos si eran estacionarios, por lo cuál siguen siendo estacionarios\n",
        "sts.adfuller(df.norm_ret[1:])"
      ],
      "execution_count": 42,
      "outputs": [
        {
          "output_type": "execute_result",
          "data": {
            "text/plain": [
              "(-12.770265719497242,\n",
              " 7.798058336038161e-24,\n",
              " 32,\n",
              " 4987,\n",
              " {'1%': -3.431661944885779,\n",
              "  '10%': -2.5670785949998973,\n",
              "  '5%': -2.8621197374408225},\n",
              " 80114.49116124898)"
            ]
          },
          "metadata": {
            "tags": []
          },
          "execution_count": 42
        }
      ]
    },
    {
      "cell_type": "code",
      "metadata": {
        "id": "hjLtpAUvSt8R",
        "colab_type": "code",
        "colab": {
          "base_uri": "https://localhost:8080/",
          "height": 293
        },
        "outputId": "91ee1c8b-8b85-404b-84a7-b9b53c9f1e7d"
      },
      "source": [
        "#Lo correcto será utilizar los retornos normalizados para predecir las series temporales, dado ACF, este sugiere utilizar un MA(6) o MA(8)\n",
        "sgt.plot_acf(df.norm_ret[1:], zero = False, lags = 40)\n",
        "plt.title(\"ACF de los Retornos estandarizamos\",size=24)\n",
        "plt.show()"
      ],
      "execution_count": 43,
      "outputs": [
        {
          "output_type": "display_data",
          "data": {
            "image/png": "[encoded data removed]",
            "text/plain": [
              "<Figure size 432x288 with 1 Axes>"
            ]
          },
          "metadata": {
            "tags": [],
            "needs_background": "light"
          }
        }
      ]
    },
    {
      "cell_type": "code",
      "metadata": {
        "id": "iOMRrXsnSt8T",
        "colab_type": "code",
        "colab": {
          "base_uri": "https://localhost:8080/",
          "height": 603
        },
        "outputId": "5f826d9f-9b45-4527-b21e-9bed80bb27f0"
      },
      "source": [
        "#Ajustamos el MA(8)\n",
        "#Podemos ver que los resultados son los mismos con lo cuál podemos concluir que lo normalización no afecta la selección del modelo\n",
        "model_norm_ret_ma_8 = ARMA(df.norm_ret[1:], order=(0,8))\n",
        "results_norm_ret_ma_8 = model_norm_ret_ma_8.fit()\n",
        "results_norm_ret_ma_8.summary()"
      ],
      "execution_count": 44,
      "outputs": [
        {
          "output_type": "execute_result",
          "data": {
            "text/html": [
              "<table class=\"simpletable\">\n",
              "<caption>ARMA Model Results</caption>\n",
              "<tr>\n",
              "  <th>Dep. Variable:</th>     <td>norm_ret</td>     <th>  No. Observations:  </th>    <td>5020</td>   \n",
              "</tr>\n",
              "<tr>\n",
              "  <th>Model:</th>            <td>ARMA(0, 8)</td>    <th>  Log Likelihood     </th> <td>-40307.597</td>\n",
              "</tr>\n",
              "<tr>\n",
              "  <th>Method:</th>             <td>css-mle</td>     <th>  S.D. of innovations</th>   <td>742.822</td> \n",
              "</tr>\n",
              "<tr>\n",
              "  <th>Date:</th>          <td>Fri, 17 Jul 2020</td> <th>  AIC                </th>  <td>80635.194</td>\n",
              "</tr>\n",
              "<tr>\n",
              "  <th>Time:</th>              <td>04:10:57</td>     <th>  BIC                </th>  <td>80700.406</td>\n",
              "</tr>\n",
              "<tr>\n",
              "  <th>Sample:</th>           <td>01-10-1994</td>    <th>  HQIC               </th>  <td>80658.045</td>\n",
              "</tr>\n",
              "<tr>\n",
              "  <th></th>                 <td>- 04-05-2013</td>   <th>                     </th>      <td> </td>    \n",
              "</tr>\n",
              "</table>\n",
              "<table class=\"simpletable\">\n",
              "<tr>\n",
              "         <td></td>           <th>coef</th>     <th>std err</th>      <th>z</th>      <th>P>|z|</th>  <th>[0.025</th>    <th>0.975]</th>  \n",
              "</tr>\n",
              "<tr>\n",
              "  <th>const</th>          <td>  -11.9731</td> <td>    8.846</td> <td>   -1.354</td> <td> 0.176</td> <td>  -29.311</td> <td>    5.364</td>\n",
              "</tr>\n",
              "<tr>\n",
              "  <th>ma.L1.norm_ret</th> <td>   -0.0238</td> <td>    0.014</td> <td>   -1.688</td> <td> 0.091</td> <td>   -0.051</td> <td>    0.004</td>\n",
              "</tr>\n",
              "<tr>\n",
              "  <th>ma.L2.norm_ret</th> <td>   -0.0495</td> <td>    0.014</td> <td>   -3.514</td> <td> 0.000</td> <td>   -0.077</td> <td>   -0.022</td>\n",
              "</tr>\n",
              "<tr>\n",
              "  <th>ma.L3.norm_ret</th> <td>   -0.0847</td> <td>    0.014</td> <td>   -5.993</td> <td> 0.000</td> <td>   -0.112</td> <td>   -0.057</td>\n",
              "</tr>\n",
              "<tr>\n",
              "  <th>ma.L4.norm_ret</th> <td>    0.0488</td> <td>    0.014</td> <td>    3.440</td> <td> 0.001</td> <td>    0.021</td> <td>    0.077</td>\n",
              "</tr>\n",
              "<tr>\n",
              "  <th>ma.L5.norm_ret</th> <td>   -0.0518</td> <td>    0.014</td> <td>   -3.634</td> <td> 0.000</td> <td>   -0.080</td> <td>   -0.024</td>\n",
              "</tr>\n",
              "<tr>\n",
              "  <th>ma.L6.norm_ret</th> <td>   -0.0402</td> <td>    0.014</td> <td>   -2.787</td> <td> 0.005</td> <td>   -0.068</td> <td>   -0.012</td>\n",
              "</tr>\n",
              "<tr>\n",
              "  <th>ma.L7.norm_ret</th> <td>    0.0084</td> <td>    0.014</td> <td>    0.587</td> <td> 0.557</td> <td>   -0.020</td> <td>    0.036</td>\n",
              "</tr>\n",
              "<tr>\n",
              "  <th>ma.L8.norm_ret</th> <td>    0.0366</td> <td>    0.014</td> <td>    2.626</td> <td> 0.009</td> <td>    0.009</td> <td>    0.064</td>\n",
              "</tr>\n",
              "</table>\n",
              "<table class=\"simpletable\">\n",
              "<caption>Roots</caption>\n",
              "<tr>\n",
              "    <td></td>   <th>            Real</th>  <th>         Imaginary</th> <th>         Modulus</th>  <th>        Frequency</th>\n",
              "</tr>\n",
              "<tr>\n",
              "  <th>MA.1</th> <td>           1.4716</td> <td>          -0.4282j</td> <td>           1.5326</td> <td>          -0.0451</td>\n",
              "</tr>\n",
              "<tr>\n",
              "  <th>MA.2</th> <td>           1.4716</td> <td>          +0.4282j</td> <td>           1.5326</td> <td>           0.0451</td>\n",
              "</tr>\n",
              "<tr>\n",
              "  <th>MA.3</th> <td>           0.5944</td> <td>          -1.3169j</td> <td>           1.4448</td> <td>          -0.1825</td>\n",
              "</tr>\n",
              "<tr>\n",
              "  <th>MA.4</th> <td>           0.5944</td> <td>          +1.3169j</td> <td>           1.4448</td> <td>           0.1825</td>\n",
              "</tr>\n",
              "<tr>\n",
              "  <th>MA.5</th> <td>          -0.7318</td> <td>          -1.2736j</td> <td>           1.4689</td> <td>          -0.3330</td>\n",
              "</tr>\n",
              "<tr>\n",
              "  <th>MA.6</th> <td>          -0.7318</td> <td>          +1.2736j</td> <td>           1.4689</td> <td>           0.3330</td>\n",
              "</tr>\n",
              "<tr>\n",
              "  <th>MA.7</th> <td>          -1.4485</td> <td>          -0.6983j</td> <td>           1.6081</td> <td>          -0.4285</td>\n",
              "</tr>\n",
              "<tr>\n",
              "  <th>MA.8</th> <td>          -1.4485</td> <td>          +0.6983j</td> <td>           1.6081</td> <td>           0.4285</td>\n",
              "</tr>\n",
              "</table>"
            ],
            "text/plain": [
              "<class 'statsmodels.iolib.summary.Summary'>\n",
              "\"\"\"\n",
              "                              ARMA Model Results                              \n",
              "==============================================================================\n",
              "Dep. Variable:               norm_ret   No. Observations:                 5020\n",
              "Model:                     ARMA(0, 8)   Log Likelihood              -40307.597\n",
              "Method:                       css-mle   S.D. of innovations            742.822\n",
              "Date:                Fri, 17 Jul 2020   AIC                          80635.194\n",
              "Time:                        04:10:57   BIC                          80700.406\n",
              "Sample:                    01-10-1994   HQIC                         80658.045\n",
              "                         - 04-05-2013                                         \n",
              "==================================================================================\n",
              "                     coef    std err          z      P>|z|      [0.025      0.975]\n",
              "----------------------------------------------------------------------------------\n",
              "const            -11.9731      8.846     -1.354      0.176     -29.311       5.364\n",
              "ma.L1.norm_ret    -0.0238      0.014     -1.688      0.091      -0.051       0.004\n",
              "ma.L2.norm_ret    -0.0495      0.014     -3.514      0.000      -0.077      -0.022\n",
              "ma.L3.norm_ret    -0.0847      0.014     -5.993      0.000      -0.112      -0.057\n",
              "ma.L4.norm_ret     0.0488      0.014      3.440      0.001       0.021       0.077\n",
              "ma.L5.norm_ret    -0.0518      0.014     -3.634      0.000      -0.080      -0.024\n",
              "ma.L6.norm_ret    -0.0402      0.014     -2.787      0.005      -0.068      -0.012\n",
              "ma.L7.norm_ret     0.0084      0.014      0.587      0.557      -0.020       0.036\n",
              "ma.L8.norm_ret     0.0366      0.014      2.626      0.009       0.009       0.064\n",
              "                                    Roots                                    \n",
              "=============================================================================\n",
              "                  Real          Imaginary           Modulus         Frequency\n",
              "-----------------------------------------------------------------------------\n",
              "MA.1            1.4716           -0.4282j            1.5326           -0.0451\n",
              "MA.2            1.4716           +0.4282j            1.5326            0.0451\n",
              "MA.3            0.5944           -1.3169j            1.4448           -0.1825\n",
              "MA.4            0.5944           +1.3169j            1.4448            0.1825\n",
              "MA.5           -0.7318           -1.2736j            1.4689           -0.3330\n",
              "MA.6           -0.7318           +1.2736j            1.4689            0.3330\n",
              "MA.7           -1.4485           -0.6983j            1.6081           -0.4285\n",
              "MA.8           -1.4485           +0.6983j            1.6081            0.4285\n",
              "-----------------------------------------------------------------------------\n",
              "\"\"\""
            ]
          },
          "metadata": {
            "tags": []
          },
          "execution_count": 44
        }
      ]
    },
    {
      "cell_type": "code",
      "metadata": {
        "id": "cGJctMweSt8V",
        "colab_type": "code",
        "colab": {}
      },
      "source": [
        "#Guardamos los residuos\n",
        "df['res_norm_ret_ma_8'] = results_norm_ret_ma_8.resid[1:]"
      ],
      "execution_count": 45,
      "outputs": []
    },
    {
      "cell_type": "code",
      "metadata": {
        "id": "IdAOVXMODi7-",
        "colab_type": "code",
        "colab": {
          "base_uri": "https://localhost:8080/",
          "height": 153
        },
        "outputId": "255dce03-2952-47d5-85df-6ea90f16408a"
      },
      "source": [
        "#Aceptamos la estacionalidad\n",
        "sts.adfuller(df.res_norm_ret_ma_8[2:])"
      ],
      "execution_count": 46,
      "outputs": [
        {
          "output_type": "execute_result",
          "data": {
            "text/plain": [
              "(-70.83581823007648,\n",
              " 0.0,\n",
              " 0,\n",
              " 5018,\n",
              " {'1%': -3.4316538358533277,\n",
              "  '10%': -2.567076687880585,\n",
              "  '5%': -2.8621161549128313},\n",
              " 80088.85897128218)"
            ]
          },
          "metadata": {
            "tags": []
          },
          "execution_count": 46
        }
      ]
    },
    {
      "cell_type": "code",
      "metadata": {
        "id": "bsfBNRxASt8X",
        "colab_type": "code",
        "colab": {
          "base_uri": "https://localhost:8080/",
          "height": 364
        },
        "outputId": "c29d2ff6-0d34-486d-b1e3-2b9279515990"
      },
      "source": [
        "df.res_norm_ret_ma_8[1:].plot(figsize=(20,5))\n",
        "plt.title(\"Residuos de la estandarización de los Retornos\",size=24)\n",
        "plt.show()"
      ],
      "execution_count": 47,
      "outputs": [
        {
          "output_type": "display_data",
          "data": {
            "image/png": "[encoded data removed]",
            "text/plain": [
              "<Figure size 1440x360 with 1 Axes>"
            ]
          },
          "metadata": {
            "tags": [],
            "needs_background": "light"
          }
        }
      ]
    },
    {
      "cell_type": "code",
      "metadata": {
        "id": "a_eIve3gSt8Z",
        "colab_type": "code",
        "colab": {
          "base_uri": "https://localhost:8080/",
          "height": 293
        },
        "outputId": "31ab4372-0e6e-4c69-ecef-f48d27aa8d33"
      },
      "source": [
        "sgt.plot_acf(df.res_norm_ret_ma_8[2:], zero = False, lags = 40)\n",
        "plt.title(\"ACF de los Residuos normalizados de los retornos\",size=24)\n",
        "plt.show()"
      ],
      "execution_count": 48,
      "outputs": [
        {
          "output_type": "display_data",
          "data": {
            "image/png": "[encoded data removed]",
            "text/plain": [
              "<Figure size 432x288 with 1 Axes>"
            ]
          },
          "metadata": {
            "tags": [],
            "needs_background": "light"
          }
        }
      ]
    },
    {
      "cell_type": "markdown",
      "metadata": {
        "id": "JhWxzq5vSt8b",
        "colab_type": "text"
      },
      "source": [
        "## Modelos de medias móviles para precios\n",
        "\n",
        "Para los modelos autorregresivos pudimos observar que no funcionan bien para procesos no estacionarios, verifiquemos si esto también pasa para los modelos **MA**"
      ]
    },
    {
      "cell_type": "code",
      "metadata": {
        "scrolled": true,
        "id": "p5xFf4c3St8b",
        "colab_type": "code",
        "colab": {
          "base_uri": "https://localhost:8080/",
          "height": 289
        },
        "outputId": "e00d6e58-4996-4248-a627-8c15f92ddb76"
      },
      "source": [
        "#Gráfico de la función de autocorrelación\n",
        "#Parece que los coeficientes para los 40 retrasos son significativos\n",
        "#Lo cuál no indica que se preferiria un modelo con retrasos infinitos, lo cuál no existe. Esto podría decir que ningún modelo MA sería buen predictor de los precios\n",
        "sgt.plot_acf(df.market_value, zero = False, lags = 40)\n",
        "plt.title(\"ACF for Prices\", size=20)\n",
        "plt.show()"
      ],
      "execution_count": null,
      "outputs": [
        {
          "output_type": "display_data",
          "data": {
            "image/png": "[encoded data removed]",
            "text/plain": [
              "<Figure size 432x288 with 1 Axes>"
            ]
          },
          "metadata": {
            "tags": []
          }
        }
      ]
    },
    {
      "cell_type": "code",
      "metadata": {
        "id": "F5CJs7rSSt8d",
        "colab_type": "code",
        "colab": {
          "base_uri": "https://localhost:8080/",
          "height": 309
        },
        "outputId": "34f4edd8-5241-43d0-d833-f2b05b7bd502"
      },
      "source": [
        "# Podemos ver que tanto la constante como el retraso son significativos\n",
        "#Si analizamos el coeficiente del primer retraso es muy cercano a 1, esto esencialmente es un modelo autorregresivo y como sabemos estos modelos no funcionan con series no estacionarias\n",
        "#Si regresamos al grafico ACF veremos que casi todos los retrasos estarán cerca de 1 por lo que, esto será una aproximación de un modelo AR\n",
        "#Por lo que concluimos que los modelos MA tampoco funcionana para datos no estacionarios\n",
        "model_ma_1 = ARMA(df.market_value, order=(0,1))\n",
        "results_ma_1 = model_ma_1.fit()\n",
        "results_ma_1.summary()"
      ],
      "execution_count": null,
      "outputs": [
        {
          "output_type": "execute_result",
          "data": {
            "text/html": [
              "<table class=\"simpletable\">\n",
              "<caption>ARMA Model Results</caption>\n",
              "<tr>\n",
              "  <th>Dep. Variable:</th>   <td>market_value</td>   <th>  No. Observations:  </th>    <td>5021</td>   \n",
              "</tr>\n",
              "<tr>\n",
              "  <th>Model:</th>            <td>ARMA(0, 1)</td>    <th>  Log Likelihood     </th> <td>-38629.000</td>\n",
              "</tr>\n",
              "<tr>\n",
              "  <th>Method:</th>             <td>css-mle</td>     <th>  S.D. of innovations</th>   <td>530.756</td> \n",
              "</tr>\n",
              "<tr>\n",
              "  <th>Date:</th>          <td>Thu, 16 Jul 2020</td> <th>  AIC                </th>  <td>77264.000</td>\n",
              "</tr>\n",
              "<tr>\n",
              "  <th>Time:</th>              <td>22:21:34</td>     <th>  BIC                </th>  <td>77283.564</td>\n",
              "</tr>\n",
              "<tr>\n",
              "  <th>Sample:</th>           <td>01-07-1994</td>    <th>  HQIC               </th>  <td>77270.856</td>\n",
              "</tr>\n",
              "<tr>\n",
              "  <th></th>                 <td>- 04-05-2013</td>   <th>                     </th>      <td> </td>    \n",
              "</tr>\n",
              "</table>\n",
              "<table class=\"simpletable\">\n",
              "<tr>\n",
              "           <td></td>             <th>coef</th>     <th>std err</th>      <th>z</th>      <th>P>|z|</th>  <th>[0.025</th>    <th>0.975]</th>  \n",
              "</tr>\n",
              "<tr>\n",
              "  <th>const</th>              <td> 5089.6652</td> <td>   14.660</td> <td>  347.192</td> <td> 0.000</td> <td> 5060.933</td> <td> 5118.397</td>\n",
              "</tr>\n",
              "<tr>\n",
              "  <th>ma.L1.market_value</th> <td>    0.9573</td> <td>    0.003</td> <td>  335.561</td> <td> 0.000</td> <td>    0.952</td> <td>    0.963</td>\n",
              "</tr>\n",
              "</table>\n",
              "<table class=\"simpletable\">\n",
              "<caption>Roots</caption>\n",
              "<tr>\n",
              "    <td></td>   <th>            Real</th>  <th>         Imaginary</th> <th>         Modulus</th>  <th>        Frequency</th>\n",
              "</tr>\n",
              "<tr>\n",
              "  <th>MA.1</th> <td>          -1.0446</td> <td>          +0.0000j</td> <td>           1.0446</td> <td>           0.5000</td>\n",
              "</tr>\n",
              "</table>"
            ],
            "text/plain": [
              "<class 'statsmodels.iolib.summary.Summary'>\n",
              "\"\"\"\n",
              "                              ARMA Model Results                              \n",
              "==============================================================================\n",
              "Dep. Variable:           market_value   No. Observations:                 5021\n",
              "Model:                     ARMA(0, 1)   Log Likelihood              -38629.000\n",
              "Method:                       css-mle   S.D. of innovations            530.756\n",
              "Date:                Thu, 16 Jul 2020   AIC                          77264.000\n",
              "Time:                        22:21:34   BIC                          77283.564\n",
              "Sample:                    01-07-1994   HQIC                         77270.856\n",
              "                         - 04-05-2013                                         \n",
              "======================================================================================\n",
              "                         coef    std err          z      P>|z|      [0.025      0.975]\n",
              "--------------------------------------------------------------------------------------\n",
              "const               5089.6652     14.660    347.192      0.000    5060.933    5118.397\n",
              "ma.L1.market_value     0.9573      0.003    335.561      0.000       0.952       0.963\n",
              "                                    Roots                                    \n",
              "=============================================================================\n",
              "                  Real          Imaginary           Modulus         Frequency\n",
              "-----------------------------------------------------------------------------\n",
              "MA.1           -1.0446           +0.0000j            1.0446            0.5000\n",
              "-----------------------------------------------------------------------------\n",
              "\"\"\""
            ]
          },
          "metadata": {
            "tags": []
          },
          "execution_count": 52
        }
      ]
    },
    {
      "cell_type": "code",
      "metadata": {
        "id": "rwpA6NfFttYb",
        "colab_type": "code",
        "colab": {}
      },
      "source": [
        ""
      ],
      "execution_count": null,
      "outputs": []
    }
  ]
}